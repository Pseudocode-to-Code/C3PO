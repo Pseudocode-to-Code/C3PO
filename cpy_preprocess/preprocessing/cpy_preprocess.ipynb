{
 "cells": [
  {
   "cell_type": "code",
   "execution_count": 46,
   "metadata": {},
   "outputs": [],
   "source": [
    "import pandas as pd\n",
    "import numpy as np"
   ]
  },
  {
   "cell_type": "markdown",
   "metadata": {},
   "source": [
    "# Dataset Ingestion"
   ]
  },
  {
   "cell_type": "code",
   "execution_count": 47,
   "metadata": {},
   "outputs": [
    {
     "data": {
      "text/html": [
       "<div>\n",
       "<style scoped>\n",
       "    .dataframe tbody tr th:only-of-type {\n",
       "        vertical-align: middle;\n",
       "    }\n",
       "\n",
       "    .dataframe tbody tr th {\n",
       "        vertical-align: top;\n",
       "    }\n",
       "\n",
       "    .dataframe thead th {\n",
       "        text-align: right;\n",
       "    }\n",
       "</style>\n",
       "<table border=\"1\" class=\"dataframe\">\n",
       "  <thead>\n",
       "    <tr style=\"text-align: right;\">\n",
       "      <th></th>\n",
       "      <th>pseudo</th>\n",
       "      <th>code</th>\n",
       "      <th>pseudo_token</th>\n",
       "      <th>code_token</th>\n",
       "    </tr>\n",
       "  </thead>\n",
       "  <tbody>\n",
       "    <tr>\n",
       "      <th>0</th>\n",
       "      <td>set l to mid</td>\n",
       "      <td>l = mid ;</td>\n",
       "      <td>[set, l, to, mid]</td>\n",
       "      <td>[l, =, mid, ;]</td>\n",
       "    </tr>\n",
       "    <tr>\n",
       "      <th>1</th>\n",
       "      <td>if i is 0</td>\n",
       "      <td>if ( i == 0 )</td>\n",
       "      <td>[if, i, is, 0]</td>\n",
       "      <td>[if, (, i, ==, 0, )]</td>\n",
       "    </tr>\n",
       "    <tr>\n",
       "      <th>2</th>\n",
       "      <td>read n and k</td>\n",
       "      <td>cin &gt;&gt; n &gt;&gt; k ;</td>\n",
       "      <td>[read, n, and, k]</td>\n",
       "      <td>[cin, &gt;&gt;, n, &gt;&gt;, k, ;]</td>\n",
       "    </tr>\n",
       "    <tr>\n",
       "      <th>3</th>\n",
       "      <td>declare long longs sum = 0 and min = LONG_LONG...</td>\n",
       "      <td>long long min = LONG_LONG_MAX , sum = 0 ;</td>\n",
       "      <td>[declare, long, longs, sum, =, 0, and, min, =,...</td>\n",
       "      <td>[long, long, min, =, LONG_LONG_MAX, ,, sum, =,...</td>\n",
       "    </tr>\n",
       "    <tr>\n",
       "      <th>4</th>\n",
       "      <td>dy = integer array where the the following int...</td>\n",
       "      <td>int dy [ ] = { 0 , 0 , - 1 , 1 } ;</td>\n",
       "      <td>[dy, =, integer, array, where, the, the, follo...</td>\n",
       "      <td>[int, dy, [, ], =, {, 0, ,, 0, ,, -, 1, ,, 1, ...</td>\n",
       "    </tr>\n",
       "  </tbody>\n",
       "</table>\n",
       "</div>"
      ],
      "text/plain": [
       "                                              pseudo  \\\n",
       "0                                       set l to mid   \n",
       "1                                          if i is 0   \n",
       "2                                       read n and k   \n",
       "3  declare long longs sum = 0 and min = LONG_LONG...   \n",
       "4  dy = integer array where the the following int...   \n",
       "\n",
       "                                        code  \\\n",
       "0                                  l = mid ;   \n",
       "1                              if ( i == 0 )   \n",
       "2                            cin >> n >> k ;   \n",
       "3  long long min = LONG_LONG_MAX , sum = 0 ;   \n",
       "4         int dy [ ] = { 0 , 0 , - 1 , 1 } ;   \n",
       "\n",
       "                                        pseudo_token  \\\n",
       "0                                  [set, l, to, mid]   \n",
       "1                                     [if, i, is, 0]   \n",
       "2                                  [read, n, and, k]   \n",
       "3  [declare, long, longs, sum, =, 0, and, min, =,...   \n",
       "4  [dy, =, integer, array, where, the, the, follo...   \n",
       "\n",
       "                                          code_token  \n",
       "0                                     [l, =, mid, ;]  \n",
       "1                               [if, (, i, ==, 0, )]  \n",
       "2                             [cin, >>, n, >>, k, ;]  \n",
       "3  [long, long, min, =, LONG_LONG_MAX, ,, sum, =,...  \n",
       "4  [int, dy, [, ], =, {, 0, ,, 0, ,, -, 1, ,, 1, ...  "
      ]
     },
     "execution_count": 47,
     "metadata": {},
     "output_type": "execute_result"
    }
   ],
   "source": [
    "cols = {0: 'pseudo', 1: 'code'}\n",
    "\n",
    "train_df = pd.read_csv('../../data/input-tok-train-shuf.tsv', header=None, delimiter='\\t')\n",
    "train_df.rename(columns=cols, inplace=True)\n",
    "\n",
    "train_df['pseudo_token'] = train_df['pseudo'].str.split(' ')\n",
    "train_df['code_token'] = train_df['code'].str.split(' ')\n",
    "train_df.head()"
   ]
  },
  {
   "cell_type": "code",
   "execution_count": null,
   "metadata": {},
   "outputs": [],
   "source": []
  }
 ],
 "metadata": {
  "kernelspec": {
   "display_name": "Python 3.7.10 ('spoc')",
   "language": "python",
   "name": "python3"
  },
  "language_info": {
   "codemirror_mode": {
    "name": "ipython",
    "version": 3
   },
   "file_extension": ".py",
   "mimetype": "text/x-python",
   "name": "python",
   "nbconvert_exporter": "python",
   "pygments_lexer": "ipython3",
   "version": "3.7.10"
  },
  "orig_nbformat": 4,
  "vscode": {
   "interpreter": {
    "hash": "225967b9042ddd8261301aaacbe94c860c19457cda13285c628596eff7ee4728"
   }
  }
 },
 "nbformat": 4,
 "nbformat_minor": 2
}
