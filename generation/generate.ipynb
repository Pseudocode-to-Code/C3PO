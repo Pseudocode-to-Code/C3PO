{
 "cells": [
  {
   "cell_type": "code",
   "execution_count": null,
   "metadata": {},
   "outputs": [],
   "source": [
    "import pandas as pd\n",
    "import numpy as np"
   ]
  },
  {
   "cell_type": "markdown",
   "metadata": {},
   "source": [
    "# Dataset Ingestion"
   ]
  },
  {
   "cell_type": "code",
   "execution_count": null,
   "metadata": {},
   "outputs": [],
   "source": [
    "cols = {0: 'pseudo', 1: 'code'}\n",
    "\n",
    "train_df = pd.read_csv('../data/input-tok-train-shuf.tsv', header=None, delimiter='\\t')\n",
    "train_df.rename(columns=cols, inplace=True)\n",
    "\n",
    "train_df['pseudo_token'] = train_df['pseudo'].str.split(' ')\n",
    "train_df['code_token'] = train_df['code'].str.split(' ')\n",
    "train_df.head()"
   ]
  },
  {
   "cell_type": "code",
   "execution_count": null,
   "metadata": {},
   "outputs": [],
   "source": [
    "def create_copy_gen_seq_from_pseudo_row(row):\n",
    "    \"\"\"\n",
    "    Returns binary sequence for pseudocode tokens based on \n",
    "    true code tokens\n",
    "\n",
    "    If the pseudocode token exists in the true code (can be\n",
    "    copied), then the sequence contains a 1 in that position\n",
    "    \"\"\"\n",
    "    code_token_set = set(row['code_token'])\n",
    "    output_seq = []\n",
    "    generate_seq = []\n",
    "\n",
    "    for token in row['pseudo_token']:\n",
    "        if token in code_token_set:\n",
    "            output_seq.append(1)\n",
    "            generate_seq.append('[CPY]')\n",
    "        else:\n",
    "            output_seq.append(0)\n",
    "            generate_seq.append(token)\n",
    "\n",
    "    # generate_seq.append('[END]')\n",
    "    assert len(output_seq) == len(row['pseudo_token'])\n",
    "    return (output_seq, generate_seq)"
   ]
  },
  {
   "cell_type": "code",
   "execution_count": null,
   "metadata": {},
   "outputs": [],
   "source": [
    "seqs = train_df.apply(create_copy_gen_seq_from_pseudo_row, axis=1)\n",
    "code_binary_seq = [x[0] for x in seqs]\n",
    "generate_seq = [x[1] for x in seqs]\n",
    "train_df['pseudo_copy_seq'] = code_binary_seq\n",
    "train_df['pseudo_gen_seq'] = generate_seq\n",
    "train_df"
   ]
  },
  {
   "cell_type": "code",
   "execution_count": null,
   "metadata": {},
   "outputs": [],
   "source": [
    "def create_gen_seq_from_code_row(row):\n",
    "    \"\"\"\n",
    "    Returns binary sequence for pseudocode tokens based on \n",
    "    true code tokens\n",
    "\n",
    "    If the pseudocode token exists in the true code (can be\n",
    "    copied), then the sequence contains a 1 in that position\n",
    "    \"\"\"\n",
    "    pseudo_token_set = set(row['pseudo_token'])\n",
    "    gen_code_seq = []\n",
    "\n",
    "    # for i, token in enumerate(row['code_token']):\n",
    "    for token in row['code_token']:\n",
    "        # if i == 0:\n",
    "        #     gen_code_seq.append('[START]')\n",
    "        # elif i == len(row['code_token']):\n",
    "        #     gen_code_seq.append('[END]')\n",
    "\n",
    "        if token in pseudo_token_set:\n",
    "            gen_code_seq.append('[CPY]')\n",
    "        else:\n",
    "            gen_code_seq.append(token)\n",
    "\n",
    "    return gen_code_seq"
   ]
  },
  {
   "cell_type": "code",
   "execution_count": null,
   "metadata": {},
   "outputs": [],
   "source": [
    "gen_code_seq = train_df.apply(create_gen_seq_from_code_row, axis=1)\n",
    "train_df['code_gen_seq'] = gen_code_seq\n",
    "train_df"
   ]
  },
  {
   "cell_type": "code",
   "execution_count": null,
   "metadata": {},
   "outputs": [],
   "source": [
    "train_df['code_gen_seq_aug'] = train_df['code_gen_seq'].apply(lambda x: ['[START]'] + x + ['[STOP]'])\n",
    "train_df"
   ]
  },
  {
   "cell_type": "code",
   "execution_count": null,
   "metadata": {},
   "outputs": [],
   "source": [
    "train_df.to_csv('./CPY_dataset.tsv', sep='\\t', index=False)"
   ]
  },
  {
   "cell_type": "code",
   "execution_count": null,
   "metadata": {},
   "outputs": [],
   "source": [
    "df2 = pd.read_csv('./CPY_dataset.tsv', header=None, delimiter='\\t')\n",
    "df2.head()"
   ]
  },
  {
   "cell_type": "markdown",
   "metadata": {},
   "source": [
    "### Get Vocabulary of pseudocode and code"
   ]
  },
  {
   "cell_type": "code",
   "execution_count": null,
   "metadata": {},
   "outputs": [],
   "source": [
    "def get_vocab(column_name):\n",
    "    vocab = set()\n",
    "    for line in train_df[column_name]:\n",
    "        for token in line:\n",
    "            vocab.add(token) \n",
    "    return vocab"
   ]
  },
  {
   "cell_type": "code",
   "execution_count": null,
   "metadata": {},
   "outputs": [],
   "source": [
    "def get_max_len(column_name):\n",
    "    maxlist = max(train_df[column_name], key=len)\n",
    "    return len(maxlist)"
   ]
  },
  {
   "cell_type": "code",
   "execution_count": null,
   "metadata": {},
   "outputs": [],
   "source": [
    "# pseudo_vocab = set() \n",
    "# for line in train_df['pseudo_token']:\n",
    "#     for token in line:\n",
    "#         pseudo_vocab.add(token) \n",
    "\n",
    "# code_vocab = set() \n",
    "# for line in train_df['code_token']:\n",
    "#     for token in line:\n",
    "#         code_vocab.add(token)\n",
    "\n",
    "# pseudo_vocab = set() \n",
    "# for line in train_df['pseudo_token']:\n",
    "#     for token in line:\n",
    "#         pseudo_vocab.add(token) "
   ]
  },
  {
   "cell_type": "code",
   "execution_count": null,
   "metadata": {},
   "outputs": [],
   "source": [
    "pseudo_vocab = get_vocab('pseudo_token')\n",
    "pseudo_gen_vocab = get_vocab('pseudo_gen_seq')\n",
    "num_pseudo_tokens = len(pseudo_vocab)\n",
    "num_pseudo_gen_tokens = len(pseudo_gen_vocab)"
   ]
  },
  {
   "cell_type": "code",
   "execution_count": null,
   "metadata": {},
   "outputs": [],
   "source": [
    "code_vocab = get_vocab('code_token')\n",
    "code_gen_vocab = get_vocab('code_gen_seq')\n",
    "code_gen_aug_vocab = get_vocab('code_gen_seq_aug')\n",
    "num_code_tokens = len(code_vocab)\n",
    "num_code_gen_tokens = len(code_gen_vocab)\n",
    "num_code_gen_aug_tokens = len(code_gen_aug_vocab)"
   ]
  },
  {
   "cell_type": "code",
   "execution_count": null,
   "metadata": {},
   "outputs": [],
   "source": [
    "code_gen_vocab = sorted(list(code_gen_vocab))\n",
    "code_gen_vocab.index('[CPY]')"
   ]
  },
  {
   "cell_type": "code",
   "execution_count": null,
   "metadata": {},
   "outputs": [],
   "source": [
    "max_pseudo_gen = get_max_len('pseudo_gen_seq')\n",
    "max_code_gen = get_max_len('code_gen_seq')\n",
    "max_code_gen_aug = get_max_len('code_gen_seq_aug')"
   ]
  },
  {
   "cell_type": "markdown",
   "metadata": {},
   "source": [
    "## Make Indexes for each word"
   ]
  },
  {
   "cell_type": "code",
   "execution_count": null,
   "metadata": {},
   "outputs": [],
   "source": [
    "input_words = sorted(list(pseudo_gen_vocab))\n",
    "output_words = sorted(list(code_gen_aug_vocab))"
   ]
  },
  {
   "cell_type": "code",
   "execution_count": null,
   "metadata": {},
   "outputs": [],
   "source": [
    "pseudo_token_index = dict([(word, i+1) for i, word in enumerate(input_words)])\n",
    "code_token_index = dict([(word, i+1) for i, word in enumerate(output_words)])\n",
    "\n",
    "reverse_pseudo_index = dict((i, word) for word, i in pseudo_token_index.items())\n",
    "reverse_code_index = dict((i, word) for word, i in code_token_index.items())"
   ]
  },
  {
   "cell_type": "markdown",
   "metadata": {},
   "source": [
    "# Define Seq2Seq model"
   ]
  },
  {
   "cell_type": "code",
   "execution_count": null,
   "metadata": {},
   "outputs": [],
   "source": [
    "num_encoder_tokens = num_pseudo_gen_tokens\n",
    "latent_dim = 50 \n",
    "num_decoder_tokens = num_code_gen_aug_tokens + 1 \n",
    "# +1 because of 0 padding. No. of tokens = 1078 but the index starts from 1 not from 0 so add 1"
   ]
  },
  {
   "cell_type": "markdown",
   "metadata": {},
   "source": [
    "### Seq2Seq learning for generation"
   ]
  },
  {
   "cell_type": "markdown",
   "metadata": {},
   "source": [
    "#### Define Placeholders for the input tensors"
   ]
  },
  {
   "cell_type": "code",
   "execution_count": null,
   "metadata": {},
   "outputs": [],
   "source": [
    "len(train_df['pseudo_gen_seq'])\n",
    "len(train_df['code_gen_seq_aug'])"
   ]
  },
  {
   "cell_type": "code",
   "execution_count": null,
   "metadata": {},
   "outputs": [],
   "source": [
    "encoder_input_data = np.zeros((len(train_df['pseudo_gen_seq']), max_pseudo_gen), dtype='float32')\n",
    "decoder_input_data = np.zeros((len(train_df['code_gen_seq_aug']), max_code_gen_aug), dtype='float32')\n",
    "decoder_target_data = np.zeros((len(train_df['code_gen_seq_aug']), max_code_gen_aug, num_decoder_tokens), dtype='float32')"
   ]
  },
  {
   "cell_type": "code",
   "execution_count": null,
   "metadata": {},
   "outputs": [],
   "source": [
    "print(encoder_input_data.shape)\n",
    "print(decoder_input_data.shape)\n",
    "print(decoder_target_data.shape)"
   ]
  },
  {
   "cell_type": "code",
   "execution_count": null,
   "metadata": {},
   "outputs": [],
   "source": [
    "for i, (input_seq, target_seq) in enumerate(zip(train_df['pseudo_gen_seq'], train_df['code_gen_seq_aug'])):\n",
    "    # print(input_text, target_text)\n",
    "    for t, word in enumerate(input_seq):\n",
    "        encoder_input_data[i, t] = pseudo_token_index[word]\n",
    "    for t, word in enumerate(target_seq):\n",
    "        # print(t, word)\n",
    "        # decoder_target_data is ahead of decoder_input_data by one timestep\n",
    "        decoder_input_data[i, t] = code_token_index[word]   \n",
    "        # print(word, code_token_index[word])\n",
    "        if t > 0:\n",
    "            # decoder_target_data will be ahead by one timestep\n",
    "            # and will not include the start character.\n",
    "            decoder_target_data[i, t - 1, code_token_index[word]] = 1."
   ]
  },
  {
   "cell_type": "code",
   "execution_count": null,
   "metadata": {},
   "outputs": [],
   "source": [
    "encoder_input_data = encoder_input_data[:10000]\n",
    "decoder_input_data = decoder_input_data[:10000]\n",
    "decoder_target_data = decoder_target_data[:10000]"
   ]
  },
  {
   "cell_type": "code",
   "execution_count": null,
   "metadata": {},
   "outputs": [],
   "source": [
    "# count = 0\n",
    "# count2 = 0\n",
    "# count3 = 0\n",
    "# for i in decoder_target_data:\n",
    "#     for j in i:\n",
    "#         count3 += j.count(1)\n",
    "#         if(1 in j):\n",
    "#             count += 1\n",
    "#         count2 += 1"
   ]
  },
  {
   "cell_type": "code",
   "execution_count": null,
   "metadata": {},
   "outputs": [],
   "source": [
    "# (count2 - count)/ count2 * 100"
   ]
  },
  {
   "cell_type": "code",
   "execution_count": null,
   "metadata": {},
   "outputs": [],
   "source": [
    "from keras.layers import Input, Embedding, LSTM, Dense \n",
    "from keras import Model\n",
    "from tensorflow.keras.utils import plot_model\n",
    "import tensorflow as tf"
   ]
  },
  {
   "cell_type": "code",
   "execution_count": null,
   "metadata": {},
   "outputs": [],
   "source": [
    "# Define an input sequence and process it.\n",
    "encoder_inputs = Input(shape=(None,))\n",
    "en_x = Embedding(num_encoder_tokens, latent_dim, mask_zero = True)(encoder_inputs)\n",
    "en_out, state_h, state_c = LSTM(latent_dim, return_state=True)(en_x)\n",
    "encoder_states = [state_h, state_c]\n",
    "\n",
    "# Set up the decoder, using `encoder_states` as initial state.\n",
    "decoder_inputs = Input(shape=(None,))\n",
    "dec_emb_layer = Embedding(num_decoder_tokens, latent_dim, mask_zero = True)\n",
    "de_x = dec_emb_layer(decoder_inputs)\n",
    "# de_x = Embedding(num_decoder_tokens, latent_dim, mask_zero = True)\n",
    "dec_lstm_layer = LSTM(latent_dim, return_sequences=True, return_state=True)\n",
    "decoder_outputs, _ , _ = dec_lstm_layer(de_x, initial_state=encoder_states)\n",
    "\n",
    "dec_dense_layer = Dense(num_decoder_tokens, activation='softmax')\n",
    "decoder_outputs = dec_dense_layer(decoder_outputs)\n",
    "\n",
    "# Define the model that will turn\n",
    "# `encoder_input_data` & `decoder_input_data` into `decoder_target_data`\n",
    "model = Model([encoder_inputs, decoder_inputs], decoder_outputs)\n",
    "\n",
    "# Compile & run training\n",
    "model.compile(optimizer='rmsprop', loss='categorical_crossentropy', metrics=[tf.keras.metrics.CategoricalAccuracy()])   \n",
    "# Note that `decoder_target_data` needs to be one-hot encoded,\n",
    "# rather than sequences of integers like `decoder_input_data`!"
   ]
  },
  {
   "cell_type": "code",
   "execution_count": null,
   "metadata": {},
   "outputs": [],
   "source": [
    "plot_model(model, to_file='model.png', show_shapes=True)"
   ]
  },
  {
   "cell_type": "code",
   "execution_count": null,
   "metadata": {},
   "outputs": [],
   "source": [
    "model.fit([encoder_input_data, decoder_input_data], decoder_target_data,\n",
    "          batch_size=10000,\n",
    "          epochs=50,\n",
    "          validation_split=0.2)"
   ]
  },
  {
   "cell_type": "markdown",
   "metadata": {},
   "source": [
    "### Inference"
   ]
  },
  {
   "cell_type": "code",
   "execution_count": null,
   "metadata": {},
   "outputs": [],
   "source": [
    "# Encode the input sequence to get the \"thought vectors\"\n",
    "encoder_model = Model(encoder_inputs, encoder_states)\n",
    "\n",
    "# Decoder setup\n",
    "# Below tensors will hold the states of the previous time step\n",
    "decoder_state_input_h = Input(shape=(latent_dim,))\n",
    "decoder_state_input_c = Input(shape=(latent_dim,))\n",
    "decoder_states_inputs = [decoder_state_input_h, decoder_state_input_c]\n",
    "\n",
    "# Get the embeddings of the decoder sequence\n",
    "dec_emb2= dec_emb_layer(decoder_inputs)\n",
    "\n",
    "# To predict the next word in the sequence, set the initial states to the states from the previous time step\n",
    "decoder_outputs2, state_h2, state_c2 = dec_lstm_layer(dec_emb2, initial_state=decoder_states_inputs)\n",
    "decoder_states2 = [state_h2, state_c2]\n",
    "\n",
    "# A dense softmax layer to generate prob dist. over the target vocabulary\n",
    "decoder_outputs2 = dec_dense_layer(decoder_outputs2)\n",
    "\n",
    "# Final decoder model\n",
    "decoder_model = Model(\n",
    "    [decoder_inputs] + decoder_states_inputs,\n",
    "    [decoder_outputs2] + decoder_states2)"
   ]
  },
  {
   "cell_type": "code",
   "execution_count": null,
   "metadata": {},
   "outputs": [],
   "source": [
    "def decode_sequence(input_seq):\n",
    "    # Encode the input as state vectors.\n",
    "    states_value = encoder_model.predict(input_seq)\n",
    "\n",
    "    # Generate empty target sequence of length 1.\n",
    "    target_seq = np.zeros((1,1))\n",
    "    \n",
    "    # Populate the first character of target sequence with the start character.\n",
    "    target_seq[0, 0] = code_token_index['[START]']\n",
    "    \n",
    "    # Sampling loop for a batch of sequences\n",
    "    # (to simplify, here we assume a batch of size 1).\n",
    "    stop_condition = False\n",
    "    # decoded_sentence = ''\n",
    "    decoded_sentence = []\n",
    "    \n",
    "    while not stop_condition:\n",
    "        output_tokens, h, c = decoder_model.predict([target_seq] + states_value)\n",
    "        # Sample a token\n",
    "        sampled_token_index = np.argmax(output_tokens[0, -1, :])\n",
    "        sampled_char = reverse_code_index[sampled_token_index]\n",
    "        # decoded_sentence += ' '+sampled_char\n",
    "        decoded_sentence.append(sampled_char)\n",
    "        \n",
    "        # Exit condition: either hit max length or find stop token.\n",
    "        if (sampled_char == '[STOP]' or len(decoded_sentence) > 50):\n",
    "            stop_condition = True\n",
    "        \n",
    "        # Update the target sequence (of length 1).\n",
    "        target_seq = np.zeros((1,1))\n",
    "        target_seq[0, 0] = sampled_token_index\n",
    "        \n",
    "        # Update states\n",
    "        states_value = [h, c]\n",
    "    \n",
    "    return decoded_sentence"
   ]
  },
  {
   "cell_type": "code",
   "execution_count": null,
   "metadata": {},
   "outputs": [],
   "source": [
    "for seq_index in [500, 100]:\n",
    "    # print(encoder_input_data[seq_index])\n",
    "    input_seq = encoder_input_data[seq_index: seq_index+1]\n",
    "    # print(input_seq)\n",
    "    decoded_sentence = decode_sequence(input_seq)\n",
    "    print('-')\n",
    "    print('Input sentence:', train_df['pseudo_gen_seq'][seq_index: seq_index + 1])\n",
    "    print('Decoded sentence:', decoded_sentence)"
   ]
  },
  {
   "cell_type": "code",
   "execution_count": null,
   "metadata": {},
   "outputs": [],
   "source": []
  }
 ],
 "metadata": {
  "interpreter": {
   "hash": "b7b35159d5f3714c312bd281d072de1b51cb405758b497569d7b0919f3fae85c"
  },
  "kernelspec": {
   "display_name": "Python 3.8.3 ('base')",
   "language": "python",
   "name": "python3"
  },
  "language_info": {
   "codemirror_mode": {
    "name": "ipython",
    "version": 3
   },
   "file_extension": ".py",
   "mimetype": "text/x-python",
   "name": "python",
   "nbconvert_exporter": "python",
   "pygments_lexer": "ipython3",
   "version": "3.8.3"
  },
  "orig_nbformat": 4
 },
 "nbformat": 4,
 "nbformat_minor": 2
}
