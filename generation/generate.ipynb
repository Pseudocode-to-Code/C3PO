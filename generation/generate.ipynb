{
 "cells": [
  {
   "cell_type": "code",
   "execution_count": 46,
   "metadata": {},
   "outputs": [],
   "source": [
    "import pandas as pd\n",
    "import numpy as np"
   ]
  },
  {
   "cell_type": "markdown",
   "metadata": {},
   "source": [
    "# Dataset Ingestion"
   ]
  },
  {
   "cell_type": "code",
   "execution_count": 47,
   "metadata": {},
   "outputs": [
    {
     "data": {
      "text/html": [
       "<div>\n",
       "<style scoped>\n",
       "    .dataframe tbody tr th:only-of-type {\n",
       "        vertical-align: middle;\n",
       "    }\n",
       "\n",
       "    .dataframe tbody tr th {\n",
       "        vertical-align: top;\n",
       "    }\n",
       "\n",
       "    .dataframe thead th {\n",
       "        text-align: right;\n",
       "    }\n",
       "</style>\n",
       "<table border=\"1\" class=\"dataframe\">\n",
       "  <thead>\n",
       "    <tr style=\"text-align: right;\">\n",
       "      <th></th>\n",
       "      <th>pseudo</th>\n",
       "      <th>code</th>\n",
       "      <th>pseudo_token</th>\n",
       "      <th>code_token</th>\n",
       "    </tr>\n",
       "  </thead>\n",
       "  <tbody>\n",
       "    <tr>\n",
       "      <th>0</th>\n",
       "      <td>set l to mid</td>\n",
       "      <td>l = mid ;</td>\n",
       "      <td>[set, l, to, mid]</td>\n",
       "      <td>[l, =, mid, ;]</td>\n",
       "    </tr>\n",
       "    <tr>\n",
       "      <th>1</th>\n",
       "      <td>if i is 0</td>\n",
       "      <td>if ( i == 0 )</td>\n",
       "      <td>[if, i, is, 0]</td>\n",
       "      <td>[if, (, i, ==, 0, )]</td>\n",
       "    </tr>\n",
       "    <tr>\n",
       "      <th>2</th>\n",
       "      <td>read n and k</td>\n",
       "      <td>cin &gt;&gt; n &gt;&gt; k ;</td>\n",
       "      <td>[read, n, and, k]</td>\n",
       "      <td>[cin, &gt;&gt;, n, &gt;&gt;, k, ;]</td>\n",
       "    </tr>\n",
       "    <tr>\n",
       "      <th>3</th>\n",
       "      <td>declare long longs sum = 0 and min = LONG_LONG...</td>\n",
       "      <td>long long min = LONG_LONG_MAX , sum = 0 ;</td>\n",
       "      <td>[declare, long, longs, sum, =, 0, and, min, =,...</td>\n",
       "      <td>[long, long, min, =, LONG_LONG_MAX, ,, sum, =,...</td>\n",
       "    </tr>\n",
       "    <tr>\n",
       "      <th>4</th>\n",
       "      <td>dy = integer array where the the following int...</td>\n",
       "      <td>int dy [ ] = { 0 , 0 , - 1 , 1 } ;</td>\n",
       "      <td>[dy, =, integer, array, where, the, the, follo...</td>\n",
       "      <td>[int, dy, [, ], =, {, 0, ,, 0, ,, -, 1, ,, 1, ...</td>\n",
       "    </tr>\n",
       "  </tbody>\n",
       "</table>\n",
       "</div>"
      ],
      "text/plain": [
       "                                              pseudo  \\\n",
       "0                                       set l to mid   \n",
       "1                                          if i is 0   \n",
       "2                                       read n and k   \n",
       "3  declare long longs sum = 0 and min = LONG_LONG...   \n",
       "4  dy = integer array where the the following int...   \n",
       "\n",
       "                                        code  \\\n",
       "0                                  l = mid ;   \n",
       "1                              if ( i == 0 )   \n",
       "2                            cin >> n >> k ;   \n",
       "3  long long min = LONG_LONG_MAX , sum = 0 ;   \n",
       "4         int dy [ ] = { 0 , 0 , - 1 , 1 } ;   \n",
       "\n",
       "                                        pseudo_token  \\\n",
       "0                                  [set, l, to, mid]   \n",
       "1                                     [if, i, is, 0]   \n",
       "2                                  [read, n, and, k]   \n",
       "3  [declare, long, longs, sum, =, 0, and, min, =,...   \n",
       "4  [dy, =, integer, array, where, the, the, follo...   \n",
       "\n",
       "                                          code_token  \n",
       "0                                     [l, =, mid, ;]  \n",
       "1                               [if, (, i, ==, 0, )]  \n",
       "2                             [cin, >>, n, >>, k, ;]  \n",
       "3  [long, long, min, =, LONG_LONG_MAX, ,, sum, =,...  \n",
       "4  [int, dy, [, ], =, {, 0, ,, 0, ,, -, 1, ,, 1, ...  "
      ]
     },
     "execution_count": 47,
     "metadata": {},
     "output_type": "execute_result"
    }
   ],
   "source": [
    "cols = {0: 'pseudo', 1: 'code'}\n",
    "\n",
    "train_df = pd.read_csv('../data/input-tok-train-shuf.tsv', header=None, delimiter='\\t')\n",
    "train_df.rename(columns=cols, inplace=True)\n",
    "\n",
    "train_df['pseudo_token'] = train_df['pseudo'].str.split(' ')\n",
    "train_df['code_token'] = train_df['code'].str.split(' ')\n",
    "train_df.head()"
   ]
  },
  {
   "cell_type": "code",
   "execution_count": 48,
   "metadata": {},
   "outputs": [],
   "source": [
    "def create_copy_gen_seq_from_pseudo_row(row):\n",
    "    \"\"\"\n",
    "    Returns binary sequence for pseudocode tokens based on \n",
    "    true code tokens\n",
    "\n",
    "    If the pseudocode token exists in the true code (can be\n",
    "    copied), then the sequence contains a 1 in that position\n",
    "    \"\"\"\n",
    "    code_token_set = set(row['code_token'])\n",
    "    output_seq = []\n",
    "    generate_seq = []\n",
    "\n",
    "    for token in row['pseudo_token']:\n",
    "        if token in code_token_set:\n",
    "            output_seq.append(1)\n",
    "            generate_seq.append('[CPY]')\n",
    "        else:\n",
    "            output_seq.append(0)\n",
    "            generate_seq.append(token)\n",
    "\n",
    "    # generate_seq.append('[END]')\n",
    "    assert len(output_seq) == len(row['pseudo_token'])\n",
    "    return (output_seq, generate_seq)"
   ]
  },
  {
   "cell_type": "code",
   "execution_count": 49,
   "metadata": {},
   "outputs": [
    {
     "data": {
      "text/html": [
       "<div>\n",
       "<style scoped>\n",
       "    .dataframe tbody tr th:only-of-type {\n",
       "        vertical-align: middle;\n",
       "    }\n",
       "\n",
       "    .dataframe tbody tr th {\n",
       "        vertical-align: top;\n",
       "    }\n",
       "\n",
       "    .dataframe thead th {\n",
       "        text-align: right;\n",
       "    }\n",
       "</style>\n",
       "<table border=\"1\" class=\"dataframe\">\n",
       "  <thead>\n",
       "    <tr style=\"text-align: right;\">\n",
       "      <th></th>\n",
       "      <th>pseudo</th>\n",
       "      <th>code</th>\n",
       "      <th>pseudo_token</th>\n",
       "      <th>code_token</th>\n",
       "      <th>pseudo_copy_seq</th>\n",
       "      <th>pseudo_gen_seq</th>\n",
       "    </tr>\n",
       "  </thead>\n",
       "  <tbody>\n",
       "    <tr>\n",
       "      <th>0</th>\n",
       "      <td>set l to mid</td>\n",
       "      <td>l = mid ;</td>\n",
       "      <td>[set, l, to, mid]</td>\n",
       "      <td>[l, =, mid, ;]</td>\n",
       "      <td>[0, 1, 0, 1]</td>\n",
       "      <td>[set, [CPY], to, [CPY]]</td>\n",
       "    </tr>\n",
       "    <tr>\n",
       "      <th>1</th>\n",
       "      <td>if i is 0</td>\n",
       "      <td>if ( i == 0 )</td>\n",
       "      <td>[if, i, is, 0]</td>\n",
       "      <td>[if, (, i, ==, 0, )]</td>\n",
       "      <td>[1, 1, 0, 1]</td>\n",
       "      <td>[[CPY], [CPY], is, [CPY]]</td>\n",
       "    </tr>\n",
       "    <tr>\n",
       "      <th>2</th>\n",
       "      <td>read n and k</td>\n",
       "      <td>cin &gt;&gt; n &gt;&gt; k ;</td>\n",
       "      <td>[read, n, and, k]</td>\n",
       "      <td>[cin, &gt;&gt;, n, &gt;&gt;, k, ;]</td>\n",
       "      <td>[0, 1, 0, 1]</td>\n",
       "      <td>[read, [CPY], and, [CPY]]</td>\n",
       "    </tr>\n",
       "    <tr>\n",
       "      <th>3</th>\n",
       "      <td>declare long longs sum = 0 and min = LONG_LONG...</td>\n",
       "      <td>long long min = LONG_LONG_MAX , sum = 0 ;</td>\n",
       "      <td>[declare, long, longs, sum, =, 0, and, min, =,...</td>\n",
       "      <td>[long, long, min, =, LONG_LONG_MAX, ,, sum, =,...</td>\n",
       "      <td>[0, 1, 0, 1, 1, 1, 0, 1, 1, 1]</td>\n",
       "      <td>[declare, [CPY], longs, [CPY], [CPY], [CPY], a...</td>\n",
       "    </tr>\n",
       "    <tr>\n",
       "      <th>4</th>\n",
       "      <td>dy = integer array where the the following int...</td>\n",
       "      <td>int dy [ ] = { 0 , 0 , - 1 , 1 } ;</td>\n",
       "      <td>[dy, =, integer, array, where, the, the, follo...</td>\n",
       "      <td>[int, dy, [, ], =, {, 0, ,, 0, ,, -, 1, ,, 1, ...</td>\n",
       "      <td>[1, 1, 0, 0, 0, 0, 0, 0, 0, 0, 0, 0, 0, 1, 1, ...</td>\n",
       "      <td>[[CPY], [CPY], integer, array, where, the, the...</td>\n",
       "    </tr>\n",
       "    <tr>\n",
       "      <th>...</th>\n",
       "      <td>...</td>\n",
       "      <td>...</td>\n",
       "      <td>...</td>\n",
       "      <td>...</td>\n",
       "      <td>...</td>\n",
       "      <td>...</td>\n",
       "    </tr>\n",
       "    <tr>\n",
       "      <th>181857</th>\n",
       "      <td>declare static constant integer mod = 1000000009</td>\n",
       "      <td>static const int mod = 1000000009 ;</td>\n",
       "      <td>[declare, static, constant, integer, mod, =, 1...</td>\n",
       "      <td>[static, const, int, mod, =, 1000000009, ;]</td>\n",
       "      <td>[0, 1, 0, 0, 1, 1, 1]</td>\n",
       "      <td>[declare, [CPY], constant, integer, [CPY], [CP...</td>\n",
       "    </tr>\n",
       "    <tr>\n",
       "      <th>181858</th>\n",
       "      <td>print NO and a new line</td>\n",
       "      <td>cout &lt;&lt; \" NO \" &lt;&lt; ' \\n ' ;</td>\n",
       "      <td>[print, NO, and, a, new, line]</td>\n",
       "      <td>[cout, &lt;&lt;, \", NO, \", &lt;&lt;, ', \\n, ', ;]</td>\n",
       "      <td>[0, 1, 0, 0, 0, 0]</td>\n",
       "      <td>[print, [CPY], and, a, new, line]</td>\n",
       "    </tr>\n",
       "    <tr>\n",
       "      <th>181859</th>\n",
       "      <td>change the value of ans to abs ( x - y ) / d</td>\n",
       "      <td>ans = abs ( x - y ) / d ;</td>\n",
       "      <td>[change, the, value, of, ans, to, abs, (, x, -...</td>\n",
       "      <td>[ans, =, abs, (, x, -, y, ), /, d, ;]</td>\n",
       "      <td>[0, 0, 0, 0, 1, 0, 1, 1, 1, 1, 1, 1, 1, 1]</td>\n",
       "      <td>[change, the, value, of, [CPY], to, [CPY], [CP...</td>\n",
       "    </tr>\n",
       "    <tr>\n",
       "      <th>181860</th>\n",
       "      <td>else if s is less than f</td>\n",
       "      <td>else if ( s &lt; f )</td>\n",
       "      <td>[else, if, s, is, less, than, f]</td>\n",
       "      <td>[else, if, (, s, &lt;, f, )]</td>\n",
       "      <td>[1, 1, 1, 0, 0, 0, 1]</td>\n",
       "      <td>[[CPY], [CPY], [CPY], is, less, than, [CPY]]</td>\n",
       "    </tr>\n",
       "    <tr>\n",
       "      <th>181861</th>\n",
       "      <td>print 1 and newline</td>\n",
       "      <td>cout &lt;&lt; 1 &lt;&lt; endl ;</td>\n",
       "      <td>[print, 1, and, newline]</td>\n",
       "      <td>[cout, &lt;&lt;, 1, &lt;&lt;, endl, ;]</td>\n",
       "      <td>[0, 1, 0, 0]</td>\n",
       "      <td>[print, [CPY], and, newline]</td>\n",
       "    </tr>\n",
       "  </tbody>\n",
       "</table>\n",
       "<p>181862 rows × 6 columns</p>\n",
       "</div>"
      ],
      "text/plain": [
       "                                                   pseudo  \\\n",
       "0                                            set l to mid   \n",
       "1                                               if i is 0   \n",
       "2                                            read n and k   \n",
       "3       declare long longs sum = 0 and min = LONG_LONG...   \n",
       "4       dy = integer array where the the following int...   \n",
       "...                                                   ...   \n",
       "181857   declare static constant integer mod = 1000000009   \n",
       "181858                            print NO and a new line   \n",
       "181859       change the value of ans to abs ( x - y ) / d   \n",
       "181860                           else if s is less than f   \n",
       "181861                                print 1 and newline   \n",
       "\n",
       "                                             code  \\\n",
       "0                                       l = mid ;   \n",
       "1                                   if ( i == 0 )   \n",
       "2                                 cin >> n >> k ;   \n",
       "3       long long min = LONG_LONG_MAX , sum = 0 ;   \n",
       "4              int dy [ ] = { 0 , 0 , - 1 , 1 } ;   \n",
       "...                                           ...   \n",
       "181857        static const int mod = 1000000009 ;   \n",
       "181858                 cout << \" NO \" << ' \\n ' ;   \n",
       "181859                  ans = abs ( x - y ) / d ;   \n",
       "181860                          else if ( s < f )   \n",
       "181861                        cout << 1 << endl ;   \n",
       "\n",
       "                                             pseudo_token  \\\n",
       "0                                       [set, l, to, mid]   \n",
       "1                                          [if, i, is, 0]   \n",
       "2                                       [read, n, and, k]   \n",
       "3       [declare, long, longs, sum, =, 0, and, min, =,...   \n",
       "4       [dy, =, integer, array, where, the, the, follo...   \n",
       "...                                                   ...   \n",
       "181857  [declare, static, constant, integer, mod, =, 1...   \n",
       "181858                     [print, NO, and, a, new, line]   \n",
       "181859  [change, the, value, of, ans, to, abs, (, x, -...   \n",
       "181860                   [else, if, s, is, less, than, f]   \n",
       "181861                           [print, 1, and, newline]   \n",
       "\n",
       "                                               code_token  \\\n",
       "0                                          [l, =, mid, ;]   \n",
       "1                                    [if, (, i, ==, 0, )]   \n",
       "2                                  [cin, >>, n, >>, k, ;]   \n",
       "3       [long, long, min, =, LONG_LONG_MAX, ,, sum, =,...   \n",
       "4       [int, dy, [, ], =, {, 0, ,, 0, ,, -, 1, ,, 1, ...   \n",
       "...                                                   ...   \n",
       "181857        [static, const, int, mod, =, 1000000009, ;]   \n",
       "181858              [cout, <<, \", NO, \", <<, ', \\n, ', ;]   \n",
       "181859              [ans, =, abs, (, x, -, y, ), /, d, ;]   \n",
       "181860                          [else, if, (, s, <, f, )]   \n",
       "181861                         [cout, <<, 1, <<, endl, ;]   \n",
       "\n",
       "                                          pseudo_copy_seq  \\\n",
       "0                                            [0, 1, 0, 1]   \n",
       "1                                            [1, 1, 0, 1]   \n",
       "2                                            [0, 1, 0, 1]   \n",
       "3                          [0, 1, 0, 1, 1, 1, 0, 1, 1, 1]   \n",
       "4       [1, 1, 0, 0, 0, 0, 0, 0, 0, 0, 0, 0, 0, 1, 1, ...   \n",
       "...                                                   ...   \n",
       "181857                              [0, 1, 0, 0, 1, 1, 1]   \n",
       "181858                                 [0, 1, 0, 0, 0, 0]   \n",
       "181859         [0, 0, 0, 0, 1, 0, 1, 1, 1, 1, 1, 1, 1, 1]   \n",
       "181860                              [1, 1, 1, 0, 0, 0, 1]   \n",
       "181861                                       [0, 1, 0, 0]   \n",
       "\n",
       "                                           pseudo_gen_seq  \n",
       "0                                 [set, [CPY], to, [CPY]]  \n",
       "1                               [[CPY], [CPY], is, [CPY]]  \n",
       "2                               [read, [CPY], and, [CPY]]  \n",
       "3       [declare, [CPY], longs, [CPY], [CPY], [CPY], a...  \n",
       "4       [[CPY], [CPY], integer, array, where, the, the...  \n",
       "...                                                   ...  \n",
       "181857  [declare, [CPY], constant, integer, [CPY], [CP...  \n",
       "181858                  [print, [CPY], and, a, new, line]  \n",
       "181859  [change, the, value, of, [CPY], to, [CPY], [CP...  \n",
       "181860       [[CPY], [CPY], [CPY], is, less, than, [CPY]]  \n",
       "181861                       [print, [CPY], and, newline]  \n",
       "\n",
       "[181862 rows x 6 columns]"
      ]
     },
     "execution_count": 49,
     "metadata": {},
     "output_type": "execute_result"
    }
   ],
   "source": [
    "seqs = train_df.apply(create_copy_gen_seq_from_pseudo_row, axis=1)\n",
    "code_binary_seq = [x[0] for x in seqs]\n",
    "generate_seq = [x[1] for x in seqs]\n",
    "train_df['pseudo_copy_seq'] = code_binary_seq\n",
    "train_df['pseudo_gen_seq'] = generate_seq\n",
    "train_df"
   ]
  },
  {
   "cell_type": "code",
   "execution_count": 50,
   "metadata": {},
   "outputs": [],
   "source": [
    "def create_gen_seq_from_code_row(row):\n",
    "    \"\"\"\n",
    "    Returns binary sequence for pseudocode tokens based on \n",
    "    true code tokens\n",
    "\n",
    "    If the pseudocode token exists in the true code (can be\n",
    "    copied), then the sequence contains a 1 in that position\n",
    "    \"\"\"\n",
    "    pseudo_token_set = set(row['pseudo_token'])\n",
    "    gen_code_seq = []\n",
    "\n",
    "    # for i, token in enumerate(row['code_token']):\n",
    "    for token in row['code_token']:\n",
    "        # if i == 0:\n",
    "        #     gen_code_seq.append('[START]')\n",
    "        # elif i == len(row['code_token']):\n",
    "        #     gen_code_seq.append('[END]')\n",
    "\n",
    "        if token in pseudo_token_set:\n",
    "            gen_code_seq.append('[CPY]')\n",
    "        else:\n",
    "            gen_code_seq.append(token)\n",
    "\n",
    "    return gen_code_seq"
   ]
  },
  {
   "cell_type": "code",
   "execution_count": 51,
   "metadata": {},
   "outputs": [
    {
     "data": {
      "text/html": [
       "<div>\n",
       "<style scoped>\n",
       "    .dataframe tbody tr th:only-of-type {\n",
       "        vertical-align: middle;\n",
       "    }\n",
       "\n",
       "    .dataframe tbody tr th {\n",
       "        vertical-align: top;\n",
       "    }\n",
       "\n",
       "    .dataframe thead th {\n",
       "        text-align: right;\n",
       "    }\n",
       "</style>\n",
       "<table border=\"1\" class=\"dataframe\">\n",
       "  <thead>\n",
       "    <tr style=\"text-align: right;\">\n",
       "      <th></th>\n",
       "      <th>pseudo</th>\n",
       "      <th>code</th>\n",
       "      <th>pseudo_token</th>\n",
       "      <th>code_token</th>\n",
       "      <th>pseudo_copy_seq</th>\n",
       "      <th>pseudo_gen_seq</th>\n",
       "      <th>code_gen_seq</th>\n",
       "    </tr>\n",
       "  </thead>\n",
       "  <tbody>\n",
       "    <tr>\n",
       "      <th>0</th>\n",
       "      <td>set l to mid</td>\n",
       "      <td>l = mid ;</td>\n",
       "      <td>[set, l, to, mid]</td>\n",
       "      <td>[l, =, mid, ;]</td>\n",
       "      <td>[0, 1, 0, 1]</td>\n",
       "      <td>[set, [CPY], to, [CPY]]</td>\n",
       "      <td>[[CPY], =, [CPY], ;]</td>\n",
       "    </tr>\n",
       "    <tr>\n",
       "      <th>1</th>\n",
       "      <td>if i is 0</td>\n",
       "      <td>if ( i == 0 )</td>\n",
       "      <td>[if, i, is, 0]</td>\n",
       "      <td>[if, (, i, ==, 0, )]</td>\n",
       "      <td>[1, 1, 0, 1]</td>\n",
       "      <td>[[CPY], [CPY], is, [CPY]]</td>\n",
       "      <td>[[CPY], (, [CPY], ==, [CPY], )]</td>\n",
       "    </tr>\n",
       "    <tr>\n",
       "      <th>2</th>\n",
       "      <td>read n and k</td>\n",
       "      <td>cin &gt;&gt; n &gt;&gt; k ;</td>\n",
       "      <td>[read, n, and, k]</td>\n",
       "      <td>[cin, &gt;&gt;, n, &gt;&gt;, k, ;]</td>\n",
       "      <td>[0, 1, 0, 1]</td>\n",
       "      <td>[read, [CPY], and, [CPY]]</td>\n",
       "      <td>[cin, &gt;&gt;, [CPY], &gt;&gt;, [CPY], ;]</td>\n",
       "    </tr>\n",
       "    <tr>\n",
       "      <th>3</th>\n",
       "      <td>declare long longs sum = 0 and min = LONG_LONG...</td>\n",
       "      <td>long long min = LONG_LONG_MAX , sum = 0 ;</td>\n",
       "      <td>[declare, long, longs, sum, =, 0, and, min, =,...</td>\n",
       "      <td>[long, long, min, =, LONG_LONG_MAX, ,, sum, =,...</td>\n",
       "      <td>[0, 1, 0, 1, 1, 1, 0, 1, 1, 1]</td>\n",
       "      <td>[declare, [CPY], longs, [CPY], [CPY], [CPY], a...</td>\n",
       "      <td>[[CPY], [CPY], [CPY], [CPY], [CPY], ,, [CPY], ...</td>\n",
       "    </tr>\n",
       "    <tr>\n",
       "      <th>4</th>\n",
       "      <td>dy = integer array where the the following int...</td>\n",
       "      <td>int dy [ ] = { 0 , 0 , - 1 , 1 } ;</td>\n",
       "      <td>[dy, =, integer, array, where, the, the, follo...</td>\n",
       "      <td>[int, dy, [, ], =, {, 0, ,, 0, ,, -, 1, ,, 1, ...</td>\n",
       "      <td>[1, 1, 0, 0, 0, 0, 0, 0, 0, 0, 0, 0, 0, 1, 1, ...</td>\n",
       "      <td>[[CPY], [CPY], integer, array, where, the, the...</td>\n",
       "      <td>[int, [CPY], [CPY], [CPY], [CPY], {, [CPY], [C...</td>\n",
       "    </tr>\n",
       "    <tr>\n",
       "      <th>...</th>\n",
       "      <td>...</td>\n",
       "      <td>...</td>\n",
       "      <td>...</td>\n",
       "      <td>...</td>\n",
       "      <td>...</td>\n",
       "      <td>...</td>\n",
       "      <td>...</td>\n",
       "    </tr>\n",
       "    <tr>\n",
       "      <th>181857</th>\n",
       "      <td>declare static constant integer mod = 1000000009</td>\n",
       "      <td>static const int mod = 1000000009 ;</td>\n",
       "      <td>[declare, static, constant, integer, mod, =, 1...</td>\n",
       "      <td>[static, const, int, mod, =, 1000000009, ;]</td>\n",
       "      <td>[0, 1, 0, 0, 1, 1, 1]</td>\n",
       "      <td>[declare, [CPY], constant, integer, [CPY], [CP...</td>\n",
       "      <td>[[CPY], const, int, [CPY], [CPY], [CPY], ;]</td>\n",
       "    </tr>\n",
       "    <tr>\n",
       "      <th>181858</th>\n",
       "      <td>print NO and a new line</td>\n",
       "      <td>cout &lt;&lt; \" NO \" &lt;&lt; ' \\n ' ;</td>\n",
       "      <td>[print, NO, and, a, new, line]</td>\n",
       "      <td>[cout, &lt;&lt;, \", NO, \", &lt;&lt;, ', \\n, ', ;]</td>\n",
       "      <td>[0, 1, 0, 0, 0, 0]</td>\n",
       "      <td>[print, [CPY], and, a, new, line]</td>\n",
       "      <td>[cout, &lt;&lt;, \", [CPY], \", &lt;&lt;, ', \\n, ', ;]</td>\n",
       "    </tr>\n",
       "    <tr>\n",
       "      <th>181859</th>\n",
       "      <td>change the value of ans to abs ( x - y ) / d</td>\n",
       "      <td>ans = abs ( x - y ) / d ;</td>\n",
       "      <td>[change, the, value, of, ans, to, abs, (, x, -...</td>\n",
       "      <td>[ans, =, abs, (, x, -, y, ), /, d, ;]</td>\n",
       "      <td>[0, 0, 0, 0, 1, 0, 1, 1, 1, 1, 1, 1, 1, 1]</td>\n",
       "      <td>[change, the, value, of, [CPY], to, [CPY], [CP...</td>\n",
       "      <td>[[CPY], =, [CPY], [CPY], [CPY], [CPY], [CPY], ...</td>\n",
       "    </tr>\n",
       "    <tr>\n",
       "      <th>181860</th>\n",
       "      <td>else if s is less than f</td>\n",
       "      <td>else if ( s &lt; f )</td>\n",
       "      <td>[else, if, s, is, less, than, f]</td>\n",
       "      <td>[else, if, (, s, &lt;, f, )]</td>\n",
       "      <td>[1, 1, 1, 0, 0, 0, 1]</td>\n",
       "      <td>[[CPY], [CPY], [CPY], is, less, than, [CPY]]</td>\n",
       "      <td>[[CPY], [CPY], (, [CPY], &lt;, [CPY], )]</td>\n",
       "    </tr>\n",
       "    <tr>\n",
       "      <th>181861</th>\n",
       "      <td>print 1 and newline</td>\n",
       "      <td>cout &lt;&lt; 1 &lt;&lt; endl ;</td>\n",
       "      <td>[print, 1, and, newline]</td>\n",
       "      <td>[cout, &lt;&lt;, 1, &lt;&lt;, endl, ;]</td>\n",
       "      <td>[0, 1, 0, 0]</td>\n",
       "      <td>[print, [CPY], and, newline]</td>\n",
       "      <td>[cout, &lt;&lt;, [CPY], &lt;&lt;, endl, ;]</td>\n",
       "    </tr>\n",
       "  </tbody>\n",
       "</table>\n",
       "<p>181862 rows × 7 columns</p>\n",
       "</div>"
      ],
      "text/plain": [
       "                                                   pseudo  \\\n",
       "0                                            set l to mid   \n",
       "1                                               if i is 0   \n",
       "2                                            read n and k   \n",
       "3       declare long longs sum = 0 and min = LONG_LONG...   \n",
       "4       dy = integer array where the the following int...   \n",
       "...                                                   ...   \n",
       "181857   declare static constant integer mod = 1000000009   \n",
       "181858                            print NO and a new line   \n",
       "181859       change the value of ans to abs ( x - y ) / d   \n",
       "181860                           else if s is less than f   \n",
       "181861                                print 1 and newline   \n",
       "\n",
       "                                             code  \\\n",
       "0                                       l = mid ;   \n",
       "1                                   if ( i == 0 )   \n",
       "2                                 cin >> n >> k ;   \n",
       "3       long long min = LONG_LONG_MAX , sum = 0 ;   \n",
       "4              int dy [ ] = { 0 , 0 , - 1 , 1 } ;   \n",
       "...                                           ...   \n",
       "181857        static const int mod = 1000000009 ;   \n",
       "181858                 cout << \" NO \" << ' \\n ' ;   \n",
       "181859                  ans = abs ( x - y ) / d ;   \n",
       "181860                          else if ( s < f )   \n",
       "181861                        cout << 1 << endl ;   \n",
       "\n",
       "                                             pseudo_token  \\\n",
       "0                                       [set, l, to, mid]   \n",
       "1                                          [if, i, is, 0]   \n",
       "2                                       [read, n, and, k]   \n",
       "3       [declare, long, longs, sum, =, 0, and, min, =,...   \n",
       "4       [dy, =, integer, array, where, the, the, follo...   \n",
       "...                                                   ...   \n",
       "181857  [declare, static, constant, integer, mod, =, 1...   \n",
       "181858                     [print, NO, and, a, new, line]   \n",
       "181859  [change, the, value, of, ans, to, abs, (, x, -...   \n",
       "181860                   [else, if, s, is, less, than, f]   \n",
       "181861                           [print, 1, and, newline]   \n",
       "\n",
       "                                               code_token  \\\n",
       "0                                          [l, =, mid, ;]   \n",
       "1                                    [if, (, i, ==, 0, )]   \n",
       "2                                  [cin, >>, n, >>, k, ;]   \n",
       "3       [long, long, min, =, LONG_LONG_MAX, ,, sum, =,...   \n",
       "4       [int, dy, [, ], =, {, 0, ,, 0, ,, -, 1, ,, 1, ...   \n",
       "...                                                   ...   \n",
       "181857        [static, const, int, mod, =, 1000000009, ;]   \n",
       "181858              [cout, <<, \", NO, \", <<, ', \\n, ', ;]   \n",
       "181859              [ans, =, abs, (, x, -, y, ), /, d, ;]   \n",
       "181860                          [else, if, (, s, <, f, )]   \n",
       "181861                         [cout, <<, 1, <<, endl, ;]   \n",
       "\n",
       "                                          pseudo_copy_seq  \\\n",
       "0                                            [0, 1, 0, 1]   \n",
       "1                                            [1, 1, 0, 1]   \n",
       "2                                            [0, 1, 0, 1]   \n",
       "3                          [0, 1, 0, 1, 1, 1, 0, 1, 1, 1]   \n",
       "4       [1, 1, 0, 0, 0, 0, 0, 0, 0, 0, 0, 0, 0, 1, 1, ...   \n",
       "...                                                   ...   \n",
       "181857                              [0, 1, 0, 0, 1, 1, 1]   \n",
       "181858                                 [0, 1, 0, 0, 0, 0]   \n",
       "181859         [0, 0, 0, 0, 1, 0, 1, 1, 1, 1, 1, 1, 1, 1]   \n",
       "181860                              [1, 1, 1, 0, 0, 0, 1]   \n",
       "181861                                       [0, 1, 0, 0]   \n",
       "\n",
       "                                           pseudo_gen_seq  \\\n",
       "0                                 [set, [CPY], to, [CPY]]   \n",
       "1                               [[CPY], [CPY], is, [CPY]]   \n",
       "2                               [read, [CPY], and, [CPY]]   \n",
       "3       [declare, [CPY], longs, [CPY], [CPY], [CPY], a...   \n",
       "4       [[CPY], [CPY], integer, array, where, the, the...   \n",
       "...                                                   ...   \n",
       "181857  [declare, [CPY], constant, integer, [CPY], [CP...   \n",
       "181858                  [print, [CPY], and, a, new, line]   \n",
       "181859  [change, the, value, of, [CPY], to, [CPY], [CP...   \n",
       "181860       [[CPY], [CPY], [CPY], is, less, than, [CPY]]   \n",
       "181861                       [print, [CPY], and, newline]   \n",
       "\n",
       "                                             code_gen_seq  \n",
       "0                                    [[CPY], =, [CPY], ;]  \n",
       "1                         [[CPY], (, [CPY], ==, [CPY], )]  \n",
       "2                          [cin, >>, [CPY], >>, [CPY], ;]  \n",
       "3       [[CPY], [CPY], [CPY], [CPY], [CPY], ,, [CPY], ...  \n",
       "4       [int, [CPY], [CPY], [CPY], [CPY], {, [CPY], [C...  \n",
       "...                                                   ...  \n",
       "181857        [[CPY], const, int, [CPY], [CPY], [CPY], ;]  \n",
       "181858           [cout, <<, \", [CPY], \", <<, ', \\n, ', ;]  \n",
       "181859  [[CPY], =, [CPY], [CPY], [CPY], [CPY], [CPY], ...  \n",
       "181860              [[CPY], [CPY], (, [CPY], <, [CPY], )]  \n",
       "181861                     [cout, <<, [CPY], <<, endl, ;]  \n",
       "\n",
       "[181862 rows x 7 columns]"
      ]
     },
     "execution_count": 51,
     "metadata": {},
     "output_type": "execute_result"
    }
   ],
   "source": [
    "gen_code_seq = train_df.apply(create_gen_seq_from_code_row, axis=1)\n",
    "train_df['code_gen_seq'] = gen_code_seq\n",
    "train_df"
   ]
  },
  {
   "cell_type": "code",
   "execution_count": 52,
   "metadata": {},
   "outputs": [
    {
     "data": {
      "text/html": [
       "<div>\n",
       "<style scoped>\n",
       "    .dataframe tbody tr th:only-of-type {\n",
       "        vertical-align: middle;\n",
       "    }\n",
       "\n",
       "    .dataframe tbody tr th {\n",
       "        vertical-align: top;\n",
       "    }\n",
       "\n",
       "    .dataframe thead th {\n",
       "        text-align: right;\n",
       "    }\n",
       "</style>\n",
       "<table border=\"1\" class=\"dataframe\">\n",
       "  <thead>\n",
       "    <tr style=\"text-align: right;\">\n",
       "      <th></th>\n",
       "      <th>pseudo</th>\n",
       "      <th>code</th>\n",
       "      <th>pseudo_token</th>\n",
       "      <th>code_token</th>\n",
       "      <th>pseudo_copy_seq</th>\n",
       "      <th>pseudo_gen_seq</th>\n",
       "      <th>code_gen_seq</th>\n",
       "      <th>code_gen_seq_aug</th>\n",
       "    </tr>\n",
       "  </thead>\n",
       "  <tbody>\n",
       "    <tr>\n",
       "      <th>0</th>\n",
       "      <td>set l to mid</td>\n",
       "      <td>l = mid ;</td>\n",
       "      <td>[set, l, to, mid]</td>\n",
       "      <td>[l, =, mid, ;]</td>\n",
       "      <td>[0, 1, 0, 1]</td>\n",
       "      <td>[set, [CPY], to, [CPY]]</td>\n",
       "      <td>[[CPY], =, [CPY], ;]</td>\n",
       "      <td>[[START], [CPY], =, [CPY], ;, [STOP]]</td>\n",
       "    </tr>\n",
       "    <tr>\n",
       "      <th>1</th>\n",
       "      <td>if i is 0</td>\n",
       "      <td>if ( i == 0 )</td>\n",
       "      <td>[if, i, is, 0]</td>\n",
       "      <td>[if, (, i, ==, 0, )]</td>\n",
       "      <td>[1, 1, 0, 1]</td>\n",
       "      <td>[[CPY], [CPY], is, [CPY]]</td>\n",
       "      <td>[[CPY], (, [CPY], ==, [CPY], )]</td>\n",
       "      <td>[[START], [CPY], (, [CPY], ==, [CPY], ), [STOP]]</td>\n",
       "    </tr>\n",
       "    <tr>\n",
       "      <th>2</th>\n",
       "      <td>read n and k</td>\n",
       "      <td>cin &gt;&gt; n &gt;&gt; k ;</td>\n",
       "      <td>[read, n, and, k]</td>\n",
       "      <td>[cin, &gt;&gt;, n, &gt;&gt;, k, ;]</td>\n",
       "      <td>[0, 1, 0, 1]</td>\n",
       "      <td>[read, [CPY], and, [CPY]]</td>\n",
       "      <td>[cin, &gt;&gt;, [CPY], &gt;&gt;, [CPY], ;]</td>\n",
       "      <td>[[START], cin, &gt;&gt;, [CPY], &gt;&gt;, [CPY], ;, [STOP]]</td>\n",
       "    </tr>\n",
       "    <tr>\n",
       "      <th>3</th>\n",
       "      <td>declare long longs sum = 0 and min = LONG_LONG...</td>\n",
       "      <td>long long min = LONG_LONG_MAX , sum = 0 ;</td>\n",
       "      <td>[declare, long, longs, sum, =, 0, and, min, =,...</td>\n",
       "      <td>[long, long, min, =, LONG_LONG_MAX, ,, sum, =,...</td>\n",
       "      <td>[0, 1, 0, 1, 1, 1, 0, 1, 1, 1]</td>\n",
       "      <td>[declare, [CPY], longs, [CPY], [CPY], [CPY], a...</td>\n",
       "      <td>[[CPY], [CPY], [CPY], [CPY], [CPY], ,, [CPY], ...</td>\n",
       "      <td>[[START], [CPY], [CPY], [CPY], [CPY], [CPY], ,...</td>\n",
       "    </tr>\n",
       "    <tr>\n",
       "      <th>4</th>\n",
       "      <td>dy = integer array where the the following int...</td>\n",
       "      <td>int dy [ ] = { 0 , 0 , - 1 , 1 } ;</td>\n",
       "      <td>[dy, =, integer, array, where, the, the, follo...</td>\n",
       "      <td>[int, dy, [, ], =, {, 0, ,, 0, ,, -, 1, ,, 1, ...</td>\n",
       "      <td>[1, 1, 0, 0, 0, 0, 0, 0, 0, 0, 0, 0, 0, 1, 1, ...</td>\n",
       "      <td>[[CPY], [CPY], integer, array, where, the, the...</td>\n",
       "      <td>[int, [CPY], [CPY], [CPY], [CPY], {, [CPY], [C...</td>\n",
       "      <td>[[START], int, [CPY], [CPY], [CPY], [CPY], {, ...</td>\n",
       "    </tr>\n",
       "    <tr>\n",
       "      <th>...</th>\n",
       "      <td>...</td>\n",
       "      <td>...</td>\n",
       "      <td>...</td>\n",
       "      <td>...</td>\n",
       "      <td>...</td>\n",
       "      <td>...</td>\n",
       "      <td>...</td>\n",
       "      <td>...</td>\n",
       "    </tr>\n",
       "    <tr>\n",
       "      <th>181857</th>\n",
       "      <td>declare static constant integer mod = 1000000009</td>\n",
       "      <td>static const int mod = 1000000009 ;</td>\n",
       "      <td>[declare, static, constant, integer, mod, =, 1...</td>\n",
       "      <td>[static, const, int, mod, =, 1000000009, ;]</td>\n",
       "      <td>[0, 1, 0, 0, 1, 1, 1]</td>\n",
       "      <td>[declare, [CPY], constant, integer, [CPY], [CP...</td>\n",
       "      <td>[[CPY], const, int, [CPY], [CPY], [CPY], ;]</td>\n",
       "      <td>[[START], [CPY], const, int, [CPY], [CPY], [CP...</td>\n",
       "    </tr>\n",
       "    <tr>\n",
       "      <th>181858</th>\n",
       "      <td>print NO and a new line</td>\n",
       "      <td>cout &lt;&lt; \" NO \" &lt;&lt; ' \\n ' ;</td>\n",
       "      <td>[print, NO, and, a, new, line]</td>\n",
       "      <td>[cout, &lt;&lt;, \", NO, \", &lt;&lt;, ', \\n, ', ;]</td>\n",
       "      <td>[0, 1, 0, 0, 0, 0]</td>\n",
       "      <td>[print, [CPY], and, a, new, line]</td>\n",
       "      <td>[cout, &lt;&lt;, \", [CPY], \", &lt;&lt;, ', \\n, ', ;]</td>\n",
       "      <td>[[START], cout, &lt;&lt;, \", [CPY], \", &lt;&lt;, ', \\n, ',...</td>\n",
       "    </tr>\n",
       "    <tr>\n",
       "      <th>181859</th>\n",
       "      <td>change the value of ans to abs ( x - y ) / d</td>\n",
       "      <td>ans = abs ( x - y ) / d ;</td>\n",
       "      <td>[change, the, value, of, ans, to, abs, (, x, -...</td>\n",
       "      <td>[ans, =, abs, (, x, -, y, ), /, d, ;]</td>\n",
       "      <td>[0, 0, 0, 0, 1, 0, 1, 1, 1, 1, 1, 1, 1, 1]</td>\n",
       "      <td>[change, the, value, of, [CPY], to, [CPY], [CP...</td>\n",
       "      <td>[[CPY], =, [CPY], [CPY], [CPY], [CPY], [CPY], ...</td>\n",
       "      <td>[[START], [CPY], =, [CPY], [CPY], [CPY], [CPY]...</td>\n",
       "    </tr>\n",
       "    <tr>\n",
       "      <th>181860</th>\n",
       "      <td>else if s is less than f</td>\n",
       "      <td>else if ( s &lt; f )</td>\n",
       "      <td>[else, if, s, is, less, than, f]</td>\n",
       "      <td>[else, if, (, s, &lt;, f, )]</td>\n",
       "      <td>[1, 1, 1, 0, 0, 0, 1]</td>\n",
       "      <td>[[CPY], [CPY], [CPY], is, less, than, [CPY]]</td>\n",
       "      <td>[[CPY], [CPY], (, [CPY], &lt;, [CPY], )]</td>\n",
       "      <td>[[START], [CPY], [CPY], (, [CPY], &lt;, [CPY], ),...</td>\n",
       "    </tr>\n",
       "    <tr>\n",
       "      <th>181861</th>\n",
       "      <td>print 1 and newline</td>\n",
       "      <td>cout &lt;&lt; 1 &lt;&lt; endl ;</td>\n",
       "      <td>[print, 1, and, newline]</td>\n",
       "      <td>[cout, &lt;&lt;, 1, &lt;&lt;, endl, ;]</td>\n",
       "      <td>[0, 1, 0, 0]</td>\n",
       "      <td>[print, [CPY], and, newline]</td>\n",
       "      <td>[cout, &lt;&lt;, [CPY], &lt;&lt;, endl, ;]</td>\n",
       "      <td>[[START], cout, &lt;&lt;, [CPY], &lt;&lt;, endl, ;, [STOP]]</td>\n",
       "    </tr>\n",
       "  </tbody>\n",
       "</table>\n",
       "<p>181862 rows × 8 columns</p>\n",
       "</div>"
      ],
      "text/plain": [
       "                                                   pseudo  \\\n",
       "0                                            set l to mid   \n",
       "1                                               if i is 0   \n",
       "2                                            read n and k   \n",
       "3       declare long longs sum = 0 and min = LONG_LONG...   \n",
       "4       dy = integer array where the the following int...   \n",
       "...                                                   ...   \n",
       "181857   declare static constant integer mod = 1000000009   \n",
       "181858                            print NO and a new line   \n",
       "181859       change the value of ans to abs ( x - y ) / d   \n",
       "181860                           else if s is less than f   \n",
       "181861                                print 1 and newline   \n",
       "\n",
       "                                             code  \\\n",
       "0                                       l = mid ;   \n",
       "1                                   if ( i == 0 )   \n",
       "2                                 cin >> n >> k ;   \n",
       "3       long long min = LONG_LONG_MAX , sum = 0 ;   \n",
       "4              int dy [ ] = { 0 , 0 , - 1 , 1 } ;   \n",
       "...                                           ...   \n",
       "181857        static const int mod = 1000000009 ;   \n",
       "181858                 cout << \" NO \" << ' \\n ' ;   \n",
       "181859                  ans = abs ( x - y ) / d ;   \n",
       "181860                          else if ( s < f )   \n",
       "181861                        cout << 1 << endl ;   \n",
       "\n",
       "                                             pseudo_token  \\\n",
       "0                                       [set, l, to, mid]   \n",
       "1                                          [if, i, is, 0]   \n",
       "2                                       [read, n, and, k]   \n",
       "3       [declare, long, longs, sum, =, 0, and, min, =,...   \n",
       "4       [dy, =, integer, array, where, the, the, follo...   \n",
       "...                                                   ...   \n",
       "181857  [declare, static, constant, integer, mod, =, 1...   \n",
       "181858                     [print, NO, and, a, new, line]   \n",
       "181859  [change, the, value, of, ans, to, abs, (, x, -...   \n",
       "181860                   [else, if, s, is, less, than, f]   \n",
       "181861                           [print, 1, and, newline]   \n",
       "\n",
       "                                               code_token  \\\n",
       "0                                          [l, =, mid, ;]   \n",
       "1                                    [if, (, i, ==, 0, )]   \n",
       "2                                  [cin, >>, n, >>, k, ;]   \n",
       "3       [long, long, min, =, LONG_LONG_MAX, ,, sum, =,...   \n",
       "4       [int, dy, [, ], =, {, 0, ,, 0, ,, -, 1, ,, 1, ...   \n",
       "...                                                   ...   \n",
       "181857        [static, const, int, mod, =, 1000000009, ;]   \n",
       "181858              [cout, <<, \", NO, \", <<, ', \\n, ', ;]   \n",
       "181859              [ans, =, abs, (, x, -, y, ), /, d, ;]   \n",
       "181860                          [else, if, (, s, <, f, )]   \n",
       "181861                         [cout, <<, 1, <<, endl, ;]   \n",
       "\n",
       "                                          pseudo_copy_seq  \\\n",
       "0                                            [0, 1, 0, 1]   \n",
       "1                                            [1, 1, 0, 1]   \n",
       "2                                            [0, 1, 0, 1]   \n",
       "3                          [0, 1, 0, 1, 1, 1, 0, 1, 1, 1]   \n",
       "4       [1, 1, 0, 0, 0, 0, 0, 0, 0, 0, 0, 0, 0, 1, 1, ...   \n",
       "...                                                   ...   \n",
       "181857                              [0, 1, 0, 0, 1, 1, 1]   \n",
       "181858                                 [0, 1, 0, 0, 0, 0]   \n",
       "181859         [0, 0, 0, 0, 1, 0, 1, 1, 1, 1, 1, 1, 1, 1]   \n",
       "181860                              [1, 1, 1, 0, 0, 0, 1]   \n",
       "181861                                       [0, 1, 0, 0]   \n",
       "\n",
       "                                           pseudo_gen_seq  \\\n",
       "0                                 [set, [CPY], to, [CPY]]   \n",
       "1                               [[CPY], [CPY], is, [CPY]]   \n",
       "2                               [read, [CPY], and, [CPY]]   \n",
       "3       [declare, [CPY], longs, [CPY], [CPY], [CPY], a...   \n",
       "4       [[CPY], [CPY], integer, array, where, the, the...   \n",
       "...                                                   ...   \n",
       "181857  [declare, [CPY], constant, integer, [CPY], [CP...   \n",
       "181858                  [print, [CPY], and, a, new, line]   \n",
       "181859  [change, the, value, of, [CPY], to, [CPY], [CP...   \n",
       "181860       [[CPY], [CPY], [CPY], is, less, than, [CPY]]   \n",
       "181861                       [print, [CPY], and, newline]   \n",
       "\n",
       "                                             code_gen_seq  \\\n",
       "0                                    [[CPY], =, [CPY], ;]   \n",
       "1                         [[CPY], (, [CPY], ==, [CPY], )]   \n",
       "2                          [cin, >>, [CPY], >>, [CPY], ;]   \n",
       "3       [[CPY], [CPY], [CPY], [CPY], [CPY], ,, [CPY], ...   \n",
       "4       [int, [CPY], [CPY], [CPY], [CPY], {, [CPY], [C...   \n",
       "...                                                   ...   \n",
       "181857        [[CPY], const, int, [CPY], [CPY], [CPY], ;]   \n",
       "181858           [cout, <<, \", [CPY], \", <<, ', \\n, ', ;]   \n",
       "181859  [[CPY], =, [CPY], [CPY], [CPY], [CPY], [CPY], ...   \n",
       "181860              [[CPY], [CPY], (, [CPY], <, [CPY], )]   \n",
       "181861                     [cout, <<, [CPY], <<, endl, ;]   \n",
       "\n",
       "                                         code_gen_seq_aug  \n",
       "0                   [[START], [CPY], =, [CPY], ;, [STOP]]  \n",
       "1        [[START], [CPY], (, [CPY], ==, [CPY], ), [STOP]]  \n",
       "2         [[START], cin, >>, [CPY], >>, [CPY], ;, [STOP]]  \n",
       "3       [[START], [CPY], [CPY], [CPY], [CPY], [CPY], ,...  \n",
       "4       [[START], int, [CPY], [CPY], [CPY], [CPY], {, ...  \n",
       "...                                                   ...  \n",
       "181857  [[START], [CPY], const, int, [CPY], [CPY], [CP...  \n",
       "181858  [[START], cout, <<, \", [CPY], \", <<, ', \\n, ',...  \n",
       "181859  [[START], [CPY], =, [CPY], [CPY], [CPY], [CPY]...  \n",
       "181860  [[START], [CPY], [CPY], (, [CPY], <, [CPY], ),...  \n",
       "181861    [[START], cout, <<, [CPY], <<, endl, ;, [STOP]]  \n",
       "\n",
       "[181862 rows x 8 columns]"
      ]
     },
     "execution_count": 52,
     "metadata": {},
     "output_type": "execute_result"
    }
   ],
   "source": [
    "train_df['code_gen_seq_aug'] = train_df['code_gen_seq'].apply(lambda x: ['[START]'] + x + ['[STOP]'])\n",
    "train_df"
   ]
  },
  {
   "cell_type": "code",
   "execution_count": 53,
   "metadata": {},
   "outputs": [],
   "source": [
    "train_df.to_csv('./CPY_dataset.tsv', sep='\\t', index=False)"
   ]
  },
  {
   "cell_type": "code",
   "execution_count": 54,
   "metadata": {},
   "outputs": [
    {
     "data": {
      "text/html": [
       "<div>\n",
       "<style scoped>\n",
       "    .dataframe tbody tr th:only-of-type {\n",
       "        vertical-align: middle;\n",
       "    }\n",
       "\n",
       "    .dataframe tbody tr th {\n",
       "        vertical-align: top;\n",
       "    }\n",
       "\n",
       "    .dataframe thead th {\n",
       "        text-align: right;\n",
       "    }\n",
       "</style>\n",
       "<table border=\"1\" class=\"dataframe\">\n",
       "  <thead>\n",
       "    <tr style=\"text-align: right;\">\n",
       "      <th></th>\n",
       "      <th>0</th>\n",
       "      <th>1</th>\n",
       "      <th>2</th>\n",
       "      <th>3</th>\n",
       "      <th>4</th>\n",
       "      <th>5</th>\n",
       "      <th>6</th>\n",
       "      <th>7</th>\n",
       "    </tr>\n",
       "  </thead>\n",
       "  <tbody>\n",
       "    <tr>\n",
       "      <th>0</th>\n",
       "      <td>pseudo</td>\n",
       "      <td>code</td>\n",
       "      <td>pseudo_token</td>\n",
       "      <td>code_token</td>\n",
       "      <td>pseudo_copy_seq</td>\n",
       "      <td>pseudo_gen_seq</td>\n",
       "      <td>code_gen_seq</td>\n",
       "      <td>code_gen_seq_aug</td>\n",
       "    </tr>\n",
       "    <tr>\n",
       "      <th>1</th>\n",
       "      <td>set l to mid</td>\n",
       "      <td>l = mid ;</td>\n",
       "      <td>['set', 'l', 'to', 'mid']</td>\n",
       "      <td>['l', '=', 'mid', ';']</td>\n",
       "      <td>[0, 1, 0, 1]</td>\n",
       "      <td>['set', '[CPY]', 'to', '[CPY]']</td>\n",
       "      <td>['[CPY]', '=', '[CPY]', ';']</td>\n",
       "      <td>['[START]', '[CPY]', '=', '[CPY]', ';', '[STOP]']</td>\n",
       "    </tr>\n",
       "    <tr>\n",
       "      <th>2</th>\n",
       "      <td>if i is 0</td>\n",
       "      <td>if ( i == 0 )</td>\n",
       "      <td>['if', 'i', 'is', '0']</td>\n",
       "      <td>['if', '(', 'i', '==', '0', ')']</td>\n",
       "      <td>[1, 1, 0, 1]</td>\n",
       "      <td>['[CPY]', '[CPY]', 'is', '[CPY]']</td>\n",
       "      <td>['[CPY]', '(', '[CPY]', '==', '[CPY]', ')']</td>\n",
       "      <td>['[START]', '[CPY]', '(', '[CPY]', '==', '[CPY...</td>\n",
       "    </tr>\n",
       "    <tr>\n",
       "      <th>3</th>\n",
       "      <td>read n and k</td>\n",
       "      <td>cin &gt;&gt; n &gt;&gt; k ;</td>\n",
       "      <td>['read', 'n', 'and', 'k']</td>\n",
       "      <td>['cin', '&gt;&gt;', 'n', '&gt;&gt;', 'k', ';']</td>\n",
       "      <td>[0, 1, 0, 1]</td>\n",
       "      <td>['read', '[CPY]', 'and', '[CPY]']</td>\n",
       "      <td>['cin', '&gt;&gt;', '[CPY]', '&gt;&gt;', '[CPY]', ';']</td>\n",
       "      <td>['[START]', 'cin', '&gt;&gt;', '[CPY]', '&gt;&gt;', '[CPY]...</td>\n",
       "    </tr>\n",
       "    <tr>\n",
       "      <th>4</th>\n",
       "      <td>declare long longs sum = 0 and min = LONG_LONG...</td>\n",
       "      <td>long long min = LONG_LONG_MAX , sum = 0 ;</td>\n",
       "      <td>['declare', 'long', 'longs', 'sum', '=', '0', ...</td>\n",
       "      <td>['long', 'long', 'min', '=', 'LONG_LONG_MAX', ...</td>\n",
       "      <td>[0, 1, 0, 1, 1, 1, 0, 1, 1, 1]</td>\n",
       "      <td>['declare', '[CPY]', 'longs', '[CPY]', '[CPY]'...</td>\n",
       "      <td>['[CPY]', '[CPY]', '[CPY]', '[CPY]', '[CPY]', ...</td>\n",
       "      <td>['[START]', '[CPY]', '[CPY]', '[CPY]', '[CPY]'...</td>\n",
       "    </tr>\n",
       "  </tbody>\n",
       "</table>\n",
       "</div>"
      ],
      "text/plain": [
       "                                                   0  \\\n",
       "0                                             pseudo   \n",
       "1                                       set l to mid   \n",
       "2                                          if i is 0   \n",
       "3                                       read n and k   \n",
       "4  declare long longs sum = 0 and min = LONG_LONG...   \n",
       "\n",
       "                                           1  \\\n",
       "0                                       code   \n",
       "1                                  l = mid ;   \n",
       "2                              if ( i == 0 )   \n",
       "3                            cin >> n >> k ;   \n",
       "4  long long min = LONG_LONG_MAX , sum = 0 ;   \n",
       "\n",
       "                                                   2  \\\n",
       "0                                       pseudo_token   \n",
       "1                          ['set', 'l', 'to', 'mid']   \n",
       "2                             ['if', 'i', 'is', '0']   \n",
       "3                          ['read', 'n', 'and', 'k']   \n",
       "4  ['declare', 'long', 'longs', 'sum', '=', '0', ...   \n",
       "\n",
       "                                                   3  \\\n",
       "0                                         code_token   \n",
       "1                             ['l', '=', 'mid', ';']   \n",
       "2                   ['if', '(', 'i', '==', '0', ')']   \n",
       "3                 ['cin', '>>', 'n', '>>', 'k', ';']   \n",
       "4  ['long', 'long', 'min', '=', 'LONG_LONG_MAX', ...   \n",
       "\n",
       "                                4  \\\n",
       "0                 pseudo_copy_seq   \n",
       "1                    [0, 1, 0, 1]   \n",
       "2                    [1, 1, 0, 1]   \n",
       "3                    [0, 1, 0, 1]   \n",
       "4  [0, 1, 0, 1, 1, 1, 0, 1, 1, 1]   \n",
       "\n",
       "                                                   5  \\\n",
       "0                                     pseudo_gen_seq   \n",
       "1                    ['set', '[CPY]', 'to', '[CPY]']   \n",
       "2                  ['[CPY]', '[CPY]', 'is', '[CPY]']   \n",
       "3                  ['read', '[CPY]', 'and', '[CPY]']   \n",
       "4  ['declare', '[CPY]', 'longs', '[CPY]', '[CPY]'...   \n",
       "\n",
       "                                                   6  \\\n",
       "0                                       code_gen_seq   \n",
       "1                       ['[CPY]', '=', '[CPY]', ';']   \n",
       "2        ['[CPY]', '(', '[CPY]', '==', '[CPY]', ')']   \n",
       "3         ['cin', '>>', '[CPY]', '>>', '[CPY]', ';']   \n",
       "4  ['[CPY]', '[CPY]', '[CPY]', '[CPY]', '[CPY]', ...   \n",
       "\n",
       "                                                   7  \n",
       "0                                   code_gen_seq_aug  \n",
       "1  ['[START]', '[CPY]', '=', '[CPY]', ';', '[STOP]']  \n",
       "2  ['[START]', '[CPY]', '(', '[CPY]', '==', '[CPY...  \n",
       "3  ['[START]', 'cin', '>>', '[CPY]', '>>', '[CPY]...  \n",
       "4  ['[START]', '[CPY]', '[CPY]', '[CPY]', '[CPY]'...  "
      ]
     },
     "execution_count": 54,
     "metadata": {},
     "output_type": "execute_result"
    }
   ],
   "source": [
    "df2 = pd.read_csv('./CPY_dataset.tsv', header=None, delimiter='\\t')\n",
    "df2.head()"
   ]
  },
  {
   "cell_type": "markdown",
   "metadata": {},
   "source": [
    "### Get Vocabulary of pseudocode and code"
   ]
  },
  {
   "cell_type": "code",
   "execution_count": 55,
   "metadata": {},
   "outputs": [],
   "source": [
    "def get_vocab(column_name):\n",
    "    vocab = set()\n",
    "    for line in train_df[column_name]:\n",
    "        for token in line:\n",
    "            vocab.add(token) \n",
    "    return vocab"
   ]
  },
  {
   "cell_type": "code",
   "execution_count": 56,
   "metadata": {},
   "outputs": [],
   "source": [
    "def get_max_len(column_name):\n",
    "    maxlist = max(train_df[column_name], key=len)\n",
    "    return len(maxlist)"
   ]
  },
  {
   "cell_type": "code",
   "execution_count": 57,
   "metadata": {},
   "outputs": [],
   "source": [
    "# pseudo_vocab = set() \n",
    "# for line in train_df['pseudo_token']:\n",
    "#     for token in line:\n",
    "#         pseudo_vocab.add(token) \n",
    "\n",
    "# code_vocab = set() \n",
    "# for line in train_df['code_token']:\n",
    "#     for token in line:\n",
    "#         code_vocab.add(token)\n",
    "\n",
    "# pseudo_vocab = set() \n",
    "# for line in train_df['pseudo_token']:\n",
    "#     for token in line:\n",
    "#         pseudo_vocab.add(token) "
   ]
  },
  {
   "cell_type": "code",
   "execution_count": 58,
   "metadata": {},
   "outputs": [],
   "source": [
    "pseudo_vocab = get_vocab('pseudo_token')\n",
    "pseudo_gen_vocab = get_vocab('pseudo_gen_seq')\n",
    "num_pseudo_tokens = len(pseudo_vocab)\n",
    "num_pseudo_gen_tokens = len(pseudo_gen_vocab)"
   ]
  },
  {
   "cell_type": "code",
   "execution_count": 59,
   "metadata": {},
   "outputs": [],
   "source": [
    "code_vocab = get_vocab('code_token')\n",
    "code_gen_vocab = get_vocab('code_gen_seq')\n",
    "code_gen_aug_vocab = get_vocab('code_gen_seq_aug')\n",
    "num_code_tokens = len(code_vocab)\n",
    "num_code_gen_tokens = len(code_gen_vocab)\n",
    "num_code_gen_aug_tokens = len(code_gen_aug_vocab)"
   ]
  },
  {
   "cell_type": "code",
   "execution_count": 60,
   "metadata": {},
   "outputs": [
    {
     "data": {
      "text/plain": [
       "436"
      ]
     },
     "execution_count": 60,
     "metadata": {},
     "output_type": "execute_result"
    }
   ],
   "source": [
    "code_gen_vocab = sorted(list(code_gen_vocab))\n",
    "code_gen_vocab.index('[CPY]')"
   ]
  },
  {
   "cell_type": "code",
   "execution_count": 61,
   "metadata": {},
   "outputs": [],
   "source": [
    "max_pseudo_gen = get_max_len('pseudo_gen_seq')\n",
    "max_code_gen = get_max_len('code_gen_seq')\n",
    "max_code_gen_aug = get_max_len('code_gen_seq_aug')"
   ]
  },
  {
   "cell_type": "markdown",
   "metadata": {},
   "source": [
    "## Make Indexes for each word"
   ]
  },
  {
   "cell_type": "code",
   "execution_count": 62,
   "metadata": {},
   "outputs": [],
   "source": [
    "input_words = sorted(list(pseudo_gen_vocab))\n",
    "output_words = sorted(list(code_gen_aug_vocab))"
   ]
  },
  {
   "cell_type": "code",
   "execution_count": 63,
   "metadata": {},
   "outputs": [],
   "source": [
    "pseudo_token_index = dict([(word, i+1) for i, word in enumerate(input_words)])\n",
    "code_token_index = dict([(word, i+1) for i, word in enumerate(output_words)])\n",
    "\n",
    "reverse_pseudo_index = dict((i, word) for word, i in pseudo_token_index.items())\n",
    "reverse_code_index = dict((i, word) for word, i in code_token_index.items())"
   ]
  },
  {
   "cell_type": "markdown",
   "metadata": {},
   "source": [
    "# Define Seq2Seq model"
   ]
  },
  {
   "cell_type": "code",
   "execution_count": 64,
   "metadata": {},
   "outputs": [],
   "source": [
    "num_encoder_tokens = num_pseudo_gen_tokens + 1\n",
    "latent_dim = 50 \n",
    "num_decoder_tokens = num_code_gen_aug_tokens + 1 \n",
    "# +1 because of 0 padding. No. of tokens = 1078 but the index starts from 1 not from 0 so add 1"
   ]
  },
  {
   "cell_type": "markdown",
   "metadata": {},
   "source": [
    "### Seq2Seq learning for generation"
   ]
  },
  {
   "cell_type": "markdown",
   "metadata": {},
   "source": [
    "#### Define Placeholders for the input tensors"
   ]
  },
  {
   "cell_type": "code",
   "execution_count": 65,
   "metadata": {},
   "outputs": [
    {
     "data": {
      "text/plain": [
       "181862"
      ]
     },
     "execution_count": 65,
     "metadata": {},
     "output_type": "execute_result"
    }
   ],
   "source": [
    "len(train_df['pseudo_gen_seq'])\n",
    "len(train_df['code_gen_seq_aug'])"
   ]
  },
  {
   "cell_type": "code",
   "execution_count": 66,
   "metadata": {},
   "outputs": [],
   "source": [
    "encoder_input_data = np.zeros((len(train_df['pseudo_gen_seq']), max_pseudo_gen), dtype='float32')\n",
    "decoder_input_data = np.zeros((len(train_df['code_gen_seq_aug']), max_code_gen_aug), dtype='float32')\n",
    "decoder_target_data = np.zeros((len(train_df['code_gen_seq_aug']), max_code_gen_aug, num_decoder_tokens), dtype='float32')"
   ]
  },
  {
   "cell_type": "code",
   "execution_count": 67,
   "metadata": {},
   "outputs": [
    {
     "name": "stdout",
     "output_type": "stream",
     "text": [
      "(181862, 85)\n",
      "(181862, 87)\n",
      "(181862, 87, 1079)\n"
     ]
    }
   ],
   "source": [
    "print(encoder_input_data.shape)\n",
    "print(decoder_input_data.shape)\n",
    "print(decoder_target_data.shape)"
   ]
  },
  {
   "cell_type": "code",
   "execution_count": 68,
   "metadata": {},
   "outputs": [],
   "source": [
    "for i, (input_seq, target_seq) in enumerate(zip(train_df['pseudo_gen_seq'], train_df['code_gen_seq_aug'])):\n",
    "    # print(input_text, target_text)\n",
    "    for t, word in enumerate(input_seq):\n",
    "        encoder_input_data[i, t] = pseudo_token_index[word]\n",
    "    for t, word in enumerate(target_seq):\n",
    "        # print(t, word)\n",
    "        # decoder_target_data is ahead of decoder_input_data by one timestep\n",
    "        decoder_input_data[i, t] = code_token_index[word]   \n",
    "        # print(word, code_token_index[word])\n",
    "        if t > 0:\n",
    "            # decoder_target_data will be ahead by one timestep\n",
    "            # and will not include the start character.\n",
    "            decoder_target_data[i, t - 1, code_token_index[word]] = 1."
   ]
  },
  {
   "cell_type": "code",
   "execution_count": 69,
   "metadata": {},
   "outputs": [
    {
     "name": "stdout",
     "output_type": "stream",
     "text": [
      "['[START]', '[CPY]', '(', '[CPY]', '>=', '[CPY]', ')', '[CPY]', ';', '[STOP]']\n"
     ]
    },
    {
     "data": {
      "text/plain": [
       "(1079,)"
      ]
     },
     "execution_count": 69,
     "metadata": {},
     "output_type": "execute_result"
    }
   ],
   "source": [
    "# print(train_df['pseudo_gen_seq'][1500])\n",
    "# encoder_input_data[1500][:100]\n",
    "\n",
    "print(train_df['code_gen_seq_aug'][1500])\n",
    "# decoder_input_data[1500][:100]\n",
    "decoder_target_data[1500][1].shape"
   ]
  },
  {
   "cell_type": "code",
   "execution_count": 70,
   "metadata": {},
   "outputs": [],
   "source": [
    "# encoder_input_data = encoder_input_data[:10000]\n",
    "# decoder_input_data = decoder_input_data[:10000]\n",
    "# decoder_target_data = decoder_target_data[:10000]"
   ]
  },
  {
   "cell_type": "code",
   "execution_count": 71,
   "metadata": {},
   "outputs": [],
   "source": [
    "# count = 0\n",
    "# count2 = 0\n",
    "# count3 = 0\n",
    "# for i in decoder_target_data:\n",
    "#     for j in i:\n",
    "#         count3 += j.count(1)\n",
    "#         if(1 in j):\n",
    "#             count += 1\n",
    "#         count2 += 1"
   ]
  },
  {
   "cell_type": "code",
   "execution_count": 72,
   "metadata": {},
   "outputs": [],
   "source": [
    "# (count2 - count)/ count2 * 100"
   ]
  },
  {
   "cell_type": "code",
   "execution_count": 73,
   "metadata": {},
   "outputs": [],
   "source": [
    "from keras.layers import Input, Embedding, LSTM, Dense \n",
    "from keras import Model\n",
    "from tensorflow.keras.utils import plot_model\n",
    "import tensorflow as tf"
   ]
  },
  {
   "cell_type": "code",
   "execution_count": 74,
   "metadata": {},
   "outputs": [],
   "source": [
    "# Define an input sequence and process it.\n",
    "encoder_inputs = Input(shape=(None,))\n",
    "en_x = Embedding(num_encoder_tokens, latent_dim, mask_zero = True)(encoder_inputs)\n",
    "en_out, state_h, state_c = LSTM(latent_dim, return_state=True)(en_x)\n",
    "encoder_states = [state_h, state_c]\n",
    "\n",
    "# Set up the decoder, using `encoder_states` as initial state.\n",
    "decoder_inputs = Input(shape=(None,))\n",
    "dec_emb_layer = Embedding(num_decoder_tokens, latent_dim, mask_zero = True)\n",
    "de_x = dec_emb_layer(decoder_inputs)\n",
    "# de_x = Embedding(num_decoder_tokens, latent_dim, mask_zero = True)\n",
    "dec_lstm_layer = LSTM(latent_dim, return_sequences=True, return_state=True)\n",
    "decoder_outputs, _ , _ = dec_lstm_layer(de_x, initial_state=encoder_states)\n",
    "\n",
    "dec_dense_layer = Dense(num_decoder_tokens, activation='softmax')\n",
    "decoder_outputs = dec_dense_layer(decoder_outputs)\n",
    "\n",
    "# Define the model that will turn\n",
    "# `encoder_input_data` & `decoder_input_data` into `decoder_target_data`\n",
    "model = Model([encoder_inputs, decoder_inputs], decoder_outputs)\n",
    "\n",
    "# Compile & run training\n",
    "model.compile(optimizer='rmsprop', loss='categorical_crossentropy', metrics=[tf.keras.metrics.CategoricalAccuracy()])   \n",
    "# Note that `decoder_target_data` needs to be one-hot encoded,\n",
    "# rather than sequences of integers like `decoder_input_data`!"
   ]
  },
  {
   "cell_type": "code",
   "execution_count": 75,
   "metadata": {},
   "outputs": [
    {
     "data": {
      "image/png": "[encoded data removed]",
      "text/plain": [
       "<IPython.core.display.Image object>"
      ]
     },
     "execution_count": 75,
     "metadata": {},
     "output_type": "execute_result"
    }
   ],
   "source": [
    "plot_model(model, to_file='model.png', show_shapes=True)"
   ]
  },
  {
   "cell_type": "code",
   "execution_count": 77,
   "metadata": {},
   "outputs": [
    {
     "name": "stdout",
     "output_type": "stream",
     "text": [
      "Epoch 1/100\n",
      "1137/1137 [==============================] - 566s 498ms/step - loss: 0.1766 - categorical_accuracy: 0.5819 - val_loss: 0.1228 - val_categorical_accuracy: 0.6689\n",
      "Epoch 2/100\n",
      "1137/1137 [==============================] - 664s 584ms/step - loss: 0.1022 - categorical_accuracy: 0.7160 - val_loss: 0.0889 - val_categorical_accuracy: 0.7419\n",
      "Epoch 3/100\n",
      "1041/1137 [==========================>...] - ETA: 2:04 - loss: 0.0808 - categorical_accuracy: 0.7554"
     ]
    },
    {
     "ename": "KeyboardInterrupt",
     "evalue": "",
     "output_type": "error",
     "traceback": [
      "\u001b[0;31m---------------------------------------------------------------------------\u001b[0m",
      "\u001b[0;31mKeyboardInterrupt\u001b[0m                         Traceback (most recent call last)",
      "\u001b[0;32m<ipython-input-77-f82308ed69cb>\u001b[0m in \u001b[0;36m<module>\u001b[0;34m\u001b[0m\n\u001b[0;32m----> 1\u001b[0;31m model.fit([encoder_input_data, decoder_input_data], decoder_target_data,\n\u001b[0m\u001b[1;32m      2\u001b[0m           \u001b[0mbatch_size\u001b[0m\u001b[0;34m=\u001b[0m\u001b[0;36m128\u001b[0m\u001b[0;34m,\u001b[0m\u001b[0;34m\u001b[0m\u001b[0;34m\u001b[0m\u001b[0m\n\u001b[1;32m      3\u001b[0m           \u001b[0mepochs\u001b[0m\u001b[0;34m=\u001b[0m\u001b[0;36m100\u001b[0m\u001b[0;34m,\u001b[0m\u001b[0;34m\u001b[0m\u001b[0;34m\u001b[0m\u001b[0m\n\u001b[1;32m      4\u001b[0m           validation_split=0.2)\n",
      "\u001b[0;32m~/opt/anaconda3/lib/python3.8/site-packages/keras/utils/traceback_utils.py\u001b[0m in \u001b[0;36merror_handler\u001b[0;34m(*args, **kwargs)\u001b[0m\n\u001b[1;32m     62\u001b[0m     \u001b[0mfiltered_tb\u001b[0m \u001b[0;34m=\u001b[0m \u001b[0;32mNone\u001b[0m\u001b[0;34m\u001b[0m\u001b[0;34m\u001b[0m\u001b[0m\n\u001b[1;32m     63\u001b[0m     \u001b[0;32mtry\u001b[0m\u001b[0;34m:\u001b[0m\u001b[0;34m\u001b[0m\u001b[0;34m\u001b[0m\u001b[0m\n\u001b[0;32m---> 64\u001b[0;31m       \u001b[0;32mreturn\u001b[0m \u001b[0mfn\u001b[0m\u001b[0;34m(\u001b[0m\u001b[0;34m*\u001b[0m\u001b[0margs\u001b[0m\u001b[0;34m,\u001b[0m \u001b[0;34m**\u001b[0m\u001b[0mkwargs\u001b[0m\u001b[0;34m)\u001b[0m\u001b[0;34m\u001b[0m\u001b[0;34m\u001b[0m\u001b[0m\n\u001b[0m\u001b[1;32m     65\u001b[0m     \u001b[0;32mexcept\u001b[0m \u001b[0mException\u001b[0m \u001b[0;32mas\u001b[0m \u001b[0me\u001b[0m\u001b[0;34m:\u001b[0m  \u001b[0;31m# pylint: disable=broad-except\u001b[0m\u001b[0;34m\u001b[0m\u001b[0;34m\u001b[0m\u001b[0m\n\u001b[1;32m     66\u001b[0m       \u001b[0mfiltered_tb\u001b[0m \u001b[0;34m=\u001b[0m \u001b[0m_process_traceback_frames\u001b[0m\u001b[0;34m(\u001b[0m\u001b[0me\u001b[0m\u001b[0;34m.\u001b[0m\u001b[0m__traceback__\u001b[0m\u001b[0;34m)\u001b[0m\u001b[0;34m\u001b[0m\u001b[0;34m\u001b[0m\u001b[0m\n",
      "\u001b[0;32m~/opt/anaconda3/lib/python3.8/site-packages/keras/engine/training.py\u001b[0m in \u001b[0;36mfit\u001b[0;34m(self, x, y, batch_size, epochs, verbose, callbacks, validation_split, validation_data, shuffle, class_weight, sample_weight, initial_epoch, steps_per_epoch, validation_steps, validation_batch_size, validation_freq, max_queue_size, workers, use_multiprocessing)\u001b[0m\n\u001b[1;32m   1214\u001b[0m                 _r=1):\n\u001b[1;32m   1215\u001b[0m               \u001b[0mcallbacks\u001b[0m\u001b[0;34m.\u001b[0m\u001b[0mon_train_batch_begin\u001b[0m\u001b[0;34m(\u001b[0m\u001b[0mstep\u001b[0m\u001b[0;34m)\u001b[0m\u001b[0;34m\u001b[0m\u001b[0;34m\u001b[0m\u001b[0m\n\u001b[0;32m-> 1216\u001b[0;31m               \u001b[0mtmp_logs\u001b[0m \u001b[0;34m=\u001b[0m \u001b[0mself\u001b[0m\u001b[0;34m.\u001b[0m\u001b[0mtrain_function\u001b[0m\u001b[0;34m(\u001b[0m\u001b[0miterator\u001b[0m\u001b[0;34m)\u001b[0m\u001b[0;34m\u001b[0m\u001b[0;34m\u001b[0m\u001b[0m\n\u001b[0m\u001b[1;32m   1217\u001b[0m               \u001b[0;32mif\u001b[0m \u001b[0mdata_handler\u001b[0m\u001b[0;34m.\u001b[0m\u001b[0mshould_sync\u001b[0m\u001b[0;34m:\u001b[0m\u001b[0;34m\u001b[0m\u001b[0;34m\u001b[0m\u001b[0m\n\u001b[1;32m   1218\u001b[0m                 \u001b[0mcontext\u001b[0m\u001b[0;34m.\u001b[0m\u001b[0masync_wait\u001b[0m\u001b[0;34m(\u001b[0m\u001b[0;34m)\u001b[0m\u001b[0;34m\u001b[0m\u001b[0;34m\u001b[0m\u001b[0m\n",
      "\u001b[0;32m~/opt/anaconda3/lib/python3.8/site-packages/tensorflow/python/util/traceback_utils.py\u001b[0m in \u001b[0;36merror_handler\u001b[0;34m(*args, **kwargs)\u001b[0m\n\u001b[1;32m    148\u001b[0m     \u001b[0mfiltered_tb\u001b[0m \u001b[0;34m=\u001b[0m \u001b[0;32mNone\u001b[0m\u001b[0;34m\u001b[0m\u001b[0;34m\u001b[0m\u001b[0m\n\u001b[1;32m    149\u001b[0m     \u001b[0;32mtry\u001b[0m\u001b[0;34m:\u001b[0m\u001b[0;34m\u001b[0m\u001b[0;34m\u001b[0m\u001b[0m\n\u001b[0;32m--> 150\u001b[0;31m       \u001b[0;32mreturn\u001b[0m \u001b[0mfn\u001b[0m\u001b[0;34m(\u001b[0m\u001b[0;34m*\u001b[0m\u001b[0margs\u001b[0m\u001b[0;34m,\u001b[0m \u001b[0;34m**\u001b[0m\u001b[0mkwargs\u001b[0m\u001b[0;34m)\u001b[0m\u001b[0;34m\u001b[0m\u001b[0;34m\u001b[0m\u001b[0m\n\u001b[0m\u001b[1;32m    151\u001b[0m     \u001b[0;32mexcept\u001b[0m \u001b[0mException\u001b[0m \u001b[0;32mas\u001b[0m \u001b[0me\u001b[0m\u001b[0;34m:\u001b[0m\u001b[0;34m\u001b[0m\u001b[0;34m\u001b[0m\u001b[0m\n\u001b[1;32m    152\u001b[0m       \u001b[0mfiltered_tb\u001b[0m \u001b[0;34m=\u001b[0m \u001b[0m_process_traceback_frames\u001b[0m\u001b[0;34m(\u001b[0m\u001b[0me\u001b[0m\u001b[0;34m.\u001b[0m\u001b[0m__traceback__\u001b[0m\u001b[0;34m)\u001b[0m\u001b[0;34m\u001b[0m\u001b[0;34m\u001b[0m\u001b[0m\n",
      "\u001b[0;32m~/opt/anaconda3/lib/python3.8/site-packages/tensorflow/python/eager/def_function.py\u001b[0m in \u001b[0;36m__call__\u001b[0;34m(self, *args, **kwds)\u001b[0m\n\u001b[1;32m    908\u001b[0m \u001b[0;34m\u001b[0m\u001b[0m\n\u001b[1;32m    909\u001b[0m       \u001b[0;32mwith\u001b[0m \u001b[0mOptionalXlaContext\u001b[0m\u001b[0;34m(\u001b[0m\u001b[0mself\u001b[0m\u001b[0;34m.\u001b[0m\u001b[0m_jit_compile\u001b[0m\u001b[0;34m)\u001b[0m\u001b[0;34m:\u001b[0m\u001b[0;34m\u001b[0m\u001b[0;34m\u001b[0m\u001b[0m\n\u001b[0;32m--> 910\u001b[0;31m         \u001b[0mresult\u001b[0m \u001b[0;34m=\u001b[0m \u001b[0mself\u001b[0m\u001b[0;34m.\u001b[0m\u001b[0m_call\u001b[0m\u001b[0;34m(\u001b[0m\u001b[0;34m*\u001b[0m\u001b[0margs\u001b[0m\u001b[0;34m,\u001b[0m \u001b[0;34m**\u001b[0m\u001b[0mkwds\u001b[0m\u001b[0;34m)\u001b[0m\u001b[0;34m\u001b[0m\u001b[0;34m\u001b[0m\u001b[0m\n\u001b[0m\u001b[1;32m    911\u001b[0m \u001b[0;34m\u001b[0m\u001b[0m\n\u001b[1;32m    912\u001b[0m       \u001b[0mnew_tracing_count\u001b[0m \u001b[0;34m=\u001b[0m \u001b[0mself\u001b[0m\u001b[0;34m.\u001b[0m\u001b[0mexperimental_get_tracing_count\u001b[0m\u001b[0;34m(\u001b[0m\u001b[0;34m)\u001b[0m\u001b[0;34m\u001b[0m\u001b[0;34m\u001b[0m\u001b[0m\n",
      "\u001b[0;32m~/opt/anaconda3/lib/python3.8/site-packages/tensorflow/python/eager/def_function.py\u001b[0m in \u001b[0;36m_call\u001b[0;34m(self, *args, **kwds)\u001b[0m\n\u001b[1;32m    940\u001b[0m       \u001b[0;31m# In this case we have created variables on the first call, so we run the\u001b[0m\u001b[0;34m\u001b[0m\u001b[0;34m\u001b[0m\u001b[0;34m\u001b[0m\u001b[0m\n\u001b[1;32m    941\u001b[0m       \u001b[0;31m# defunned version which is guaranteed to never create variables.\u001b[0m\u001b[0;34m\u001b[0m\u001b[0;34m\u001b[0m\u001b[0;34m\u001b[0m\u001b[0m\n\u001b[0;32m--> 942\u001b[0;31m       \u001b[0;32mreturn\u001b[0m \u001b[0mself\u001b[0m\u001b[0;34m.\u001b[0m\u001b[0m_stateless_fn\u001b[0m\u001b[0;34m(\u001b[0m\u001b[0;34m*\u001b[0m\u001b[0margs\u001b[0m\u001b[0;34m,\u001b[0m \u001b[0;34m**\u001b[0m\u001b[0mkwds\u001b[0m\u001b[0;34m)\u001b[0m  \u001b[0;31m# pylint: disable=not-callable\u001b[0m\u001b[0;34m\u001b[0m\u001b[0;34m\u001b[0m\u001b[0m\n\u001b[0m\u001b[1;32m    943\u001b[0m     \u001b[0;32melif\u001b[0m \u001b[0mself\u001b[0m\u001b[0;34m.\u001b[0m\u001b[0m_stateful_fn\u001b[0m \u001b[0;32mis\u001b[0m \u001b[0;32mnot\u001b[0m \u001b[0;32mNone\u001b[0m\u001b[0;34m:\u001b[0m\u001b[0;34m\u001b[0m\u001b[0;34m\u001b[0m\u001b[0m\n\u001b[1;32m    944\u001b[0m       \u001b[0;31m# Release the lock early so that multiple threads can perform the call\u001b[0m\u001b[0;34m\u001b[0m\u001b[0;34m\u001b[0m\u001b[0;34m\u001b[0m\u001b[0m\n",
      "\u001b[0;32m~/opt/anaconda3/lib/python3.8/site-packages/tensorflow/python/eager/function.py\u001b[0m in \u001b[0;36m__call__\u001b[0;34m(self, *args, **kwargs)\u001b[0m\n\u001b[1;32m   3128\u001b[0m       (graph_function,\n\u001b[1;32m   3129\u001b[0m        filtered_flat_args) = self._maybe_define_function(args, kwargs)\n\u001b[0;32m-> 3130\u001b[0;31m     return graph_function._call_flat(\n\u001b[0m\u001b[1;32m   3131\u001b[0m         filtered_flat_args, captured_inputs=graph_function.captured_inputs)  # pylint: disable=protected-access\n\u001b[1;32m   3132\u001b[0m \u001b[0;34m\u001b[0m\u001b[0m\n",
      "\u001b[0;32m~/opt/anaconda3/lib/python3.8/site-packages/tensorflow/python/eager/function.py\u001b[0m in \u001b[0;36m_call_flat\u001b[0;34m(self, args, captured_inputs, cancellation_manager)\u001b[0m\n\u001b[1;32m   1957\u001b[0m         and executing_eagerly):\n\u001b[1;32m   1958\u001b[0m       \u001b[0;31m# No tape is watching; skip to running the function.\u001b[0m\u001b[0;34m\u001b[0m\u001b[0;34m\u001b[0m\u001b[0;34m\u001b[0m\u001b[0m\n\u001b[0;32m-> 1959\u001b[0;31m       return self._build_call_outputs(self._inference_function.call(\n\u001b[0m\u001b[1;32m   1960\u001b[0m           ctx, args, cancellation_manager=cancellation_manager))\n\u001b[1;32m   1961\u001b[0m     forward_backward = self._select_forward_and_backward_functions(\n",
      "\u001b[0;32m~/opt/anaconda3/lib/python3.8/site-packages/tensorflow/python/eager/function.py\u001b[0m in \u001b[0;36mcall\u001b[0;34m(self, ctx, args, cancellation_manager)\u001b[0m\n\u001b[1;32m    596\u001b[0m       \u001b[0;32mwith\u001b[0m \u001b[0m_InterpolateFunctionError\u001b[0m\u001b[0;34m(\u001b[0m\u001b[0mself\u001b[0m\u001b[0;34m)\u001b[0m\u001b[0;34m:\u001b[0m\u001b[0;34m\u001b[0m\u001b[0;34m\u001b[0m\u001b[0m\n\u001b[1;32m    597\u001b[0m         \u001b[0;32mif\u001b[0m \u001b[0mcancellation_manager\u001b[0m \u001b[0;32mis\u001b[0m \u001b[0;32mNone\u001b[0m\u001b[0;34m:\u001b[0m\u001b[0;34m\u001b[0m\u001b[0;34m\u001b[0m\u001b[0m\n\u001b[0;32m--> 598\u001b[0;31m           outputs = execute.execute(\n\u001b[0m\u001b[1;32m    599\u001b[0m               \u001b[0mstr\u001b[0m\u001b[0;34m(\u001b[0m\u001b[0mself\u001b[0m\u001b[0;34m.\u001b[0m\u001b[0msignature\u001b[0m\u001b[0;34m.\u001b[0m\u001b[0mname\u001b[0m\u001b[0;34m)\u001b[0m\u001b[0;34m,\u001b[0m\u001b[0;34m\u001b[0m\u001b[0;34m\u001b[0m\u001b[0m\n\u001b[1;32m    600\u001b[0m               \u001b[0mnum_outputs\u001b[0m\u001b[0;34m=\u001b[0m\u001b[0mself\u001b[0m\u001b[0;34m.\u001b[0m\u001b[0m_num_outputs\u001b[0m\u001b[0;34m,\u001b[0m\u001b[0;34m\u001b[0m\u001b[0;34m\u001b[0m\u001b[0m\n",
      "\u001b[0;32m~/opt/anaconda3/lib/python3.8/site-packages/tensorflow/python/eager/execute.py\u001b[0m in \u001b[0;36mquick_execute\u001b[0;34m(op_name, num_outputs, inputs, attrs, ctx, name)\u001b[0m\n\u001b[1;32m     56\u001b[0m   \u001b[0;32mtry\u001b[0m\u001b[0;34m:\u001b[0m\u001b[0;34m\u001b[0m\u001b[0;34m\u001b[0m\u001b[0m\n\u001b[1;32m     57\u001b[0m     \u001b[0mctx\u001b[0m\u001b[0;34m.\u001b[0m\u001b[0mensure_initialized\u001b[0m\u001b[0;34m(\u001b[0m\u001b[0;34m)\u001b[0m\u001b[0;34m\u001b[0m\u001b[0;34m\u001b[0m\u001b[0m\n\u001b[0;32m---> 58\u001b[0;31m     tensors = pywrap_tfe.TFE_Py_Execute(ctx._handle, device_name, op_name,\n\u001b[0m\u001b[1;32m     59\u001b[0m                                         inputs, attrs, num_outputs)\n\u001b[1;32m     60\u001b[0m   \u001b[0;32mexcept\u001b[0m \u001b[0mcore\u001b[0m\u001b[0;34m.\u001b[0m\u001b[0m_NotOkStatusException\u001b[0m \u001b[0;32mas\u001b[0m \u001b[0me\u001b[0m\u001b[0;34m:\u001b[0m\u001b[0;34m\u001b[0m\u001b[0;34m\u001b[0m\u001b[0m\n",
      "\u001b[0;31mKeyboardInterrupt\u001b[0m: "
     ]
    }
   ],
   "source": [
    "# model.fit([encoder_input_data, decoder_input_data], decoder_target_data,\n",
    "#           batch_size=128,\n",
    "#           epochs=100,\n",
    "#           validation_split=0.2)"
   ]
  },
  {
   "cell_type": "code",
   "execution_count": 86,
   "metadata": {},
   "outputs": [
    {
     "name": "stdout",
     "output_type": "stream",
     "text": [
      "Epoch 1/25\n",
      "1137/1137 [==============================] - 726s 638ms/step - loss: 0.0595 - categorical_accuracy: 0.7939 - val_loss: 0.0592 - val_categorical_accuracy: 0.7951\n",
      "Epoch 2/25\n",
      "1137/1137 [==============================] - 746s 657ms/step - loss: 0.0567 - categorical_accuracy: 0.8002 - val_loss: 0.0573 - val_categorical_accuracy: 0.8004\n",
      "Epoch 3/25\n",
      "1137/1137 [==============================] - 678s 597ms/step - loss: 0.0547 - categorical_accuracy: 0.8045 - val_loss: 0.0558 - val_categorical_accuracy: 0.8008\n",
      "Epoch 4/25\n",
      "1137/1137 [==============================] - 666s 586ms/step - loss: 0.0529 - categorical_accuracy: 0.8080 - val_loss: 0.0536 - val_categorical_accuracy: 0.8077\n",
      "Epoch 5/25\n",
      "1137/1137 [==============================] - 675s 593ms/step - loss: 0.0515 - categorical_accuracy: 0.8106 - val_loss: 0.0521 - val_categorical_accuracy: 0.8089\n",
      "Epoch 6/25\n",
      "1137/1137 [==============================] - 540s 475ms/step - loss: 0.0503 - categorical_accuracy: 0.8127 - val_loss: 0.0515 - val_categorical_accuracy: 0.8103\n",
      "Epoch 7/25\n",
      "1137/1137 [==============================] - 533s 469ms/step - loss: 0.0493 - categorical_accuracy: 0.8152 - val_loss: 0.0514 - val_categorical_accuracy: 0.8123\n",
      "Epoch 8/25\n",
      "1137/1137 [==============================] - 535s 470ms/step - loss: 0.0484 - categorical_accuracy: 0.8176 - val_loss: 0.0500 - val_categorical_accuracy: 0.8144\n",
      "Epoch 9/25\n",
      "1137/1137 [==============================] - 586s 516ms/step - loss: 0.0475 - categorical_accuracy: 0.8196 - val_loss: 0.0488 - val_categorical_accuracy: 0.8185\n",
      "Epoch 10/25\n",
      "1137/1137 [==============================] - 654s 576ms/step - loss: 0.0466 - categorical_accuracy: 0.8215 - val_loss: 0.0492 - val_categorical_accuracy: 0.8174\n",
      "Epoch 11/25\n",
      "1137/1137 [==============================] - 610s 537ms/step - loss: 0.0459 - categorical_accuracy: 0.8234 - val_loss: 0.0474 - val_categorical_accuracy: 0.8221\n",
      "Epoch 12/25\n",
      "1137/1137 [==============================] - 632s 556ms/step - loss: 0.0451 - categorical_accuracy: 0.8249 - val_loss: 0.0467 - val_categorical_accuracy: 0.8232\n",
      "Epoch 13/25\n",
      "1137/1137 [==============================] - 734s 646ms/step - loss: 0.0445 - categorical_accuracy: 0.8261 - val_loss: 0.0467 - val_categorical_accuracy: 0.8237\n",
      "Epoch 14/25\n",
      "1137/1137 [==============================] - 596s 524ms/step - loss: 0.0440 - categorical_accuracy: 0.8272 - val_loss: 0.0465 - val_categorical_accuracy: 0.8239\n",
      "Epoch 15/25\n",
      "1137/1137 [==============================] - 617s 543ms/step - loss: 0.0435 - categorical_accuracy: 0.8284 - val_loss: 0.0469 - val_categorical_accuracy: 0.8240\n",
      "Epoch 16/25\n",
      "1137/1137 [==============================] - 512s 451ms/step - loss: 0.0430 - categorical_accuracy: 0.8294 - val_loss: 0.0459 - val_categorical_accuracy: 0.8259\n",
      "Epoch 17/25\n",
      "1137/1137 [==============================] - 589s 518ms/step - loss: 0.0426 - categorical_accuracy: 0.8303 - val_loss: 0.0454 - val_categorical_accuracy: 0.8265\n",
      "Epoch 18/25\n",
      "1137/1137 [==============================] - 620s 545ms/step - loss: 0.0422 - categorical_accuracy: 0.8315 - val_loss: 0.0452 - val_categorical_accuracy: 0.8272\n",
      "Epoch 19/25\n",
      "1137/1137 [==============================] - 682s 600ms/step - loss: 0.0419 - categorical_accuracy: 0.8321 - val_loss: 0.0447 - val_categorical_accuracy: 0.8284\n",
      "Epoch 20/25\n",
      "1137/1137 [==============================] - 659s 580ms/step - loss: 0.0417 - categorical_accuracy: 0.8326 - val_loss: 0.0456 - val_categorical_accuracy: 0.8271\n",
      "Epoch 21/25\n",
      "1137/1137 [==============================] - 579s 509ms/step - loss: 0.0414 - categorical_accuracy: 0.8333 - val_loss: 0.0445 - val_categorical_accuracy: 0.8291\n",
      "Epoch 22/25\n",
      "1137/1137 [==============================] - 584s 513ms/step - loss: 0.0411 - categorical_accuracy: 0.8340 - val_loss: 0.0452 - val_categorical_accuracy: 0.8284\n",
      "Epoch 23/25\n",
      "1137/1137 [==============================] - 555s 488ms/step - loss: 0.0408 - categorical_accuracy: 0.8345 - val_loss: 0.0452 - val_categorical_accuracy: 0.8282\n",
      "Epoch 24/25\n",
      "1137/1137 [==============================] - 561s 494ms/step - loss: 0.0405 - categorical_accuracy: 0.8351 - val_loss: 0.0450 - val_categorical_accuracy: 0.8291\n",
      "Epoch 25/25\n",
      "1137/1137 [==============================] - 475s 417ms/step - loss: 0.0403 - categorical_accuracy: 0.8356 - val_loss: 0.0444 - val_categorical_accuracy: 0.8298\n"
     ]
    },
    {
     "data": {
      "text/plain": [
       "<keras.callbacks.History at 0x7feedf849a60>"
      ]
     },
     "execution_count": 86,
     "metadata": {},
     "output_type": "execute_result"
    }
   ],
   "source": [
    "import keras \n",
    "checkpoint = keras.callbacks.ModelCheckpoint('./models_25/checkpoint_{epoch:03d}.h5', save_freq='epoch')\n",
    "model.fit([encoder_input_data, decoder_input_data], decoder_target_data,\n",
    "          batch_size=128,\n",
    "          epochs=25,\n",
    "          validation_split=0.2,\n",
    "          callbacks=[checkpoint])"
   ]
  },
  {
   "cell_type": "code",
   "execution_count": 87,
   "metadata": {},
   "outputs": [
    {
     "name": "stderr",
     "output_type": "stream",
     "text": [
      "WARNING:absl:Found untraced functions such as lstm_cell_6_layer_call_fn, lstm_cell_6_layer_call_and_return_conditional_losses, lstm_cell_7_layer_call_fn, lstm_cell_7_layer_call_and_return_conditional_losses, lstm_cell_6_layer_call_fn while saving (showing 5 of 10). These functions will not be directly callable after loading.\n"
     ]
    },
    {
     "name": "stdout",
     "output_type": "stream",
     "text": [
      "INFO:tensorflow:Assets written to: ./25_epochs_saved/model_25_epochs/assets\n"
     ]
    },
    {
     "name": "stderr",
     "output_type": "stream",
     "text": [
      "INFO:tensorflow:Assets written to: ./25_epochs_saved/model_25_epochs/assets\n",
      "WARNING:absl:<keras.layers.recurrent.LSTMCell object at 0x7ff282a8c550> has the same name 'LSTMCell' as a built-in Keras object. Consider renaming <class 'keras.layers.recurrent.LSTMCell'> to avoid naming conflicts when loading with `tf.keras.models.load_model`. If renaming is not possible, pass the object in the `custom_objects` parameter of the load function.\n",
      "WARNING:absl:<keras.layers.recurrent.LSTMCell object at 0x7feee0d1f340> has the same name 'LSTMCell' as a built-in Keras object. Consider renaming <class 'keras.layers.recurrent.LSTMCell'> to avoid naming conflicts when loading with `tf.keras.models.load_model`. If renaming is not possible, pass the object in the `custom_objects` parameter of the load function.\n",
      "WARNING:absl:Found untraced functions such as lstm_cell_6_layer_call_fn, lstm_cell_6_layer_call_and_return_conditional_losses, lstm_cell_7_layer_call_fn, lstm_cell_7_layer_call_and_return_conditional_losses, lstm_cell_6_layer_call_fn while saving (showing 5 of 10). These functions will not be directly callable after loading.\n"
     ]
    },
    {
     "name": "stdout",
     "output_type": "stream",
     "text": [
      "INFO:tensorflow:Assets written to: ram://e25e9eb4-0684-4809-969e-ded2323a6e5b/assets\n"
     ]
    },
    {
     "name": "stderr",
     "output_type": "stream",
     "text": [
      "INFO:tensorflow:Assets written to: ram://e25e9eb4-0684-4809-969e-ded2323a6e5b/assets\n",
      "WARNING:absl:<keras.layers.recurrent.LSTMCell object at 0x7ff282a8c550> has the same name 'LSTMCell' as a built-in Keras object. Consider renaming <class 'keras.layers.recurrent.LSTMCell'> to avoid naming conflicts when loading with `tf.keras.models.load_model`. If renaming is not possible, pass the object in the `custom_objects` parameter of the load function.\n",
      "WARNING:absl:<keras.layers.recurrent.LSTMCell object at 0x7feee0d1f340> has the same name 'LSTMCell' as a built-in Keras object. Consider renaming <class 'keras.layers.recurrent.LSTMCell'> to avoid naming conflicts when loading with `tf.keras.models.load_model`. If renaming is not possible, pass the object in the `custom_objects` parameter of the load function.\n"
     ]
    }
   ],
   "source": [
    "# Saving models (Main model)\n",
    "model.save('./25_epochs_saved/model_25_epochs')\n",
    "model.save('./25_epochs_saved/model_25_epochs.h5')\n",
    "import pickle\n",
    "pickle.dump(model, open('./25_epochs_saved/model_25_epochs.pkl', 'wb'))"
   ]
  },
  {
   "cell_type": "code",
   "execution_count": 88,
   "metadata": {},
   "outputs": [],
   "source": [
    "# Encode the input sequence to get the \"thought vectors\"\n",
    "encoder_model = Model(encoder_inputs, encoder_states)\n",
    "\n",
    "# Decoder setup\n",
    "# Below tensors will hold the states of the previous time step\n",
    "decoder_state_input_h = Input(shape=(latent_dim,))\n",
    "decoder_state_input_c = Input(shape=(latent_dim,))\n",
    "decoder_states_inputs = [decoder_state_input_h, decoder_state_input_c]\n",
    "\n",
    "# Get the embeddings of the decoder sequence\n",
    "dec_emb2= dec_emb_layer(decoder_inputs)\n",
    "\n",
    "# To predict the next word in the sequence, set the initial states to the states from the previous time step\n",
    "decoder_outputs2, state_h2, state_c2 = dec_lstm_layer(dec_emb2, initial_state=decoder_states_inputs)\n",
    "decoder_states2 = [state_h2, state_c2]\n",
    "\n",
    "# A dense softmax layer to generate prob dist. over the target vocabulary\n",
    "decoder_outputs2 = dec_dense_layer(decoder_outputs2)\n",
    "\n",
    "# Final decoder model\n",
    "decoder_model = Model(\n",
    "    [decoder_inputs] + decoder_states_inputs,\n",
    "    [decoder_outputs2] + decoder_states2)"
   ]
  },
  {
   "cell_type": "code",
   "execution_count": 89,
   "metadata": {},
   "outputs": [
    {
     "name": "stdout",
     "output_type": "stream",
     "text": [
      "WARNING:tensorflow:Compiled the loaded model, but the compiled metrics have yet to be built. `model.compile_metrics` will be empty until you train or evaluate the model.\n"
     ]
    },
    {
     "name": "stderr",
     "output_type": "stream",
     "text": [
      "WARNING:tensorflow:Compiled the loaded model, but the compiled metrics have yet to be built. `model.compile_metrics` will be empty until you train or evaluate the model.\n",
      "WARNING:absl:Found untraced functions such as lstm_cell_6_layer_call_fn, lstm_cell_6_layer_call_and_return_conditional_losses, lstm_cell_6_layer_call_fn, lstm_cell_6_layer_call_and_return_conditional_losses, lstm_cell_6_layer_call_and_return_conditional_losses while saving (showing 5 of 5). These functions will not be directly callable after loading.\n"
     ]
    },
    {
     "name": "stdout",
     "output_type": "stream",
     "text": [
      "INFO:tensorflow:Assets written to: ./25_epochs_saved/encoder_25_epochs/assets\n"
     ]
    },
    {
     "name": "stderr",
     "output_type": "stream",
     "text": [
      "INFO:tensorflow:Assets written to: ./25_epochs_saved/encoder_25_epochs/assets\n",
      "WARNING:absl:<keras.layers.recurrent.LSTMCell object at 0x7ff282a8c550> has the same name 'LSTMCell' as a built-in Keras object. Consider renaming <class 'keras.layers.recurrent.LSTMCell'> to avoid naming conflicts when loading with `tf.keras.models.load_model`. If renaming is not possible, pass the object in the `custom_objects` parameter of the load function.\n"
     ]
    },
    {
     "name": "stdout",
     "output_type": "stream",
     "text": [
      "WARNING:tensorflow:Compiled the loaded model, but the compiled metrics have yet to be built. `model.compile_metrics` will be empty until you train or evaluate the model.\n"
     ]
    },
    {
     "name": "stderr",
     "output_type": "stream",
     "text": [
      "WARNING:tensorflow:Compiled the loaded model, but the compiled metrics have yet to be built. `model.compile_metrics` will be empty until you train or evaluate the model.\n",
      "WARNING:absl:Found untraced functions such as lstm_cell_7_layer_call_fn, lstm_cell_7_layer_call_and_return_conditional_losses, lstm_cell_7_layer_call_fn, lstm_cell_7_layer_call_and_return_conditional_losses, lstm_cell_7_layer_call_and_return_conditional_losses while saving (showing 5 of 5). These functions will not be directly callable after loading.\n"
     ]
    },
    {
     "name": "stdout",
     "output_type": "stream",
     "text": [
      "INFO:tensorflow:Assets written to: ./25_epochs_saved/decoder_25_epochs/assets\n"
     ]
    },
    {
     "name": "stderr",
     "output_type": "stream",
     "text": [
      "INFO:tensorflow:Assets written to: ./25_epochs_saved/decoder_25_epochs/assets\n",
      "WARNING:absl:<keras.layers.recurrent.LSTMCell object at 0x7feee0d1f340> has the same name 'LSTMCell' as a built-in Keras object. Consider renaming <class 'keras.layers.recurrent.LSTMCell'> to avoid naming conflicts when loading with `tf.keras.models.load_model`. If renaming is not possible, pass the object in the `custom_objects` parameter of the load function.\n"
     ]
    },
    {
     "name": "stdout",
     "output_type": "stream",
     "text": [
      "WARNING:tensorflow:Compiled the loaded model, but the compiled metrics have yet to be built. `model.compile_metrics` will be empty until you train or evaluate the model.\n"
     ]
    },
    {
     "name": "stderr",
     "output_type": "stream",
     "text": [
      "WARNING:tensorflow:Compiled the loaded model, but the compiled metrics have yet to be built. `model.compile_metrics` will be empty until you train or evaluate the model.\n"
     ]
    },
    {
     "name": "stdout",
     "output_type": "stream",
     "text": [
      "WARNING:tensorflow:Compiled the loaded model, but the compiled metrics have yet to be built. `model.compile_metrics` will be empty until you train or evaluate the model.\n"
     ]
    },
    {
     "name": "stderr",
     "output_type": "stream",
     "text": [
      "WARNING:tensorflow:Compiled the loaded model, but the compiled metrics have yet to be built. `model.compile_metrics` will be empty until you train or evaluate the model.\n"
     ]
    },
    {
     "name": "stdout",
     "output_type": "stream",
     "text": [
      "WARNING:tensorflow:Compiled the loaded model, but the compiled metrics have yet to be built. `model.compile_metrics` will be empty until you train or evaluate the model.\n"
     ]
    },
    {
     "name": "stderr",
     "output_type": "stream",
     "text": [
      "WARNING:tensorflow:Compiled the loaded model, but the compiled metrics have yet to be built. `model.compile_metrics` will be empty until you train or evaluate the model.\n",
      "WARNING:absl:Found untraced functions such as lstm_cell_6_layer_call_fn, lstm_cell_6_layer_call_and_return_conditional_losses, lstm_cell_6_layer_call_fn, lstm_cell_6_layer_call_and_return_conditional_losses, lstm_cell_6_layer_call_and_return_conditional_losses while saving (showing 5 of 5). These functions will not be directly callable after loading.\n"
     ]
    },
    {
     "name": "stdout",
     "output_type": "stream",
     "text": [
      "INFO:tensorflow:Assets written to: ram://4b1a171c-295b-49fa-b941-17a5871a92b0/assets\n"
     ]
    },
    {
     "name": "stderr",
     "output_type": "stream",
     "text": [
      "INFO:tensorflow:Assets written to: ram://4b1a171c-295b-49fa-b941-17a5871a92b0/assets\n",
      "WARNING:absl:<keras.layers.recurrent.LSTMCell object at 0x7ff282a8c550> has the same name 'LSTMCell' as a built-in Keras object. Consider renaming <class 'keras.layers.recurrent.LSTMCell'> to avoid naming conflicts when loading with `tf.keras.models.load_model`. If renaming is not possible, pass the object in the `custom_objects` parameter of the load function.\n"
     ]
    },
    {
     "name": "stdout",
     "output_type": "stream",
     "text": [
      "WARNING:tensorflow:Compiled the loaded model, but the compiled metrics have yet to be built. `model.compile_metrics` will be empty until you train or evaluate the model.\n"
     ]
    },
    {
     "name": "stderr",
     "output_type": "stream",
     "text": [
      "WARNING:tensorflow:Compiled the loaded model, but the compiled metrics have yet to be built. `model.compile_metrics` will be empty until you train or evaluate the model.\n",
      "WARNING:absl:Found untraced functions such as lstm_cell_7_layer_call_fn, lstm_cell_7_layer_call_and_return_conditional_losses, lstm_cell_7_layer_call_fn, lstm_cell_7_layer_call_and_return_conditional_losses, lstm_cell_7_layer_call_and_return_conditional_losses while saving (showing 5 of 5). These functions will not be directly callable after loading.\n"
     ]
    },
    {
     "name": "stdout",
     "output_type": "stream",
     "text": [
      "INFO:tensorflow:Assets written to: ram://d53804e8-d2d7-44c8-a66a-3236702f39fb/assets\n"
     ]
    },
    {
     "name": "stderr",
     "output_type": "stream",
     "text": [
      "INFO:tensorflow:Assets written to: ram://d53804e8-d2d7-44c8-a66a-3236702f39fb/assets\n",
      "WARNING:absl:<keras.layers.recurrent.LSTMCell object at 0x7feee0d1f340> has the same name 'LSTMCell' as a built-in Keras object. Consider renaming <class 'keras.layers.recurrent.LSTMCell'> to avoid naming conflicts when loading with `tf.keras.models.load_model`. If renaming is not possible, pass the object in the `custom_objects` parameter of the load function.\n"
     ]
    }
   ],
   "source": [
    "# Saving models (Encoder Decoder)\n",
    "encoder_model.save('./25_epochs_saved/encoder_25_epochs')\n",
    "decoder_model.save('./25_epochs_saved/decoder_25_epochs')\n",
    "encoder_model.save('./25_epochs_saved/encoder_25_epochs.h5')\n",
    "decoder_model.save('./25_epochs_saved/decoder_25_epochs.h5')\n",
    "import pickle\n",
    "pickle.dump(encoder_model, open('./25_epochs_saved/encoder_25_epochs.pkl', 'wb'))\n",
    "pickle.dump(decoder_model, open('./25_epochs_saved/decoder_25_epochs.pkl', 'wb'))"
   ]
  },
  {
   "cell_type": "code",
   "execution_count": 90,
   "metadata": {},
   "outputs": [
    {
     "name": "stdout",
     "output_type": "stream",
     "text": [
      "Epoch 1/50\n",
      "1137/1137 [==============================] - 567s 498ms/step - loss: 0.0401 - categorical_accuracy: 0.8360 - val_loss: 0.0439 - val_categorical_accuracy: 0.8314\n",
      "Epoch 2/50\n",
      "1137/1137 [==============================] - 617s 543ms/step - loss: 0.0399 - categorical_accuracy: 0.8363 - val_loss: 0.0443 - val_categorical_accuracy: 0.8308\n",
      "Epoch 3/50\n",
      "1137/1137 [==============================] - 530s 466ms/step - loss: 0.0397 - categorical_accuracy: 0.8367 - val_loss: 0.0441 - val_categorical_accuracy: 0.8308\n",
      "Epoch 4/50\n",
      "1137/1137 [==============================] - 479s 421ms/step - loss: 0.0396 - categorical_accuracy: 0.8369 - val_loss: 0.0437 - val_categorical_accuracy: 0.8317\n",
      "Epoch 5/50\n",
      "1137/1137 [==============================] - 420s 369ms/step - loss: 0.0394 - categorical_accuracy: 0.8373 - val_loss: 0.0438 - val_categorical_accuracy: 0.8321\n",
      "Epoch 6/50\n",
      "1137/1137 [==============================] - 382s 336ms/step - loss: 0.0392 - categorical_accuracy: 0.8375 - val_loss: 0.0438 - val_categorical_accuracy: 0.8315\n",
      "Epoch 7/50\n",
      "1137/1137 [==============================] - 370s 326ms/step - loss: 0.0391 - categorical_accuracy: 0.8377 - val_loss: 0.0435 - val_categorical_accuracy: 0.8329\n",
      "Epoch 8/50\n",
      "1137/1137 [==============================] - 372s 328ms/step - loss: 0.0410 - categorical_accuracy: 0.8345 - val_loss: 0.0477 - val_categorical_accuracy: 0.8240\n",
      "Epoch 9/50\n",
      "1137/1137 [==============================] - 374s 329ms/step - loss: 0.0435 - categorical_accuracy: 0.8275 - val_loss: 0.0493 - val_categorical_accuracy: 0.8203\n",
      "Epoch 10/50\n",
      "1137/1137 [==============================] - 380s 334ms/step - loss: 0.0433 - categorical_accuracy: 0.8281 - val_loss: 0.0468 - val_categorical_accuracy: 0.8246\n",
      "Epoch 11/50\n",
      "1137/1137 [==============================] - 381s 335ms/step - loss: 0.0424 - categorical_accuracy: 0.8299 - val_loss: 0.0463 - val_categorical_accuracy: 0.8252\n",
      "Epoch 12/50\n",
      "1137/1137 [==============================] - 380s 334ms/step - loss: 0.0418 - categorical_accuracy: 0.8311 - val_loss: 0.0461 - val_categorical_accuracy: 0.8264\n",
      "Epoch 13/50\n",
      "1137/1137 [==============================] - 379s 333ms/step - loss: 0.0414 - categorical_accuracy: 0.8318 - val_loss: 0.0456 - val_categorical_accuracy: 0.8268\n",
      "Epoch 14/50\n",
      "1137/1137 [==============================] - 382s 336ms/step - loss: 0.0410 - categorical_accuracy: 0.8325 - val_loss: 0.0453 - val_categorical_accuracy: 0.8278\n",
      "Epoch 15/50\n",
      "1137/1137 [==============================] - 384s 338ms/step - loss: 0.0407 - categorical_accuracy: 0.8329 - val_loss: 0.0461 - val_categorical_accuracy: 0.8250\n",
      "Epoch 16/50\n",
      "1137/1137 [==============================] - 385s 339ms/step - loss: 0.0404 - categorical_accuracy: 0.8335 - val_loss: 0.0454 - val_categorical_accuracy: 0.8273\n",
      "Epoch 17/50\n",
      "1137/1137 [==============================] - 387s 340ms/step - loss: 0.0402 - categorical_accuracy: 0.8338 - val_loss: 0.0444 - val_categorical_accuracy: 0.8299\n",
      "Epoch 18/50\n",
      "1137/1137 [==============================] - 391s 344ms/step - loss: 0.0400 - categorical_accuracy: 0.8344 - val_loss: 0.0446 - val_categorical_accuracy: 0.8286\n",
      "Epoch 19/50\n",
      "1137/1137 [==============================] - 392s 345ms/step - loss: 0.0398 - categorical_accuracy: 0.8345 - val_loss: 0.0447 - val_categorical_accuracy: 0.8295\n",
      "Epoch 20/50\n",
      "1137/1137 [==============================] - 394s 346ms/step - loss: 0.0397 - categorical_accuracy: 0.8348 - val_loss: 0.0447 - val_categorical_accuracy: 0.8280\n",
      "Epoch 21/50\n",
      "1137/1137 [==============================] - 391s 344ms/step - loss: 0.0395 - categorical_accuracy: 0.8350 - val_loss: 0.0450 - val_categorical_accuracy: 0.8286\n",
      "Epoch 22/50\n",
      "1137/1137 [==============================] - 393s 345ms/step - loss: 0.0394 - categorical_accuracy: 0.8351 - val_loss: 0.0445 - val_categorical_accuracy: 0.8290\n",
      "Epoch 23/50\n",
      "1137/1137 [==============================] - 390s 343ms/step - loss: 0.0392 - categorical_accuracy: 0.8357 - val_loss: 0.0455 - val_categorical_accuracy: 0.8269\n",
      "Epoch 24/50\n",
      "1137/1137 [==============================] - 395s 348ms/step - loss: 0.0391 - categorical_accuracy: 0.8360 - val_loss: 0.0443 - val_categorical_accuracy: 0.8305\n",
      "Epoch 25/50\n",
      "1137/1137 [==============================] - 394s 346ms/step - loss: 0.0390 - categorical_accuracy: 0.8360 - val_loss: 0.0444 - val_categorical_accuracy: 0.8299\n",
      "Epoch 26/50\n",
      "1137/1137 [==============================] - 393s 346ms/step - loss: 0.0389 - categorical_accuracy: 0.8362 - val_loss: 0.0459 - val_categorical_accuracy: 0.8255\n",
      "Epoch 27/50\n",
      "1137/1137 [==============================] - 394s 346ms/step - loss: 0.0387 - categorical_accuracy: 0.8366 - val_loss: 0.0456 - val_categorical_accuracy: 0.8281\n",
      "Epoch 28/50\n",
      "1137/1137 [==============================] - 394s 346ms/step - loss: 0.0386 - categorical_accuracy: 0.8369 - val_loss: 0.0451 - val_categorical_accuracy: 0.8283\n",
      "Epoch 29/50\n",
      "1137/1137 [==============================] - 395s 347ms/step - loss: 0.0385 - categorical_accuracy: 0.8370 - val_loss: 0.0447 - val_categorical_accuracy: 0.8284\n",
      "Epoch 30/50\n",
      "1137/1137 [==============================] - 391s 344ms/step - loss: 0.0384 - categorical_accuracy: 0.8371 - val_loss: 0.0444 - val_categorical_accuracy: 0.8306\n",
      "Epoch 31/50\n",
      "1137/1137 [==============================] - 394s 346ms/step - loss: 0.0383 - categorical_accuracy: 0.8375 - val_loss: 0.0447 - val_categorical_accuracy: 0.8293\n",
      "Epoch 32/50\n",
      "1137/1137 [==============================] - 397s 349ms/step - loss: 0.0382 - categorical_accuracy: 0.8378 - val_loss: 0.0449 - val_categorical_accuracy: 0.8293\n",
      "Epoch 33/50\n",
      "1137/1137 [==============================] - 392s 345ms/step - loss: 0.0381 - categorical_accuracy: 0.8380 - val_loss: 0.0442 - val_categorical_accuracy: 0.8303\n",
      "Epoch 34/50\n",
      "1137/1137 [==============================] - 391s 344ms/step - loss: 0.0380 - categorical_accuracy: 0.8382 - val_loss: 0.0457 - val_categorical_accuracy: 0.8281\n",
      "Epoch 35/50\n",
      "1137/1137 [==============================] - 392s 344ms/step - loss: 0.0379 - categorical_accuracy: 0.8385 - val_loss: 0.0444 - val_categorical_accuracy: 0.8317\n",
      "Epoch 36/50\n",
      "1137/1137 [==============================] - 456s 401ms/step - loss: 0.0378 - categorical_accuracy: 0.8388 - val_loss: 0.0446 - val_categorical_accuracy: 0.8310\n",
      "Epoch 37/50\n",
      "1137/1137 [==============================] - 435s 383ms/step - loss: 0.0377 - categorical_accuracy: 0.8390 - val_loss: 0.0451 - val_categorical_accuracy: 0.8306\n",
      "Epoch 38/50\n",
      "1137/1137 [==============================] - 422s 371ms/step - loss: 0.0377 - categorical_accuracy: 0.8390 - val_loss: 0.0441 - val_categorical_accuracy: 0.8329\n",
      "Epoch 39/50\n",
      "1137/1137 [==============================] - 418s 367ms/step - loss: 0.0376 - categorical_accuracy: 0.8393 - val_loss: 0.0446 - val_categorical_accuracy: 0.8308\n",
      "Epoch 40/50\n",
      "1137/1137 [==============================] - 371s 326ms/step - loss: 0.0376 - categorical_accuracy: 0.8394 - val_loss: 0.0442 - val_categorical_accuracy: 0.8322\n",
      "Epoch 41/50\n",
      "1137/1137 [==============================] - 368s 323ms/step - loss: 0.0375 - categorical_accuracy: 0.8393 - val_loss: 0.0454 - val_categorical_accuracy: 0.8298\n",
      "Epoch 42/50\n",
      "1137/1137 [==============================] - 367s 323ms/step - loss: 0.0375 - categorical_accuracy: 0.8397 - val_loss: 0.0475 - val_categorical_accuracy: 0.8242\n",
      "Epoch 43/50\n",
      "1137/1137 [==============================] - 411s 361ms/step - loss: 0.0375 - categorical_accuracy: 0.8398 - val_loss: 0.0446 - val_categorical_accuracy: 0.8331\n",
      "Epoch 44/50\n",
      "1137/1137 [==============================] - 415s 365ms/step - loss: 0.0375 - categorical_accuracy: 0.8399 - val_loss: 0.0449 - val_categorical_accuracy: 0.8321\n",
      "Epoch 45/50\n",
      "1137/1137 [==============================] - 413s 363ms/step - loss: 0.0374 - categorical_accuracy: 0.8401 - val_loss: 0.0443 - val_categorical_accuracy: 0.8326\n",
      "Epoch 46/50\n",
      "1137/1137 [==============================] - 368s 323ms/step - loss: 0.0374 - categorical_accuracy: 0.8401 - val_loss: 0.0449 - val_categorical_accuracy: 0.8334\n",
      "Epoch 47/50\n",
      "1137/1137 [==============================] - 364s 320ms/step - loss: 0.0373 - categorical_accuracy: 0.8401 - val_loss: 0.0446 - val_categorical_accuracy: 0.8325\n",
      "Epoch 48/50\n",
      "1137/1137 [==============================] - 362s 319ms/step - loss: 0.0373 - categorical_accuracy: 0.8403 - val_loss: 0.0458 - val_categorical_accuracy: 0.8312\n",
      "Epoch 49/50\n",
      "1137/1137 [==============================] - 370s 325ms/step - loss: 0.0373 - categorical_accuracy: 0.8406 - val_loss: 0.0447 - val_categorical_accuracy: 0.8333\n",
      "Epoch 50/50\n",
      "1137/1137 [==============================] - 412s 362ms/step - loss: 0.0372 - categorical_accuracy: 0.8406 - val_loss: 0.0445 - val_categorical_accuracy: 0.8345\n"
     ]
    },
    {
     "data": {
      "text/plain": [
       "<keras.callbacks.History at 0x7febc5868e50>"
      ]
     },
     "execution_count": 90,
     "metadata": {},
     "output_type": "execute_result"
    }
   ],
   "source": [
    "# 50 EPOCHS TRAINING\n",
    "\n",
    "import keras \n",
    "checkpoint = keras.callbacks.ModelCheckpoint('./models_50/checkpoint_{epoch:03d}.h5', save_freq='epoch')\n",
    "model.fit([encoder_input_data, decoder_input_data], decoder_target_data,\n",
    "          batch_size=128,\n",
    "          epochs=50,\n",
    "          validation_split=0.2,\n",
    "          callbacks=[checkpoint])"
   ]
  },
  {
   "cell_type": "code",
   "execution_count": 91,
   "metadata": {},
   "outputs": [
    {
     "name": "stderr",
     "output_type": "stream",
     "text": [
      "WARNING:absl:Found untraced functions such as lstm_cell_6_layer_call_fn, lstm_cell_6_layer_call_and_return_conditional_losses, lstm_cell_7_layer_call_fn, lstm_cell_7_layer_call_and_return_conditional_losses, lstm_cell_6_layer_call_fn while saving (showing 5 of 10). These functions will not be directly callable after loading.\n"
     ]
    },
    {
     "name": "stdout",
     "output_type": "stream",
     "text": [
      "INFO:tensorflow:Assets written to: ./50_epochs_saved/model_50_epochs/assets\n"
     ]
    },
    {
     "name": "stderr",
     "output_type": "stream",
     "text": [
      "INFO:tensorflow:Assets written to: ./50_epochs_saved/model_50_epochs/assets\n",
      "WARNING:absl:<keras.layers.recurrent.LSTMCell object at 0x7ff282a8c550> has the same name 'LSTMCell' as a built-in Keras object. Consider renaming <class 'keras.layers.recurrent.LSTMCell'> to avoid naming conflicts when loading with `tf.keras.models.load_model`. If renaming is not possible, pass the object in the `custom_objects` parameter of the load function.\n",
      "WARNING:absl:<keras.layers.recurrent.LSTMCell object at 0x7feee0d1f340> has the same name 'LSTMCell' as a built-in Keras object. Consider renaming <class 'keras.layers.recurrent.LSTMCell'> to avoid naming conflicts when loading with `tf.keras.models.load_model`. If renaming is not possible, pass the object in the `custom_objects` parameter of the load function.\n",
      "WARNING:absl:Found untraced functions such as lstm_cell_6_layer_call_fn, lstm_cell_6_layer_call_and_return_conditional_losses, lstm_cell_7_layer_call_fn, lstm_cell_7_layer_call_and_return_conditional_losses, lstm_cell_6_layer_call_fn while saving (showing 5 of 10). These functions will not be directly callable after loading.\n"
     ]
    },
    {
     "name": "stdout",
     "output_type": "stream",
     "text": [
      "INFO:tensorflow:Assets written to: ram://c9832d8e-eb2d-4520-86ec-0cadfc2169ca/assets\n"
     ]
    },
    {
     "name": "stderr",
     "output_type": "stream",
     "text": [
      "INFO:tensorflow:Assets written to: ram://c9832d8e-eb2d-4520-86ec-0cadfc2169ca/assets\n",
      "WARNING:absl:<keras.layers.recurrent.LSTMCell object at 0x7ff282a8c550> has the same name 'LSTMCell' as a built-in Keras object. Consider renaming <class 'keras.layers.recurrent.LSTMCell'> to avoid naming conflicts when loading with `tf.keras.models.load_model`. If renaming is not possible, pass the object in the `custom_objects` parameter of the load function.\n",
      "WARNING:absl:<keras.layers.recurrent.LSTMCell object at 0x7feee0d1f340> has the same name 'LSTMCell' as a built-in Keras object. Consider renaming <class 'keras.layers.recurrent.LSTMCell'> to avoid naming conflicts when loading with `tf.keras.models.load_model`. If renaming is not possible, pass the object in the `custom_objects` parameter of the load function.\n"
     ]
    }
   ],
   "source": [
    "# Saving models (Main model)\n",
    "model.save('./50_epochs_saved/model_50_epochs')\n",
    "model.save('./50_epochs_saved/model_50_epochs.h5')\n",
    "import pickle\n",
    "pickle.dump(model, open('./50_epochs_saved/model_50_epochs.pkl', 'wb'))"
   ]
  },
  {
   "cell_type": "code",
   "execution_count": 92,
   "metadata": {},
   "outputs": [],
   "source": [
    "# Encode the input sequence to get the \"thought vectors\"\n",
    "encoder_model = Model(encoder_inputs, encoder_states)\n",
    "\n",
    "# Decoder setup\n",
    "# Below tensors will hold the states of the previous time step\n",
    "decoder_state_input_h = Input(shape=(latent_dim,))\n",
    "decoder_state_input_c = Input(shape=(latent_dim,))\n",
    "decoder_states_inputs = [decoder_state_input_h, decoder_state_input_c]\n",
    "\n",
    "# Get the embeddings of the decoder sequence\n",
    "dec_emb2= dec_emb_layer(decoder_inputs)\n",
    "\n",
    "# To predict the next word in the sequence, set the initial states to the states from the previous time step\n",
    "decoder_outputs2, state_h2, state_c2 = dec_lstm_layer(dec_emb2, initial_state=decoder_states_inputs)\n",
    "decoder_states2 = [state_h2, state_c2]\n",
    "\n",
    "# A dense softmax layer to generate prob dist. over the target vocabulary\n",
    "decoder_outputs2 = dec_dense_layer(decoder_outputs2)\n",
    "\n",
    "# Final decoder model\n",
    "decoder_model = Model(\n",
    "    [decoder_inputs] + decoder_states_inputs,\n",
    "    [decoder_outputs2] + decoder_states2)"
   ]
  },
  {
   "cell_type": "code",
   "execution_count": 93,
   "metadata": {},
   "outputs": [
    {
     "name": "stdout",
     "output_type": "stream",
     "text": [
      "WARNING:tensorflow:Compiled the loaded model, but the compiled metrics have yet to be built. `model.compile_metrics` will be empty until you train or evaluate the model.\n"
     ]
    },
    {
     "name": "stderr",
     "output_type": "stream",
     "text": [
      "WARNING:tensorflow:Compiled the loaded model, but the compiled metrics have yet to be built. `model.compile_metrics` will be empty until you train or evaluate the model.\n",
      "WARNING:absl:Found untraced functions such as lstm_cell_6_layer_call_fn, lstm_cell_6_layer_call_and_return_conditional_losses, lstm_cell_6_layer_call_fn, lstm_cell_6_layer_call_and_return_conditional_losses, lstm_cell_6_layer_call_and_return_conditional_losses while saving (showing 5 of 5). These functions will not be directly callable after loading.\n"
     ]
    },
    {
     "name": "stdout",
     "output_type": "stream",
     "text": [
      "INFO:tensorflow:Assets written to: ./50_epochs_saved/encoder_50_epochs/assets\n"
     ]
    },
    {
     "name": "stderr",
     "output_type": "stream",
     "text": [
      "INFO:tensorflow:Assets written to: ./50_epochs_saved/encoder_50_epochs/assets\n",
      "WARNING:absl:<keras.layers.recurrent.LSTMCell object at 0x7ff282a8c550> has the same name 'LSTMCell' as a built-in Keras object. Consider renaming <class 'keras.layers.recurrent.LSTMCell'> to avoid naming conflicts when loading with `tf.keras.models.load_model`. If renaming is not possible, pass the object in the `custom_objects` parameter of the load function.\n"
     ]
    },
    {
     "name": "stdout",
     "output_type": "stream",
     "text": [
      "WARNING:tensorflow:Compiled the loaded model, but the compiled metrics have yet to be built. `model.compile_metrics` will be empty until you train or evaluate the model.\n"
     ]
    },
    {
     "name": "stderr",
     "output_type": "stream",
     "text": [
      "WARNING:tensorflow:Compiled the loaded model, but the compiled metrics have yet to be built. `model.compile_metrics` will be empty until you train or evaluate the model.\n",
      "WARNING:absl:Found untraced functions such as lstm_cell_7_layer_call_fn, lstm_cell_7_layer_call_and_return_conditional_losses, lstm_cell_7_layer_call_fn, lstm_cell_7_layer_call_and_return_conditional_losses, lstm_cell_7_layer_call_and_return_conditional_losses while saving (showing 5 of 5). These functions will not be directly callable after loading.\n"
     ]
    },
    {
     "name": "stdout",
     "output_type": "stream",
     "text": [
      "INFO:tensorflow:Assets written to: ./50_epochs_saved/decoder_50_epochs/assets\n"
     ]
    },
    {
     "name": "stderr",
     "output_type": "stream",
     "text": [
      "INFO:tensorflow:Assets written to: ./50_epochs_saved/decoder_50_epochs/assets\n",
      "WARNING:absl:<keras.layers.recurrent.LSTMCell object at 0x7feee0d1f340> has the same name 'LSTMCell' as a built-in Keras object. Consider renaming <class 'keras.layers.recurrent.LSTMCell'> to avoid naming conflicts when loading with `tf.keras.models.load_model`. If renaming is not possible, pass the object in the `custom_objects` parameter of the load function.\n"
     ]
    },
    {
     "name": "stdout",
     "output_type": "stream",
     "text": [
      "WARNING:tensorflow:Compiled the loaded model, but the compiled metrics have yet to be built. `model.compile_metrics` will be empty until you train or evaluate the model.\n"
     ]
    },
    {
     "name": "stderr",
     "output_type": "stream",
     "text": [
      "WARNING:tensorflow:Compiled the loaded model, but the compiled metrics have yet to be built. `model.compile_metrics` will be empty until you train or evaluate the model.\n"
     ]
    },
    {
     "name": "stdout",
     "output_type": "stream",
     "text": [
      "WARNING:tensorflow:Compiled the loaded model, but the compiled metrics have yet to be built. `model.compile_metrics` will be empty until you train or evaluate the model.\n"
     ]
    },
    {
     "name": "stderr",
     "output_type": "stream",
     "text": [
      "WARNING:tensorflow:Compiled the loaded model, but the compiled metrics have yet to be built. `model.compile_metrics` will be empty until you train or evaluate the model.\n"
     ]
    },
    {
     "name": "stdout",
     "output_type": "stream",
     "text": [
      "WARNING:tensorflow:Compiled the loaded model, but the compiled metrics have yet to be built. `model.compile_metrics` will be empty until you train or evaluate the model.\n"
     ]
    },
    {
     "name": "stderr",
     "output_type": "stream",
     "text": [
      "WARNING:tensorflow:Compiled the loaded model, but the compiled metrics have yet to be built. `model.compile_metrics` will be empty until you train or evaluate the model.\n",
      "WARNING:absl:Found untraced functions such as lstm_cell_6_layer_call_fn, lstm_cell_6_layer_call_and_return_conditional_losses, lstm_cell_6_layer_call_fn, lstm_cell_6_layer_call_and_return_conditional_losses, lstm_cell_6_layer_call_and_return_conditional_losses while saving (showing 5 of 5). These functions will not be directly callable after loading.\n"
     ]
    },
    {
     "name": "stdout",
     "output_type": "stream",
     "text": [
      "INFO:tensorflow:Assets written to: ram://e928af82-c40c-4113-8e2f-7c6ee160fab1/assets\n"
     ]
    },
    {
     "name": "stderr",
     "output_type": "stream",
     "text": [
      "INFO:tensorflow:Assets written to: ram://e928af82-c40c-4113-8e2f-7c6ee160fab1/assets\n",
      "WARNING:absl:<keras.layers.recurrent.LSTMCell object at 0x7ff282a8c550> has the same name 'LSTMCell' as a built-in Keras object. Consider renaming <class 'keras.layers.recurrent.LSTMCell'> to avoid naming conflicts when loading with `tf.keras.models.load_model`. If renaming is not possible, pass the object in the `custom_objects` parameter of the load function.\n"
     ]
    },
    {
     "name": "stdout",
     "output_type": "stream",
     "text": [
      "WARNING:tensorflow:Compiled the loaded model, but the compiled metrics have yet to be built. `model.compile_metrics` will be empty until you train or evaluate the model.\n"
     ]
    },
    {
     "name": "stderr",
     "output_type": "stream",
     "text": [
      "WARNING:tensorflow:Compiled the loaded model, but the compiled metrics have yet to be built. `model.compile_metrics` will be empty until you train or evaluate the model.\n",
      "WARNING:absl:Found untraced functions such as lstm_cell_7_layer_call_fn, lstm_cell_7_layer_call_and_return_conditional_losses, lstm_cell_7_layer_call_fn, lstm_cell_7_layer_call_and_return_conditional_losses, lstm_cell_7_layer_call_and_return_conditional_losses while saving (showing 5 of 5). These functions will not be directly callable after loading.\n"
     ]
    },
    {
     "name": "stdout",
     "output_type": "stream",
     "text": [
      "INFO:tensorflow:Assets written to: ram://14b87857-0e31-45c6-9610-872c61250d69/assets\n"
     ]
    },
    {
     "name": "stderr",
     "output_type": "stream",
     "text": [
      "INFO:tensorflow:Assets written to: ram://14b87857-0e31-45c6-9610-872c61250d69/assets\n",
      "WARNING:absl:<keras.layers.recurrent.LSTMCell object at 0x7feee0d1f340> has the same name 'LSTMCell' as a built-in Keras object. Consider renaming <class 'keras.layers.recurrent.LSTMCell'> to avoid naming conflicts when loading with `tf.keras.models.load_model`. If renaming is not possible, pass the object in the `custom_objects` parameter of the load function.\n"
     ]
    }
   ],
   "source": [
    "# Saving models (Encoder Decoder)\n",
    "encoder_model.save('./50_epochs_saved/encoder_50_epochs')\n",
    "decoder_model.save('./50_epochs_saved/decoder_50_epochs')\n",
    "encoder_model.save('./50_epochs_saved/encoder_50_epochs.h5')\n",
    "decoder_model.save('./50_epochs_saved/decoder_50_epochs.h5')\n",
    "import pickle\n",
    "pickle.dump(encoder_model, open('./50_epochs_saved/encoder_50_epochs.pkl', 'wb'))\n",
    "pickle.dump(decoder_model, open('./50_epochs_saved/decoder_50_epochs.pkl', 'wb'))"
   ]
  },
  {
   "cell_type": "code",
   "execution_count": 32,
   "metadata": {},
   "outputs": [
    {
     "name": "stderr",
     "output_type": "stream",
     "text": [
      "WARNING:absl:Found untraced functions such as lstm_cell_layer_call_fn, lstm_cell_layer_call_and_return_conditional_losses, lstm_cell_1_layer_call_fn, lstm_cell_1_layer_call_and_return_conditional_losses, lstm_cell_layer_call_fn while saving (showing 5 of 10). These functions will not be directly callable after loading.\n"
     ]
    },
    {
     "name": "stdout",
     "output_type": "stream",
     "text": [
      "INFO:tensorflow:Assets written to: ram://ca812a42-ce62-48c9-9d16-b7a1889ab0a6/assets\n"
     ]
    },
    {
     "name": "stderr",
     "output_type": "stream",
     "text": [
      "INFO:tensorflow:Assets written to: ram://ca812a42-ce62-48c9-9d16-b7a1889ab0a6/assets\n",
      "WARNING:absl:<keras.layers.recurrent.LSTMCell object at 0x7ff276446a30> has the same name 'LSTMCell' as a built-in Keras object. Consider renaming <class 'keras.layers.recurrent.LSTMCell'> to avoid naming conflicts when loading with `tf.keras.models.load_model`. If renaming is not possible, pass the object in the `custom_objects` parameter of the load function.\n",
      "WARNING:absl:<keras.layers.recurrent.LSTMCell object at 0x7ff27658b0d0> has the same name 'LSTMCell' as a built-in Keras object. Consider renaming <class 'keras.layers.recurrent.LSTMCell'> to avoid naming conflicts when loading with `tf.keras.models.load_model`. If renaming is not possible, pass the object in the `custom_objects` parameter of the load function.\n"
     ]
    }
   ],
   "source": [
    "# import pickle\n",
    "# pickle.dump(model, open('model_3_ep.pkl', 'wb'))"
   ]
  },
  {
   "cell_type": "code",
   "execution_count": 42,
   "metadata": {},
   "outputs": [
    {
     "name": "stdout",
     "output_type": "stream",
     "text": [
      "WARNING:tensorflow:Compiled the loaded model, but the compiled metrics have yet to be built. `model.compile_metrics` will be empty until you train or evaluate the model.\n"
     ]
    },
    {
     "name": "stderr",
     "output_type": "stream",
     "text": [
      "WARNING:tensorflow:Compiled the loaded model, but the compiled metrics have yet to be built. `model.compile_metrics` will be empty until you train or evaluate the model.\n",
      "WARNING:absl:Found untraced functions such as lstm_cell_layer_call_fn, lstm_cell_layer_call_and_return_conditional_losses, lstm_cell_layer_call_fn, lstm_cell_layer_call_and_return_conditional_losses, lstm_cell_layer_call_and_return_conditional_losses while saving (showing 5 of 5). These functions will not be directly callable after loading.\n"
     ]
    },
    {
     "name": "stdout",
     "output_type": "stream",
     "text": [
      "INFO:tensorflow:Assets written to: ram://17d8bd3f-03a0-4259-bbde-4168d062da7c/assets\n"
     ]
    },
    {
     "name": "stderr",
     "output_type": "stream",
     "text": [
      "INFO:tensorflow:Assets written to: ram://17d8bd3f-03a0-4259-bbde-4168d062da7c/assets\n",
      "WARNING:absl:<keras.layers.recurrent.LSTMCell object at 0x7ff276446a30> has the same name 'LSTMCell' as a built-in Keras object. Consider renaming <class 'keras.layers.recurrent.LSTMCell'> to avoid naming conflicts when loading with `tf.keras.models.load_model`. If renaming is not possible, pass the object in the `custom_objects` parameter of the load function.\n"
     ]
    },
    {
     "name": "stdout",
     "output_type": "stream",
     "text": [
      "WARNING:tensorflow:Compiled the loaded model, but the compiled metrics have yet to be built. `model.compile_metrics` will be empty until you train or evaluate the model.\n"
     ]
    },
    {
     "name": "stderr",
     "output_type": "stream",
     "text": [
      "WARNING:tensorflow:Compiled the loaded model, but the compiled metrics have yet to be built. `model.compile_metrics` will be empty until you train or evaluate the model.\n",
      "WARNING:absl:Found untraced functions such as lstm_cell_1_layer_call_fn, lstm_cell_1_layer_call_and_return_conditional_losses, lstm_cell_1_layer_call_fn, lstm_cell_1_layer_call_and_return_conditional_losses, lstm_cell_1_layer_call_and_return_conditional_losses while saving (showing 5 of 5). These functions will not be directly callable after loading.\n"
     ]
    },
    {
     "name": "stdout",
     "output_type": "stream",
     "text": [
      "INFO:tensorflow:Assets written to: ram://1d1a9730-d1a8-483f-aae9-9cbdd09a392c/assets\n"
     ]
    },
    {
     "name": "stderr",
     "output_type": "stream",
     "text": [
      "INFO:tensorflow:Assets written to: ram://1d1a9730-d1a8-483f-aae9-9cbdd09a392c/assets\n",
      "WARNING:absl:<keras.layers.recurrent.LSTMCell object at 0x7ff27658b0d0> has the same name 'LSTMCell' as a built-in Keras object. Consider renaming <class 'keras.layers.recurrent.LSTMCell'> to avoid naming conflicts when loading with `tf.keras.models.load_model`. If renaming is not possible, pass the object in the `custom_objects` parameter of the load function.\n"
     ]
    }
   ],
   "source": [
    "# pickle.dump(encoder_model, open('encoder_model_3_ep.pkl', 'wb'))\n",
    "# pickle.dump(decoder_model, open('decoder_model_3_ep.pkl', 'wb'))"
   ]
  },
  {
   "cell_type": "code",
   "execution_count": null,
   "metadata": {},
   "outputs": [],
   "source": []
  },
  {
   "cell_type": "markdown",
   "metadata": {},
   "source": [
    "### Inference"
   ]
  },
  {
   "cell_type": "code",
   "execution_count": 43,
   "metadata": {},
   "outputs": [
    {
     "name": "stdout",
     "output_type": "stream",
     "text": [
      "WARNING:tensorflow:No training configuration found in save file, so the model was *not* compiled. Compile it manually.\n"
     ]
    },
    {
     "name": "stderr",
     "output_type": "stream",
     "text": [
      "WARNING:tensorflow:No training configuration found in save file, so the model was *not* compiled. Compile it manually.\n"
     ]
    },
    {
     "name": "stdout",
     "output_type": "stream",
     "text": [
      "WARNING:tensorflow:No training configuration found in save file, so the model was *not* compiled. Compile it manually.\n"
     ]
    },
    {
     "name": "stderr",
     "output_type": "stream",
     "text": [
      "WARNING:tensorflow:No training configuration found in save file, so the model was *not* compiled. Compile it manually.\n"
     ]
    }
   ],
   "source": [
    "model2 = pickle.load(open('model_3_epochs.pkl', 'rb'))\n",
    "encoder_load = pickle.load(open('encoder_model_3_ep.pkl', 'rb'))\n",
    "decoder_load = pickle.load(open('decoder_model_3_ep.pkl', 'rb'))"
   ]
  },
  {
   "cell_type": "code",
   "execution_count": 44,
   "metadata": {},
   "outputs": [],
   "source": [
    "def decode_sequence(input_seq):\n",
    "    # Encode the input as state vectors.\n",
    "    # states_value = encoder_model.predict(input_seq)\n",
    "    states_value = encoder_load.predict(input_seq)\n",
    "\n",
    "    # Generate empty target sequence of length 1.\n",
    "    target_seq = np.zeros((1,1))\n",
    "    \n",
    "    # Populate the first character of target sequence with the start character.\n",
    "    target_seq[0, 0] = code_token_index['[START]']\n",
    "    \n",
    "    # Sampling loop for a batch of sequences\n",
    "    # (to simplify, here we assume a batch of size 1).\n",
    "    stop_condition = False\n",
    "    # decoded_sentence = ''\n",
    "    decoded_sentence = []\n",
    "    \n",
    "    while not stop_condition:\n",
    "        # output_tokens, h, c = decoder_model.predict([target_seq] + states_value)\n",
    "        output_tokens, h, c = decoder_load.predict([target_seq] + states_value)\n",
    "        # Sample a token\n",
    "        sampled_token_index = np.argmax(output_tokens[0, -1, :])\n",
    "        sampled_char = reverse_code_index[sampled_token_index]\n",
    "        # decoded_sentence += ' '+sampled_char\n",
    "        decoded_sentence.append(sampled_char)\n",
    "        \n",
    "        # Exit condition: either hit max length or find stop token.\n",
    "        if (sampled_char == '[STOP]' or len(decoded_sentence) > 50):\n",
    "            stop_condition = True\n",
    "        \n",
    "        # Update the target sequence (of length 1).\n",
    "        target_seq = np.zeros((1,1))\n",
    "        target_seq[0, 0] = sampled_token_index\n",
    "        \n",
    "        # Update states\n",
    "        states_value = [h, c]\n",
    "    \n",
    "    return decoded_sentence"
   ]
  },
  {
   "cell_type": "code",
   "execution_count": 45,
   "metadata": {},
   "outputs": [
    {
     "name": "stdout",
     "output_type": "stream",
     "text": [
      "-\n",
      "Input sentence: 399    [decrement, [CPY]]\n",
      "Name: pseudo_gen_seq, dtype: object\n",
      "True sentence: 399    [[START], [CPY], --, ;, [STOP]]\n",
      "Name: code_gen_seq_aug, dtype: object\n",
      "Decoded sentence: ['[CPY]', '--', ';', '[STOP]']\n",
      "-\n",
      "Input sentence: 100    [assign, [CPY], [CPY], to, [CPY]]\n",
      "Name: pseudo_gen_seq, dtype: object\n",
      "True sentence: 100    [[START], int, [CPY], =, [CPY], [CPY], ;, [STOP]]\n",
      "Name: code_gen_seq_aug, dtype: object\n",
      "Decoded sentence: ['[CPY]', '=', '[CPY]', '[CPY]', '[CPY]', ';', '[STOP]']\n"
     ]
    }
   ],
   "source": [
    "for seq_index in [399, 100]:\n",
    "    # print(encoder_input_data[seq_index])\n",
    "    input_seq = encoder_input_data[seq_index: seq_index+1]\n",
    "    # print(input_seq)\n",
    "    decoded_sentence = decode_sequence(input_seq)\n",
    "    print('-')\n",
    "    print('Input sentence:', train_df['pseudo_gen_seq'][seq_index: seq_index + 1])\n",
    "    print('True sentence:', train_df['code_gen_seq_aug'][seq_index: seq_index + 1])\n",
    "    print('Decoded sentence:', decoded_sentence)"
   ]
  },
  {
   "cell_type": "code",
   "execution_count": null,
   "metadata": {},
   "outputs": [],
   "source": []
  }
 ],
 "metadata": {
  "interpreter": {
   "hash": "b7b35159d5f3714c312bd281d072de1b51cb405758b497569d7b0919f3fae85c"
  },
  "kernelspec": {
   "display_name": "Python 3.8.3 ('base')",
   "language": "python",
   "name": "python3"
  },
  "language_info": {
   "codemirror_mode": {
    "name": "ipython",
    "version": 3
   },
   "file_extension": ".py",
   "mimetype": "text/x-python",
   "name": "python",
   "nbconvert_exporter": "python",
   "pygments_lexer": "ipython3",
   "version": "3.8.3"
  },
  "orig_nbformat": 4
 },
 "nbformat": 4,
 "nbformat_minor": 2
}
