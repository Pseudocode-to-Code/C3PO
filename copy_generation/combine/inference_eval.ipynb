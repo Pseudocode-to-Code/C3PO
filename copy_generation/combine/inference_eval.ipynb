{
  "cells": [
    {
      "cell_type": "code",
      "execution_count": 3,
      "metadata": {
        "id": "l0HcfQl1erg5"
      },
      "outputs": [],
      "source": [
        "import pandas as pd\n",
        "import numpy as np\n",
        "import tensorflow as tf\n",
        "import sparse\n",
        "from collections import defaultdict"
      ]
    },
    {
      "cell_type": "markdown",
      "metadata": {
        "id": "b7jEssBqerg9"
      },
      "source": [
        "# Dataset Ingestion"
      ]
    },
    {
      "cell_type": "code",
      "execution_count": 4,
      "metadata": {
        "colab": {
          "base_uri": "https://localhost:8080/",
          "height": 285
        },
        "id": "YN76C6Juerg-",
        "outputId": "dcb0d4d7-ca77-4da4-dd21-651918dd1689"
      },
      "outputs": [
        {
          "data": {
            "text/html": [
              "<div>\n",
              "<style scoped>\n",
              "    .dataframe tbody tr th:only-of-type {\n",
              "        vertical-align: middle;\n",
              "    }\n",
              "\n",
              "    .dataframe tbody tr th {\n",
              "        vertical-align: top;\n",
              "    }\n",
              "\n",
              "    .dataframe thead th {\n",
              "        text-align: right;\n",
              "    }\n",
              "</style>\n",
              "<table border=\"1\" class=\"dataframe\">\n",
              "  <thead>\n",
              "    <tr style=\"text-align: right;\">\n",
              "      <th></th>\n",
              "      <th>pseudo</th>\n",
              "      <th>code</th>\n",
              "      <th>pseudo_token</th>\n",
              "      <th>code_token</th>\n",
              "    </tr>\n",
              "  </thead>\n",
              "  <tbody>\n",
              "    <tr>\n",
              "      <th>0</th>\n",
              "      <td>let a , b , c , d , e be integers</td>\n",
              "      <td>int a , b , c , d , e ;</td>\n",
              "      <td>[let, a, ,, b, ,, c, ,, d, ,, e, be, integers]</td>\n",
              "      <td>[int, a, ,, b, ,, c, ,, d, ,, e, ;]</td>\n",
              "    </tr>\n",
              "    <tr>\n",
              "      <th>1</th>\n",
              "      <td>read a</td>\n",
              "      <td>cin &gt;&gt; a ;</td>\n",
              "      <td>[read, a]</td>\n",
              "      <td>[cin, &gt;&gt;, a, ;]</td>\n",
              "    </tr>\n",
              "    <tr>\n",
              "      <th>2</th>\n",
              "      <td>read b</td>\n",
              "      <td>cin &gt;&gt; b ;</td>\n",
              "      <td>[read, b]</td>\n",
              "      <td>[cin, &gt;&gt;, b, ;]</td>\n",
              "    </tr>\n",
              "    <tr>\n",
              "      <th>3</th>\n",
              "      <td>read c</td>\n",
              "      <td>cin &gt;&gt; c ;</td>\n",
              "      <td>[read, c]</td>\n",
              "      <td>[cin, &gt;&gt;, c, ;]</td>\n",
              "    </tr>\n",
              "    <tr>\n",
              "      <th>4</th>\n",
              "      <td>read d</td>\n",
              "      <td>cin &gt;&gt; d ;</td>\n",
              "      <td>[read, d]</td>\n",
              "      <td>[cin, &gt;&gt;, d, ;]</td>\n",
              "    </tr>\n",
              "  </tbody>\n",
              "</table>\n",
              "</div>"
            ],
            "text/plain": [
              "                              pseudo                     code  \\\n",
              "0  let a , b , c , d , e be integers  int a , b , c , d , e ;   \n",
              "1                             read a               cin >> a ;   \n",
              "2                             read b               cin >> b ;   \n",
              "3                             read c               cin >> c ;   \n",
              "4                             read d               cin >> d ;   \n",
              "\n",
              "                                     pseudo_token  \\\n",
              "0  [let, a, ,, b, ,, c, ,, d, ,, e, be, integers]   \n",
              "1                                       [read, a]   \n",
              "2                                       [read, b]   \n",
              "3                                       [read, c]   \n",
              "4                                       [read, d]   \n",
              "\n",
              "                            code_token  \n",
              "0  [int, a, ,, b, ,, c, ,, d, ,, e, ;]  \n",
              "1                      [cin, >>, a, ;]  \n",
              "2                      [cin, >>, b, ;]  \n",
              "3                      [cin, >>, c, ;]  \n",
              "4                      [cin, >>, d, ;]  "
            ]
          },
          "execution_count": 4,
          "metadata": {},
          "output_type": "execute_result"
        }
      ],
      "source": [
        "cols = {0: 'pseudo', 1: 'code'}\n",
        "\n",
        "eval_df = pd.read_csv('../../data/input-tok-eval.tsv', header=None, delimiter='\\t')\n",
        "eval_df.rename(columns=cols, inplace=True)\n",
        "\n",
        "eval_df['pseudo'].fillna(' ')\n",
        "eval_df['code'].fillna(' ')\n",
        "\n",
        "eval_df['pseudo_token'] = eval_df['pseudo'].str.split(' ')\n",
        "eval_df['code_token'] = eval_df['code'].str.split(' ')\n",
        "eval_df.head()"
      ]
    },
    {
      "cell_type": "code",
      "execution_count": 5,
      "metadata": {
        "id": "0hFcIE0DerhA"
      },
      "outputs": [],
      "source": [
        "def create_copy_gen_seq_from_pseudo_row(row):\n",
        "    \"\"\"\n",
        "    Returns binary sequence for pseudocode tokens based on \n",
        "    true code tokens\n",
        "\n",
        "    If the pseudocode token exists in the true code (can be\n",
        "    copied), then the sequence contains a 1 in that position\n",
        "    \"\"\"  \n",
        "    code_token_set = set(row['code_token'])\n",
        "\n",
        "    output_seq = []\n",
        "    generate_seq = []\n",
        "\n",
        "    for token in row['pseudo_token']:\n",
        "        if token in code_token_set:\n",
        "            output_seq.append(1)\n",
        "            generate_seq.append('[CPY]')\n",
        "        else:\n",
        "            output_seq.append(0)\n",
        "            generate_seq.append(token)\n",
        "\n",
        "    # generate_seq.append('[END]')\n",
        "    assert len(output_seq) == len(row['pseudo_token'])\n",
        "    return (output_seq, generate_seq)"
      ]
    },
    {
      "cell_type": "code",
      "execution_count": 6,
      "metadata": {
        "colab": {
          "base_uri": "https://localhost:8080/",
          "height": 693
        },
        "id": "ZlhA0mOQerhB",
        "outputId": "42a8e9f2-bebc-48f4-eebb-7d2a64e1bbd5"
      },
      "outputs": [
        {
          "data": {
            "text/html": [
              "<div>\n",
              "<style scoped>\n",
              "    .dataframe tbody tr th:only-of-type {\n",
              "        vertical-align: middle;\n",
              "    }\n",
              "\n",
              "    .dataframe tbody tr th {\n",
              "        vertical-align: top;\n",
              "    }\n",
              "\n",
              "    .dataframe thead th {\n",
              "        text-align: right;\n",
              "    }\n",
              "</style>\n",
              "<table border=\"1\" class=\"dataframe\">\n",
              "  <thead>\n",
              "    <tr style=\"text-align: right;\">\n",
              "      <th></th>\n",
              "      <th>pseudo</th>\n",
              "      <th>code</th>\n",
              "      <th>pseudo_token</th>\n",
              "      <th>code_token</th>\n",
              "      <th>pseudo_copy_seq</th>\n",
              "      <th>pseudo_gen_seq</th>\n",
              "    </tr>\n",
              "  </thead>\n",
              "  <tbody>\n",
              "    <tr>\n",
              "      <th>0</th>\n",
              "      <td>let a , b , c , d , e be integers</td>\n",
              "      <td>int a , b , c , d , e ;</td>\n",
              "      <td>[let, a, ,, b, ,, c, ,, d, ,, e, be, integers]</td>\n",
              "      <td>[int, a, ,, b, ,, c, ,, d, ,, e, ;]</td>\n",
              "      <td>[0, 1, 1, 1, 1, 1, 1, 1, 1, 1, 0, 0]</td>\n",
              "      <td>[let, [CPY], [CPY], [CPY], [CPY], [CPY], [CPY]...</td>\n",
              "    </tr>\n",
              "    <tr>\n",
              "      <th>1</th>\n",
              "      <td>read a</td>\n",
              "      <td>cin &gt;&gt; a ;</td>\n",
              "      <td>[read, a]</td>\n",
              "      <td>[cin, &gt;&gt;, a, ;]</td>\n",
              "      <td>[0, 1]</td>\n",
              "      <td>[read, [CPY]]</td>\n",
              "    </tr>\n",
              "    <tr>\n",
              "      <th>2</th>\n",
              "      <td>read b</td>\n",
              "      <td>cin &gt;&gt; b ;</td>\n",
              "      <td>[read, b]</td>\n",
              "      <td>[cin, &gt;&gt;, b, ;]</td>\n",
              "      <td>[0, 1]</td>\n",
              "      <td>[read, [CPY]]</td>\n",
              "    </tr>\n",
              "    <tr>\n",
              "      <th>3</th>\n",
              "      <td>read c</td>\n",
              "      <td>cin &gt;&gt; c ;</td>\n",
              "      <td>[read, c]</td>\n",
              "      <td>[cin, &gt;&gt;, c, ;]</td>\n",
              "      <td>[0, 1]</td>\n",
              "      <td>[read, [CPY]]</td>\n",
              "    </tr>\n",
              "    <tr>\n",
              "      <th>4</th>\n",
              "      <td>read d</td>\n",
              "      <td>cin &gt;&gt; d ;</td>\n",
              "      <td>[read, d]</td>\n",
              "      <td>[cin, &gt;&gt;, d, ;]</td>\n",
              "      <td>[0, 1]</td>\n",
              "      <td>[read, [CPY]]</td>\n",
              "    </tr>\n",
              "    <tr>\n",
              "      <th>...</th>\n",
              "      <td>...</td>\n",
              "      <td>...</td>\n",
              "      <td>...</td>\n",
              "      <td>...</td>\n",
              "      <td>...</td>\n",
              "      <td>...</td>\n",
              "    </tr>\n",
              "    <tr>\n",
              "      <th>19175</th>\n",
              "      <td>sort array a</td>\n",
              "      <td>sort ( a , a + m ) ;</td>\n",
              "      <td>[sort, array, a]</td>\n",
              "      <td>[sort, (, a, ,, a, +, m, ), ;]</td>\n",
              "      <td>[1, 0, 1]</td>\n",
              "      <td>[[CPY], array, [CPY]]</td>\n",
              "    </tr>\n",
              "    <tr>\n",
              "      <th>19176</th>\n",
              "      <td>sort b</td>\n",
              "      <td>sort ( b , b + m ) ;</td>\n",
              "      <td>[sort, b]</td>\n",
              "      <td>[sort, (, b, ,, b, +, m, ), ;]</td>\n",
              "      <td>[1, 1]</td>\n",
              "      <td>[[CPY], [CPY]]</td>\n",
              "    </tr>\n",
              "    <tr>\n",
              "      <th>19177</th>\n",
              "      <td>reverse b</td>\n",
              "      <td>reverse ( b , b + m ) ;</td>\n",
              "      <td>[reverse, b]</td>\n",
              "      <td>[reverse, (, b, ,, b, +, m, ), ;]</td>\n",
              "      <td>[1, 1]</td>\n",
              "      <td>[[CPY], [CPY]]</td>\n",
              "    </tr>\n",
              "    <tr>\n",
              "      <th>19178</th>\n",
              "      <td>for i = 0 to m exclusive , set cnt [ b [ i ] ....</td>\n",
              "      <td>for ( int i = 0 ; i &lt; m ; ++ i ) { cnt [ b [ i...</td>\n",
              "      <td>[for, i, =, 0, to, m, exclusive, ,, set, cnt, ...</td>\n",
              "      <td>[for, (, int, i, =, 0, ;, i, &lt;, m, ;, ++, i, )...</td>\n",
              "      <td>[1, 1, 1, 1, 0, 1, 0, 0, 0, 1, 1, 1, 1, 1, 1, ...</td>\n",
              "      <td>[[CPY], [CPY], [CPY], [CPY], to, [CPY], exclus...</td>\n",
              "    </tr>\n",
              "    <tr>\n",
              "      <th>19179</th>\n",
              "      <td>for i = 0 to m exclusive , print cnt [ i ] and...</td>\n",
              "      <td>for ( int i = 0 ; i &lt; m ; ++ i ) cout &lt;&lt; cnt [...</td>\n",
              "      <td>[for, i, =, 0, to, m, exclusive, ,, print, cnt...</td>\n",
              "      <td>[for, (, int, i, =, 0, ;, i, &lt;, m, ;, ++, i, )...</td>\n",
              "      <td>[1, 1, 1, 1, 0, 1, 0, 0, 0, 1, 1, 1, 1, 0, 1, ...</td>\n",
              "      <td>[[CPY], [CPY], [CPY], [CPY], to, [CPY], exclus...</td>\n",
              "    </tr>\n",
              "  </tbody>\n",
              "</table>\n",
              "<p>19180 rows × 6 columns</p>\n",
              "</div>"
            ],
            "text/plain": [
              "                                                  pseudo  \\\n",
              "0                      let a , b , c , d , e be integers   \n",
              "1                                                 read a   \n",
              "2                                                 read b   \n",
              "3                                                 read c   \n",
              "4                                                 read d   \n",
              "...                                                  ...   \n",
              "19175                                       sort array a   \n",
              "19176                                             sort b   \n",
              "19177                                          reverse b   \n",
              "19178  for i = 0 to m exclusive , set cnt [ b [ i ] ....   \n",
              "19179  for i = 0 to m exclusive , print cnt [ i ] and...   \n",
              "\n",
              "                                                    code  \\\n",
              "0                                int a , b , c , d , e ;   \n",
              "1                                             cin >> a ;   \n",
              "2                                             cin >> b ;   \n",
              "3                                             cin >> c ;   \n",
              "4                                             cin >> d ;   \n",
              "...                                                  ...   \n",
              "19175                               sort ( a , a + m ) ;   \n",
              "19176                               sort ( b , b + m ) ;   \n",
              "19177                            reverse ( b , b + m ) ;   \n",
              "19178  for ( int i = 0 ; i < m ; ++ i ) { cnt [ b [ i...   \n",
              "19179  for ( int i = 0 ; i < m ; ++ i ) cout << cnt [...   \n",
              "\n",
              "                                            pseudo_token  \\\n",
              "0         [let, a, ,, b, ,, c, ,, d, ,, e, be, integers]   \n",
              "1                                              [read, a]   \n",
              "2                                              [read, b]   \n",
              "3                                              [read, c]   \n",
              "4                                              [read, d]   \n",
              "...                                                  ...   \n",
              "19175                                   [sort, array, a]   \n",
              "19176                                          [sort, b]   \n",
              "19177                                       [reverse, b]   \n",
              "19178  [for, i, =, 0, to, m, exclusive, ,, set, cnt, ...   \n",
              "19179  [for, i, =, 0, to, m, exclusive, ,, print, cnt...   \n",
              "\n",
              "                                              code_token  \\\n",
              "0                    [int, a, ,, b, ,, c, ,, d, ,, e, ;]   \n",
              "1                                        [cin, >>, a, ;]   \n",
              "2                                        [cin, >>, b, ;]   \n",
              "3                                        [cin, >>, c, ;]   \n",
              "4                                        [cin, >>, d, ;]   \n",
              "...                                                  ...   \n",
              "19175                     [sort, (, a, ,, a, +, m, ), ;]   \n",
              "19176                     [sort, (, b, ,, b, +, m, ), ;]   \n",
              "19177                  [reverse, (, b, ,, b, +, m, ), ;]   \n",
              "19178  [for, (, int, i, =, 0, ;, i, <, m, ;, ++, i, )...   \n",
              "19179  [for, (, int, i, =, 0, ;, i, <, m, ;, ++, i, )...   \n",
              "\n",
              "                                         pseudo_copy_seq  \\\n",
              "0                   [0, 1, 1, 1, 1, 1, 1, 1, 1, 1, 0, 0]   \n",
              "1                                                 [0, 1]   \n",
              "2                                                 [0, 1]   \n",
              "3                                                 [0, 1]   \n",
              "4                                                 [0, 1]   \n",
              "...                                                  ...   \n",
              "19175                                          [1, 0, 1]   \n",
              "19176                                             [1, 1]   \n",
              "19177                                             [1, 1]   \n",
              "19178  [1, 1, 1, 1, 0, 1, 0, 0, 0, 1, 1, 1, 1, 1, 1, ...   \n",
              "19179  [1, 1, 1, 1, 0, 1, 0, 0, 0, 1, 1, 1, 1, 0, 1, ...   \n",
              "\n",
              "                                          pseudo_gen_seq  \n",
              "0      [let, [CPY], [CPY], [CPY], [CPY], [CPY], [CPY]...  \n",
              "1                                          [read, [CPY]]  \n",
              "2                                          [read, [CPY]]  \n",
              "3                                          [read, [CPY]]  \n",
              "4                                          [read, [CPY]]  \n",
              "...                                                  ...  \n",
              "19175                              [[CPY], array, [CPY]]  \n",
              "19176                                     [[CPY], [CPY]]  \n",
              "19177                                     [[CPY], [CPY]]  \n",
              "19178  [[CPY], [CPY], [CPY], [CPY], to, [CPY], exclus...  \n",
              "19179  [[CPY], [CPY], [CPY], [CPY], to, [CPY], exclus...  \n",
              "\n",
              "[19180 rows x 6 columns]"
            ]
          },
          "execution_count": 6,
          "metadata": {},
          "output_type": "execute_result"
        }
      ],
      "source": [
        "seqs = eval_df.apply(create_copy_gen_seq_from_pseudo_row, axis=1)\n",
        "code_binary_seq = [x[0] for x in seqs]\n",
        "generate_seq = [x[1] for x in seqs]\n",
        "eval_df['pseudo_copy_seq'] = code_binary_seq\n",
        "eval_df['pseudo_gen_seq'] = generate_seq\n",
        "eval_df"
      ]
    },
    {
      "cell_type": "code",
      "execution_count": 7,
      "metadata": {
        "id": "6cdRKQ3kerhC"
      },
      "outputs": [],
      "source": [
        "def create_gen_seq_from_code_row(row):\n",
        "    \"\"\"\n",
        "    Returns binary sequence for pseudocode tokens based on \n",
        "    true code tokens\n",
        "\n",
        "    If the pseudocode token exists in the true code (can be\n",
        "    copied), then the sequence contains a [CPY] in that position\n",
        "    \"\"\"\n",
        "    pseudo_token_set = set(row['pseudo_token'])\n",
        "\n",
        "    gen_code_seq = []\n",
        "\n",
        "    # for i, token in enumerate(row['code_token']):\n",
        "    for token in row['code_token']:\n",
        "        # if i == 0:\n",
        "        #     gen_code_seq.append('[START]')\n",
        "        # elif i == len(row['code_token']):\n",
        "        #     gen_code_seq.append('[END]')\n",
        "\n",
        "        if token in pseudo_token_set:\n",
        "            gen_code_seq.append('[CPY]')\n",
        "        else:\n",
        "            gen_code_seq.append(token)\n",
        "\n",
        "    return gen_code_seq"
      ]
    },
    {
      "cell_type": "code",
      "execution_count": 8,
      "metadata": {
        "colab": {
          "base_uri": "https://localhost:8080/",
          "height": 797
        },
        "id": "hb7tRSFierhC",
        "outputId": "93f63bd9-cace-4c89-8899-63561023a839"
      },
      "outputs": [
        {
          "data": {
            "text/html": [
              "<div>\n",
              "<style scoped>\n",
              "    .dataframe tbody tr th:only-of-type {\n",
              "        vertical-align: middle;\n",
              "    }\n",
              "\n",
              "    .dataframe tbody tr th {\n",
              "        vertical-align: top;\n",
              "    }\n",
              "\n",
              "    .dataframe thead th {\n",
              "        text-align: right;\n",
              "    }\n",
              "</style>\n",
              "<table border=\"1\" class=\"dataframe\">\n",
              "  <thead>\n",
              "    <tr style=\"text-align: right;\">\n",
              "      <th></th>\n",
              "      <th>pseudo</th>\n",
              "      <th>code</th>\n",
              "      <th>pseudo_token</th>\n",
              "      <th>code_token</th>\n",
              "      <th>pseudo_copy_seq</th>\n",
              "      <th>pseudo_gen_seq</th>\n",
              "      <th>code_gen_seq</th>\n",
              "    </tr>\n",
              "  </thead>\n",
              "  <tbody>\n",
              "    <tr>\n",
              "      <th>0</th>\n",
              "      <td>let a , b , c , d , e be integers</td>\n",
              "      <td>int a , b , c , d , e ;</td>\n",
              "      <td>[let, a, ,, b, ,, c, ,, d, ,, e, be, integers]</td>\n",
              "      <td>[int, a, ,, b, ,, c, ,, d, ,, e, ;]</td>\n",
              "      <td>[0, 1, 1, 1, 1, 1, 1, 1, 1, 1, 0, 0]</td>\n",
              "      <td>[let, [CPY], [CPY], [CPY], [CPY], [CPY], [CPY]...</td>\n",
              "      <td>[int, [CPY], [CPY], [CPY], [CPY], [CPY], [CPY]...</td>\n",
              "    </tr>\n",
              "    <tr>\n",
              "      <th>1</th>\n",
              "      <td>read a</td>\n",
              "      <td>cin &gt;&gt; a ;</td>\n",
              "      <td>[read, a]</td>\n",
              "      <td>[cin, &gt;&gt;, a, ;]</td>\n",
              "      <td>[0, 1]</td>\n",
              "      <td>[read, [CPY]]</td>\n",
              "      <td>[cin, &gt;&gt;, [CPY], ;]</td>\n",
              "    </tr>\n",
              "    <tr>\n",
              "      <th>2</th>\n",
              "      <td>read b</td>\n",
              "      <td>cin &gt;&gt; b ;</td>\n",
              "      <td>[read, b]</td>\n",
              "      <td>[cin, &gt;&gt;, b, ;]</td>\n",
              "      <td>[0, 1]</td>\n",
              "      <td>[read, [CPY]]</td>\n",
              "      <td>[cin, &gt;&gt;, [CPY], ;]</td>\n",
              "    </tr>\n",
              "    <tr>\n",
              "      <th>3</th>\n",
              "      <td>read c</td>\n",
              "      <td>cin &gt;&gt; c ;</td>\n",
              "      <td>[read, c]</td>\n",
              "      <td>[cin, &gt;&gt;, c, ;]</td>\n",
              "      <td>[0, 1]</td>\n",
              "      <td>[read, [CPY]]</td>\n",
              "      <td>[cin, &gt;&gt;, [CPY], ;]</td>\n",
              "    </tr>\n",
              "    <tr>\n",
              "      <th>4</th>\n",
              "      <td>read d</td>\n",
              "      <td>cin &gt;&gt; d ;</td>\n",
              "      <td>[read, d]</td>\n",
              "      <td>[cin, &gt;&gt;, d, ;]</td>\n",
              "      <td>[0, 1]</td>\n",
              "      <td>[read, [CPY]]</td>\n",
              "      <td>[cin, &gt;&gt;, [CPY], ;]</td>\n",
              "    </tr>\n",
              "    <tr>\n",
              "      <th>...</th>\n",
              "      <td>...</td>\n",
              "      <td>...</td>\n",
              "      <td>...</td>\n",
              "      <td>...</td>\n",
              "      <td>...</td>\n",
              "      <td>...</td>\n",
              "      <td>...</td>\n",
              "    </tr>\n",
              "    <tr>\n",
              "      <th>19175</th>\n",
              "      <td>sort array a</td>\n",
              "      <td>sort ( a , a + m ) ;</td>\n",
              "      <td>[sort, array, a]</td>\n",
              "      <td>[sort, (, a, ,, a, +, m, ), ;]</td>\n",
              "      <td>[1, 0, 1]</td>\n",
              "      <td>[[CPY], array, [CPY]]</td>\n",
              "      <td>[[CPY], (, [CPY], ,, [CPY], +, m, ), ;]</td>\n",
              "    </tr>\n",
              "    <tr>\n",
              "      <th>19176</th>\n",
              "      <td>sort b</td>\n",
              "      <td>sort ( b , b + m ) ;</td>\n",
              "      <td>[sort, b]</td>\n",
              "      <td>[sort, (, b, ,, b, +, m, ), ;]</td>\n",
              "      <td>[1, 1]</td>\n",
              "      <td>[[CPY], [CPY]]</td>\n",
              "      <td>[[CPY], (, [CPY], ,, [CPY], +, m, ), ;]</td>\n",
              "    </tr>\n",
              "    <tr>\n",
              "      <th>19177</th>\n",
              "      <td>reverse b</td>\n",
              "      <td>reverse ( b , b + m ) ;</td>\n",
              "      <td>[reverse, b]</td>\n",
              "      <td>[reverse, (, b, ,, b, +, m, ), ;]</td>\n",
              "      <td>[1, 1]</td>\n",
              "      <td>[[CPY], [CPY]]</td>\n",
              "      <td>[[CPY], (, [CPY], ,, [CPY], +, m, ), ;]</td>\n",
              "    </tr>\n",
              "    <tr>\n",
              "      <th>19178</th>\n",
              "      <td>for i = 0 to m exclusive , set cnt [ b [ i ] ....</td>\n",
              "      <td>for ( int i = 0 ; i &lt; m ; ++ i ) { cnt [ b [ i...</td>\n",
              "      <td>[for, i, =, 0, to, m, exclusive, ,, set, cnt, ...</td>\n",
              "      <td>[for, (, int, i, =, 0, ;, i, &lt;, m, ;, ++, i, )...</td>\n",
              "      <td>[1, 1, 1, 1, 0, 1, 0, 0, 0, 1, 1, 1, 1, 1, 1, ...</td>\n",
              "      <td>[[CPY], [CPY], [CPY], [CPY], to, [CPY], exclus...</td>\n",
              "      <td>[[CPY], (, int, [CPY], [CPY], [CPY], ;, [CPY],...</td>\n",
              "    </tr>\n",
              "    <tr>\n",
              "      <th>19179</th>\n",
              "      <td>for i = 0 to m exclusive , print cnt [ i ] and...</td>\n",
              "      <td>for ( int i = 0 ; i &lt; m ; ++ i ) cout &lt;&lt; cnt [...</td>\n",
              "      <td>[for, i, =, 0, to, m, exclusive, ,, print, cnt...</td>\n",
              "      <td>[for, (, int, i, =, 0, ;, i, &lt;, m, ;, ++, i, )...</td>\n",
              "      <td>[1, 1, 1, 1, 0, 1, 0, 0, 0, 1, 1, 1, 1, 0, 1, ...</td>\n",
              "      <td>[[CPY], [CPY], [CPY], [CPY], to, [CPY], exclus...</td>\n",
              "      <td>[[CPY], (, int, [CPY], [CPY], [CPY], ;, [CPY],...</td>\n",
              "    </tr>\n",
              "  </tbody>\n",
              "</table>\n",
              "<p>19180 rows × 7 columns</p>\n",
              "</div>"
            ],
            "text/plain": [
              "                                                  pseudo  \\\n",
              "0                      let a , b , c , d , e be integers   \n",
              "1                                                 read a   \n",
              "2                                                 read b   \n",
              "3                                                 read c   \n",
              "4                                                 read d   \n",
              "...                                                  ...   \n",
              "19175                                       sort array a   \n",
              "19176                                             sort b   \n",
              "19177                                          reverse b   \n",
              "19178  for i = 0 to m exclusive , set cnt [ b [ i ] ....   \n",
              "19179  for i = 0 to m exclusive , print cnt [ i ] and...   \n",
              "\n",
              "                                                    code  \\\n",
              "0                                int a , b , c , d , e ;   \n",
              "1                                             cin >> a ;   \n",
              "2                                             cin >> b ;   \n",
              "3                                             cin >> c ;   \n",
              "4                                             cin >> d ;   \n",
              "...                                                  ...   \n",
              "19175                               sort ( a , a + m ) ;   \n",
              "19176                               sort ( b , b + m ) ;   \n",
              "19177                            reverse ( b , b + m ) ;   \n",
              "19178  for ( int i = 0 ; i < m ; ++ i ) { cnt [ b [ i...   \n",
              "19179  for ( int i = 0 ; i < m ; ++ i ) cout << cnt [...   \n",
              "\n",
              "                                            pseudo_token  \\\n",
              "0         [let, a, ,, b, ,, c, ,, d, ,, e, be, integers]   \n",
              "1                                              [read, a]   \n",
              "2                                              [read, b]   \n",
              "3                                              [read, c]   \n",
              "4                                              [read, d]   \n",
              "...                                                  ...   \n",
              "19175                                   [sort, array, a]   \n",
              "19176                                          [sort, b]   \n",
              "19177                                       [reverse, b]   \n",
              "19178  [for, i, =, 0, to, m, exclusive, ,, set, cnt, ...   \n",
              "19179  [for, i, =, 0, to, m, exclusive, ,, print, cnt...   \n",
              "\n",
              "                                              code_token  \\\n",
              "0                    [int, a, ,, b, ,, c, ,, d, ,, e, ;]   \n",
              "1                                        [cin, >>, a, ;]   \n",
              "2                                        [cin, >>, b, ;]   \n",
              "3                                        [cin, >>, c, ;]   \n",
              "4                                        [cin, >>, d, ;]   \n",
              "...                                                  ...   \n",
              "19175                     [sort, (, a, ,, a, +, m, ), ;]   \n",
              "19176                     [sort, (, b, ,, b, +, m, ), ;]   \n",
              "19177                  [reverse, (, b, ,, b, +, m, ), ;]   \n",
              "19178  [for, (, int, i, =, 0, ;, i, <, m, ;, ++, i, )...   \n",
              "19179  [for, (, int, i, =, 0, ;, i, <, m, ;, ++, i, )...   \n",
              "\n",
              "                                         pseudo_copy_seq  \\\n",
              "0                   [0, 1, 1, 1, 1, 1, 1, 1, 1, 1, 0, 0]   \n",
              "1                                                 [0, 1]   \n",
              "2                                                 [0, 1]   \n",
              "3                                                 [0, 1]   \n",
              "4                                                 [0, 1]   \n",
              "...                                                  ...   \n",
              "19175                                          [1, 0, 1]   \n",
              "19176                                             [1, 1]   \n",
              "19177                                             [1, 1]   \n",
              "19178  [1, 1, 1, 1, 0, 1, 0, 0, 0, 1, 1, 1, 1, 1, 1, ...   \n",
              "19179  [1, 1, 1, 1, 0, 1, 0, 0, 0, 1, 1, 1, 1, 0, 1, ...   \n",
              "\n",
              "                                          pseudo_gen_seq  \\\n",
              "0      [let, [CPY], [CPY], [CPY], [CPY], [CPY], [CPY]...   \n",
              "1                                          [read, [CPY]]   \n",
              "2                                          [read, [CPY]]   \n",
              "3                                          [read, [CPY]]   \n",
              "4                                          [read, [CPY]]   \n",
              "...                                                  ...   \n",
              "19175                              [[CPY], array, [CPY]]   \n",
              "19176                                     [[CPY], [CPY]]   \n",
              "19177                                     [[CPY], [CPY]]   \n",
              "19178  [[CPY], [CPY], [CPY], [CPY], to, [CPY], exclus...   \n",
              "19179  [[CPY], [CPY], [CPY], [CPY], to, [CPY], exclus...   \n",
              "\n",
              "                                            code_gen_seq  \n",
              "0      [int, [CPY], [CPY], [CPY], [CPY], [CPY], [CPY]...  \n",
              "1                                    [cin, >>, [CPY], ;]  \n",
              "2                                    [cin, >>, [CPY], ;]  \n",
              "3                                    [cin, >>, [CPY], ;]  \n",
              "4                                    [cin, >>, [CPY], ;]  \n",
              "...                                                  ...  \n",
              "19175            [[CPY], (, [CPY], ,, [CPY], +, m, ), ;]  \n",
              "19176            [[CPY], (, [CPY], ,, [CPY], +, m, ), ;]  \n",
              "19177            [[CPY], (, [CPY], ,, [CPY], +, m, ), ;]  \n",
              "19178  [[CPY], (, int, [CPY], [CPY], [CPY], ;, [CPY],...  \n",
              "19179  [[CPY], (, int, [CPY], [CPY], [CPY], ;, [CPY],...  \n",
              "\n",
              "[19180 rows x 7 columns]"
            ]
          },
          "execution_count": 8,
          "metadata": {},
          "output_type": "execute_result"
        }
      ],
      "source": [
        "gen_code_seq = eval_df.apply(create_gen_seq_from_code_row, axis=1)\n",
        "eval_df['code_gen_seq'] = gen_code_seq\n",
        "eval_df"
      ]
    },
    {
      "cell_type": "code",
      "execution_count": 9,
      "metadata": {
        "colab": {
          "base_uri": "https://localhost:8080/",
          "height": 887
        },
        "id": "krucIynxerhD",
        "outputId": "128ec7b9-1383-451b-9091-adc24fa51b4d"
      },
      "outputs": [
        {
          "data": {
            "text/html": [
              "<div>\n",
              "<style scoped>\n",
              "    .dataframe tbody tr th:only-of-type {\n",
              "        vertical-align: middle;\n",
              "    }\n",
              "\n",
              "    .dataframe tbody tr th {\n",
              "        vertical-align: top;\n",
              "    }\n",
              "\n",
              "    .dataframe thead th {\n",
              "        text-align: right;\n",
              "    }\n",
              "</style>\n",
              "<table border=\"1\" class=\"dataframe\">\n",
              "  <thead>\n",
              "    <tr style=\"text-align: right;\">\n",
              "      <th></th>\n",
              "      <th>pseudo</th>\n",
              "      <th>code</th>\n",
              "      <th>pseudo_token</th>\n",
              "      <th>code_token</th>\n",
              "      <th>pseudo_copy_seq</th>\n",
              "      <th>pseudo_gen_seq</th>\n",
              "      <th>code_gen_seq</th>\n",
              "      <th>code_gen_seq_aug</th>\n",
              "    </tr>\n",
              "  </thead>\n",
              "  <tbody>\n",
              "    <tr>\n",
              "      <th>0</th>\n",
              "      <td>let a , b , c , d , e be integers</td>\n",
              "      <td>int a , b , c , d , e ;</td>\n",
              "      <td>[let, a, ,, b, ,, c, ,, d, ,, e, be, integers]</td>\n",
              "      <td>[int, a, ,, b, ,, c, ,, d, ,, e, ;]</td>\n",
              "      <td>[0, 1, 1, 1, 1, 1, 1, 1, 1, 1, 0, 0]</td>\n",
              "      <td>[let, [CPY], [CPY], [CPY], [CPY], [CPY], [CPY]...</td>\n",
              "      <td>[int, [CPY], [CPY], [CPY], [CPY], [CPY], [CPY]...</td>\n",
              "      <td>[[START], int, [CPY], [CPY], [CPY], [CPY], [CP...</td>\n",
              "    </tr>\n",
              "    <tr>\n",
              "      <th>1</th>\n",
              "      <td>read a</td>\n",
              "      <td>cin &gt;&gt; a ;</td>\n",
              "      <td>[read, a]</td>\n",
              "      <td>[cin, &gt;&gt;, a, ;]</td>\n",
              "      <td>[0, 1]</td>\n",
              "      <td>[read, [CPY]]</td>\n",
              "      <td>[cin, &gt;&gt;, [CPY], ;]</td>\n",
              "      <td>[[START], cin, &gt;&gt;, [CPY], ;, [STOP]]</td>\n",
              "    </tr>\n",
              "    <tr>\n",
              "      <th>2</th>\n",
              "      <td>read b</td>\n",
              "      <td>cin &gt;&gt; b ;</td>\n",
              "      <td>[read, b]</td>\n",
              "      <td>[cin, &gt;&gt;, b, ;]</td>\n",
              "      <td>[0, 1]</td>\n",
              "      <td>[read, [CPY]]</td>\n",
              "      <td>[cin, &gt;&gt;, [CPY], ;]</td>\n",
              "      <td>[[START], cin, &gt;&gt;, [CPY], ;, [STOP]]</td>\n",
              "    </tr>\n",
              "    <tr>\n",
              "      <th>3</th>\n",
              "      <td>read c</td>\n",
              "      <td>cin &gt;&gt; c ;</td>\n",
              "      <td>[read, c]</td>\n",
              "      <td>[cin, &gt;&gt;, c, ;]</td>\n",
              "      <td>[0, 1]</td>\n",
              "      <td>[read, [CPY]]</td>\n",
              "      <td>[cin, &gt;&gt;, [CPY], ;]</td>\n",
              "      <td>[[START], cin, &gt;&gt;, [CPY], ;, [STOP]]</td>\n",
              "    </tr>\n",
              "    <tr>\n",
              "      <th>4</th>\n",
              "      <td>read d</td>\n",
              "      <td>cin &gt;&gt; d ;</td>\n",
              "      <td>[read, d]</td>\n",
              "      <td>[cin, &gt;&gt;, d, ;]</td>\n",
              "      <td>[0, 1]</td>\n",
              "      <td>[read, [CPY]]</td>\n",
              "      <td>[cin, &gt;&gt;, [CPY], ;]</td>\n",
              "      <td>[[START], cin, &gt;&gt;, [CPY], ;, [STOP]]</td>\n",
              "    </tr>\n",
              "    <tr>\n",
              "      <th>...</th>\n",
              "      <td>...</td>\n",
              "      <td>...</td>\n",
              "      <td>...</td>\n",
              "      <td>...</td>\n",
              "      <td>...</td>\n",
              "      <td>...</td>\n",
              "      <td>...</td>\n",
              "      <td>...</td>\n",
              "    </tr>\n",
              "    <tr>\n",
              "      <th>19175</th>\n",
              "      <td>sort array a</td>\n",
              "      <td>sort ( a , a + m ) ;</td>\n",
              "      <td>[sort, array, a]</td>\n",
              "      <td>[sort, (, a, ,, a, +, m, ), ;]</td>\n",
              "      <td>[1, 0, 1]</td>\n",
              "      <td>[[CPY], array, [CPY]]</td>\n",
              "      <td>[[CPY], (, [CPY], ,, [CPY], +, m, ), ;]</td>\n",
              "      <td>[[START], [CPY], (, [CPY], ,, [CPY], +, m, ), ...</td>\n",
              "    </tr>\n",
              "    <tr>\n",
              "      <th>19176</th>\n",
              "      <td>sort b</td>\n",
              "      <td>sort ( b , b + m ) ;</td>\n",
              "      <td>[sort, b]</td>\n",
              "      <td>[sort, (, b, ,, b, +, m, ), ;]</td>\n",
              "      <td>[1, 1]</td>\n",
              "      <td>[[CPY], [CPY]]</td>\n",
              "      <td>[[CPY], (, [CPY], ,, [CPY], +, m, ), ;]</td>\n",
              "      <td>[[START], [CPY], (, [CPY], ,, [CPY], +, m, ), ...</td>\n",
              "    </tr>\n",
              "    <tr>\n",
              "      <th>19177</th>\n",
              "      <td>reverse b</td>\n",
              "      <td>reverse ( b , b + m ) ;</td>\n",
              "      <td>[reverse, b]</td>\n",
              "      <td>[reverse, (, b, ,, b, +, m, ), ;]</td>\n",
              "      <td>[1, 1]</td>\n",
              "      <td>[[CPY], [CPY]]</td>\n",
              "      <td>[[CPY], (, [CPY], ,, [CPY], +, m, ), ;]</td>\n",
              "      <td>[[START], [CPY], (, [CPY], ,, [CPY], +, m, ), ...</td>\n",
              "    </tr>\n",
              "    <tr>\n",
              "      <th>19178</th>\n",
              "      <td>for i = 0 to m exclusive , set cnt [ b [ i ] ....</td>\n",
              "      <td>for ( int i = 0 ; i &lt; m ; ++ i ) { cnt [ b [ i...</td>\n",
              "      <td>[for, i, =, 0, to, m, exclusive, ,, set, cnt, ...</td>\n",
              "      <td>[for, (, int, i, =, 0, ;, i, &lt;, m, ;, ++, i, )...</td>\n",
              "      <td>[1, 1, 1, 1, 0, 1, 0, 0, 0, 1, 1, 1, 1, 1, 1, ...</td>\n",
              "      <td>[[CPY], [CPY], [CPY], [CPY], to, [CPY], exclus...</td>\n",
              "      <td>[[CPY], (, int, [CPY], [CPY], [CPY], ;, [CPY],...</td>\n",
              "      <td>[[START], [CPY], (, int, [CPY], [CPY], [CPY], ...</td>\n",
              "    </tr>\n",
              "    <tr>\n",
              "      <th>19179</th>\n",
              "      <td>for i = 0 to m exclusive , print cnt [ i ] and...</td>\n",
              "      <td>for ( int i = 0 ; i &lt; m ; ++ i ) cout &lt;&lt; cnt [...</td>\n",
              "      <td>[for, i, =, 0, to, m, exclusive, ,, print, cnt...</td>\n",
              "      <td>[for, (, int, i, =, 0, ;, i, &lt;, m, ;, ++, i, )...</td>\n",
              "      <td>[1, 1, 1, 1, 0, 1, 0, 0, 0, 1, 1, 1, 1, 0, 1, ...</td>\n",
              "      <td>[[CPY], [CPY], [CPY], [CPY], to, [CPY], exclus...</td>\n",
              "      <td>[[CPY], (, int, [CPY], [CPY], [CPY], ;, [CPY],...</td>\n",
              "      <td>[[START], [CPY], (, int, [CPY], [CPY], [CPY], ...</td>\n",
              "    </tr>\n",
              "  </tbody>\n",
              "</table>\n",
              "<p>19180 rows × 8 columns</p>\n",
              "</div>"
            ],
            "text/plain": [
              "                                                  pseudo  \\\n",
              "0                      let a , b , c , d , e be integers   \n",
              "1                                                 read a   \n",
              "2                                                 read b   \n",
              "3                                                 read c   \n",
              "4                                                 read d   \n",
              "...                                                  ...   \n",
              "19175                                       sort array a   \n",
              "19176                                             sort b   \n",
              "19177                                          reverse b   \n",
              "19178  for i = 0 to m exclusive , set cnt [ b [ i ] ....   \n",
              "19179  for i = 0 to m exclusive , print cnt [ i ] and...   \n",
              "\n",
              "                                                    code  \\\n",
              "0                                int a , b , c , d , e ;   \n",
              "1                                             cin >> a ;   \n",
              "2                                             cin >> b ;   \n",
              "3                                             cin >> c ;   \n",
              "4                                             cin >> d ;   \n",
              "...                                                  ...   \n",
              "19175                               sort ( a , a + m ) ;   \n",
              "19176                               sort ( b , b + m ) ;   \n",
              "19177                            reverse ( b , b + m ) ;   \n",
              "19178  for ( int i = 0 ; i < m ; ++ i ) { cnt [ b [ i...   \n",
              "19179  for ( int i = 0 ; i < m ; ++ i ) cout << cnt [...   \n",
              "\n",
              "                                            pseudo_token  \\\n",
              "0         [let, a, ,, b, ,, c, ,, d, ,, e, be, integers]   \n",
              "1                                              [read, a]   \n",
              "2                                              [read, b]   \n",
              "3                                              [read, c]   \n",
              "4                                              [read, d]   \n",
              "...                                                  ...   \n",
              "19175                                   [sort, array, a]   \n",
              "19176                                          [sort, b]   \n",
              "19177                                       [reverse, b]   \n",
              "19178  [for, i, =, 0, to, m, exclusive, ,, set, cnt, ...   \n",
              "19179  [for, i, =, 0, to, m, exclusive, ,, print, cnt...   \n",
              "\n",
              "                                              code_token  \\\n",
              "0                    [int, a, ,, b, ,, c, ,, d, ,, e, ;]   \n",
              "1                                        [cin, >>, a, ;]   \n",
              "2                                        [cin, >>, b, ;]   \n",
              "3                                        [cin, >>, c, ;]   \n",
              "4                                        [cin, >>, d, ;]   \n",
              "...                                                  ...   \n",
              "19175                     [sort, (, a, ,, a, +, m, ), ;]   \n",
              "19176                     [sort, (, b, ,, b, +, m, ), ;]   \n",
              "19177                  [reverse, (, b, ,, b, +, m, ), ;]   \n",
              "19178  [for, (, int, i, =, 0, ;, i, <, m, ;, ++, i, )...   \n",
              "19179  [for, (, int, i, =, 0, ;, i, <, m, ;, ++, i, )...   \n",
              "\n",
              "                                         pseudo_copy_seq  \\\n",
              "0                   [0, 1, 1, 1, 1, 1, 1, 1, 1, 1, 0, 0]   \n",
              "1                                                 [0, 1]   \n",
              "2                                                 [0, 1]   \n",
              "3                                                 [0, 1]   \n",
              "4                                                 [0, 1]   \n",
              "...                                                  ...   \n",
              "19175                                          [1, 0, 1]   \n",
              "19176                                             [1, 1]   \n",
              "19177                                             [1, 1]   \n",
              "19178  [1, 1, 1, 1, 0, 1, 0, 0, 0, 1, 1, 1, 1, 1, 1, ...   \n",
              "19179  [1, 1, 1, 1, 0, 1, 0, 0, 0, 1, 1, 1, 1, 0, 1, ...   \n",
              "\n",
              "                                          pseudo_gen_seq  \\\n",
              "0      [let, [CPY], [CPY], [CPY], [CPY], [CPY], [CPY]...   \n",
              "1                                          [read, [CPY]]   \n",
              "2                                          [read, [CPY]]   \n",
              "3                                          [read, [CPY]]   \n",
              "4                                          [read, [CPY]]   \n",
              "...                                                  ...   \n",
              "19175                              [[CPY], array, [CPY]]   \n",
              "19176                                     [[CPY], [CPY]]   \n",
              "19177                                     [[CPY], [CPY]]   \n",
              "19178  [[CPY], [CPY], [CPY], [CPY], to, [CPY], exclus...   \n",
              "19179  [[CPY], [CPY], [CPY], [CPY], to, [CPY], exclus...   \n",
              "\n",
              "                                            code_gen_seq  \\\n",
              "0      [int, [CPY], [CPY], [CPY], [CPY], [CPY], [CPY]...   \n",
              "1                                    [cin, >>, [CPY], ;]   \n",
              "2                                    [cin, >>, [CPY], ;]   \n",
              "3                                    [cin, >>, [CPY], ;]   \n",
              "4                                    [cin, >>, [CPY], ;]   \n",
              "...                                                  ...   \n",
              "19175            [[CPY], (, [CPY], ,, [CPY], +, m, ), ;]   \n",
              "19176            [[CPY], (, [CPY], ,, [CPY], +, m, ), ;]   \n",
              "19177            [[CPY], (, [CPY], ,, [CPY], +, m, ), ;]   \n",
              "19178  [[CPY], (, int, [CPY], [CPY], [CPY], ;, [CPY],...   \n",
              "19179  [[CPY], (, int, [CPY], [CPY], [CPY], ;, [CPY],...   \n",
              "\n",
              "                                        code_gen_seq_aug  \n",
              "0      [[START], int, [CPY], [CPY], [CPY], [CPY], [CP...  \n",
              "1                   [[START], cin, >>, [CPY], ;, [STOP]]  \n",
              "2                   [[START], cin, >>, [CPY], ;, [STOP]]  \n",
              "3                   [[START], cin, >>, [CPY], ;, [STOP]]  \n",
              "4                   [[START], cin, >>, [CPY], ;, [STOP]]  \n",
              "...                                                  ...  \n",
              "19175  [[START], [CPY], (, [CPY], ,, [CPY], +, m, ), ...  \n",
              "19176  [[START], [CPY], (, [CPY], ,, [CPY], +, m, ), ...  \n",
              "19177  [[START], [CPY], (, [CPY], ,, [CPY], +, m, ), ...  \n",
              "19178  [[START], [CPY], (, int, [CPY], [CPY], [CPY], ...  \n",
              "19179  [[START], [CPY], (, int, [CPY], [CPY], [CPY], ...  \n",
              "\n",
              "[19180 rows x 8 columns]"
            ]
          },
          "execution_count": 9,
          "metadata": {},
          "output_type": "execute_result"
        }
      ],
      "source": [
        "eval_df['code_gen_seq_aug'] = eval_df['code_gen_seq'].apply(lambda x: ['[START]'] + x + ['[STOP]'])\n",
        "eval_df"
      ]
    },
    {
      "cell_type": "code",
      "execution_count": 10,
      "metadata": {},
      "outputs": [],
      "source": [
        "eval_df[['pseudo_gen_seq', 'code_gen_seq', 'code_gen_seq_aug']].to_pickle('../../data/CPY_dataset_eval.pkl')"
      ]
    },
    {
      "cell_type": "markdown",
      "metadata": {
        "id": "JlLEsxXserhE"
      },
      "source": [
        "### Get Vocabulary of pseudocode and code"
      ]
    },
    {
      "cell_type": "code",
      "execution_count": 11,
      "metadata": {},
      "outputs": [],
      "source": [
        "# Read the consts.csv\n",
        "consts_df = pd.read_csv('consts.csv', header=None, index_col=0)"
      ]
    },
    {
      "cell_type": "code",
      "execution_count": 12,
      "metadata": {},
      "outputs": [],
      "source": [
        "max_pseudo_gen = consts_df.loc['max_pseudo_gen'][1]\n",
        "max_code_gen = consts_df.loc['max_code_gen'][1]\n",
        "max_code_gen_aug = consts_df.loc['max_code_gen_aug'][1]"
      ]
    },
    {
      "cell_type": "code",
      "execution_count": 13,
      "metadata": {
        "id": "0W-KdwxBerhE"
      },
      "outputs": [],
      "source": [
        "# def get_vocab(column_name):\n",
        "#     vocab = set()\n",
        "#     for line in train_df[column_name]:\n",
        "#         for token in line:\n",
        "#             vocab.add(token) \n",
        "#     return vocab"
      ]
    },
    {
      "cell_type": "code",
      "execution_count": 14,
      "metadata": {
        "id": "mII6BZt9erhF"
      },
      "outputs": [],
      "source": [
        "# def get_max_len(column_name):\n",
        "#     maxlist = max(train_df[column_name], key=len)\n",
        "#     return len(maxlist)"
      ]
    },
    {
      "cell_type": "code",
      "execution_count": 15,
      "metadata": {
        "id": "P2YKtmS3erhF"
      },
      "outputs": [],
      "source": [
        "# pseudo_gen_vocab = get_vocab('pseudo_gen_seq')\n",
        "# code_gen_aug_vocab = get_vocab('code_gen_seq_aug')"
      ]
    },
    {
      "cell_type": "code",
      "execution_count": 16,
      "metadata": {
        "id": "Lp5Di-89erhH"
      },
      "outputs": [],
      "source": [
        "# max_pseudo_gen = get_max_len('pseudo_gen_seq')\n",
        "# max_code_gen = get_max_len('code_gen_seq')\n",
        "# max_code_gen_aug = get_max_len('code_gen_seq_aug')"
      ]
    },
    {
      "cell_type": "markdown",
      "metadata": {
        "id": "ImGS_qbDerhH"
      },
      "source": [
        "## Make Indexes for each word"
      ]
    },
    {
      "cell_type": "code",
      "execution_count": 17,
      "metadata": {
        "id": "u-koLBAUerhH"
      },
      "outputs": [],
      "source": [
        "# input_words = sorted(list(pseudo_gen_vocab)) + ['[UNK]']\n",
        "# output_words = sorted(list(code_gen_aug_vocab))"
      ]
    },
    {
      "cell_type": "code",
      "execution_count": 18,
      "metadata": {},
      "outputs": [],
      "source": [
        "import pickle\n",
        "input_words = pickle.load(open('input_words.pkl', 'rb'))\n",
        "output_words = pickle.load(open('output_words.pkl', 'rb'))"
      ]
    },
    {
      "cell_type": "code",
      "execution_count": 19,
      "metadata": {
        "id": "_Og8NUw5erhH"
      },
      "outputs": [],
      "source": [
        "pseudo_token_index = dict([(word, i+1) for i, word in enumerate(input_words)])\n",
        "code_token_index = dict([(word, i+1) for i, word in enumerate(output_words)])\n",
        "\n",
        "reverse_pseudo_index = dict((i, word) for word, i in pseudo_token_index.items())\n",
        "reverse_code_index = dict((i, word) for word, i in code_token_index.items())"
      ]
    },
    {
      "cell_type": "code",
      "execution_count": 20,
      "metadata": {},
      "outputs": [],
      "source": [
        "pseudo_token_index = defaultdict(lambda: pseudo_token_index[''], pseudo_token_index)\n",
        "code_token_index = defaultdict(lambda: code_token_index[''], code_token_index)"
      ]
    },
    {
      "cell_type": "markdown",
      "metadata": {
        "id": "8B6b1XQFerhI"
      },
      "source": [
        "# Define Seq2Seq model"
      ]
    },
    {
      "cell_type": "code",
      "execution_count": 21,
      "metadata": {
        "id": "O2enjVLcerhI"
      },
      "outputs": [],
      "source": [
        "num_encoder_tokens = len(input_words) + 1\n",
        "latent_dim = 50 \n",
        "num_decoder_tokens = len(output_words) + 1 \n",
        "# +1 because of 0 padding. No. of tokens = 1078 but the index starts from 1 not from 0 so add 1"
      ]
    },
    {
      "cell_type": "markdown",
      "metadata": {
        "id": "RBh0_rY4erhI"
      },
      "source": [
        "### Seq2Seq learning for generation"
      ]
    },
    {
      "cell_type": "markdown",
      "metadata": {
        "id": "0c3PkjSberhI"
      },
      "source": [
        "#### Define Placeholders for the input tensors"
      ]
    },
    {
      "cell_type": "code",
      "execution_count": 22,
      "metadata": {
        "id": "q85MdiSVofs4"
      },
      "outputs": [],
      "source": [
        "encoder_input_data = None\n",
        "decoder_input_data = None\n",
        "decoder_target_data = None"
      ]
    },
    {
      "cell_type": "code",
      "execution_count": 23,
      "metadata": {
        "id": "NY2d629ho6pv"
      },
      "outputs": [],
      "source": [
        "encoder_matrix_inputs = {\n",
        "  'coords': [\n",
        "    [],\n",
        "    []\n",
        "  ],\n",
        "  'data': []\n",
        "}\n",
        "\n",
        "decoder_matrix_inputs = {\n",
        "  'coords': [\n",
        "    [],\n",
        "    []\n",
        "  ],\n",
        "  'data': []\n",
        "}"
      ]
    },
    {
      "cell_type": "code",
      "execution_count": 24,
      "metadata": {
        "id": "dkxynKRQqFYX"
      },
      "outputs": [],
      "source": [
        "decoder_target_matrix_inputs = {\n",
        "  'coords': [\n",
        "    [],\n",
        "    [],\n",
        "    []\n",
        "  ],\n",
        "  'data': []\n",
        "}"
      ]
    },
    {
      "cell_type": "code",
      "execution_count": 25,
      "metadata": {
        "id": "-JsoC7m2erhJ"
      },
      "outputs": [],
      "source": [
        "# encoder_input_data = np.zeros((train_df['pseudo_gen_seq'].shape[0], max_pseudo_gen), dtype='float32')\n"
      ]
    },
    {
      "cell_type": "code",
      "execution_count": 26,
      "metadata": {
        "id": "9x4TQ3_xlB2Z"
      },
      "outputs": [],
      "source": [
        "# decoder_input_data = np.zeros((train_df['pseudo_gen_seq'].shape[0], max_code_gen_aug), dtype='float32')"
      ]
    },
    {
      "cell_type": "code",
      "execution_count": 27,
      "metadata": {
        "id": "dzoOhNDulT5q"
      },
      "outputs": [],
      "source": [
        "# decoder_target_data = np.zeros((train_df['pseudo_gen_seq'].shape[0], max_code_gen_aug, num_decoder_tokens), dtype='float32')"
      ]
    },
    {
      "cell_type": "code",
      "execution_count": 28,
      "metadata": {
        "id": "I1CJg8keerhJ"
      },
      "outputs": [],
      "source": [
        "# print(encoder_input_data.shape)\n",
        "# print(decoder_input_data.shape)\n",
        "# print(decoder_target_data.shape)"
      ]
    },
    {
      "cell_type": "code",
      "execution_count": 29,
      "metadata": {
        "id": "PZor2PkVkWjq"
      },
      "outputs": [],
      "source": [
        "# errpr"
      ]
    },
    {
      "cell_type": "code",
      "execution_count": 30,
      "metadata": {
        "id": "TIRrlPfeerhJ"
      },
      "outputs": [],
      "source": [
        "for i, (input_seq, target_seq) in enumerate(eval_df[['pseudo_gen_seq', 'code_gen_seq_aug']].values):\n",
        "  # print(input_text, target_text)\n",
        "  for t, word in enumerate(input_seq):\n",
        "    encoder_matrix_inputs['coords'][0].append(i)\n",
        "    encoder_matrix_inputs['coords'][1].append(t)\n",
        "    encoder_matrix_inputs['data'].append(pseudo_token_index[word])\n",
        "    # encoder_input_data[i, t] = pseudo_token_index[word]\n",
        "\n",
        "  for t, word in enumerate(target_seq):\n",
        "    # print(t, word)\n",
        "    # decoder_target_data is ahead of decoder_input_data by one timestep\n",
        "    decoder_matrix_inputs['coords'][0].append(i)\n",
        "    decoder_matrix_inputs['coords'][1].append(t)\n",
        "    decoder_matrix_inputs['data'].append(code_token_index[word])\n",
        "\n",
        "    # decoder_input_data[i, t] = code_token_index[word]   \n",
        "    # print(word, code_token_index[word])\n",
        "    if t > 0:\n",
        "      # decoder_target_data will be ahead by one timestep\n",
        "      # and will not include the start character.\n",
        "      # decoder_target_data[i, t - 1, code_token_index[word]] = 1\n",
        "      decoder_target_matrix_inputs['coords'][0].append(i)\n",
        "      decoder_target_matrix_inputs['coords'][1].append(t-1)\n",
        "      decoder_target_matrix_inputs['coords'][2].append(code_token_index[word])\n",
        "      decoder_target_matrix_inputs['data'].append(1.0)"
      ]
    },
    {
      "cell_type": "code",
      "execution_count": 31,
      "metadata": {
        "colab": {
          "base_uri": "https://localhost:8080/",
          "height": 190
        },
        "id": "SJ6aM3ZQq5lP",
        "outputId": "a005bc52-aa6f-4464-ef38-e10fa82c9b77"
      },
      "outputs": [
        {
          "data": {
            "text/html": [
              "<table><tbody><tr><th style=\"text-align: left\">Format</th><td style=\"text-align: left\">coo</td></tr><tr><th style=\"text-align: left\">Data Type</th><td style=\"text-align: left\">int64</td></tr><tr><th style=\"text-align: left\">Shape</th><td style=\"text-align: left\">(19180, 85)</td></tr><tr><th style=\"text-align: left\">nnz</th><td style=\"text-align: left\">145765</td></tr><tr><th style=\"text-align: left\">Density</th><td style=\"text-align: left\">0.0894099245537631</td></tr><tr><th style=\"text-align: left\">Read-only</th><td style=\"text-align: left\">True</td></tr><tr><th style=\"text-align: left\">Size</th><td style=\"text-align: left\">3.3M</td></tr><tr><th style=\"text-align: left\">Storage ratio</th><td style=\"text-align: left\">0.3</td></tr></tbody></table>"
            ],
            "text/plain": [
              "<COO: shape=(19180, 85), dtype=int64, nnz=145765, fill_value=0>"
            ]
          },
          "execution_count": 31,
          "metadata": {},
          "output_type": "execute_result"
        }
      ],
      "source": [
        "encoder_input_data = sparse.COO(**encoder_matrix_inputs, shape=(eval_df['pseudo_gen_seq'].shape[0], max_pseudo_gen))\n",
        "encoder_input_data"
      ]
    },
    {
      "cell_type": "code",
      "execution_count": 32,
      "metadata": {
        "colab": {
          "base_uri": "https://localhost:8080/",
          "height": 190
        },
        "id": "78h7DLhgrSZP",
        "outputId": "8c7da49b-c654-4f32-cc60-5657be83a367"
      },
      "outputs": [
        {
          "data": {
            "text/html": [
              "<table><tbody><tr><th style=\"text-align: left\">Format</th><td style=\"text-align: left\">coo</td></tr><tr><th style=\"text-align: left\">Data Type</th><td style=\"text-align: left\">int64</td></tr><tr><th style=\"text-align: left\">Shape</th><td style=\"text-align: left\">(19180, 87)</td></tr><tr><th style=\"text-align: left\">nnz</th><td style=\"text-align: left\">207845</td></tr><tr><th style=\"text-align: left\">Density</th><td style=\"text-align: left\">0.12455802859779704</td></tr><tr><th style=\"text-align: left\">Read-only</th><td style=\"text-align: left\">True</td></tr><tr><th style=\"text-align: left\">Size</th><td style=\"text-align: left\">4.8M</td></tr><tr><th style=\"text-align: left\">Storage ratio</th><td style=\"text-align: left\">0.4</td></tr></tbody></table>"
            ],
            "text/plain": [
              "<COO: shape=(19180, 87), dtype=int64, nnz=207845, fill_value=0>"
            ]
          },
          "execution_count": 32,
          "metadata": {},
          "output_type": "execute_result"
        }
      ],
      "source": [
        "decoder_input_data = sparse.COO(**decoder_matrix_inputs, shape=(eval_df['pseudo_gen_seq'].shape[0], max_code_gen_aug))\n",
        "decoder_input_data"
      ]
    },
    {
      "cell_type": "code",
      "execution_count": 33,
      "metadata": {
        "colab": {
          "base_uri": "https://localhost:8080/",
          "height": 190
        },
        "id": "XLWae81rrbmu",
        "outputId": "02b0f763-8409-4d5f-b475-e25ff011e870"
      },
      "outputs": [
        {
          "data": {
            "text/html": [
              "<table><tbody><tr><th style=\"text-align: left\">Format</th><td style=\"text-align: left\">coo</td></tr><tr><th style=\"text-align: left\">Data Type</th><td style=\"text-align: left\">float64</td></tr><tr><th style=\"text-align: left\">Shape</th><td style=\"text-align: left\">(19180, 87, 1079)</td></tr><tr><th style=\"text-align: left\">nnz</th><td style=\"text-align: left\">188665</td></tr><tr><th style=\"text-align: left\">Density</th><td style=\"text-align: left\">0.00010478570502709344</td></tr><tr><th style=\"text-align: left\">Read-only</th><td style=\"text-align: left\">True</td></tr><tr><th style=\"text-align: left\">Size</th><td style=\"text-align: left\">5.8M</td></tr><tr><th style=\"text-align: left\">Storage ratio</th><td style=\"text-align: left\">0.0</td></tr></tbody></table>"
            ],
            "text/plain": [
              "<COO: shape=(19180, 87, 1079), dtype=float64, nnz=188665, fill_value=0.0>"
            ]
          },
          "execution_count": 33,
          "metadata": {},
          "output_type": "execute_result"
        }
      ],
      "source": [
        "decoder_target_data = sparse.COO(**decoder_target_matrix_inputs, shape=(eval_df['pseudo_gen_seq'].shape[0], max_code_gen_aug, num_decoder_tokens))\n",
        "decoder_target_data"
      ]
    },
    {
      "cell_type": "code",
      "execution_count": 34,
      "metadata": {
        "colab": {
          "base_uri": "https://localhost:8080/"
        },
        "id": "OoWz1CAwerhJ",
        "outputId": "5ad3d19a-8753-4368-964f-e3f394818ffa"
      },
      "outputs": [
        {
          "name": "stdout",
          "output_type": "stream",
          "text": [
            "['[START]', 'int', '[CPY]', '[CPY]', '[CPY]', '[CPY]', '[CPY]', ';', '[STOP]']\n"
          ]
        },
        {
          "data": {
            "text/plain": [
              "(1079,)"
            ]
          },
          "execution_count": 34,
          "metadata": {},
          "output_type": "execute_result"
        }
      ],
      "source": [
        "# # print(train_df['pseudo_gen_seq'][1500])\n",
        "# # encoder_input_data[1500][:100]\n",
        "\n",
        "print(eval_df['code_gen_seq_aug'][1500])\n",
        "# # decoder_input_data[1500][:100]\n",
        "decoder_target_data[1500][1].shape"
      ]
    },
    {
      "cell_type": "markdown",
      "metadata": {
        "id": "FVvrCn13erhK"
      },
      "source": [
        "### Inference"
      ]
    },
    {
      "cell_type": "code",
      "execution_count": 35,
      "metadata": {
        "colab": {
          "base_uri": "https://localhost:8080/"
        },
        "id": "WXRBbuLzerhK",
        "outputId": "c41c9702-69a4-4ccc-eb62-84507476eaa2"
      },
      "outputs": [
        {
          "name": "stderr",
          "output_type": "stream",
          "text": [
            "2022-05-04 11:28:52.095932: I tensorflow/core/platform/cpu_feature_guard.cc:151] This TensorFlow binary is optimized with oneAPI Deep Neural Network Library (oneDNN) to use the following CPU instructions in performance-critical operations:  AVX2 FMA\n",
            "To enable them in other operations, rebuild TensorFlow with the appropriate compiler flags.\n"
          ]
        },
        {
          "name": "stdout",
          "output_type": "stream",
          "text": [
            "WARNING:tensorflow:No training configuration found in the save file, so the model was *not* compiled. Compile it manually.\n",
            "WARNING:tensorflow:No training configuration found in the save file, so the model was *not* compiled. Compile it manually.\n"
          ]
        }
      ],
      "source": [
        "# Load a keras saved model\n",
        "\n",
        "model = tf.keras.models.load_model('../models/50_epochs_saved/model_50_epochs.h5', compile=True)\n",
        "encoder = tf.keras.models.load_model('../models/50_epochs_saved/encoder_50_epochs.h5', compile=True)\n",
        "decoder = tf.keras.models.load_model('../models/50_epochs_saved/decoder_50_epochs.h5', compile=True)"
      ]
    },
    {
      "cell_type": "code",
      "execution_count": 36,
      "metadata": {
        "id": "7LWOSGNlerhK"
      },
      "outputs": [],
      "source": [
        "def decode_sequence(input_seq):\n",
        "    # Encode the input as state vectors.\n",
        "    # states_value = encoder_model.predict(input_seq)\n",
        "    # try:\n",
        "    states_value = encoder.predict(input_seq)\n",
        "    # except Exception as e:\n",
        "    #     print(e)\n",
        "    #     print(input_seq)\n",
        "    #     print(input_seq.shape)\n",
        "    #     return\n",
        "\n",
        "    # Generate empty target sequence of length 1.\n",
        "    target_seq = np.zeros((1,1))\n",
        "    \n",
        "    # Populate the first character of target sequence with the start character.\n",
        "    target_seq[0, 0] = code_token_index['[START]']\n",
        "    \n",
        "    # Sampling loop for a batch of sequences\n",
        "    # (to simplify, here we assume a batch of size 1).\n",
        "    stop_condition = False\n",
        "    # decoded_sentence = ''\n",
        "    decoded_sentence = []\n",
        "    \n",
        "    while not stop_condition:\n",
        "        output_tokens, h, c = decoder.predict([target_seq] + states_value)\n",
        "        # Sample a token\n",
        "        sampled_token_index = np.argmax(output_tokens[0, -1, :])\n",
        "        sampled_char = reverse_code_index[sampled_token_index]\n",
        "        # decoded_sentence += ' '+sampled_char\n",
        "        decoded_sentence.append(sampled_char)\n",
        "        \n",
        "        # Exit condition: either hit max length or find stop token.\n",
        "        if (sampled_char == '[STOP]' or len(decoded_sentence) > 50):\n",
        "            stop_condition = True\n",
        "        \n",
        "        # Update the target sequence (of length 1).\n",
        "        target_seq = np.zeros((1,1))\n",
        "        target_seq[0, 0] = sampled_token_index\n",
        "        \n",
        "        # Update states\n",
        "        states_value = [h, c]\n",
        "    \n",
        "    return decoded_sentence"
      ]
    },
    {
      "cell_type": "code",
      "execution_count": 37,
      "metadata": {
        "colab": {
          "base_uri": "https://localhost:8080/"
        },
        "id": "MXIk53FCerhK",
        "outputId": "ce73c521-3fb8-4418-a7cd-25721cc6fb7d"
      },
      "outputs": [
        {
          "name": "stdout",
          "output_type": "stream",
          "text": [
            "-\n",
            "Input sentence: 599    [print, [CPY], and, endline]\n",
            "Name: pseudo_gen_seq, dtype: object\n",
            "True sentence: 599    [[START], cout, <<, [CPY], <<, endl, ;, [STOP]]\n",
            "Name: code_gen_seq_aug, dtype: object\n",
            "Decoded sentence: ['cout', '<<', '[CPY]', '<<', 'endl', ';', '[STOP]']\n",
            "-\n",
            "Input sentence: 100    [print, [CPY], [CPY]]\n",
            "Name: pseudo_gen_seq, dtype: object\n",
            "True sentence: 100    [[START], cout, <<, [CPY], [CPY], <<, endl, ;,...\n",
            "Name: code_gen_seq_aug, dtype: object\n",
            "Decoded sentence: ['cout', '<<', '[CPY]', '[CPY]', '<<', 'endl', ';', '[STOP]']\n"
          ]
        }
      ],
      "source": [
        "for seq_index in [599, 100]:\n",
        "    # print(encoder_input_data[seq_index])\n",
        "    input_seq = encoder_input_data[seq_index: seq_index+1].todense()\n",
        "    # print(input_seq)\n",
        "    decoded_sentence = decode_sequence(input_seq)\n",
        "    print('-')\n",
        "    print('Input sentence:', eval_df['pseudo_gen_seq'][seq_index: seq_index + 1])\n",
        "    print('True sentence:', eval_df['code_gen_seq_aug'][seq_index: seq_index + 1])\n",
        "    print('Decoded sentence:', decoded_sentence)"
      ]
    },
    {
      "cell_type": "code",
      "execution_count": 38,
      "metadata": {
        "colab": {
          "base_uri": "https://localhost:8080/",
          "height": 423
        },
        "id": "X2tWU_uVerhL",
        "outputId": "756cc73d-14fe-4d61-e0b8-3353f22713bd"
      },
      "outputs": [
        {
          "data": {
            "text/html": [
              "<div>\n",
              "<style scoped>\n",
              "    .dataframe tbody tr th:only-of-type {\n",
              "        vertical-align: middle;\n",
              "    }\n",
              "\n",
              "    .dataframe tbody tr th {\n",
              "        vertical-align: top;\n",
              "    }\n",
              "\n",
              "    .dataframe thead th {\n",
              "        text-align: right;\n",
              "    }\n",
              "</style>\n",
              "<table border=\"1\" class=\"dataframe\">\n",
              "  <thead>\n",
              "    <tr style=\"text-align: right;\">\n",
              "      <th></th>\n",
              "      <th>pseudo_gen_seq</th>\n",
              "      <th>code_gen_seq</th>\n",
              "      <th>pred_code_gen_seq</th>\n",
              "    </tr>\n",
              "  </thead>\n",
              "  <tbody>\n",
              "    <tr>\n",
              "      <th>0</th>\n",
              "      <td>[let, [CPY], [CPY], [CPY], [CPY], [CPY], [CPY]...</td>\n",
              "      <td>[int, [CPY], [CPY], [CPY], [CPY], [CPY], [CPY]...</td>\n",
              "      <td></td>\n",
              "    </tr>\n",
              "    <tr>\n",
              "      <th>1</th>\n",
              "      <td>[read, [CPY]]</td>\n",
              "      <td>[cin, &gt;&gt;, [CPY], ;]</td>\n",
              "      <td></td>\n",
              "    </tr>\n",
              "    <tr>\n",
              "      <th>2</th>\n",
              "      <td>[read, [CPY]]</td>\n",
              "      <td>[cin, &gt;&gt;, [CPY], ;]</td>\n",
              "      <td></td>\n",
              "    </tr>\n",
              "    <tr>\n",
              "      <th>3</th>\n",
              "      <td>[read, [CPY]]</td>\n",
              "      <td>[cin, &gt;&gt;, [CPY], ;]</td>\n",
              "      <td></td>\n",
              "    </tr>\n",
              "    <tr>\n",
              "      <th>4</th>\n",
              "      <td>[read, [CPY]]</td>\n",
              "      <td>[cin, &gt;&gt;, [CPY], ;]</td>\n",
              "      <td></td>\n",
              "    </tr>\n",
              "    <tr>\n",
              "      <th>...</th>\n",
              "      <td>...</td>\n",
              "      <td>...</td>\n",
              "      <td>...</td>\n",
              "    </tr>\n",
              "    <tr>\n",
              "      <th>19175</th>\n",
              "      <td>[[CPY], array, [CPY]]</td>\n",
              "      <td>[[CPY], (, [CPY], ,, [CPY], +, m, ), ;]</td>\n",
              "      <td></td>\n",
              "    </tr>\n",
              "    <tr>\n",
              "      <th>19176</th>\n",
              "      <td>[[CPY], [CPY]]</td>\n",
              "      <td>[[CPY], (, [CPY], ,, [CPY], +, m, ), ;]</td>\n",
              "      <td></td>\n",
              "    </tr>\n",
              "    <tr>\n",
              "      <th>19177</th>\n",
              "      <td>[[CPY], [CPY]]</td>\n",
              "      <td>[[CPY], (, [CPY], ,, [CPY], +, m, ), ;]</td>\n",
              "      <td></td>\n",
              "    </tr>\n",
              "    <tr>\n",
              "      <th>19178</th>\n",
              "      <td>[[CPY], [CPY], [CPY], [CPY], to, [CPY], exclus...</td>\n",
              "      <td>[[CPY], (, int, [CPY], [CPY], [CPY], ;, [CPY],...</td>\n",
              "      <td></td>\n",
              "    </tr>\n",
              "    <tr>\n",
              "      <th>19179</th>\n",
              "      <td>[[CPY], [CPY], [CPY], [CPY], to, [CPY], exclus...</td>\n",
              "      <td>[[CPY], (, int, [CPY], [CPY], [CPY], ;, [CPY],...</td>\n",
              "      <td></td>\n",
              "    </tr>\n",
              "  </tbody>\n",
              "</table>\n",
              "<p>19180 rows × 3 columns</p>\n",
              "</div>"
            ],
            "text/plain": [
              "                                          pseudo_gen_seq  \\\n",
              "0      [let, [CPY], [CPY], [CPY], [CPY], [CPY], [CPY]...   \n",
              "1                                          [read, [CPY]]   \n",
              "2                                          [read, [CPY]]   \n",
              "3                                          [read, [CPY]]   \n",
              "4                                          [read, [CPY]]   \n",
              "...                                                  ...   \n",
              "19175                              [[CPY], array, [CPY]]   \n",
              "19176                                     [[CPY], [CPY]]   \n",
              "19177                                     [[CPY], [CPY]]   \n",
              "19178  [[CPY], [CPY], [CPY], [CPY], to, [CPY], exclus...   \n",
              "19179  [[CPY], [CPY], [CPY], [CPY], to, [CPY], exclus...   \n",
              "\n",
              "                                            code_gen_seq pred_code_gen_seq  \n",
              "0      [int, [CPY], [CPY], [CPY], [CPY], [CPY], [CPY]...                    \n",
              "1                                    [cin, >>, [CPY], ;]                    \n",
              "2                                    [cin, >>, [CPY], ;]                    \n",
              "3                                    [cin, >>, [CPY], ;]                    \n",
              "4                                    [cin, >>, [CPY], ;]                    \n",
              "...                                                  ...               ...  \n",
              "19175            [[CPY], (, [CPY], ,, [CPY], +, m, ), ;]                    \n",
              "19176            [[CPY], (, [CPY], ,, [CPY], +, m, ), ;]                    \n",
              "19177            [[CPY], (, [CPY], ,, [CPY], +, m, ), ;]                    \n",
              "19178  [[CPY], (, int, [CPY], [CPY], [CPY], ;, [CPY],...                    \n",
              "19179  [[CPY], (, int, [CPY], [CPY], [CPY], ;, [CPY],...                    \n",
              "\n",
              "[19180 rows x 3 columns]"
            ]
          },
          "execution_count": 38,
          "metadata": {},
          "output_type": "execute_result"
        }
      ],
      "source": [
        "pred_df = eval_df[['pseudo_gen_seq', 'code_gen_seq']].copy()\n",
        "pred_df['pred_code_gen_seq'] = ''\n",
        "pred_df"
      ]
    },
    {
      "cell_type": "code",
      "execution_count": 39,
      "metadata": {
        "id": "CMeStxKkOcrY"
      },
      "outputs": [],
      "source": [
        "def predict_code_gen_seq(row):\n",
        "    \"\"\"\n",
        "    Predict code from pseudocode\n",
        "    \"\"\"\n",
        "    # Index of a row in the dataframe\n",
        "    seq_index = row.name\n",
        "    input_seq = encoder_input_data[seq_index: seq_index+1].todense()\n",
        "\n",
        "    # Decode the input as state vectors\n",
        "    # print('row', row)\n",
        "    decoded_sentence = decode_sequence(input_seq)\n",
        "\n",
        "    if seq_index % 500 == 0:\n",
        "        print(seq_index)\n",
        "    \n",
        "    return decoded_sentence[:-1]"
      ]
    },
    {
      "cell_type": "code",
      "execution_count": 40,
      "metadata": {
        "colab": {
          "base_uri": "https://localhost:8080/"
        },
        "id": "B1bfbS_HRBb2",
        "outputId": "3a58a375-a8c8-432e-988e-62d1d4f2c800"
      },
      "outputs": [
        {
          "name": "stdout",
          "output_type": "stream",
          "text": [
            "0\n",
            "500\n",
            "1000\n",
            "1500\n",
            "2000\n",
            "2500\n",
            "3000\n",
            "3500\n",
            "4000\n",
            "4500\n",
            "5000\n",
            "5500\n",
            "6000\n",
            "6500\n",
            "7000\n",
            "7500\n",
            "8000\n",
            "8500\n",
            "9000\n",
            "9500\n",
            "10000\n",
            "10500\n",
            "11000\n",
            "11500\n",
            "12000\n",
            "12500\n",
            "13000\n",
            "13500\n",
            "14000\n",
            "14500\n",
            "15000\n",
            "15500\n",
            "16000\n",
            "16500\n",
            "17000\n",
            "17500\n",
            "18000\n",
            "18500\n",
            "19000\n"
          ]
        }
      ],
      "source": [
        "pred_df['pred_code_gen_seq'] = pred_df.apply(predict_code_gen_seq, axis=1)\n",
        "pred_df.to_pickle('pred_eval.pkl') "
      ]
    },
    {
      "cell_type": "code",
      "execution_count": 41,
      "metadata": {},
      "outputs": [],
      "source": [
        "read_df = pd.read_pickle('pred.pkl')"
      ]
    },
    {
      "cell_type": "code",
      "execution_count": 42,
      "metadata": {},
      "outputs": [
        {
          "data": {
            "text/html": [
              "<div>\n",
              "<style scoped>\n",
              "    .dataframe tbody tr th:only-of-type {\n",
              "        vertical-align: middle;\n",
              "    }\n",
              "\n",
              "    .dataframe tbody tr th {\n",
              "        vertical-align: top;\n",
              "    }\n",
              "\n",
              "    .dataframe thead th {\n",
              "        text-align: right;\n",
              "    }\n",
              "</style>\n",
              "<table border=\"1\" class=\"dataframe\">\n",
              "  <thead>\n",
              "    <tr style=\"text-align: right;\">\n",
              "      <th></th>\n",
              "      <th>pseudo_gen_seq</th>\n",
              "      <th>code_gen_seq</th>\n",
              "      <th>pred_code_gen_seq</th>\n",
              "    </tr>\n",
              "  </thead>\n",
              "  <tbody>\n",
              "    <tr>\n",
              "      <th>0</th>\n",
              "      <td>[set, [CPY], to, [CPY]]</td>\n",
              "      <td>[[CPY], =, [CPY], ;]</td>\n",
              "      <td>[[CPY], =, [CPY], ;]</td>\n",
              "    </tr>\n",
              "    <tr>\n",
              "      <th>1</th>\n",
              "      <td>[[CPY], [CPY], is, [CPY]]</td>\n",
              "      <td>[[CPY], (, [CPY], ==, [CPY], )]</td>\n",
              "      <td>[[CPY], (, [CPY], ==, [CPY], )]</td>\n",
              "    </tr>\n",
              "    <tr>\n",
              "      <th>2</th>\n",
              "      <td>[read, [CPY], and, [CPY]]</td>\n",
              "      <td>[cin, &gt;&gt;, [CPY], &gt;&gt;, [CPY], ;]</td>\n",
              "      <td>[cin, &gt;&gt;, [CPY], &gt;&gt;, [CPY], ;]</td>\n",
              "    </tr>\n",
              "    <tr>\n",
              "      <th>3</th>\n",
              "      <td>[declare, [CPY], longs, [CPY], [CPY], [CPY], a...</td>\n",
              "      <td>[[CPY], [CPY], [CPY], [CPY], [CPY], ,, [CPY], ...</td>\n",
              "      <td>[[CPY], [CPY], [CPY], [CPY], [CPY], ,, [CPY], ...</td>\n",
              "    </tr>\n",
              "    <tr>\n",
              "      <th>4</th>\n",
              "      <td>[[CPY], [CPY], integer, array, where, the, the...</td>\n",
              "      <td>[int, [CPY], [CPY], [CPY], [CPY], {, [CPY], [C...</td>\n",
              "      <td>[int, [CPY], [CPY], [CPY], [CPY], [CPY], [CPY]...</td>\n",
              "    </tr>\n",
              "    <tr>\n",
              "      <th>...</th>\n",
              "      <td>...</td>\n",
              "      <td>...</td>\n",
              "      <td>...</td>\n",
              "    </tr>\n",
              "    <tr>\n",
              "      <th>181857</th>\n",
              "      <td>[declare, [CPY], constant, integer, [CPY], [CP...</td>\n",
              "      <td>[[CPY], const, int, [CPY], [CPY], [CPY], ;]</td>\n",
              "      <td>[const, int, [CPY], [CPY], [CPY], ;]</td>\n",
              "    </tr>\n",
              "    <tr>\n",
              "      <th>181858</th>\n",
              "      <td>[print, [CPY], and, a, new, line]</td>\n",
              "      <td>[cout, &lt;&lt;, \", [CPY], \", &lt;&lt;, ', \\n, ', ;]</td>\n",
              "      <td>[cout, &lt;&lt;, [CPY], &lt;&lt;, endl, ;]</td>\n",
              "    </tr>\n",
              "    <tr>\n",
              "      <th>181859</th>\n",
              "      <td>[change, the, value, of, [CPY], to, [CPY], [CP...</td>\n",
              "      <td>[[CPY], =, [CPY], [CPY], [CPY], [CPY], [CPY], ...</td>\n",
              "      <td>[[CPY], =, [CPY], [CPY], [CPY], [CPY], [CPY], ...</td>\n",
              "    </tr>\n",
              "    <tr>\n",
              "      <th>181860</th>\n",
              "      <td>[[CPY], [CPY], [CPY], is, less, than, [CPY]]</td>\n",
              "      <td>[[CPY], [CPY], (, [CPY], &lt;, [CPY], )]</td>\n",
              "      <td>[[CPY], [CPY], (, [CPY], &lt;, [CPY], )]</td>\n",
              "    </tr>\n",
              "    <tr>\n",
              "      <th>181861</th>\n",
              "      <td>[print, [CPY], and, newline]</td>\n",
              "      <td>[cout, &lt;&lt;, [CPY], &lt;&lt;, endl, ;]</td>\n",
              "      <td>[cout, &lt;&lt;, [CPY], &lt;&lt;, endl, ;]</td>\n",
              "    </tr>\n",
              "  </tbody>\n",
              "</table>\n",
              "<p>181862 rows × 3 columns</p>\n",
              "</div>"
            ],
            "text/plain": [
              "                                           pseudo_gen_seq  \\\n",
              "0                                 [set, [CPY], to, [CPY]]   \n",
              "1                               [[CPY], [CPY], is, [CPY]]   \n",
              "2                               [read, [CPY], and, [CPY]]   \n",
              "3       [declare, [CPY], longs, [CPY], [CPY], [CPY], a...   \n",
              "4       [[CPY], [CPY], integer, array, where, the, the...   \n",
              "...                                                   ...   \n",
              "181857  [declare, [CPY], constant, integer, [CPY], [CP...   \n",
              "181858                  [print, [CPY], and, a, new, line]   \n",
              "181859  [change, the, value, of, [CPY], to, [CPY], [CP...   \n",
              "181860       [[CPY], [CPY], [CPY], is, less, than, [CPY]]   \n",
              "181861                       [print, [CPY], and, newline]   \n",
              "\n",
              "                                             code_gen_seq  \\\n",
              "0                                    [[CPY], =, [CPY], ;]   \n",
              "1                         [[CPY], (, [CPY], ==, [CPY], )]   \n",
              "2                          [cin, >>, [CPY], >>, [CPY], ;]   \n",
              "3       [[CPY], [CPY], [CPY], [CPY], [CPY], ,, [CPY], ...   \n",
              "4       [int, [CPY], [CPY], [CPY], [CPY], {, [CPY], [C...   \n",
              "...                                                   ...   \n",
              "181857        [[CPY], const, int, [CPY], [CPY], [CPY], ;]   \n",
              "181858           [cout, <<, \", [CPY], \", <<, ', \\n, ', ;]   \n",
              "181859  [[CPY], =, [CPY], [CPY], [CPY], [CPY], [CPY], ...   \n",
              "181860              [[CPY], [CPY], (, [CPY], <, [CPY], )]   \n",
              "181861                     [cout, <<, [CPY], <<, endl, ;]   \n",
              "\n",
              "                                        pred_code_gen_seq  \n",
              "0                                    [[CPY], =, [CPY], ;]  \n",
              "1                         [[CPY], (, [CPY], ==, [CPY], )]  \n",
              "2                          [cin, >>, [CPY], >>, [CPY], ;]  \n",
              "3       [[CPY], [CPY], [CPY], [CPY], [CPY], ,, [CPY], ...  \n",
              "4       [int, [CPY], [CPY], [CPY], [CPY], [CPY], [CPY]...  \n",
              "...                                                   ...  \n",
              "181857               [const, int, [CPY], [CPY], [CPY], ;]  \n",
              "181858                     [cout, <<, [CPY], <<, endl, ;]  \n",
              "181859  [[CPY], =, [CPY], [CPY], [CPY], [CPY], [CPY], ...  \n",
              "181860              [[CPY], [CPY], (, [CPY], <, [CPY], )]  \n",
              "181861                     [cout, <<, [CPY], <<, endl, ;]  \n",
              "\n",
              "[181862 rows x 3 columns]"
            ]
          },
          "execution_count": 42,
          "metadata": {},
          "output_type": "execute_result"
        }
      ],
      "source": [
        "read_df"
      ]
    },
    {
      "cell_type": "code",
      "execution_count": 43,
      "metadata": {
        "id": "RH9WDNwferhL"
      },
      "outputs": [],
      "source": [
        "# test_df = pd.read_csv('../data/input-tok-test.tsv', sep='\\t', header=None, names=['pseudo', 'code'])\n",
        "\n",
        "# test_df['pseudo_token'] = test_df['pseudo'].str.split(' ')\n",
        "# test_df['code_token'] = test_df['code'].str.split(' ')\n",
        "\n",
        "# gen_code_seq = test_df.apply(create_gen_seq_from_code_row, axis=1)\n",
        "# test_df['code_gen_seq'] = gen_code_seq\n",
        "# test_df"
      ]
    },
    {
      "cell_type": "code",
      "execution_count": 44,
      "metadata": {
        "id": "V_Udd48QerhL"
      },
      "outputs": [],
      "source": [
        "# seqs = test_df.apply(create_copy_gen_seq_from_pseudo_row, axis=1)\n",
        "# code_binary_seq = [x[0] for x in seqs]\n",
        "# generate_seq = [x[1] for x in seqs]\n",
        "\n",
        "# test_df['pseudo_copy_seq'] = code_binary_seq\n",
        "# test_df['pseudo_gen_seq'] = generate_seq\n",
        "\n",
        "# test_df['code_gen_seq_aug'] = test_df['code_gen_seq'].apply(lambda x: ['[START]'] + x + ['[STOP]'])\n",
        "# test_df"
      ]
    },
    {
      "cell_type": "code",
      "execution_count": 45,
      "metadata": {
        "id": "g22lYH24erhL"
      },
      "outputs": [],
      "source": [
        "# pred_df_test = test_df[['pseudo_gen_seq', 'code_gen_seq']].copy()\n",
        "# pred_df_test['pred_code_gen_seq'] = ''\n",
        "# pred_df_test"
      ]
    },
    {
      "cell_type": "code",
      "execution_count": 46,
      "metadata": {
        "id": "AN9dErhverhM"
      },
      "outputs": [],
      "source": [
        "# for seq_index in range(encoder_input_data.shape[0]):\n",
        "#     # encoder_input_data.shape[0]\n",
        "#     # print(encoder_input_data[seq_index])\n",
        "#     input_seq = encoder_input_data[seq_index: seq_index+1]\n",
        "#     # print(input_seq)\n",
        "#     decoded_sentence = decode_sequence(input_seq)\n",
        "#     # print('-')\n",
        "#     # print('Input sentence:', train_df['pseudo_gen_seq'][seq_index: seq_index + 1])\n",
        "#     # print('True sentence:', train_df['code_gen_seq_aug'][seq_index: seq_index + 1])\n",
        "#     # print('Decoded sentence:', decoded_sentence)\n",
        "#     pred_df['pred_code_gen_seq'][seq_index] = decoded_sentence[:-1]"
      ]
    },
    {
      "cell_type": "code",
      "execution_count": 47,
      "metadata": {
        "id": "qfPpV4IcerhM"
      },
      "outputs": [],
      "source": [
        "# def predict_code_gen_seq(row):\n",
        "#     \"\"\"\n",
        "#     Predict code from pseudocode\n",
        "#     \"\"\"\n",
        "#     # Index of a row in the dataframe\n",
        "#     seq_index = row.name\n",
        "#     input_seq = encoder_input_data[seq_index: seq_index+1]\n",
        "\n",
        "#     # Decode the input as state vectors\n",
        "#     decoded_sentence = decode_sequence(input_seq)\n",
        "\n",
        "#     if seq_index % 1000 == 0:\n",
        "#         print(seq_index)\n",
        "    \n",
        "#     return decoded_sentence[:-1]"
      ]
    },
    {
      "cell_type": "code",
      "execution_count": 48,
      "metadata": {
        "id": "94YNekoterhM"
      },
      "outputs": [],
      "source": [
        "# for i, (input_seq, target_seq) in enumerate(zip(test_df['pseudo_gen_seq'], test_df['code_gen_seq_aug'])):\n",
        "#     # print(input_text, target_text)\n",
        "#     for t, word in enumerate(input_seq):\n",
        "#         encoder_input_data[i, t] = pseudo_token_index[word] if word in pseudo_token_index else 0\n",
        "#         # print(word, pseudo_token_index[word])\n",
        "#     for t, word in enumerate(target_seq):\n",
        "        \n",
        "#         # decoder_target_data is ahead of decoder_input_data by one timestep\n",
        "#         decoder_input_data[i, t] = code_token_index[word] if word in code_token_index else 0\n",
        "#         # print(word, code_token_index[word])\n",
        "#         if t > 0:\n",
        "#             # decoder_target_data will be ahead by one timestep\n",
        "#             # and will not include the start character.\n",
        "#             decoder_target_data[i, t - 1, code_token_index[word]] = 1."
      ]
    },
    {
      "cell_type": "code",
      "execution_count": 49,
      "metadata": {
        "id": "ygGBHqHVerhM"
      },
      "outputs": [],
      "source": [
        "# for seq_index in [399, 100]:\n",
        "#     # encoder_input_data.shape[0]\n",
        "#     # print(encoder_input_data[seq_index])\n",
        "#     input_seq = encoder_input_data[seq_index: seq_index+1]\n",
        "#     # print(input_seq)\n",
        "#     decoded_sentence = decode_sequence(input_seq)\n",
        "#     # print('-')\n",
        "#     # print('Input sentence:', train_df['pseudo_gen_seq'][seq_index: seq_index + 1])\n",
        "#     # print('True sentence:', train_df['code_gen_seq_aug'][seq_index: seq_index + 1])\n",
        "#     # print('Decoded sentence:', decoded_sentence)\n",
        "#     pred_df['pred_code_gen_seq'][seq_index] = decoded_sentence[:-1]"
      ]
    }
  ],
  "metadata": {
    "colab": {
      "name": "combine.ipynb",
      "provenance": []
    },
    "interpreter": {
      "hash": "b9e296454faf11441ab5b5f29e3cc7afb43d7ef4507bb66fd890a028be668290"
    },
    "kernelspec": {
      "display_name": "Python 3.7.10 ('base')",
      "language": "python",
      "name": "python3"
    },
    "language_info": {
      "codemirror_mode": {
        "name": "ipython",
        "version": 3
      },
      "file_extension": ".py",
      "mimetype": "text/x-python",
      "name": "python",
      "nbconvert_exporter": "python",
      "pygments_lexer": "ipython3",
      "version": "3.7.10"
    },
    "orig_nbformat": 4
  },
  "nbformat": 4,
  "nbformat_minor": 0
}
