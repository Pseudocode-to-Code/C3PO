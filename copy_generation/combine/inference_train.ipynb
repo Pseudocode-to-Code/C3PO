{
  "cells": [
    {
      "cell_type": "code",
      "execution_count": 14,
      "metadata": {
        "colab": {
          "base_uri": "https://localhost:8080/"
        },
        "id": "ocIaGThloBZ2",
        "outputId": "843e533a-d831-4dad-b9af-d156ac25f633"
      },
      "outputs": [
        {
          "name": "stdout",
          "output_type": "stream",
          "text": [
            "Requirement already satisfied: sparse in /Users/vibhamasti/anaconda3/lib/python3.7/site-packages (0.13.0)\n",
            "Requirement already satisfied: scipy>=0.19 in /Users/vibhamasti/anaconda3/lib/python3.7/site-packages (from sparse) (1.7.3)\n",
            "Requirement already satisfied: numpy>=1.17 in /Users/vibhamasti/anaconda3/lib/python3.7/site-packages (from sparse) (1.20.3)\n",
            "Requirement already satisfied: numba>=0.49 in /Users/vibhamasti/anaconda3/lib/python3.7/site-packages (from sparse) (0.54.1)\n",
            "Requirement already satisfied: llvmlite<0.38,>=0.37.0rc1 in /Users/vibhamasti/anaconda3/lib/python3.7/site-packages (from numba>=0.49->sparse) (0.37.0)\n",
            "Requirement already satisfied: setuptools in /Users/vibhamasti/anaconda3/lib/python3.7/site-packages (from numba>=0.49->sparse) (60.8.1)\n"
          ]
        }
      ],
      "source": [
        "!pip install sparse"
      ]
    },
    {
      "cell_type": "code",
      "execution_count": 15,
      "metadata": {
        "id": "l0HcfQl1erg5"
      },
      "outputs": [],
      "source": [
        "import pandas as pd\n",
        "import numpy as np\n",
        "import tensorflow as tf\n",
        "import sparse"
      ]
    },
    {
      "cell_type": "markdown",
      "metadata": {
        "id": "b7jEssBqerg9"
      },
      "source": [
        "# Dataset Ingestion"
      ]
    },
    {
      "cell_type": "code",
      "execution_count": 16,
      "metadata": {
        "colab": {
          "base_uri": "https://localhost:8080/",
          "height": 285
        },
        "id": "YN76C6Juerg-",
        "outputId": "dcb0d4d7-ca77-4da4-dd21-651918dd1689"
      },
      "outputs": [
        {
          "data": {
            "text/html": [
              "<div>\n",
              "<style scoped>\n",
              "    .dataframe tbody tr th:only-of-type {\n",
              "        vertical-align: middle;\n",
              "    }\n",
              "\n",
              "    .dataframe tbody tr th {\n",
              "        vertical-align: top;\n",
              "    }\n",
              "\n",
              "    .dataframe thead th {\n",
              "        text-align: right;\n",
              "    }\n",
              "</style>\n",
              "<table border=\"1\" class=\"dataframe\">\n",
              "  <thead>\n",
              "    <tr style=\"text-align: right;\">\n",
              "      <th></th>\n",
              "      <th>pseudo</th>\n",
              "      <th>code</th>\n",
              "      <th>pseudo_token</th>\n",
              "      <th>code_token</th>\n",
              "    </tr>\n",
              "  </thead>\n",
              "  <tbody>\n",
              "    <tr>\n",
              "      <th>0</th>\n",
              "      <td>set l to mid</td>\n",
              "      <td>l = mid ;</td>\n",
              "      <td>[set, l, to, mid]</td>\n",
              "      <td>[l, =, mid, ;]</td>\n",
              "    </tr>\n",
              "    <tr>\n",
              "      <th>1</th>\n",
              "      <td>if i is 0</td>\n",
              "      <td>if ( i == 0 )</td>\n",
              "      <td>[if, i, is, 0]</td>\n",
              "      <td>[if, (, i, ==, 0, )]</td>\n",
              "    </tr>\n",
              "    <tr>\n",
              "      <th>2</th>\n",
              "      <td>read n and k</td>\n",
              "      <td>cin &gt;&gt; n &gt;&gt; k ;</td>\n",
              "      <td>[read, n, and, k]</td>\n",
              "      <td>[cin, &gt;&gt;, n, &gt;&gt;, k, ;]</td>\n",
              "    </tr>\n",
              "    <tr>\n",
              "      <th>3</th>\n",
              "      <td>declare long longs sum = 0 and min = LONG_LONG...</td>\n",
              "      <td>long long min = LONG_LONG_MAX , sum = 0 ;</td>\n",
              "      <td>[declare, long, longs, sum, =, 0, and, min, =,...</td>\n",
              "      <td>[long, long, min, =, LONG_LONG_MAX, ,, sum, =,...</td>\n",
              "    </tr>\n",
              "    <tr>\n",
              "      <th>4</th>\n",
              "      <td>dy = integer array where the the following int...</td>\n",
              "      <td>int dy [ ] = { 0 , 0 , - 1 , 1 } ;</td>\n",
              "      <td>[dy, =, integer, array, where, the, the, follo...</td>\n",
              "      <td>[int, dy, [, ], =, {, 0, ,, 0, ,, -, 1, ,, 1, ...</td>\n",
              "    </tr>\n",
              "  </tbody>\n",
              "</table>\n",
              "</div>"
            ],
            "text/plain": [
              "                                              pseudo  \\\n",
              "0                                       set l to mid   \n",
              "1                                          if i is 0   \n",
              "2                                       read n and k   \n",
              "3  declare long longs sum = 0 and min = LONG_LONG...   \n",
              "4  dy = integer array where the the following int...   \n",
              "\n",
              "                                        code  \\\n",
              "0                                  l = mid ;   \n",
              "1                              if ( i == 0 )   \n",
              "2                            cin >> n >> k ;   \n",
              "3  long long min = LONG_LONG_MAX , sum = 0 ;   \n",
              "4         int dy [ ] = { 0 , 0 , - 1 , 1 } ;   \n",
              "\n",
              "                                        pseudo_token  \\\n",
              "0                                  [set, l, to, mid]   \n",
              "1                                     [if, i, is, 0]   \n",
              "2                                  [read, n, and, k]   \n",
              "3  [declare, long, longs, sum, =, 0, and, min, =,...   \n",
              "4  [dy, =, integer, array, where, the, the, follo...   \n",
              "\n",
              "                                          code_token  \n",
              "0                                     [l, =, mid, ;]  \n",
              "1                               [if, (, i, ==, 0, )]  \n",
              "2                             [cin, >>, n, >>, k, ;]  \n",
              "3  [long, long, min, =, LONG_LONG_MAX, ,, sum, =,...  \n",
              "4  [int, dy, [, ], =, {, 0, ,, 0, ,, -, 1, ,, 1, ...  "
            ]
          },
          "execution_count": 16,
          "metadata": {},
          "output_type": "execute_result"
        }
      ],
      "source": [
        "cols = {0: 'pseudo', 1: 'code'}\n",
        "\n",
        "train_df = pd.read_csv('../../data/input-tok-train-shuf.tsv', header=None, delimiter='\\t')\n",
        "train_df.rename(columns=cols, inplace=True)\n",
        "\n",
        "train_df['pseudo'].fillna(' ')\n",
        "train_df['code'].fillna(' ')\n",
        "\n",
        "train_df['pseudo_token'] = train_df['pseudo'].str.split(' ')\n",
        "train_df['code_token'] = train_df['code'].str.split(' ')\n",
        "train_df.head()"
      ]
    },
    {
      "cell_type": "code",
      "execution_count": 17,
      "metadata": {
        "id": "0hFcIE0DerhA"
      },
      "outputs": [],
      "source": [
        "def create_copy_gen_seq_from_pseudo_row(row):\n",
        "    \"\"\"\n",
        "    Returns binary sequence for pseudocode tokens based on \n",
        "    true code tokens\n",
        "\n",
        "    If the pseudocode token exists in the true code (can be\n",
        "    copied), then the sequence contains a 1 in that position\n",
        "    \"\"\"  \n",
        "    code_token_set = set(row['code_token'])\n",
        "\n",
        "    output_seq = []\n",
        "    generate_seq = []\n",
        "\n",
        "    for token in row['pseudo_token']:\n",
        "        if token in code_token_set:\n",
        "            output_seq.append(1)\n",
        "            generate_seq.append('[CPY]')\n",
        "        else:\n",
        "            output_seq.append(0)\n",
        "            generate_seq.append(token)\n",
        "\n",
        "    # generate_seq.append('[END]')\n",
        "    assert len(output_seq) == len(row['pseudo_token'])\n",
        "    return (output_seq, generate_seq)"
      ]
    },
    {
      "cell_type": "code",
      "execution_count": 18,
      "metadata": {
        "colab": {
          "base_uri": "https://localhost:8080/",
          "height": 693
        },
        "id": "ZlhA0mOQerhB",
        "outputId": "42a8e9f2-bebc-48f4-eebb-7d2a64e1bbd5"
      },
      "outputs": [
        {
          "data": {
            "text/html": [
              "<div>\n",
              "<style scoped>\n",
              "    .dataframe tbody tr th:only-of-type {\n",
              "        vertical-align: middle;\n",
              "    }\n",
              "\n",
              "    .dataframe tbody tr th {\n",
              "        vertical-align: top;\n",
              "    }\n",
              "\n",
              "    .dataframe thead th {\n",
              "        text-align: right;\n",
              "    }\n",
              "</style>\n",
              "<table border=\"1\" class=\"dataframe\">\n",
              "  <thead>\n",
              "    <tr style=\"text-align: right;\">\n",
              "      <th></th>\n",
              "      <th>pseudo</th>\n",
              "      <th>code</th>\n",
              "      <th>pseudo_token</th>\n",
              "      <th>code_token</th>\n",
              "      <th>pseudo_copy_seq</th>\n",
              "      <th>pseudo_gen_seq</th>\n",
              "    </tr>\n",
              "  </thead>\n",
              "  <tbody>\n",
              "    <tr>\n",
              "      <th>0</th>\n",
              "      <td>set l to mid</td>\n",
              "      <td>l = mid ;</td>\n",
              "      <td>[set, l, to, mid]</td>\n",
              "      <td>[l, =, mid, ;]</td>\n",
              "      <td>[0, 1, 0, 1]</td>\n",
              "      <td>[set, [CPY], to, [CPY]]</td>\n",
              "    </tr>\n",
              "    <tr>\n",
              "      <th>1</th>\n",
              "      <td>if i is 0</td>\n",
              "      <td>if ( i == 0 )</td>\n",
              "      <td>[if, i, is, 0]</td>\n",
              "      <td>[if, (, i, ==, 0, )]</td>\n",
              "      <td>[1, 1, 0, 1]</td>\n",
              "      <td>[[CPY], [CPY], is, [CPY]]</td>\n",
              "    </tr>\n",
              "    <tr>\n",
              "      <th>2</th>\n",
              "      <td>read n and k</td>\n",
              "      <td>cin &gt;&gt; n &gt;&gt; k ;</td>\n",
              "      <td>[read, n, and, k]</td>\n",
              "      <td>[cin, &gt;&gt;, n, &gt;&gt;, k, ;]</td>\n",
              "      <td>[0, 1, 0, 1]</td>\n",
              "      <td>[read, [CPY], and, [CPY]]</td>\n",
              "    </tr>\n",
              "    <tr>\n",
              "      <th>3</th>\n",
              "      <td>declare long longs sum = 0 and min = LONG_LONG...</td>\n",
              "      <td>long long min = LONG_LONG_MAX , sum = 0 ;</td>\n",
              "      <td>[declare, long, longs, sum, =, 0, and, min, =,...</td>\n",
              "      <td>[long, long, min, =, LONG_LONG_MAX, ,, sum, =,...</td>\n",
              "      <td>[0, 1, 0, 1, 1, 1, 0, 1, 1, 1]</td>\n",
              "      <td>[declare, [CPY], longs, [CPY], [CPY], [CPY], a...</td>\n",
              "    </tr>\n",
              "    <tr>\n",
              "      <th>4</th>\n",
              "      <td>dy = integer array where the the following int...</td>\n",
              "      <td>int dy [ ] = { 0 , 0 , - 1 , 1 } ;</td>\n",
              "      <td>[dy, =, integer, array, where, the, the, follo...</td>\n",
              "      <td>[int, dy, [, ], =, {, 0, ,, 0, ,, -, 1, ,, 1, ...</td>\n",
              "      <td>[1, 1, 0, 0, 0, 0, 0, 0, 0, 0, 0, 0, 0, 1, 1, ...</td>\n",
              "      <td>[[CPY], [CPY], integer, array, where, the, the...</td>\n",
              "    </tr>\n",
              "    <tr>\n",
              "      <th>...</th>\n",
              "      <td>...</td>\n",
              "      <td>...</td>\n",
              "      <td>...</td>\n",
              "      <td>...</td>\n",
              "      <td>...</td>\n",
              "      <td>...</td>\n",
              "    </tr>\n",
              "    <tr>\n",
              "      <th>181857</th>\n",
              "      <td>declare static constant integer mod = 1000000009</td>\n",
              "      <td>static const int mod = 1000000009 ;</td>\n",
              "      <td>[declare, static, constant, integer, mod, =, 1...</td>\n",
              "      <td>[static, const, int, mod, =, 1000000009, ;]</td>\n",
              "      <td>[0, 1, 0, 0, 1, 1, 1]</td>\n",
              "      <td>[declare, [CPY], constant, integer, [CPY], [CP...</td>\n",
              "    </tr>\n",
              "    <tr>\n",
              "      <th>181858</th>\n",
              "      <td>print NO and a new line</td>\n",
              "      <td>cout &lt;&lt; \" NO \" &lt;&lt; ' \\n ' ;</td>\n",
              "      <td>[print, NO, and, a, new, line]</td>\n",
              "      <td>[cout, &lt;&lt;, \", NO, \", &lt;&lt;, ', \\n, ', ;]</td>\n",
              "      <td>[0, 1, 0, 0, 0, 0]</td>\n",
              "      <td>[print, [CPY], and, a, new, line]</td>\n",
              "    </tr>\n",
              "    <tr>\n",
              "      <th>181859</th>\n",
              "      <td>change the value of ans to abs ( x - y ) / d</td>\n",
              "      <td>ans = abs ( x - y ) / d ;</td>\n",
              "      <td>[change, the, value, of, ans, to, abs, (, x, -...</td>\n",
              "      <td>[ans, =, abs, (, x, -, y, ), /, d, ;]</td>\n",
              "      <td>[0, 0, 0, 0, 1, 0, 1, 1, 1, 1, 1, 1, 1, 1]</td>\n",
              "      <td>[change, the, value, of, [CPY], to, [CPY], [CP...</td>\n",
              "    </tr>\n",
              "    <tr>\n",
              "      <th>181860</th>\n",
              "      <td>else if s is less than f</td>\n",
              "      <td>else if ( s &lt; f )</td>\n",
              "      <td>[else, if, s, is, less, than, f]</td>\n",
              "      <td>[else, if, (, s, &lt;, f, )]</td>\n",
              "      <td>[1, 1, 1, 0, 0, 0, 1]</td>\n",
              "      <td>[[CPY], [CPY], [CPY], is, less, than, [CPY]]</td>\n",
              "    </tr>\n",
              "    <tr>\n",
              "      <th>181861</th>\n",
              "      <td>print 1 and newline</td>\n",
              "      <td>cout &lt;&lt; 1 &lt;&lt; endl ;</td>\n",
              "      <td>[print, 1, and, newline]</td>\n",
              "      <td>[cout, &lt;&lt;, 1, &lt;&lt;, endl, ;]</td>\n",
              "      <td>[0, 1, 0, 0]</td>\n",
              "      <td>[print, [CPY], and, newline]</td>\n",
              "    </tr>\n",
              "  </tbody>\n",
              "</table>\n",
              "<p>181862 rows × 6 columns</p>\n",
              "</div>"
            ],
            "text/plain": [
              "                                                   pseudo  \\\n",
              "0                                            set l to mid   \n",
              "1                                               if i is 0   \n",
              "2                                            read n and k   \n",
              "3       declare long longs sum = 0 and min = LONG_LONG...   \n",
              "4       dy = integer array where the the following int...   \n",
              "...                                                   ...   \n",
              "181857   declare static constant integer mod = 1000000009   \n",
              "181858                            print NO and a new line   \n",
              "181859       change the value of ans to abs ( x - y ) / d   \n",
              "181860                           else if s is less than f   \n",
              "181861                                print 1 and newline   \n",
              "\n",
              "                                             code  \\\n",
              "0                                       l = mid ;   \n",
              "1                                   if ( i == 0 )   \n",
              "2                                 cin >> n >> k ;   \n",
              "3       long long min = LONG_LONG_MAX , sum = 0 ;   \n",
              "4              int dy [ ] = { 0 , 0 , - 1 , 1 } ;   \n",
              "...                                           ...   \n",
              "181857        static const int mod = 1000000009 ;   \n",
              "181858                 cout << \" NO \" << ' \\n ' ;   \n",
              "181859                  ans = abs ( x - y ) / d ;   \n",
              "181860                          else if ( s < f )   \n",
              "181861                        cout << 1 << endl ;   \n",
              "\n",
              "                                             pseudo_token  \\\n",
              "0                                       [set, l, to, mid]   \n",
              "1                                          [if, i, is, 0]   \n",
              "2                                       [read, n, and, k]   \n",
              "3       [declare, long, longs, sum, =, 0, and, min, =,...   \n",
              "4       [dy, =, integer, array, where, the, the, follo...   \n",
              "...                                                   ...   \n",
              "181857  [declare, static, constant, integer, mod, =, 1...   \n",
              "181858                     [print, NO, and, a, new, line]   \n",
              "181859  [change, the, value, of, ans, to, abs, (, x, -...   \n",
              "181860                   [else, if, s, is, less, than, f]   \n",
              "181861                           [print, 1, and, newline]   \n",
              "\n",
              "                                               code_token  \\\n",
              "0                                          [l, =, mid, ;]   \n",
              "1                                    [if, (, i, ==, 0, )]   \n",
              "2                                  [cin, >>, n, >>, k, ;]   \n",
              "3       [long, long, min, =, LONG_LONG_MAX, ,, sum, =,...   \n",
              "4       [int, dy, [, ], =, {, 0, ,, 0, ,, -, 1, ,, 1, ...   \n",
              "...                                                   ...   \n",
              "181857        [static, const, int, mod, =, 1000000009, ;]   \n",
              "181858              [cout, <<, \", NO, \", <<, ', \\n, ', ;]   \n",
              "181859              [ans, =, abs, (, x, -, y, ), /, d, ;]   \n",
              "181860                          [else, if, (, s, <, f, )]   \n",
              "181861                         [cout, <<, 1, <<, endl, ;]   \n",
              "\n",
              "                                          pseudo_copy_seq  \\\n",
              "0                                            [0, 1, 0, 1]   \n",
              "1                                            [1, 1, 0, 1]   \n",
              "2                                            [0, 1, 0, 1]   \n",
              "3                          [0, 1, 0, 1, 1, 1, 0, 1, 1, 1]   \n",
              "4       [1, 1, 0, 0, 0, 0, 0, 0, 0, 0, 0, 0, 0, 1, 1, ...   \n",
              "...                                                   ...   \n",
              "181857                              [0, 1, 0, 0, 1, 1, 1]   \n",
              "181858                                 [0, 1, 0, 0, 0, 0]   \n",
              "181859         [0, 0, 0, 0, 1, 0, 1, 1, 1, 1, 1, 1, 1, 1]   \n",
              "181860                              [1, 1, 1, 0, 0, 0, 1]   \n",
              "181861                                       [0, 1, 0, 0]   \n",
              "\n",
              "                                           pseudo_gen_seq  \n",
              "0                                 [set, [CPY], to, [CPY]]  \n",
              "1                               [[CPY], [CPY], is, [CPY]]  \n",
              "2                               [read, [CPY], and, [CPY]]  \n",
              "3       [declare, [CPY], longs, [CPY], [CPY], [CPY], a...  \n",
              "4       [[CPY], [CPY], integer, array, where, the, the...  \n",
              "...                                                   ...  \n",
              "181857  [declare, [CPY], constant, integer, [CPY], [CP...  \n",
              "181858                  [print, [CPY], and, a, new, line]  \n",
              "181859  [change, the, value, of, [CPY], to, [CPY], [CP...  \n",
              "181860       [[CPY], [CPY], [CPY], is, less, than, [CPY]]  \n",
              "181861                       [print, [CPY], and, newline]  \n",
              "\n",
              "[181862 rows x 6 columns]"
            ]
          },
          "execution_count": 18,
          "metadata": {},
          "output_type": "execute_result"
        }
      ],
      "source": [
        "seqs = train_df.apply(create_copy_gen_seq_from_pseudo_row, axis=1)\n",
        "code_binary_seq = [x[0] for x in seqs]\n",
        "generate_seq = [x[1] for x in seqs]\n",
        "train_df['pseudo_copy_seq'] = code_binary_seq\n",
        "train_df['pseudo_gen_seq'] = generate_seq\n",
        "train_df"
      ]
    },
    {
      "cell_type": "code",
      "execution_count": 19,
      "metadata": {
        "id": "6cdRKQ3kerhC"
      },
      "outputs": [],
      "source": [
        "def create_gen_seq_from_code_row(row):\n",
        "    \"\"\"\n",
        "    Returns binary sequence for pseudocode tokens based on \n",
        "    true code tokens\n",
        "\n",
        "    If the pseudocode token exists in the true code (can be\n",
        "    copied), then the sequence contains a 1 in that position\n",
        "    \"\"\"\n",
        "    pseudo_token_set = set(row['pseudo_token'])\n",
        "\n",
        "    gen_code_seq = []\n",
        "\n",
        "    # for i, token in enumerate(row['code_token']):\n",
        "    for token in row['code_token']:\n",
        "        # if i == 0:\n",
        "        #     gen_code_seq.append('[START]')\n",
        "        # elif i == len(row['code_token']):\n",
        "        #     gen_code_seq.append('[END]')\n",
        "\n",
        "        if token in pseudo_token_set:\n",
        "            gen_code_seq.append('[CPY]')\n",
        "        else:\n",
        "            gen_code_seq.append(token)\n",
        "\n",
        "    return gen_code_seq"
      ]
    },
    {
      "cell_type": "code",
      "execution_count": 20,
      "metadata": {
        "colab": {
          "base_uri": "https://localhost:8080/",
          "height": 797
        },
        "id": "hb7tRSFierhC",
        "outputId": "93f63bd9-cace-4c89-8899-63561023a839"
      },
      "outputs": [
        {
          "data": {
            "text/html": [
              "<div>\n",
              "<style scoped>\n",
              "    .dataframe tbody tr th:only-of-type {\n",
              "        vertical-align: middle;\n",
              "    }\n",
              "\n",
              "    .dataframe tbody tr th {\n",
              "        vertical-align: top;\n",
              "    }\n",
              "\n",
              "    .dataframe thead th {\n",
              "        text-align: right;\n",
              "    }\n",
              "</style>\n",
              "<table border=\"1\" class=\"dataframe\">\n",
              "  <thead>\n",
              "    <tr style=\"text-align: right;\">\n",
              "      <th></th>\n",
              "      <th>pseudo</th>\n",
              "      <th>code</th>\n",
              "      <th>pseudo_token</th>\n",
              "      <th>code_token</th>\n",
              "      <th>pseudo_copy_seq</th>\n",
              "      <th>pseudo_gen_seq</th>\n",
              "      <th>code_gen_seq</th>\n",
              "    </tr>\n",
              "  </thead>\n",
              "  <tbody>\n",
              "    <tr>\n",
              "      <th>0</th>\n",
              "      <td>set l to mid</td>\n",
              "      <td>l = mid ;</td>\n",
              "      <td>[set, l, to, mid]</td>\n",
              "      <td>[l, =, mid, ;]</td>\n",
              "      <td>[0, 1, 0, 1]</td>\n",
              "      <td>[set, [CPY], to, [CPY]]</td>\n",
              "      <td>[[CPY], =, [CPY], ;]</td>\n",
              "    </tr>\n",
              "    <tr>\n",
              "      <th>1</th>\n",
              "      <td>if i is 0</td>\n",
              "      <td>if ( i == 0 )</td>\n",
              "      <td>[if, i, is, 0]</td>\n",
              "      <td>[if, (, i, ==, 0, )]</td>\n",
              "      <td>[1, 1, 0, 1]</td>\n",
              "      <td>[[CPY], [CPY], is, [CPY]]</td>\n",
              "      <td>[[CPY], (, [CPY], ==, [CPY], )]</td>\n",
              "    </tr>\n",
              "    <tr>\n",
              "      <th>2</th>\n",
              "      <td>read n and k</td>\n",
              "      <td>cin &gt;&gt; n &gt;&gt; k ;</td>\n",
              "      <td>[read, n, and, k]</td>\n",
              "      <td>[cin, &gt;&gt;, n, &gt;&gt;, k, ;]</td>\n",
              "      <td>[0, 1, 0, 1]</td>\n",
              "      <td>[read, [CPY], and, [CPY]]</td>\n",
              "      <td>[cin, &gt;&gt;, [CPY], &gt;&gt;, [CPY], ;]</td>\n",
              "    </tr>\n",
              "    <tr>\n",
              "      <th>3</th>\n",
              "      <td>declare long longs sum = 0 and min = LONG_LONG...</td>\n",
              "      <td>long long min = LONG_LONG_MAX , sum = 0 ;</td>\n",
              "      <td>[declare, long, longs, sum, =, 0, and, min, =,...</td>\n",
              "      <td>[long, long, min, =, LONG_LONG_MAX, ,, sum, =,...</td>\n",
              "      <td>[0, 1, 0, 1, 1, 1, 0, 1, 1, 1]</td>\n",
              "      <td>[declare, [CPY], longs, [CPY], [CPY], [CPY], a...</td>\n",
              "      <td>[[CPY], [CPY], [CPY], [CPY], [CPY], ,, [CPY], ...</td>\n",
              "    </tr>\n",
              "    <tr>\n",
              "      <th>4</th>\n",
              "      <td>dy = integer array where the the following int...</td>\n",
              "      <td>int dy [ ] = { 0 , 0 , - 1 , 1 } ;</td>\n",
              "      <td>[dy, =, integer, array, where, the, the, follo...</td>\n",
              "      <td>[int, dy, [, ], =, {, 0, ,, 0, ,, -, 1, ,, 1, ...</td>\n",
              "      <td>[1, 1, 0, 0, 0, 0, 0, 0, 0, 0, 0, 0, 0, 1, 1, ...</td>\n",
              "      <td>[[CPY], [CPY], integer, array, where, the, the...</td>\n",
              "      <td>[int, [CPY], [CPY], [CPY], [CPY], {, [CPY], [C...</td>\n",
              "    </tr>\n",
              "    <tr>\n",
              "      <th>...</th>\n",
              "      <td>...</td>\n",
              "      <td>...</td>\n",
              "      <td>...</td>\n",
              "      <td>...</td>\n",
              "      <td>...</td>\n",
              "      <td>...</td>\n",
              "      <td>...</td>\n",
              "    </tr>\n",
              "    <tr>\n",
              "      <th>181857</th>\n",
              "      <td>declare static constant integer mod = 1000000009</td>\n",
              "      <td>static const int mod = 1000000009 ;</td>\n",
              "      <td>[declare, static, constant, integer, mod, =, 1...</td>\n",
              "      <td>[static, const, int, mod, =, 1000000009, ;]</td>\n",
              "      <td>[0, 1, 0, 0, 1, 1, 1]</td>\n",
              "      <td>[declare, [CPY], constant, integer, [CPY], [CP...</td>\n",
              "      <td>[[CPY], const, int, [CPY], [CPY], [CPY], ;]</td>\n",
              "    </tr>\n",
              "    <tr>\n",
              "      <th>181858</th>\n",
              "      <td>print NO and a new line</td>\n",
              "      <td>cout &lt;&lt; \" NO \" &lt;&lt; ' \\n ' ;</td>\n",
              "      <td>[print, NO, and, a, new, line]</td>\n",
              "      <td>[cout, &lt;&lt;, \", NO, \", &lt;&lt;, ', \\n, ', ;]</td>\n",
              "      <td>[0, 1, 0, 0, 0, 0]</td>\n",
              "      <td>[print, [CPY], and, a, new, line]</td>\n",
              "      <td>[cout, &lt;&lt;, \", [CPY], \", &lt;&lt;, ', \\n, ', ;]</td>\n",
              "    </tr>\n",
              "    <tr>\n",
              "      <th>181859</th>\n",
              "      <td>change the value of ans to abs ( x - y ) / d</td>\n",
              "      <td>ans = abs ( x - y ) / d ;</td>\n",
              "      <td>[change, the, value, of, ans, to, abs, (, x, -...</td>\n",
              "      <td>[ans, =, abs, (, x, -, y, ), /, d, ;]</td>\n",
              "      <td>[0, 0, 0, 0, 1, 0, 1, 1, 1, 1, 1, 1, 1, 1]</td>\n",
              "      <td>[change, the, value, of, [CPY], to, [CPY], [CP...</td>\n",
              "      <td>[[CPY], =, [CPY], [CPY], [CPY], [CPY], [CPY], ...</td>\n",
              "    </tr>\n",
              "    <tr>\n",
              "      <th>181860</th>\n",
              "      <td>else if s is less than f</td>\n",
              "      <td>else if ( s &lt; f )</td>\n",
              "      <td>[else, if, s, is, less, than, f]</td>\n",
              "      <td>[else, if, (, s, &lt;, f, )]</td>\n",
              "      <td>[1, 1, 1, 0, 0, 0, 1]</td>\n",
              "      <td>[[CPY], [CPY], [CPY], is, less, than, [CPY]]</td>\n",
              "      <td>[[CPY], [CPY], (, [CPY], &lt;, [CPY], )]</td>\n",
              "    </tr>\n",
              "    <tr>\n",
              "      <th>181861</th>\n",
              "      <td>print 1 and newline</td>\n",
              "      <td>cout &lt;&lt; 1 &lt;&lt; endl ;</td>\n",
              "      <td>[print, 1, and, newline]</td>\n",
              "      <td>[cout, &lt;&lt;, 1, &lt;&lt;, endl, ;]</td>\n",
              "      <td>[0, 1, 0, 0]</td>\n",
              "      <td>[print, [CPY], and, newline]</td>\n",
              "      <td>[cout, &lt;&lt;, [CPY], &lt;&lt;, endl, ;]</td>\n",
              "    </tr>\n",
              "  </tbody>\n",
              "</table>\n",
              "<p>181862 rows × 7 columns</p>\n",
              "</div>"
            ],
            "text/plain": [
              "                                                   pseudo  \\\n",
              "0                                            set l to mid   \n",
              "1                                               if i is 0   \n",
              "2                                            read n and k   \n",
              "3       declare long longs sum = 0 and min = LONG_LONG...   \n",
              "4       dy = integer array where the the following int...   \n",
              "...                                                   ...   \n",
              "181857   declare static constant integer mod = 1000000009   \n",
              "181858                            print NO and a new line   \n",
              "181859       change the value of ans to abs ( x - y ) / d   \n",
              "181860                           else if s is less than f   \n",
              "181861                                print 1 and newline   \n",
              "\n",
              "                                             code  \\\n",
              "0                                       l = mid ;   \n",
              "1                                   if ( i == 0 )   \n",
              "2                                 cin >> n >> k ;   \n",
              "3       long long min = LONG_LONG_MAX , sum = 0 ;   \n",
              "4              int dy [ ] = { 0 , 0 , - 1 , 1 } ;   \n",
              "...                                           ...   \n",
              "181857        static const int mod = 1000000009 ;   \n",
              "181858                 cout << \" NO \" << ' \\n ' ;   \n",
              "181859                  ans = abs ( x - y ) / d ;   \n",
              "181860                          else if ( s < f )   \n",
              "181861                        cout << 1 << endl ;   \n",
              "\n",
              "                                             pseudo_token  \\\n",
              "0                                       [set, l, to, mid]   \n",
              "1                                          [if, i, is, 0]   \n",
              "2                                       [read, n, and, k]   \n",
              "3       [declare, long, longs, sum, =, 0, and, min, =,...   \n",
              "4       [dy, =, integer, array, where, the, the, follo...   \n",
              "...                                                   ...   \n",
              "181857  [declare, static, constant, integer, mod, =, 1...   \n",
              "181858                     [print, NO, and, a, new, line]   \n",
              "181859  [change, the, value, of, ans, to, abs, (, x, -...   \n",
              "181860                   [else, if, s, is, less, than, f]   \n",
              "181861                           [print, 1, and, newline]   \n",
              "\n",
              "                                               code_token  \\\n",
              "0                                          [l, =, mid, ;]   \n",
              "1                                    [if, (, i, ==, 0, )]   \n",
              "2                                  [cin, >>, n, >>, k, ;]   \n",
              "3       [long, long, min, =, LONG_LONG_MAX, ,, sum, =,...   \n",
              "4       [int, dy, [, ], =, {, 0, ,, 0, ,, -, 1, ,, 1, ...   \n",
              "...                                                   ...   \n",
              "181857        [static, const, int, mod, =, 1000000009, ;]   \n",
              "181858              [cout, <<, \", NO, \", <<, ', \\n, ', ;]   \n",
              "181859              [ans, =, abs, (, x, -, y, ), /, d, ;]   \n",
              "181860                          [else, if, (, s, <, f, )]   \n",
              "181861                         [cout, <<, 1, <<, endl, ;]   \n",
              "\n",
              "                                          pseudo_copy_seq  \\\n",
              "0                                            [0, 1, 0, 1]   \n",
              "1                                            [1, 1, 0, 1]   \n",
              "2                                            [0, 1, 0, 1]   \n",
              "3                          [0, 1, 0, 1, 1, 1, 0, 1, 1, 1]   \n",
              "4       [1, 1, 0, 0, 0, 0, 0, 0, 0, 0, 0, 0, 0, 1, 1, ...   \n",
              "...                                                   ...   \n",
              "181857                              [0, 1, 0, 0, 1, 1, 1]   \n",
              "181858                                 [0, 1, 0, 0, 0, 0]   \n",
              "181859         [0, 0, 0, 0, 1, 0, 1, 1, 1, 1, 1, 1, 1, 1]   \n",
              "181860                              [1, 1, 1, 0, 0, 0, 1]   \n",
              "181861                                       [0, 1, 0, 0]   \n",
              "\n",
              "                                           pseudo_gen_seq  \\\n",
              "0                                 [set, [CPY], to, [CPY]]   \n",
              "1                               [[CPY], [CPY], is, [CPY]]   \n",
              "2                               [read, [CPY], and, [CPY]]   \n",
              "3       [declare, [CPY], longs, [CPY], [CPY], [CPY], a...   \n",
              "4       [[CPY], [CPY], integer, array, where, the, the...   \n",
              "...                                                   ...   \n",
              "181857  [declare, [CPY], constant, integer, [CPY], [CP...   \n",
              "181858                  [print, [CPY], and, a, new, line]   \n",
              "181859  [change, the, value, of, [CPY], to, [CPY], [CP...   \n",
              "181860       [[CPY], [CPY], [CPY], is, less, than, [CPY]]   \n",
              "181861                       [print, [CPY], and, newline]   \n",
              "\n",
              "                                             code_gen_seq  \n",
              "0                                    [[CPY], =, [CPY], ;]  \n",
              "1                         [[CPY], (, [CPY], ==, [CPY], )]  \n",
              "2                          [cin, >>, [CPY], >>, [CPY], ;]  \n",
              "3       [[CPY], [CPY], [CPY], [CPY], [CPY], ,, [CPY], ...  \n",
              "4       [int, [CPY], [CPY], [CPY], [CPY], {, [CPY], [C...  \n",
              "...                                                   ...  \n",
              "181857        [[CPY], const, int, [CPY], [CPY], [CPY], ;]  \n",
              "181858           [cout, <<, \", [CPY], \", <<, ', \\n, ', ;]  \n",
              "181859  [[CPY], =, [CPY], [CPY], [CPY], [CPY], [CPY], ...  \n",
              "181860              [[CPY], [CPY], (, [CPY], <, [CPY], )]  \n",
              "181861                     [cout, <<, [CPY], <<, endl, ;]  \n",
              "\n",
              "[181862 rows x 7 columns]"
            ]
          },
          "execution_count": 20,
          "metadata": {},
          "output_type": "execute_result"
        }
      ],
      "source": [
        "gen_code_seq = train_df.apply(create_gen_seq_from_code_row, axis=1)\n",
        "train_df['code_gen_seq'] = gen_code_seq\n",
        "train_df"
      ]
    },
    {
      "cell_type": "code",
      "execution_count": 21,
      "metadata": {
        "colab": {
          "base_uri": "https://localhost:8080/",
          "height": 887
        },
        "id": "krucIynxerhD",
        "outputId": "128ec7b9-1383-451b-9091-adc24fa51b4d"
      },
      "outputs": [
        {
          "data": {
            "text/html": [
              "<div>\n",
              "<style scoped>\n",
              "    .dataframe tbody tr th:only-of-type {\n",
              "        vertical-align: middle;\n",
              "    }\n",
              "\n",
              "    .dataframe tbody tr th {\n",
              "        vertical-align: top;\n",
              "    }\n",
              "\n",
              "    .dataframe thead th {\n",
              "        text-align: right;\n",
              "    }\n",
              "</style>\n",
              "<table border=\"1\" class=\"dataframe\">\n",
              "  <thead>\n",
              "    <tr style=\"text-align: right;\">\n",
              "      <th></th>\n",
              "      <th>pseudo</th>\n",
              "      <th>code</th>\n",
              "      <th>pseudo_token</th>\n",
              "      <th>code_token</th>\n",
              "      <th>pseudo_copy_seq</th>\n",
              "      <th>pseudo_gen_seq</th>\n",
              "      <th>code_gen_seq</th>\n",
              "      <th>code_gen_seq_aug</th>\n",
              "    </tr>\n",
              "  </thead>\n",
              "  <tbody>\n",
              "    <tr>\n",
              "      <th>0</th>\n",
              "      <td>set l to mid</td>\n",
              "      <td>l = mid ;</td>\n",
              "      <td>[set, l, to, mid]</td>\n",
              "      <td>[l, =, mid, ;]</td>\n",
              "      <td>[0, 1, 0, 1]</td>\n",
              "      <td>[set, [CPY], to, [CPY]]</td>\n",
              "      <td>[[CPY], =, [CPY], ;]</td>\n",
              "      <td>[[START], [CPY], =, [CPY], ;, [STOP]]</td>\n",
              "    </tr>\n",
              "    <tr>\n",
              "      <th>1</th>\n",
              "      <td>if i is 0</td>\n",
              "      <td>if ( i == 0 )</td>\n",
              "      <td>[if, i, is, 0]</td>\n",
              "      <td>[if, (, i, ==, 0, )]</td>\n",
              "      <td>[1, 1, 0, 1]</td>\n",
              "      <td>[[CPY], [CPY], is, [CPY]]</td>\n",
              "      <td>[[CPY], (, [CPY], ==, [CPY], )]</td>\n",
              "      <td>[[START], [CPY], (, [CPY], ==, [CPY], ), [STOP]]</td>\n",
              "    </tr>\n",
              "    <tr>\n",
              "      <th>2</th>\n",
              "      <td>read n and k</td>\n",
              "      <td>cin &gt;&gt; n &gt;&gt; k ;</td>\n",
              "      <td>[read, n, and, k]</td>\n",
              "      <td>[cin, &gt;&gt;, n, &gt;&gt;, k, ;]</td>\n",
              "      <td>[0, 1, 0, 1]</td>\n",
              "      <td>[read, [CPY], and, [CPY]]</td>\n",
              "      <td>[cin, &gt;&gt;, [CPY], &gt;&gt;, [CPY], ;]</td>\n",
              "      <td>[[START], cin, &gt;&gt;, [CPY], &gt;&gt;, [CPY], ;, [STOP]]</td>\n",
              "    </tr>\n",
              "    <tr>\n",
              "      <th>3</th>\n",
              "      <td>declare long longs sum = 0 and min = LONG_LONG...</td>\n",
              "      <td>long long min = LONG_LONG_MAX , sum = 0 ;</td>\n",
              "      <td>[declare, long, longs, sum, =, 0, and, min, =,...</td>\n",
              "      <td>[long, long, min, =, LONG_LONG_MAX, ,, sum, =,...</td>\n",
              "      <td>[0, 1, 0, 1, 1, 1, 0, 1, 1, 1]</td>\n",
              "      <td>[declare, [CPY], longs, [CPY], [CPY], [CPY], a...</td>\n",
              "      <td>[[CPY], [CPY], [CPY], [CPY], [CPY], ,, [CPY], ...</td>\n",
              "      <td>[[START], [CPY], [CPY], [CPY], [CPY], [CPY], ,...</td>\n",
              "    </tr>\n",
              "    <tr>\n",
              "      <th>4</th>\n",
              "      <td>dy = integer array where the the following int...</td>\n",
              "      <td>int dy [ ] = { 0 , 0 , - 1 , 1 } ;</td>\n",
              "      <td>[dy, =, integer, array, where, the, the, follo...</td>\n",
              "      <td>[int, dy, [, ], =, {, 0, ,, 0, ,, -, 1, ,, 1, ...</td>\n",
              "      <td>[1, 1, 0, 0, 0, 0, 0, 0, 0, 0, 0, 0, 0, 1, 1, ...</td>\n",
              "      <td>[[CPY], [CPY], integer, array, where, the, the...</td>\n",
              "      <td>[int, [CPY], [CPY], [CPY], [CPY], {, [CPY], [C...</td>\n",
              "      <td>[[START], int, [CPY], [CPY], [CPY], [CPY], {, ...</td>\n",
              "    </tr>\n",
              "    <tr>\n",
              "      <th>...</th>\n",
              "      <td>...</td>\n",
              "      <td>...</td>\n",
              "      <td>...</td>\n",
              "      <td>...</td>\n",
              "      <td>...</td>\n",
              "      <td>...</td>\n",
              "      <td>...</td>\n",
              "      <td>...</td>\n",
              "    </tr>\n",
              "    <tr>\n",
              "      <th>181857</th>\n",
              "      <td>declare static constant integer mod = 1000000009</td>\n",
              "      <td>static const int mod = 1000000009 ;</td>\n",
              "      <td>[declare, static, constant, integer, mod, =, 1...</td>\n",
              "      <td>[static, const, int, mod, =, 1000000009, ;]</td>\n",
              "      <td>[0, 1, 0, 0, 1, 1, 1]</td>\n",
              "      <td>[declare, [CPY], constant, integer, [CPY], [CP...</td>\n",
              "      <td>[[CPY], const, int, [CPY], [CPY], [CPY], ;]</td>\n",
              "      <td>[[START], [CPY], const, int, [CPY], [CPY], [CP...</td>\n",
              "    </tr>\n",
              "    <tr>\n",
              "      <th>181858</th>\n",
              "      <td>print NO and a new line</td>\n",
              "      <td>cout &lt;&lt; \" NO \" &lt;&lt; ' \\n ' ;</td>\n",
              "      <td>[print, NO, and, a, new, line]</td>\n",
              "      <td>[cout, &lt;&lt;, \", NO, \", &lt;&lt;, ', \\n, ', ;]</td>\n",
              "      <td>[0, 1, 0, 0, 0, 0]</td>\n",
              "      <td>[print, [CPY], and, a, new, line]</td>\n",
              "      <td>[cout, &lt;&lt;, \", [CPY], \", &lt;&lt;, ', \\n, ', ;]</td>\n",
              "      <td>[[START], cout, &lt;&lt;, \", [CPY], \", &lt;&lt;, ', \\n, ',...</td>\n",
              "    </tr>\n",
              "    <tr>\n",
              "      <th>181859</th>\n",
              "      <td>change the value of ans to abs ( x - y ) / d</td>\n",
              "      <td>ans = abs ( x - y ) / d ;</td>\n",
              "      <td>[change, the, value, of, ans, to, abs, (, x, -...</td>\n",
              "      <td>[ans, =, abs, (, x, -, y, ), /, d, ;]</td>\n",
              "      <td>[0, 0, 0, 0, 1, 0, 1, 1, 1, 1, 1, 1, 1, 1]</td>\n",
              "      <td>[change, the, value, of, [CPY], to, [CPY], [CP...</td>\n",
              "      <td>[[CPY], =, [CPY], [CPY], [CPY], [CPY], [CPY], ...</td>\n",
              "      <td>[[START], [CPY], =, [CPY], [CPY], [CPY], [CPY]...</td>\n",
              "    </tr>\n",
              "    <tr>\n",
              "      <th>181860</th>\n",
              "      <td>else if s is less than f</td>\n",
              "      <td>else if ( s &lt; f )</td>\n",
              "      <td>[else, if, s, is, less, than, f]</td>\n",
              "      <td>[else, if, (, s, &lt;, f, )]</td>\n",
              "      <td>[1, 1, 1, 0, 0, 0, 1]</td>\n",
              "      <td>[[CPY], [CPY], [CPY], is, less, than, [CPY]]</td>\n",
              "      <td>[[CPY], [CPY], (, [CPY], &lt;, [CPY], )]</td>\n",
              "      <td>[[START], [CPY], [CPY], (, [CPY], &lt;, [CPY], ),...</td>\n",
              "    </tr>\n",
              "    <tr>\n",
              "      <th>181861</th>\n",
              "      <td>print 1 and newline</td>\n",
              "      <td>cout &lt;&lt; 1 &lt;&lt; endl ;</td>\n",
              "      <td>[print, 1, and, newline]</td>\n",
              "      <td>[cout, &lt;&lt;, 1, &lt;&lt;, endl, ;]</td>\n",
              "      <td>[0, 1, 0, 0]</td>\n",
              "      <td>[print, [CPY], and, newline]</td>\n",
              "      <td>[cout, &lt;&lt;, [CPY], &lt;&lt;, endl, ;]</td>\n",
              "      <td>[[START], cout, &lt;&lt;, [CPY], &lt;&lt;, endl, ;, [STOP]]</td>\n",
              "    </tr>\n",
              "  </tbody>\n",
              "</table>\n",
              "<p>181862 rows × 8 columns</p>\n",
              "</div>"
            ],
            "text/plain": [
              "                                                   pseudo  \\\n",
              "0                                            set l to mid   \n",
              "1                                               if i is 0   \n",
              "2                                            read n and k   \n",
              "3       declare long longs sum = 0 and min = LONG_LONG...   \n",
              "4       dy = integer array where the the following int...   \n",
              "...                                                   ...   \n",
              "181857   declare static constant integer mod = 1000000009   \n",
              "181858                            print NO and a new line   \n",
              "181859       change the value of ans to abs ( x - y ) / d   \n",
              "181860                           else if s is less than f   \n",
              "181861                                print 1 and newline   \n",
              "\n",
              "                                             code  \\\n",
              "0                                       l = mid ;   \n",
              "1                                   if ( i == 0 )   \n",
              "2                                 cin >> n >> k ;   \n",
              "3       long long min = LONG_LONG_MAX , sum = 0 ;   \n",
              "4              int dy [ ] = { 0 , 0 , - 1 , 1 } ;   \n",
              "...                                           ...   \n",
              "181857        static const int mod = 1000000009 ;   \n",
              "181858                 cout << \" NO \" << ' \\n ' ;   \n",
              "181859                  ans = abs ( x - y ) / d ;   \n",
              "181860                          else if ( s < f )   \n",
              "181861                        cout << 1 << endl ;   \n",
              "\n",
              "                                             pseudo_token  \\\n",
              "0                                       [set, l, to, mid]   \n",
              "1                                          [if, i, is, 0]   \n",
              "2                                       [read, n, and, k]   \n",
              "3       [declare, long, longs, sum, =, 0, and, min, =,...   \n",
              "4       [dy, =, integer, array, where, the, the, follo...   \n",
              "...                                                   ...   \n",
              "181857  [declare, static, constant, integer, mod, =, 1...   \n",
              "181858                     [print, NO, and, a, new, line]   \n",
              "181859  [change, the, value, of, ans, to, abs, (, x, -...   \n",
              "181860                   [else, if, s, is, less, than, f]   \n",
              "181861                           [print, 1, and, newline]   \n",
              "\n",
              "                                               code_token  \\\n",
              "0                                          [l, =, mid, ;]   \n",
              "1                                    [if, (, i, ==, 0, )]   \n",
              "2                                  [cin, >>, n, >>, k, ;]   \n",
              "3       [long, long, min, =, LONG_LONG_MAX, ,, sum, =,...   \n",
              "4       [int, dy, [, ], =, {, 0, ,, 0, ,, -, 1, ,, 1, ...   \n",
              "...                                                   ...   \n",
              "181857        [static, const, int, mod, =, 1000000009, ;]   \n",
              "181858              [cout, <<, \", NO, \", <<, ', \\n, ', ;]   \n",
              "181859              [ans, =, abs, (, x, -, y, ), /, d, ;]   \n",
              "181860                          [else, if, (, s, <, f, )]   \n",
              "181861                         [cout, <<, 1, <<, endl, ;]   \n",
              "\n",
              "                                          pseudo_copy_seq  \\\n",
              "0                                            [0, 1, 0, 1]   \n",
              "1                                            [1, 1, 0, 1]   \n",
              "2                                            [0, 1, 0, 1]   \n",
              "3                          [0, 1, 0, 1, 1, 1, 0, 1, 1, 1]   \n",
              "4       [1, 1, 0, 0, 0, 0, 0, 0, 0, 0, 0, 0, 0, 1, 1, ...   \n",
              "...                                                   ...   \n",
              "181857                              [0, 1, 0, 0, 1, 1, 1]   \n",
              "181858                                 [0, 1, 0, 0, 0, 0]   \n",
              "181859         [0, 0, 0, 0, 1, 0, 1, 1, 1, 1, 1, 1, 1, 1]   \n",
              "181860                              [1, 1, 1, 0, 0, 0, 1]   \n",
              "181861                                       [0, 1, 0, 0]   \n",
              "\n",
              "                                           pseudo_gen_seq  \\\n",
              "0                                 [set, [CPY], to, [CPY]]   \n",
              "1                               [[CPY], [CPY], is, [CPY]]   \n",
              "2                               [read, [CPY], and, [CPY]]   \n",
              "3       [declare, [CPY], longs, [CPY], [CPY], [CPY], a...   \n",
              "4       [[CPY], [CPY], integer, array, where, the, the...   \n",
              "...                                                   ...   \n",
              "181857  [declare, [CPY], constant, integer, [CPY], [CP...   \n",
              "181858                  [print, [CPY], and, a, new, line]   \n",
              "181859  [change, the, value, of, [CPY], to, [CPY], [CP...   \n",
              "181860       [[CPY], [CPY], [CPY], is, less, than, [CPY]]   \n",
              "181861                       [print, [CPY], and, newline]   \n",
              "\n",
              "                                             code_gen_seq  \\\n",
              "0                                    [[CPY], =, [CPY], ;]   \n",
              "1                         [[CPY], (, [CPY], ==, [CPY], )]   \n",
              "2                          [cin, >>, [CPY], >>, [CPY], ;]   \n",
              "3       [[CPY], [CPY], [CPY], [CPY], [CPY], ,, [CPY], ...   \n",
              "4       [int, [CPY], [CPY], [CPY], [CPY], {, [CPY], [C...   \n",
              "...                                                   ...   \n",
              "181857        [[CPY], const, int, [CPY], [CPY], [CPY], ;]   \n",
              "181858           [cout, <<, \", [CPY], \", <<, ', \\n, ', ;]   \n",
              "181859  [[CPY], =, [CPY], [CPY], [CPY], [CPY], [CPY], ...   \n",
              "181860              [[CPY], [CPY], (, [CPY], <, [CPY], )]   \n",
              "181861                     [cout, <<, [CPY], <<, endl, ;]   \n",
              "\n",
              "                                         code_gen_seq_aug  \n",
              "0                   [[START], [CPY], =, [CPY], ;, [STOP]]  \n",
              "1        [[START], [CPY], (, [CPY], ==, [CPY], ), [STOP]]  \n",
              "2         [[START], cin, >>, [CPY], >>, [CPY], ;, [STOP]]  \n",
              "3       [[START], [CPY], [CPY], [CPY], [CPY], [CPY], ,...  \n",
              "4       [[START], int, [CPY], [CPY], [CPY], [CPY], {, ...  \n",
              "...                                                   ...  \n",
              "181857  [[START], [CPY], const, int, [CPY], [CPY], [CP...  \n",
              "181858  [[START], cout, <<, \", [CPY], \", <<, ', \\n, ',...  \n",
              "181859  [[START], [CPY], =, [CPY], [CPY], [CPY], [CPY]...  \n",
              "181860  [[START], [CPY], [CPY], (, [CPY], <, [CPY], ),...  \n",
              "181861    [[START], cout, <<, [CPY], <<, endl, ;, [STOP]]  \n",
              "\n",
              "[181862 rows x 8 columns]"
            ]
          },
          "execution_count": 21,
          "metadata": {},
          "output_type": "execute_result"
        }
      ],
      "source": [
        "train_df['code_gen_seq_aug'] = train_df['code_gen_seq'].apply(lambda x: ['[START]'] + x + ['[STOP]'])\n",
        "train_df"
      ]
    },
    {
      "cell_type": "code",
      "execution_count": 22,
      "metadata": {},
      "outputs": [],
      "source": [
        "train_df[['pseudo_gen_seq', 'code_gen_seq', 'code_gen_seq_aug']].to_pickle('../../data/CPY_dataset.pkl')"
      ]
    },
    {
      "cell_type": "markdown",
      "metadata": {
        "id": "JlLEsxXserhE"
      },
      "source": [
        "### Get Vocabulary of pseudocode and code"
      ]
    },
    {
      "cell_type": "code",
      "execution_count": 23,
      "metadata": {
        "id": "0W-KdwxBerhE"
      },
      "outputs": [],
      "source": [
        "def get_vocab(column_name):\n",
        "    vocab = set()\n",
        "    for line in train_df[column_name]:\n",
        "        for token in line:\n",
        "            vocab.add(token) \n",
        "    return vocab"
      ]
    },
    {
      "cell_type": "code",
      "execution_count": 24,
      "metadata": {
        "id": "mII6BZt9erhF"
      },
      "outputs": [],
      "source": [
        "def get_max_len(column_name):\n",
        "    maxlist = max(train_df[column_name], key=len)\n",
        "    return len(maxlist)"
      ]
    },
    {
      "cell_type": "code",
      "execution_count": 25,
      "metadata": {
        "id": "P2YKtmS3erhF"
      },
      "outputs": [],
      "source": [
        "pseudo_gen_vocab = get_vocab('pseudo_gen_seq')\n",
        "code_gen_aug_vocab = get_vocab('code_gen_seq_aug')"
      ]
    },
    {
      "cell_type": "code",
      "execution_count": 26,
      "metadata": {
        "id": "Lp5Di-89erhH"
      },
      "outputs": [],
      "source": [
        "max_pseudo_gen = get_max_len('pseudo_gen_seq')\n",
        "max_code_gen = get_max_len('code_gen_seq')\n",
        "max_code_gen_aug = get_max_len('code_gen_seq_aug')"
      ]
    },
    {
      "cell_type": "code",
      "execution_count": 27,
      "metadata": {},
      "outputs": [],
      "source": [
        "# Save into text files\n",
        "with open('consts.csv', 'w') as f:\n",
        "    f.write('max_pseudo_gen,{}\\n'.format(max_pseudo_gen))\n",
        "    f.write('max_code_gen,{}\\n'.format(max_code_gen))\n",
        "    f.write('max_code_gen_aug,{}\\n'.format(max_code_gen_aug))"
      ]
    },
    {
      "cell_type": "markdown",
      "metadata": {
        "id": "ImGS_qbDerhH"
      },
      "source": [
        "## Make Indexes for each word"
      ]
    },
    {
      "cell_type": "code",
      "execution_count": 28,
      "metadata": {
        "id": "u-koLBAUerhH"
      },
      "outputs": [],
      "source": [
        "input_words = sorted(list(pseudo_gen_vocab)) + ['[UNK]']\n",
        "output_words = sorted(list(code_gen_aug_vocab))"
      ]
    },
    {
      "cell_type": "code",
      "execution_count": 29,
      "metadata": {},
      "outputs": [],
      "source": [
        "import pickle\n",
        "pickle.dump(input_words, open('input_words.pkl', 'wb'))\n",
        "pickle.dump(output_words, open('output_words.pkl', 'wb'))"
      ]
    },
    {
      "cell_type": "code",
      "execution_count": 30,
      "metadata": {
        "id": "_Og8NUw5erhH"
      },
      "outputs": [],
      "source": [
        "pseudo_token_index = dict([(word, i+1) for i, word in enumerate(input_words)])\n",
        "code_token_index = dict([(word, i+1) for i, word in enumerate(output_words)])\n",
        "\n",
        "reverse_pseudo_index = dict((i, word) for word, i in pseudo_token_index.items())\n",
        "reverse_code_index = dict((i, word) for word, i in code_token_index.items())"
      ]
    },
    {
      "cell_type": "markdown",
      "metadata": {
        "id": "8B6b1XQFerhI"
      },
      "source": [
        "# Define Seq2Seq model"
      ]
    },
    {
      "cell_type": "code",
      "execution_count": 31,
      "metadata": {
        "id": "O2enjVLcerhI"
      },
      "outputs": [],
      "source": [
        "num_encoder_tokens = len(input_words) + 1\n",
        "latent_dim = 50 \n",
        "num_decoder_tokens = len(output_words) + 1 \n",
        "# +1 because of 0 padding. No. of tokens = 1078 but the index starts from 1 not from 0 so add 1"
      ]
    },
    {
      "cell_type": "markdown",
      "metadata": {
        "id": "RBh0_rY4erhI"
      },
      "source": [
        "### Seq2Seq learning for generation"
      ]
    },
    {
      "cell_type": "markdown",
      "metadata": {
        "id": "0c3PkjSberhI"
      },
      "source": [
        "#### Define Placeholders for the input tensors"
      ]
    },
    {
      "cell_type": "code",
      "execution_count": 32,
      "metadata": {
        "id": "q85MdiSVofs4"
      },
      "outputs": [],
      "source": [
        "encoder_input_data = None\n",
        "decoder_input_data = None\n",
        "decoder_target_data = None"
      ]
    },
    {
      "cell_type": "code",
      "execution_count": 33,
      "metadata": {
        "id": "NY2d629ho6pv"
      },
      "outputs": [],
      "source": [
        "encoder_matrix_inputs = {\n",
        "  'coords': [\n",
        "    [],\n",
        "    []\n",
        "  ],\n",
        "  'data': []\n",
        "}\n",
        "\n",
        "decoder_matrix_inputs = {\n",
        "  'coords': [\n",
        "    [],\n",
        "    []\n",
        "  ],\n",
        "  'data': []\n",
        "}"
      ]
    },
    {
      "cell_type": "code",
      "execution_count": 34,
      "metadata": {
        "id": "dkxynKRQqFYX"
      },
      "outputs": [],
      "source": [
        "decoder_target_matrix_inputs = {\n",
        "  'coords': [\n",
        "    [],\n",
        "    [],\n",
        "    []\n",
        "  ],\n",
        "  'data': []\n",
        "}"
      ]
    },
    {
      "cell_type": "code",
      "execution_count": 35,
      "metadata": {
        "id": "-JsoC7m2erhJ"
      },
      "outputs": [],
      "source": [
        "# encoder_input_data = np.zeros((train_df['pseudo_gen_seq'].shape[0], max_pseudo_gen), dtype='float32')\n"
      ]
    },
    {
      "cell_type": "code",
      "execution_count": 36,
      "metadata": {
        "id": "9x4TQ3_xlB2Z"
      },
      "outputs": [],
      "source": [
        "# decoder_input_data = np.zeros((train_df['pseudo_gen_seq'].shape[0], max_code_gen_aug), dtype='float32')"
      ]
    },
    {
      "cell_type": "code",
      "execution_count": 37,
      "metadata": {
        "id": "dzoOhNDulT5q"
      },
      "outputs": [],
      "source": [
        "# decoder_target_data = np.zeros((train_df['pseudo_gen_seq'].shape[0], max_code_gen_aug, num_decoder_tokens), dtype='float32')"
      ]
    },
    {
      "cell_type": "code",
      "execution_count": 38,
      "metadata": {
        "id": "I1CJg8keerhJ"
      },
      "outputs": [],
      "source": [
        "# print(encoder_input_data.shape)\n",
        "# print(decoder_input_data.shape)\n",
        "# print(decoder_target_data.shape)"
      ]
    },
    {
      "cell_type": "code",
      "execution_count": 39,
      "metadata": {
        "id": "PZor2PkVkWjq"
      },
      "outputs": [],
      "source": [
        "# errpr"
      ]
    },
    {
      "cell_type": "code",
      "execution_count": 40,
      "metadata": {
        "id": "TIRrlPfeerhJ"
      },
      "outputs": [],
      "source": [
        "for i, (input_seq, target_seq) in enumerate(train_df[['pseudo_gen_seq', 'code_gen_seq_aug']].values):\n",
        "  # print(input_text, target_text)\n",
        "  for t, word in enumerate(input_seq):\n",
        "    encoder_matrix_inputs['coords'][0].append(i)\n",
        "    encoder_matrix_inputs['coords'][1].append(t)\n",
        "    encoder_matrix_inputs['data'].append(pseudo_token_index[word])\n",
        "    # encoder_input_data[i, t] = pseudo_token_index[word]\n",
        "\n",
        "  for t, word in enumerate(target_seq):\n",
        "    # print(t, word)\n",
        "    # decoder_target_data is ahead of decoder_input_data by one timestep\n",
        "    decoder_matrix_inputs['coords'][0].append(i)\n",
        "    decoder_matrix_inputs['coords'][1].append(t)\n",
        "    decoder_matrix_inputs['data'].append(code_token_index[word])\n",
        "\n",
        "    # decoder_input_data[i, t] = code_token_index[word]   \n",
        "    # print(word, code_token_index[word])\n",
        "    if t > 0:\n",
        "      # decoder_target_data will be ahead by one timestep\n",
        "      # and will not include the start character.\n",
        "      # decoder_target_data[i, t - 1, code_token_index[word]] = 1\n",
        "      decoder_target_matrix_inputs['coords'][0].append(i)\n",
        "      decoder_target_matrix_inputs['coords'][1].append(t-1)\n",
        "      decoder_target_matrix_inputs['coords'][2].append(code_token_index[word])\n",
        "      decoder_target_matrix_inputs['data'].append(1.0)"
      ]
    },
    {
      "cell_type": "code",
      "execution_count": 41,
      "metadata": {
        "colab": {
          "base_uri": "https://localhost:8080/",
          "height": 190
        },
        "id": "SJ6aM3ZQq5lP",
        "outputId": "a005bc52-aa6f-4464-ef38-e10fa82c9b77"
      },
      "outputs": [
        {
          "data": {
            "text/html": [
              "<table><tbody><tr><th style=\"text-align: left\">Format</th><td style=\"text-align: left\">coo</td></tr><tr><th style=\"text-align: left\">Data Type</th><td style=\"text-align: left\">int64</td></tr><tr><th style=\"text-align: left\">Shape</th><td style=\"text-align: left\">(181862, 85)</td></tr><tr><th style=\"text-align: left\">nnz</th><td style=\"text-align: left\">1417923</td></tr><tr><th style=\"text-align: left\">Density</th><td style=\"text-align: left\">0.0917258528929822</td></tr><tr><th style=\"text-align: left\">Read-only</th><td style=\"text-align: left\">True</td></tr><tr><th style=\"text-align: left\">Size</th><td style=\"text-align: left\">32.5M</td></tr><tr><th style=\"text-align: left\">Storage ratio</th><td style=\"text-align: left\">0.3</td></tr></tbody></table>"
            ],
            "text/plain": [
              "<COO: shape=(181862, 85), dtype=int64, nnz=1417923, fill_value=0>"
            ]
          },
          "execution_count": 41,
          "metadata": {},
          "output_type": "execute_result"
        }
      ],
      "source": [
        "encoder_input_data = sparse.COO(**encoder_matrix_inputs, shape=(train_df['pseudo_gen_seq'].shape[0], max_pseudo_gen))\n",
        "encoder_input_data"
      ]
    },
    {
      "cell_type": "code",
      "execution_count": 42,
      "metadata": {
        "colab": {
          "base_uri": "https://localhost:8080/",
          "height": 190
        },
        "id": "78h7DLhgrSZP",
        "outputId": "8c7da49b-c654-4f32-cc60-5657be83a367"
      },
      "outputs": [
        {
          "data": {
            "text/html": [
              "<table><tbody><tr><th style=\"text-align: left\">Format</th><td style=\"text-align: left\">coo</td></tr><tr><th style=\"text-align: left\">Data Type</th><td style=\"text-align: left\">int64</td></tr><tr><th style=\"text-align: left\">Shape</th><td style=\"text-align: left\">(181862, 87)</td></tr><tr><th style=\"text-align: left\">nnz</th><td style=\"text-align: left\">2001053</td></tr><tr><th style=\"text-align: left\">Density</th><td style=\"text-align: left\">0.12647287061289494</td></tr><tr><th style=\"text-align: left\">Read-only</th><td style=\"text-align: left\">True</td></tr><tr><th style=\"text-align: left\">Size</th><td style=\"text-align: left\">45.8M</td></tr><tr><th style=\"text-align: left\">Storage ratio</th><td style=\"text-align: left\">0.4</td></tr></tbody></table>"
            ],
            "text/plain": [
              "<COO: shape=(181862, 87), dtype=int64, nnz=2001053, fill_value=0>"
            ]
          },
          "execution_count": 42,
          "metadata": {},
          "output_type": "execute_result"
        }
      ],
      "source": [
        "decoder_input_data = sparse.COO(**decoder_matrix_inputs, shape=(train_df['pseudo_gen_seq'].shape[0], max_code_gen_aug))\n",
        "decoder_input_data"
      ]
    },
    {
      "cell_type": "code",
      "execution_count": 43,
      "metadata": {
        "colab": {
          "base_uri": "https://localhost:8080/",
          "height": 190
        },
        "id": "XLWae81rrbmu",
        "outputId": "02b0f763-8409-4d5f-b475-e25ff011e870"
      },
      "outputs": [
        {
          "data": {
            "text/html": [
              "<table><tbody><tr><th style=\"text-align: left\">Format</th><td style=\"text-align: left\">coo</td></tr><tr><th style=\"text-align: left\">Data Type</th><td style=\"text-align: left\">float64</td></tr><tr><th style=\"text-align: left\">Shape</th><td style=\"text-align: left\">(181862, 87, 1079)</td></tr><tr><th style=\"text-align: left\">nnz</th><td style=\"text-align: left\">1819191</td></tr><tr><th style=\"text-align: left\">Density</th><td style=\"text-align: left\">0.00010656035008279122</td></tr><tr><th style=\"text-align: left\">Read-only</th><td style=\"text-align: left\">True</td></tr><tr><th style=\"text-align: left\">Size</th><td style=\"text-align: left\">55.5M</td></tr><tr><th style=\"text-align: left\">Storage ratio</th><td style=\"text-align: left\">0.0</td></tr></tbody></table>"
            ],
            "text/plain": [
              "<COO: shape=(181862, 87, 1079), dtype=float64, nnz=1819191, fill_value=0.0>"
            ]
          },
          "execution_count": 43,
          "metadata": {},
          "output_type": "execute_result"
        }
      ],
      "source": [
        "decoder_target_data = sparse.COO(**decoder_target_matrix_inputs, shape=(train_df['pseudo_gen_seq'].shape[0], max_code_gen_aug, num_decoder_tokens))\n",
        "decoder_target_data"
      ]
    },
    {
      "cell_type": "code",
      "execution_count": 44,
      "metadata": {
        "colab": {
          "base_uri": "https://localhost:8080/"
        },
        "id": "OoWz1CAwerhJ",
        "outputId": "5ad3d19a-8753-4368-964f-e3f394818ffa"
      },
      "outputs": [
        {
          "name": "stdout",
          "output_type": "stream",
          "text": [
            "['[START]', '[CPY]', '(', '[CPY]', '>=', '[CPY]', ')', '[CPY]', ';', '[STOP]']\n"
          ]
        },
        {
          "data": {
            "text/plain": [
              "(1079,)"
            ]
          },
          "execution_count": 44,
          "metadata": {},
          "output_type": "execute_result"
        }
      ],
      "source": [
        "# # print(train_df['pseudo_gen_seq'][1500])\n",
        "# # encoder_input_data[1500][:100]\n",
        "\n",
        "print(train_df['code_gen_seq_aug'][1500])\n",
        "# # decoder_input_data[1500][:100]\n",
        "decoder_target_data[1500][1].shape"
      ]
    },
    {
      "cell_type": "markdown",
      "metadata": {
        "id": "FVvrCn13erhK"
      },
      "source": [
        "### Inference"
      ]
    },
    {
      "cell_type": "code",
      "execution_count": 46,
      "metadata": {
        "colab": {
          "base_uri": "https://localhost:8080/"
        },
        "id": "WXRBbuLzerhK",
        "outputId": "c41c9702-69a4-4ccc-eb62-84507476eaa2"
      },
      "outputs": [
        {
          "name": "stderr",
          "output_type": "stream",
          "text": [
            "2022-05-04 11:20:11.677546: I tensorflow/core/platform/cpu_feature_guard.cc:151] This TensorFlow binary is optimized with oneAPI Deep Neural Network Library (oneDNN) to use the following CPU instructions in performance-critical operations:  AVX2 FMA\n",
            "To enable them in other operations, rebuild TensorFlow with the appropriate compiler flags.\n"
          ]
        },
        {
          "name": "stdout",
          "output_type": "stream",
          "text": [
            "WARNING:tensorflow:No training configuration found in the save file, so the model was *not* compiled. Compile it manually.\n",
            "WARNING:tensorflow:No training configuration found in the save file, so the model was *not* compiled. Compile it manually.\n"
          ]
        }
      ],
      "source": [
        "# Load a keras saved model\n",
        "\n",
        "model = tf.keras.models.load_model('../models/50_epochs_saved/model_50_epochs.h5', compile=True)\n",
        "encoder = tf.keras.models.load_model('../models/50_epochs_saved/encoder_50_epochs.h5', compile=True)\n",
        "decoder = tf.keras.models.load_model('../models/50_epochs_saved/decoder_50_epochs.h5', compile=True)"
      ]
    },
    {
      "cell_type": "code",
      "execution_count": 47,
      "metadata": {
        "id": "7LWOSGNlerhK"
      },
      "outputs": [],
      "source": [
        "def decode_sequence(input_seq):\n",
        "    # Encode the input as state vectors.\n",
        "    # states_value = encoder_model.predict(input_seq)\n",
        "    print(input_seq.shape)\n",
        "    states_value = encoder.predict(input_seq)\n",
        "\n",
        "    # Generate empty target sequence of length 1.\n",
        "    target_seq = np.zeros((1,1))\n",
        "    \n",
        "    # Populate the first character of target sequence with the start character.\n",
        "    target_seq[0, 0] = code_token_index['[START]']\n",
        "    \n",
        "    # Sampling loop for a batch of sequences\n",
        "    # (to simplify, here we assume a batch of size 1).\n",
        "    stop_condition = False\n",
        "    # decoded_sentence = ''\n",
        "    decoded_sentence = []\n",
        "    \n",
        "    while not stop_condition:\n",
        "        output_tokens, h, c = decoder.predict([target_seq] + states_value)\n",
        "        # Sample a token\n",
        "        sampled_token_index = np.argmax(output_tokens[0, -1, :])\n",
        "        sampled_char = reverse_code_index[sampled_token_index]\n",
        "        # decoded_sentence += ' '+sampled_char\n",
        "        decoded_sentence.append(sampled_char)\n",
        "        \n",
        "        # Exit condition: either hit max length or find stop token.\n",
        "        if (sampled_char == '[STOP]' or len(decoded_sentence) > 50):\n",
        "            stop_condition = True\n",
        "        \n",
        "        # Update the target sequence (of length 1).\n",
        "        target_seq = np.zeros((1,1))\n",
        "        target_seq[0, 0] = sampled_token_index\n",
        "        \n",
        "        # Update states\n",
        "        states_value = [h, c]\n",
        "    \n",
        "    return decoded_sentence"
      ]
    },
    {
      "cell_type": "code",
      "execution_count": 48,
      "metadata": {
        "colab": {
          "base_uri": "https://localhost:8080/"
        },
        "id": "MXIk53FCerhK",
        "outputId": "ce73c521-3fb8-4418-a7cd-25721cc6fb7d"
      },
      "outputs": [
        {
          "name": "stdout",
          "output_type": "stream",
          "text": [
            "(1, 85)\n",
            "-\n",
            "Input sentence: 399    [decrement, [CPY]]\n",
            "Name: pseudo_gen_seq, dtype: object\n",
            "True sentence: 399    [[START], [CPY], --, ;, [STOP]]\n",
            "Name: code_gen_seq_aug, dtype: object\n",
            "Decoded sentence: ['[CPY]', '--', ';', '[STOP]']\n",
            "(1, 85)\n",
            "-\n",
            "Input sentence: 100    [assign, [CPY], [CPY], to, [CPY]]\n",
            "Name: pseudo_gen_seq, dtype: object\n",
            "True sentence: 100    [[START], int, [CPY], =, [CPY], [CPY], ;, [STOP]]\n",
            "Name: code_gen_seq_aug, dtype: object\n",
            "Decoded sentence: ['[CPY]', '=', '[CPY]', '[CPY]', '[CPY]', ';', '[STOP]']\n"
          ]
        }
      ],
      "source": [
        "for seq_index in [399, 100]:\n",
        "    # print(encoder_input_data[seq_index])\n",
        "    input_seq = encoder_input_data[seq_index: seq_index+1].todense()\n",
        "    # print(input_seq)\n",
        "    decoded_sentence = decode_sequence(input_seq)\n",
        "    print('-')\n",
        "    print('Input sentence:', train_df['pseudo_gen_seq'][seq_index: seq_index + 1])\n",
        "    print('True sentence:', train_df['code_gen_seq_aug'][seq_index: seq_index + 1])\n",
        "    print('Decoded sentence:', decoded_sentence)"
      ]
    },
    {
      "cell_type": "code",
      "execution_count": 49,
      "metadata": {
        "colab": {
          "base_uri": "https://localhost:8080/",
          "height": 423
        },
        "id": "X2tWU_uVerhL",
        "outputId": "756cc73d-14fe-4d61-e0b8-3353f22713bd"
      },
      "outputs": [
        {
          "data": {
            "text/html": [
              "<div>\n",
              "<style scoped>\n",
              "    .dataframe tbody tr th:only-of-type {\n",
              "        vertical-align: middle;\n",
              "    }\n",
              "\n",
              "    .dataframe tbody tr th {\n",
              "        vertical-align: top;\n",
              "    }\n",
              "\n",
              "    .dataframe thead th {\n",
              "        text-align: right;\n",
              "    }\n",
              "</style>\n",
              "<table border=\"1\" class=\"dataframe\">\n",
              "  <thead>\n",
              "    <tr style=\"text-align: right;\">\n",
              "      <th></th>\n",
              "      <th>pseudo_gen_seq</th>\n",
              "      <th>code_gen_seq</th>\n",
              "      <th>pred_code_gen_seq</th>\n",
              "    </tr>\n",
              "  </thead>\n",
              "  <tbody>\n",
              "    <tr>\n",
              "      <th>0</th>\n",
              "      <td>[set, [CPY], to, [CPY]]</td>\n",
              "      <td>[[CPY], =, [CPY], ;]</td>\n",
              "      <td></td>\n",
              "    </tr>\n",
              "    <tr>\n",
              "      <th>1</th>\n",
              "      <td>[[CPY], [CPY], is, [CPY]]</td>\n",
              "      <td>[[CPY], (, [CPY], ==, [CPY], )]</td>\n",
              "      <td></td>\n",
              "    </tr>\n",
              "    <tr>\n",
              "      <th>2</th>\n",
              "      <td>[read, [CPY], and, [CPY]]</td>\n",
              "      <td>[cin, &gt;&gt;, [CPY], &gt;&gt;, [CPY], ;]</td>\n",
              "      <td></td>\n",
              "    </tr>\n",
              "    <tr>\n",
              "      <th>3</th>\n",
              "      <td>[declare, [CPY], longs, [CPY], [CPY], [CPY], a...</td>\n",
              "      <td>[[CPY], [CPY], [CPY], [CPY], [CPY], ,, [CPY], ...</td>\n",
              "      <td></td>\n",
              "    </tr>\n",
              "    <tr>\n",
              "      <th>4</th>\n",
              "      <td>[[CPY], [CPY], integer, array, where, the, the...</td>\n",
              "      <td>[int, [CPY], [CPY], [CPY], [CPY], {, [CPY], [C...</td>\n",
              "      <td></td>\n",
              "    </tr>\n",
              "    <tr>\n",
              "      <th>...</th>\n",
              "      <td>...</td>\n",
              "      <td>...</td>\n",
              "      <td>...</td>\n",
              "    </tr>\n",
              "    <tr>\n",
              "      <th>181857</th>\n",
              "      <td>[declare, [CPY], constant, integer, [CPY], [CP...</td>\n",
              "      <td>[[CPY], const, int, [CPY], [CPY], [CPY], ;]</td>\n",
              "      <td></td>\n",
              "    </tr>\n",
              "    <tr>\n",
              "      <th>181858</th>\n",
              "      <td>[print, [CPY], and, a, new, line]</td>\n",
              "      <td>[cout, &lt;&lt;, \", [CPY], \", &lt;&lt;, ', \\n, ', ;]</td>\n",
              "      <td></td>\n",
              "    </tr>\n",
              "    <tr>\n",
              "      <th>181859</th>\n",
              "      <td>[change, the, value, of, [CPY], to, [CPY], [CP...</td>\n",
              "      <td>[[CPY], =, [CPY], [CPY], [CPY], [CPY], [CPY], ...</td>\n",
              "      <td></td>\n",
              "    </tr>\n",
              "    <tr>\n",
              "      <th>181860</th>\n",
              "      <td>[[CPY], [CPY], [CPY], is, less, than, [CPY]]</td>\n",
              "      <td>[[CPY], [CPY], (, [CPY], &lt;, [CPY], )]</td>\n",
              "      <td></td>\n",
              "    </tr>\n",
              "    <tr>\n",
              "      <th>181861</th>\n",
              "      <td>[print, [CPY], and, newline]</td>\n",
              "      <td>[cout, &lt;&lt;, [CPY], &lt;&lt;, endl, ;]</td>\n",
              "      <td></td>\n",
              "    </tr>\n",
              "  </tbody>\n",
              "</table>\n",
              "<p>181862 rows × 3 columns</p>\n",
              "</div>"
            ],
            "text/plain": [
              "                                           pseudo_gen_seq  \\\n",
              "0                                 [set, [CPY], to, [CPY]]   \n",
              "1                               [[CPY], [CPY], is, [CPY]]   \n",
              "2                               [read, [CPY], and, [CPY]]   \n",
              "3       [declare, [CPY], longs, [CPY], [CPY], [CPY], a...   \n",
              "4       [[CPY], [CPY], integer, array, where, the, the...   \n",
              "...                                                   ...   \n",
              "181857  [declare, [CPY], constant, integer, [CPY], [CP...   \n",
              "181858                  [print, [CPY], and, a, new, line]   \n",
              "181859  [change, the, value, of, [CPY], to, [CPY], [CP...   \n",
              "181860       [[CPY], [CPY], [CPY], is, less, than, [CPY]]   \n",
              "181861                       [print, [CPY], and, newline]   \n",
              "\n",
              "                                             code_gen_seq pred_code_gen_seq  \n",
              "0                                    [[CPY], =, [CPY], ;]                    \n",
              "1                         [[CPY], (, [CPY], ==, [CPY], )]                    \n",
              "2                          [cin, >>, [CPY], >>, [CPY], ;]                    \n",
              "3       [[CPY], [CPY], [CPY], [CPY], [CPY], ,, [CPY], ...                    \n",
              "4       [int, [CPY], [CPY], [CPY], [CPY], {, [CPY], [C...                    \n",
              "...                                                   ...               ...  \n",
              "181857        [[CPY], const, int, [CPY], [CPY], [CPY], ;]                    \n",
              "181858           [cout, <<, \", [CPY], \", <<, ', \\n, ', ;]                    \n",
              "181859  [[CPY], =, [CPY], [CPY], [CPY], [CPY], [CPY], ...                    \n",
              "181860              [[CPY], [CPY], (, [CPY], <, [CPY], )]                    \n",
              "181861                     [cout, <<, [CPY], <<, endl, ;]                    \n",
              "\n",
              "[181862 rows x 3 columns]"
            ]
          },
          "execution_count": 49,
          "metadata": {},
          "output_type": "execute_result"
        }
      ],
      "source": [
        "pred_df = train_df[['pseudo_gen_seq', 'code_gen_seq']].copy()\n",
        "pred_df['pred_code_gen_seq'] = ''\n",
        "pred_df"
      ]
    },
    {
      "cell_type": "code",
      "execution_count": 50,
      "metadata": {
        "id": "CMeStxKkOcrY"
      },
      "outputs": [],
      "source": [
        "def predict_code_gen_seq(row):\n",
        "    \"\"\"\n",
        "    Predict code from pseudocode\n",
        "    \"\"\"\n",
        "    # Index of a row in the dataframe\n",
        "    seq_index = row.name\n",
        "    input_seq = encoder_input_data[seq_index: seq_index+1].todense()\n",
        "\n",
        "    # Decode the input as state vectors\n",
        "    decoded_sentence = decode_sequence(input_seq)\n",
        "\n",
        "    if seq_index % 500 == 0:\n",
        "        print(seq_index)\n",
        "    \n",
        "    return decoded_sentence[:-1]"
      ]
    },
    {
      "cell_type": "code",
      "execution_count": 51,
      "metadata": {
        "colab": {
          "base_uri": "https://localhost:8080/"
        },
        "id": "B1bfbS_HRBb2",
        "outputId": "3a58a375-a8c8-432e-988e-62d1d4f2c800"
      },
      "outputs": [
        {
          "name": "stdout",
          "output_type": "stream",
          "text": [
            "(1, 85)\n",
            "0\n",
            "(1, 85)\n",
            "(1, 85)\n",
            "(1, 85)\n",
            "(1, 85)\n"
          ]
        },
        {
          "ename": "KeyboardInterrupt",
          "evalue": "",
          "output_type": "error",
          "traceback": [
            "\u001b[0;31m---------------------------------------------------------------------------\u001b[0m",
            "\u001b[0;31mKeyboardInterrupt\u001b[0m                         Traceback (most recent call last)",
            "\u001b[0;32m/var/folders/h3/xx1tmxm14tj46f14sf9vgg700000gn/T/ipykernel_37630/3549193987.py\u001b[0m in \u001b[0;36m<module>\u001b[0;34m\u001b[0m\n\u001b[0;32m----> 1\u001b[0;31m \u001b[0mpred_df\u001b[0m\u001b[0;34m[\u001b[0m\u001b[0;34m'pred_code_gen_seq'\u001b[0m\u001b[0;34m]\u001b[0m \u001b[0;34m=\u001b[0m \u001b[0mpred_df\u001b[0m\u001b[0;34m.\u001b[0m\u001b[0mapply\u001b[0m\u001b[0;34m(\u001b[0m\u001b[0mpredict_code_gen_seq\u001b[0m\u001b[0;34m,\u001b[0m \u001b[0maxis\u001b[0m\u001b[0;34m=\u001b[0m\u001b[0;36m1\u001b[0m\u001b[0;34m)\u001b[0m\u001b[0;34m\u001b[0m\u001b[0;34m\u001b[0m\u001b[0m\n\u001b[0m\u001b[1;32m      2\u001b[0m \u001b[0;31m# pred_df.to_pickle('pred.pkl')\u001b[0m\u001b[0;34m\u001b[0m\u001b[0;34m\u001b[0m\u001b[0;34m\u001b[0m\u001b[0m\n",
            "\u001b[0;32m~/anaconda3/lib/python3.7/site-packages/pandas/core/frame.py\u001b[0m in \u001b[0;36mapply\u001b[0;34m(self, func, axis, raw, result_type, args, **kwargs)\u001b[0m\n\u001b[1;32m   8738\u001b[0m             \u001b[0mkwargs\u001b[0m\u001b[0;34m=\u001b[0m\u001b[0mkwargs\u001b[0m\u001b[0;34m,\u001b[0m\u001b[0;34m\u001b[0m\u001b[0;34m\u001b[0m\u001b[0m\n\u001b[1;32m   8739\u001b[0m         )\n\u001b[0;32m-> 8740\u001b[0;31m         \u001b[0;32mreturn\u001b[0m \u001b[0mop\u001b[0m\u001b[0;34m.\u001b[0m\u001b[0mapply\u001b[0m\u001b[0;34m(\u001b[0m\u001b[0;34m)\u001b[0m\u001b[0;34m\u001b[0m\u001b[0;34m\u001b[0m\u001b[0m\n\u001b[0m\u001b[1;32m   8741\u001b[0m \u001b[0;34m\u001b[0m\u001b[0m\n\u001b[1;32m   8742\u001b[0m     def applymap(\n",
            "\u001b[0;32m~/anaconda3/lib/python3.7/site-packages/pandas/core/apply.py\u001b[0m in \u001b[0;36mapply\u001b[0;34m(self)\u001b[0m\n\u001b[1;32m    686\u001b[0m             \u001b[0;32mreturn\u001b[0m \u001b[0mself\u001b[0m\u001b[0;34m.\u001b[0m\u001b[0mapply_raw\u001b[0m\u001b[0;34m(\u001b[0m\u001b[0;34m)\u001b[0m\u001b[0;34m\u001b[0m\u001b[0;34m\u001b[0m\u001b[0m\n\u001b[1;32m    687\u001b[0m \u001b[0;34m\u001b[0m\u001b[0m\n\u001b[0;32m--> 688\u001b[0;31m         \u001b[0;32mreturn\u001b[0m \u001b[0mself\u001b[0m\u001b[0;34m.\u001b[0m\u001b[0mapply_standard\u001b[0m\u001b[0;34m(\u001b[0m\u001b[0;34m)\u001b[0m\u001b[0;34m\u001b[0m\u001b[0;34m\u001b[0m\u001b[0m\n\u001b[0m\u001b[1;32m    689\u001b[0m \u001b[0;34m\u001b[0m\u001b[0m\n\u001b[1;32m    690\u001b[0m     \u001b[0;32mdef\u001b[0m \u001b[0magg\u001b[0m\u001b[0;34m(\u001b[0m\u001b[0mself\u001b[0m\u001b[0;34m)\u001b[0m\u001b[0;34m:\u001b[0m\u001b[0;34m\u001b[0m\u001b[0;34m\u001b[0m\u001b[0m\n",
            "\u001b[0;32m~/anaconda3/lib/python3.7/site-packages/pandas/core/apply.py\u001b[0m in \u001b[0;36mapply_standard\u001b[0;34m(self)\u001b[0m\n\u001b[1;32m    810\u001b[0m \u001b[0;34m\u001b[0m\u001b[0m\n\u001b[1;32m    811\u001b[0m     \u001b[0;32mdef\u001b[0m \u001b[0mapply_standard\u001b[0m\u001b[0;34m(\u001b[0m\u001b[0mself\u001b[0m\u001b[0;34m)\u001b[0m\u001b[0;34m:\u001b[0m\u001b[0;34m\u001b[0m\u001b[0;34m\u001b[0m\u001b[0m\n\u001b[0;32m--> 812\u001b[0;31m         \u001b[0mresults\u001b[0m\u001b[0;34m,\u001b[0m \u001b[0mres_index\u001b[0m \u001b[0;34m=\u001b[0m \u001b[0mself\u001b[0m\u001b[0;34m.\u001b[0m\u001b[0mapply_series_generator\u001b[0m\u001b[0;34m(\u001b[0m\u001b[0;34m)\u001b[0m\u001b[0;34m\u001b[0m\u001b[0;34m\u001b[0m\u001b[0m\n\u001b[0m\u001b[1;32m    813\u001b[0m \u001b[0;34m\u001b[0m\u001b[0m\n\u001b[1;32m    814\u001b[0m         \u001b[0;31m# wrap results\u001b[0m\u001b[0;34m\u001b[0m\u001b[0;34m\u001b[0m\u001b[0;34m\u001b[0m\u001b[0m\n",
            "\u001b[0;32m~/anaconda3/lib/python3.7/site-packages/pandas/core/apply.py\u001b[0m in \u001b[0;36mapply_series_generator\u001b[0;34m(self)\u001b[0m\n\u001b[1;32m    826\u001b[0m             \u001b[0;32mfor\u001b[0m \u001b[0mi\u001b[0m\u001b[0;34m,\u001b[0m \u001b[0mv\u001b[0m \u001b[0;32min\u001b[0m \u001b[0menumerate\u001b[0m\u001b[0;34m(\u001b[0m\u001b[0mseries_gen\u001b[0m\u001b[0;34m)\u001b[0m\u001b[0;34m:\u001b[0m\u001b[0;34m\u001b[0m\u001b[0;34m\u001b[0m\u001b[0m\n\u001b[1;32m    827\u001b[0m                 \u001b[0;31m# ignore SettingWithCopy here in case the user mutates\u001b[0m\u001b[0;34m\u001b[0m\u001b[0;34m\u001b[0m\u001b[0;34m\u001b[0m\u001b[0m\n\u001b[0;32m--> 828\u001b[0;31m                 \u001b[0mresults\u001b[0m\u001b[0;34m[\u001b[0m\u001b[0mi\u001b[0m\u001b[0;34m]\u001b[0m \u001b[0;34m=\u001b[0m \u001b[0mself\u001b[0m\u001b[0;34m.\u001b[0m\u001b[0mf\u001b[0m\u001b[0;34m(\u001b[0m\u001b[0mv\u001b[0m\u001b[0;34m)\u001b[0m\u001b[0;34m\u001b[0m\u001b[0;34m\u001b[0m\u001b[0m\n\u001b[0m\u001b[1;32m    829\u001b[0m                 \u001b[0;32mif\u001b[0m \u001b[0misinstance\u001b[0m\u001b[0;34m(\u001b[0m\u001b[0mresults\u001b[0m\u001b[0;34m[\u001b[0m\u001b[0mi\u001b[0m\u001b[0;34m]\u001b[0m\u001b[0;34m,\u001b[0m \u001b[0mABCSeries\u001b[0m\u001b[0;34m)\u001b[0m\u001b[0;34m:\u001b[0m\u001b[0;34m\u001b[0m\u001b[0;34m\u001b[0m\u001b[0m\n\u001b[1;32m    830\u001b[0m                     \u001b[0;31m# If we have a view on v, we need to make a copy because\u001b[0m\u001b[0;34m\u001b[0m\u001b[0;34m\u001b[0m\u001b[0;34m\u001b[0m\u001b[0m\n",
            "\u001b[0;32m/var/folders/h3/xx1tmxm14tj46f14sf9vgg700000gn/T/ipykernel_37630/53390617.py\u001b[0m in \u001b[0;36mpredict_code_gen_seq\u001b[0;34m(row)\u001b[0m\n\u001b[1;32m      8\u001b[0m \u001b[0;34m\u001b[0m\u001b[0m\n\u001b[1;32m      9\u001b[0m     \u001b[0;31m# Decode the input as state vectors\u001b[0m\u001b[0;34m\u001b[0m\u001b[0;34m\u001b[0m\u001b[0;34m\u001b[0m\u001b[0m\n\u001b[0;32m---> 10\u001b[0;31m     \u001b[0mdecoded_sentence\u001b[0m \u001b[0;34m=\u001b[0m \u001b[0mdecode_sequence\u001b[0m\u001b[0;34m(\u001b[0m\u001b[0minput_seq\u001b[0m\u001b[0;34m)\u001b[0m\u001b[0;34m\u001b[0m\u001b[0;34m\u001b[0m\u001b[0m\n\u001b[0m\u001b[1;32m     11\u001b[0m \u001b[0;34m\u001b[0m\u001b[0m\n\u001b[1;32m     12\u001b[0m     \u001b[0;32mif\u001b[0m \u001b[0mseq_index\u001b[0m \u001b[0;34m%\u001b[0m \u001b[0;36m500\u001b[0m \u001b[0;34m==\u001b[0m \u001b[0;36m0\u001b[0m\u001b[0;34m:\u001b[0m\u001b[0;34m\u001b[0m\u001b[0;34m\u001b[0m\u001b[0m\n",
            "\u001b[0;32m/var/folders/h3/xx1tmxm14tj46f14sf9vgg700000gn/T/ipykernel_37630/1030932359.py\u001b[0m in \u001b[0;36mdecode_sequence\u001b[0;34m(input_seq)\u001b[0m\n\u001b[1;32m     18\u001b[0m \u001b[0;34m\u001b[0m\u001b[0m\n\u001b[1;32m     19\u001b[0m     \u001b[0;32mwhile\u001b[0m \u001b[0;32mnot\u001b[0m \u001b[0mstop_condition\u001b[0m\u001b[0;34m:\u001b[0m\u001b[0;34m\u001b[0m\u001b[0;34m\u001b[0m\u001b[0m\n\u001b[0;32m---> 20\u001b[0;31m         \u001b[0moutput_tokens\u001b[0m\u001b[0;34m,\u001b[0m \u001b[0mh\u001b[0m\u001b[0;34m,\u001b[0m \u001b[0mc\u001b[0m \u001b[0;34m=\u001b[0m \u001b[0mdecoder\u001b[0m\u001b[0;34m.\u001b[0m\u001b[0mpredict\u001b[0m\u001b[0;34m(\u001b[0m\u001b[0;34m[\u001b[0m\u001b[0mtarget_seq\u001b[0m\u001b[0;34m]\u001b[0m \u001b[0;34m+\u001b[0m \u001b[0mstates_value\u001b[0m\u001b[0;34m)\u001b[0m\u001b[0;34m\u001b[0m\u001b[0;34m\u001b[0m\u001b[0m\n\u001b[0m\u001b[1;32m     21\u001b[0m         \u001b[0;31m# Sample a token\u001b[0m\u001b[0;34m\u001b[0m\u001b[0;34m\u001b[0m\u001b[0;34m\u001b[0m\u001b[0m\n\u001b[1;32m     22\u001b[0m         \u001b[0msampled_token_index\u001b[0m \u001b[0;34m=\u001b[0m \u001b[0mnp\u001b[0m\u001b[0;34m.\u001b[0m\u001b[0margmax\u001b[0m\u001b[0;34m(\u001b[0m\u001b[0moutput_tokens\u001b[0m\u001b[0;34m[\u001b[0m\u001b[0;36m0\u001b[0m\u001b[0;34m,\u001b[0m \u001b[0;34m-\u001b[0m\u001b[0;36m1\u001b[0m\u001b[0;34m,\u001b[0m \u001b[0;34m:\u001b[0m\u001b[0;34m]\u001b[0m\u001b[0;34m)\u001b[0m\u001b[0;34m\u001b[0m\u001b[0;34m\u001b[0m\u001b[0m\n",
            "\u001b[0;32m~/anaconda3/lib/python3.7/site-packages/keras/utils/traceback_utils.py\u001b[0m in \u001b[0;36merror_handler\u001b[0;34m(*args, **kwargs)\u001b[0m\n\u001b[1;32m     62\u001b[0m     \u001b[0mfiltered_tb\u001b[0m \u001b[0;34m=\u001b[0m \u001b[0;32mNone\u001b[0m\u001b[0;34m\u001b[0m\u001b[0;34m\u001b[0m\u001b[0m\n\u001b[1;32m     63\u001b[0m     \u001b[0;32mtry\u001b[0m\u001b[0;34m:\u001b[0m\u001b[0;34m\u001b[0m\u001b[0;34m\u001b[0m\u001b[0m\n\u001b[0;32m---> 64\u001b[0;31m       \u001b[0;32mreturn\u001b[0m \u001b[0mfn\u001b[0m\u001b[0;34m(\u001b[0m\u001b[0;34m*\u001b[0m\u001b[0margs\u001b[0m\u001b[0;34m,\u001b[0m \u001b[0;34m**\u001b[0m\u001b[0mkwargs\u001b[0m\u001b[0;34m)\u001b[0m\u001b[0;34m\u001b[0m\u001b[0;34m\u001b[0m\u001b[0m\n\u001b[0m\u001b[1;32m     65\u001b[0m     \u001b[0;32mexcept\u001b[0m \u001b[0mException\u001b[0m \u001b[0;32mas\u001b[0m \u001b[0me\u001b[0m\u001b[0;34m:\u001b[0m  \u001b[0;31m# pylint: disable=broad-except\u001b[0m\u001b[0;34m\u001b[0m\u001b[0;34m\u001b[0m\u001b[0m\n\u001b[1;32m     66\u001b[0m       \u001b[0mfiltered_tb\u001b[0m \u001b[0;34m=\u001b[0m \u001b[0m_process_traceback_frames\u001b[0m\u001b[0;34m(\u001b[0m\u001b[0me\u001b[0m\u001b[0;34m.\u001b[0m\u001b[0m__traceback__\u001b[0m\u001b[0;34m)\u001b[0m\u001b[0;34m\u001b[0m\u001b[0;34m\u001b[0m\u001b[0m\n",
            "\u001b[0;32m~/anaconda3/lib/python3.7/site-packages/keras/engine/training.py\u001b[0m in \u001b[0;36mpredict\u001b[0;34m(self, x, batch_size, verbose, steps, callbacks, max_queue_size, workers, use_multiprocessing)\u001b[0m\n\u001b[1;32m   1976\u001b[0m       \u001b[0mcallbacks\u001b[0m\u001b[0;34m.\u001b[0m\u001b[0mon_predict_begin\u001b[0m\u001b[0;34m(\u001b[0m\u001b[0;34m)\u001b[0m\u001b[0;34m\u001b[0m\u001b[0;34m\u001b[0m\u001b[0m\n\u001b[1;32m   1977\u001b[0m       \u001b[0mbatch_outputs\u001b[0m \u001b[0;34m=\u001b[0m \u001b[0;32mNone\u001b[0m\u001b[0;34m\u001b[0m\u001b[0;34m\u001b[0m\u001b[0m\n\u001b[0;32m-> 1978\u001b[0;31m       \u001b[0;32mfor\u001b[0m \u001b[0m_\u001b[0m\u001b[0;34m,\u001b[0m \u001b[0miterator\u001b[0m \u001b[0;32min\u001b[0m \u001b[0mdata_handler\u001b[0m\u001b[0;34m.\u001b[0m\u001b[0menumerate_epochs\u001b[0m\u001b[0;34m(\u001b[0m\u001b[0;34m)\u001b[0m\u001b[0;34m:\u001b[0m  \u001b[0;31m# Single epoch.\u001b[0m\u001b[0;34m\u001b[0m\u001b[0;34m\u001b[0m\u001b[0m\n\u001b[0m\u001b[1;32m   1979\u001b[0m         \u001b[0;32mwith\u001b[0m \u001b[0mdata_handler\u001b[0m\u001b[0;34m.\u001b[0m\u001b[0mcatch_stop_iteration\u001b[0m\u001b[0;34m(\u001b[0m\u001b[0;34m)\u001b[0m\u001b[0;34m:\u001b[0m\u001b[0;34m\u001b[0m\u001b[0;34m\u001b[0m\u001b[0m\n\u001b[1;32m   1980\u001b[0m           \u001b[0;32mfor\u001b[0m \u001b[0mstep\u001b[0m \u001b[0;32min\u001b[0m \u001b[0mdata_handler\u001b[0m\u001b[0;34m.\u001b[0m\u001b[0msteps\u001b[0m\u001b[0;34m(\u001b[0m\u001b[0;34m)\u001b[0m\u001b[0;34m:\u001b[0m\u001b[0;34m\u001b[0m\u001b[0;34m\u001b[0m\u001b[0m\n",
            "\u001b[0;32m~/anaconda3/lib/python3.7/site-packages/keras/engine/data_adapter.py\u001b[0m in \u001b[0;36menumerate_epochs\u001b[0;34m(self)\u001b[0m\n\u001b[1;32m   1189\u001b[0m     \u001b[0;34m\"\"\"Yields `(epoch, tf.data.Iterator)`.\"\"\"\u001b[0m\u001b[0;34m\u001b[0m\u001b[0;34m\u001b[0m\u001b[0m\n\u001b[1;32m   1190\u001b[0m     \u001b[0;32mwith\u001b[0m \u001b[0mself\u001b[0m\u001b[0;34m.\u001b[0m\u001b[0m_truncate_execution_to_epoch\u001b[0m\u001b[0;34m(\u001b[0m\u001b[0;34m)\u001b[0m\u001b[0;34m:\u001b[0m\u001b[0;34m\u001b[0m\u001b[0;34m\u001b[0m\u001b[0m\n\u001b[0;32m-> 1191\u001b[0;31m       \u001b[0mdata_iterator\u001b[0m \u001b[0;34m=\u001b[0m \u001b[0miter\u001b[0m\u001b[0;34m(\u001b[0m\u001b[0mself\u001b[0m\u001b[0;34m.\u001b[0m\u001b[0m_dataset\u001b[0m\u001b[0;34m)\u001b[0m\u001b[0;34m\u001b[0m\u001b[0;34m\u001b[0m\u001b[0m\n\u001b[0m\u001b[1;32m   1192\u001b[0m       \u001b[0;32mfor\u001b[0m \u001b[0mepoch\u001b[0m \u001b[0;32min\u001b[0m \u001b[0mrange\u001b[0m\u001b[0;34m(\u001b[0m\u001b[0mself\u001b[0m\u001b[0;34m.\u001b[0m\u001b[0m_initial_epoch\u001b[0m\u001b[0;34m,\u001b[0m \u001b[0mself\u001b[0m\u001b[0;34m.\u001b[0m\u001b[0m_epochs\u001b[0m\u001b[0;34m)\u001b[0m\u001b[0;34m:\u001b[0m\u001b[0;34m\u001b[0m\u001b[0;34m\u001b[0m\u001b[0m\n\u001b[1;32m   1193\u001b[0m         \u001b[0;32mif\u001b[0m \u001b[0mself\u001b[0m\u001b[0;34m.\u001b[0m\u001b[0m_insufficient_data\u001b[0m\u001b[0;34m:\u001b[0m  \u001b[0;31m# Set by `catch_stop_iteration`.\u001b[0m\u001b[0;34m\u001b[0m\u001b[0;34m\u001b[0m\u001b[0m\n",
            "\u001b[0;32m~/anaconda3/lib/python3.7/site-packages/tensorflow/python/data/ops/dataset_ops.py\u001b[0m in \u001b[0;36m__iter__\u001b[0;34m(self)\u001b[0m\n\u001b[1;32m    484\u001b[0m     \u001b[0;32mif\u001b[0m \u001b[0mcontext\u001b[0m\u001b[0;34m.\u001b[0m\u001b[0mexecuting_eagerly\u001b[0m\u001b[0;34m(\u001b[0m\u001b[0;34m)\u001b[0m \u001b[0;32mor\u001b[0m \u001b[0mops\u001b[0m\u001b[0;34m.\u001b[0m\u001b[0minside_function\u001b[0m\u001b[0;34m(\u001b[0m\u001b[0;34m)\u001b[0m\u001b[0;34m:\u001b[0m\u001b[0;34m\u001b[0m\u001b[0;34m\u001b[0m\u001b[0m\n\u001b[1;32m    485\u001b[0m       \u001b[0;32mwith\u001b[0m \u001b[0mops\u001b[0m\u001b[0;34m.\u001b[0m\u001b[0mcolocate_with\u001b[0m\u001b[0;34m(\u001b[0m\u001b[0mself\u001b[0m\u001b[0;34m.\u001b[0m\u001b[0m_variant_tensor\u001b[0m\u001b[0;34m)\u001b[0m\u001b[0;34m:\u001b[0m\u001b[0;34m\u001b[0m\u001b[0;34m\u001b[0m\u001b[0m\n\u001b[0;32m--> 486\u001b[0;31m         \u001b[0;32mreturn\u001b[0m \u001b[0miterator_ops\u001b[0m\u001b[0;34m.\u001b[0m\u001b[0mOwnedIterator\u001b[0m\u001b[0;34m(\u001b[0m\u001b[0mself\u001b[0m\u001b[0;34m)\u001b[0m\u001b[0;34m\u001b[0m\u001b[0;34m\u001b[0m\u001b[0m\n\u001b[0m\u001b[1;32m    487\u001b[0m     \u001b[0;32melse\u001b[0m\u001b[0;34m:\u001b[0m\u001b[0;34m\u001b[0m\u001b[0;34m\u001b[0m\u001b[0m\n\u001b[1;32m    488\u001b[0m       raise RuntimeError(\"`tf.data.Dataset` only supports Python-style \"\n",
            "\u001b[0;32m~/anaconda3/lib/python3.7/site-packages/tensorflow/python/data/ops/iterator_ops.py\u001b[0m in \u001b[0;36m__init__\u001b[0;34m(self, dataset, components, element_spec)\u001b[0m\n\u001b[1;32m    753\u001b[0m             \u001b[0;34m\"When `dataset` is provided, `element_spec` and `components` must \"\u001b[0m\u001b[0;34m\u001b[0m\u001b[0;34m\u001b[0m\u001b[0m\n\u001b[1;32m    754\u001b[0m             \"not be specified.\")\n\u001b[0;32m--> 755\u001b[0;31m       \u001b[0mself\u001b[0m\u001b[0;34m.\u001b[0m\u001b[0m_create_iterator\u001b[0m\u001b[0;34m(\u001b[0m\u001b[0mdataset\u001b[0m\u001b[0;34m)\u001b[0m\u001b[0;34m\u001b[0m\u001b[0;34m\u001b[0m\u001b[0m\n\u001b[0m\u001b[1;32m    756\u001b[0m \u001b[0;34m\u001b[0m\u001b[0m\n\u001b[1;32m    757\u001b[0m     \u001b[0mself\u001b[0m\u001b[0;34m.\u001b[0m\u001b[0m_get_next_call_count\u001b[0m \u001b[0;34m=\u001b[0m \u001b[0;36m0\u001b[0m\u001b[0;34m\u001b[0m\u001b[0;34m\u001b[0m\u001b[0m\n",
            "\u001b[0;32m~/anaconda3/lib/python3.7/site-packages/tensorflow/python/data/ops/iterator_ops.py\u001b[0m in \u001b[0;36m_create_iterator\u001b[0;34m(self, dataset)\u001b[0m\n\u001b[1;32m    785\u001b[0m                 \u001b[0moutput_types\u001b[0m\u001b[0;34m=\u001b[0m\u001b[0mself\u001b[0m\u001b[0;34m.\u001b[0m\u001b[0m_flat_output_types\u001b[0m\u001b[0;34m,\u001b[0m\u001b[0;34m\u001b[0m\u001b[0;34m\u001b[0m\u001b[0m\n\u001b[1;32m    786\u001b[0m                 output_shapes=self._flat_output_shapes))\n\u001b[0;32m--> 787\u001b[0;31m         \u001b[0mgen_dataset_ops\u001b[0m\u001b[0;34m.\u001b[0m\u001b[0mmake_iterator\u001b[0m\u001b[0;34m(\u001b[0m\u001b[0mds_variant\u001b[0m\u001b[0;34m,\u001b[0m \u001b[0mself\u001b[0m\u001b[0;34m.\u001b[0m\u001b[0m_iterator_resource\u001b[0m\u001b[0;34m)\u001b[0m\u001b[0;34m\u001b[0m\u001b[0;34m\u001b[0m\u001b[0m\n\u001b[0m\u001b[1;32m    788\u001b[0m         \u001b[0;31m# Delete the resource when this object is deleted\u001b[0m\u001b[0;34m\u001b[0m\u001b[0;34m\u001b[0m\u001b[0;34m\u001b[0m\u001b[0m\n\u001b[1;32m    789\u001b[0m         self._resource_deleter = IteratorResourceDeleter(\n",
            "\u001b[0;32m~/anaconda3/lib/python3.7/site-packages/tensorflow/python/ops/gen_dataset_ops.py\u001b[0m in \u001b[0;36mmake_iterator\u001b[0;34m(dataset, iterator, name)\u001b[0m\n\u001b[1;32m   3314\u001b[0m     \u001b[0;32mtry\u001b[0m\u001b[0;34m:\u001b[0m\u001b[0;34m\u001b[0m\u001b[0;34m\u001b[0m\u001b[0m\n\u001b[1;32m   3315\u001b[0m       _result = pywrap_tfe.TFE_Py_FastPathExecute(\n\u001b[0;32m-> 3316\u001b[0;31m         _ctx, \"MakeIterator\", name, dataset, iterator)\n\u001b[0m\u001b[1;32m   3317\u001b[0m       \u001b[0;32mreturn\u001b[0m \u001b[0m_result\u001b[0m\u001b[0;34m\u001b[0m\u001b[0;34m\u001b[0m\u001b[0m\n\u001b[1;32m   3318\u001b[0m     \u001b[0;32mexcept\u001b[0m \u001b[0m_core\u001b[0m\u001b[0;34m.\u001b[0m\u001b[0m_NotOkStatusException\u001b[0m \u001b[0;32mas\u001b[0m \u001b[0me\u001b[0m\u001b[0;34m:\u001b[0m\u001b[0;34m\u001b[0m\u001b[0;34m\u001b[0m\u001b[0m\n",
            "\u001b[0;31mKeyboardInterrupt\u001b[0m: "
          ]
        }
      ],
      "source": [
        "pred_df['pred_code_gen_seq'] = pred_df.apply(predict_code_gen_seq, axis=1)\n",
        "# pred_df.to_pickle('pred.pkl') "
      ]
    },
    {
      "cell_type": "code",
      "execution_count": null,
      "metadata": {},
      "outputs": [],
      "source": [
        "read_df = pd.read_pickle('pred.pkl')"
      ]
    },
    {
      "cell_type": "code",
      "execution_count": null,
      "metadata": {},
      "outputs": [
        {
          "ename": "NameError",
          "evalue": "name 'read_df' is not defined",
          "output_type": "error",
          "traceback": [
            "\u001b[0;31m---------------------------------------------------------------------------\u001b[0m",
            "\u001b[0;31mNameError\u001b[0m                                 Traceback (most recent call last)",
            "\u001b[0;32m/var/folders/h3/xx1tmxm14tj46f14sf9vgg700000gn/T/ipykernel_8223/775121702.py\u001b[0m in \u001b[0;36m<module>\u001b[0;34m\u001b[0m\n\u001b[0;32m----> 1\u001b[0;31m \u001b[0mread_df\u001b[0m\u001b[0;34m\u001b[0m\u001b[0;34m\u001b[0m\u001b[0m\n\u001b[0m",
            "\u001b[0;31mNameError\u001b[0m: name 'read_df' is not defined"
          ]
        }
      ],
      "source": [
        "read_df"
      ]
    },
    {
      "cell_type": "code",
      "execution_count": null,
      "metadata": {
        "id": "RH9WDNwferhL"
      },
      "outputs": [],
      "source": [
        "# test_df = pd.read_csv('../data/input-tok-test.tsv', sep='\\t', header=None, names=['pseudo', 'code'])\n",
        "\n",
        "# test_df['pseudo_token'] = test_df['pseudo'].str.split(' ')\n",
        "# test_df['code_token'] = test_df['code'].str.split(' ')\n",
        "\n",
        "# gen_code_seq = test_df.apply(create_gen_seq_from_code_row, axis=1)\n",
        "# test_df['code_gen_seq'] = gen_code_seq\n",
        "# test_df"
      ]
    },
    {
      "cell_type": "code",
      "execution_count": null,
      "metadata": {
        "id": "V_Udd48QerhL"
      },
      "outputs": [],
      "source": [
        "# seqs = test_df.apply(create_copy_gen_seq_from_pseudo_row, axis=1)\n",
        "# code_binary_seq = [x[0] for x in seqs]\n",
        "# generate_seq = [x[1] for x in seqs]\n",
        "\n",
        "# test_df['pseudo_copy_seq'] = code_binary_seq\n",
        "# test_df['pseudo_gen_seq'] = generate_seq\n",
        "\n",
        "# test_df['code_gen_seq_aug'] = test_df['code_gen_seq'].apply(lambda x: ['[START]'] + x + ['[STOP]'])\n",
        "# test_df"
      ]
    },
    {
      "cell_type": "code",
      "execution_count": null,
      "metadata": {
        "id": "g22lYH24erhL"
      },
      "outputs": [],
      "source": [
        "# pred_df_test = test_df[['pseudo_gen_seq', 'code_gen_seq']].copy()\n",
        "# pred_df_test['pred_code_gen_seq'] = ''\n",
        "# pred_df_test"
      ]
    },
    {
      "cell_type": "code",
      "execution_count": null,
      "metadata": {
        "id": "AN9dErhverhM"
      },
      "outputs": [],
      "source": [
        "# for seq_index in range(encoder_input_data.shape[0]):\n",
        "#     # encoder_input_data.shape[0]\n",
        "#     # print(encoder_input_data[seq_index])\n",
        "#     input_seq = encoder_input_data[seq_index: seq_index+1]\n",
        "#     # print(input_seq)\n",
        "#     decoded_sentence = decode_sequence(input_seq)\n",
        "#     # print('-')\n",
        "#     # print('Input sentence:', train_df['pseudo_gen_seq'][seq_index: seq_index + 1])\n",
        "#     # print('True sentence:', train_df['code_gen_seq_aug'][seq_index: seq_index + 1])\n",
        "#     # print('Decoded sentence:', decoded_sentence)\n",
        "#     pred_df['pred_code_gen_seq'][seq_index] = decoded_sentence[:-1]"
      ]
    },
    {
      "cell_type": "code",
      "execution_count": null,
      "metadata": {
        "id": "qfPpV4IcerhM"
      },
      "outputs": [],
      "source": [
        "# def predict_code_gen_seq(row):\n",
        "#     \"\"\"\n",
        "#     Predict code from pseudocode\n",
        "#     \"\"\"\n",
        "#     # Index of a row in the dataframe\n",
        "#     seq_index = row.name\n",
        "#     input_seq = encoder_input_data[seq_index: seq_index+1]\n",
        "\n",
        "#     # Decode the input as state vectors\n",
        "#     decoded_sentence = decode_sequence(input_seq)\n",
        "\n",
        "#     if seq_index % 1000 == 0:\n",
        "#         print(seq_index)\n",
        "    \n",
        "#     return decoded_sentence[:-1]"
      ]
    },
    {
      "cell_type": "code",
      "execution_count": null,
      "metadata": {
        "id": "94YNekoterhM"
      },
      "outputs": [],
      "source": [
        "# for i, (input_seq, target_seq) in enumerate(zip(test_df['pseudo_gen_seq'], test_df['code_gen_seq_aug'])):\n",
        "#     # print(input_text, target_text)\n",
        "#     for t, word in enumerate(input_seq):\n",
        "#         encoder_input_data[i, t] = pseudo_token_index[word] if word in pseudo_token_index else 0\n",
        "#         # print(word, pseudo_token_index[word])\n",
        "#     for t, word in enumerate(target_seq):\n",
        "        \n",
        "#         # decoder_target_data is ahead of decoder_input_data by one timestep\n",
        "#         decoder_input_data[i, t] = code_token_index[word] if word in code_token_index else 0\n",
        "#         # print(word, code_token_index[word])\n",
        "#         if t > 0:\n",
        "#             # decoder_target_data will be ahead by one timestep\n",
        "#             # and will not include the start character.\n",
        "#             decoder_target_data[i, t - 1, code_token_index[word]] = 1."
      ]
    },
    {
      "cell_type": "code",
      "execution_count": null,
      "metadata": {
        "id": "ygGBHqHVerhM"
      },
      "outputs": [],
      "source": [
        "# for seq_index in [399, 100]:\n",
        "#     # encoder_input_data.shape[0]\n",
        "#     # print(encoder_input_data[seq_index])\n",
        "#     input_seq = encoder_input_data[seq_index: seq_index+1]\n",
        "#     # print(input_seq)\n",
        "#     decoded_sentence = decode_sequence(input_seq)\n",
        "#     # print('-')\n",
        "#     # print('Input sentence:', train_df['pseudo_gen_seq'][seq_index: seq_index + 1])\n",
        "#     # print('True sentence:', train_df['code_gen_seq_aug'][seq_index: seq_index + 1])\n",
        "#     # print('Decoded sentence:', decoded_sentence)\n",
        "#     pred_df['pred_code_gen_seq'][seq_index] = decoded_sentence[:-1]"
      ]
    }
  ],
  "metadata": {
    "colab": {
      "name": "combine.ipynb",
      "provenance": []
    },
    "interpreter": {
      "hash": "b9e296454faf11441ab5b5f29e3cc7afb43d7ef4507bb66fd890a028be668290"
    },
    "kernelspec": {
      "display_name": "Python 3.7.10 ('base')",
      "language": "python",
      "name": "python3"
    },
    "language_info": {
      "codemirror_mode": {
        "name": "ipython",
        "version": 3
      },
      "file_extension": ".py",
      "mimetype": "text/x-python",
      "name": "python",
      "nbconvert_exporter": "python",
      "pygments_lexer": "ipython3",
      "version": "3.7.10"
    },
    "orig_nbformat": 4
  },
  "nbformat": 4,
  "nbformat_minor": 0
}
