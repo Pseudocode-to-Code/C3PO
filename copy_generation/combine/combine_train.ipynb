{
 "cells": [
  {
   "cell_type": "code",
   "execution_count": 63,
   "metadata": {},
   "outputs": [],
   "source": [
    "import pandas as pd\n",
    "import numpy as np\n",
    "import pickle\n",
    "from collections import defaultdict"
   ]
  },
  {
   "cell_type": "code",
   "execution_count": 35,
   "metadata": {},
   "outputs": [
    {
     "data": {
      "text/html": [
       "<div>\n",
       "<style scoped>\n",
       "    .dataframe tbody tr th:only-of-type {\n",
       "        vertical-align: middle;\n",
       "    }\n",
       "\n",
       "    .dataframe tbody tr th {\n",
       "        vertical-align: top;\n",
       "    }\n",
       "\n",
       "    .dataframe thead th {\n",
       "        text-align: right;\n",
       "    }\n",
       "</style>\n",
       "<table border=\"1\" class=\"dataframe\">\n",
       "  <thead>\n",
       "    <tr style=\"text-align: right;\">\n",
       "      <th></th>\n",
       "      <th>pseudo_gen_seq</th>\n",
       "      <th>code_gen_seq</th>\n",
       "      <th>pred_code_gen_seq</th>\n",
       "    </tr>\n",
       "  </thead>\n",
       "  <tbody>\n",
       "    <tr>\n",
       "      <th>0</th>\n",
       "      <td>[set, [CPY], to, [CPY]]</td>\n",
       "      <td>[[CPY], =, [CPY], ;]</td>\n",
       "      <td>[[CPY], =, [CPY], ;]</td>\n",
       "    </tr>\n",
       "    <tr>\n",
       "      <th>1</th>\n",
       "      <td>[[CPY], [CPY], is, [CPY]]</td>\n",
       "      <td>[[CPY], (, [CPY], ==, [CPY], )]</td>\n",
       "      <td>[[CPY], (, [CPY], ==, [CPY], )]</td>\n",
       "    </tr>\n",
       "    <tr>\n",
       "      <th>2</th>\n",
       "      <td>[read, [CPY], and, [CPY]]</td>\n",
       "      <td>[cin, &gt;&gt;, [CPY], &gt;&gt;, [CPY], ;]</td>\n",
       "      <td>[cin, &gt;&gt;, [CPY], &gt;&gt;, [CPY], ;]</td>\n",
       "    </tr>\n",
       "    <tr>\n",
       "      <th>3</th>\n",
       "      <td>[declare, [CPY], longs, [CPY], [CPY], [CPY], a...</td>\n",
       "      <td>[[CPY], [CPY], [CPY], [CPY], [CPY], ,, [CPY], ...</td>\n",
       "      <td>[[CPY], [CPY], [CPY], [CPY], [CPY], ,, [CPY], ...</td>\n",
       "    </tr>\n",
       "    <tr>\n",
       "      <th>4</th>\n",
       "      <td>[[CPY], [CPY], integer, array, where, the, the...</td>\n",
       "      <td>[int, [CPY], [CPY], [CPY], [CPY], {, [CPY], [C...</td>\n",
       "      <td>[int, [CPY], [CPY], [CPY], [CPY], [CPY], [CPY]...</td>\n",
       "    </tr>\n",
       "    <tr>\n",
       "      <th>...</th>\n",
       "      <td>...</td>\n",
       "      <td>...</td>\n",
       "      <td>...</td>\n",
       "    </tr>\n",
       "    <tr>\n",
       "      <th>181857</th>\n",
       "      <td>[declare, [CPY], constant, integer, [CPY], [CP...</td>\n",
       "      <td>[[CPY], const, int, [CPY], [CPY], [CPY], ;]</td>\n",
       "      <td>[const, int, [CPY], [CPY], [CPY], ;]</td>\n",
       "    </tr>\n",
       "    <tr>\n",
       "      <th>181858</th>\n",
       "      <td>[print, [CPY], and, a, new, line]</td>\n",
       "      <td>[cout, &lt;&lt;, \", [CPY], \", &lt;&lt;, ', \\n, ', ;]</td>\n",
       "      <td>[cout, &lt;&lt;, [CPY], &lt;&lt;, endl, ;]</td>\n",
       "    </tr>\n",
       "    <tr>\n",
       "      <th>181859</th>\n",
       "      <td>[change, the, value, of, [CPY], to, [CPY], [CP...</td>\n",
       "      <td>[[CPY], =, [CPY], [CPY], [CPY], [CPY], [CPY], ...</td>\n",
       "      <td>[[CPY], =, [CPY], [CPY], [CPY], [CPY], [CPY], ...</td>\n",
       "    </tr>\n",
       "    <tr>\n",
       "      <th>181860</th>\n",
       "      <td>[[CPY], [CPY], [CPY], is, less, than, [CPY]]</td>\n",
       "      <td>[[CPY], [CPY], (, [CPY], &lt;, [CPY], )]</td>\n",
       "      <td>[[CPY], [CPY], (, [CPY], &lt;, [CPY], )]</td>\n",
       "    </tr>\n",
       "    <tr>\n",
       "      <th>181861</th>\n",
       "      <td>[print, [CPY], and, newline]</td>\n",
       "      <td>[cout, &lt;&lt;, [CPY], &lt;&lt;, endl, ;]</td>\n",
       "      <td>[cout, &lt;&lt;, [CPY], &lt;&lt;, endl, ;]</td>\n",
       "    </tr>\n",
       "  </tbody>\n",
       "</table>\n",
       "<p>181862 rows × 3 columns</p>\n",
       "</div>"
      ],
      "text/plain": [
       "                                           pseudo_gen_seq  \\\n",
       "0                                 [set, [CPY], to, [CPY]]   \n",
       "1                               [[CPY], [CPY], is, [CPY]]   \n",
       "2                               [read, [CPY], and, [CPY]]   \n",
       "3       [declare, [CPY], longs, [CPY], [CPY], [CPY], a...   \n",
       "4       [[CPY], [CPY], integer, array, where, the, the...   \n",
       "...                                                   ...   \n",
       "181857  [declare, [CPY], constant, integer, [CPY], [CP...   \n",
       "181858                  [print, [CPY], and, a, new, line]   \n",
       "181859  [change, the, value, of, [CPY], to, [CPY], [CP...   \n",
       "181860       [[CPY], [CPY], [CPY], is, less, than, [CPY]]   \n",
       "181861                       [print, [CPY], and, newline]   \n",
       "\n",
       "                                             code_gen_seq  \\\n",
       "0                                    [[CPY], =, [CPY], ;]   \n",
       "1                         [[CPY], (, [CPY], ==, [CPY], )]   \n",
       "2                          [cin, >>, [CPY], >>, [CPY], ;]   \n",
       "3       [[CPY], [CPY], [CPY], [CPY], [CPY], ,, [CPY], ...   \n",
       "4       [int, [CPY], [CPY], [CPY], [CPY], {, [CPY], [C...   \n",
       "...                                                   ...   \n",
       "181857        [[CPY], const, int, [CPY], [CPY], [CPY], ;]   \n",
       "181858           [cout, <<, \", [CPY], \", <<, ', \\n, ', ;]   \n",
       "181859  [[CPY], =, [CPY], [CPY], [CPY], [CPY], [CPY], ...   \n",
       "181860              [[CPY], [CPY], (, [CPY], <, [CPY], )]   \n",
       "181861                     [cout, <<, [CPY], <<, endl, ;]   \n",
       "\n",
       "                                        pred_code_gen_seq  \n",
       "0                                    [[CPY], =, [CPY], ;]  \n",
       "1                         [[CPY], (, [CPY], ==, [CPY], )]  \n",
       "2                          [cin, >>, [CPY], >>, [CPY], ;]  \n",
       "3       [[CPY], [CPY], [CPY], [CPY], [CPY], ,, [CPY], ...  \n",
       "4       [int, [CPY], [CPY], [CPY], [CPY], [CPY], [CPY]...  \n",
       "...                                                   ...  \n",
       "181857               [const, int, [CPY], [CPY], [CPY], ;]  \n",
       "181858                     [cout, <<, [CPY], <<, endl, ;]  \n",
       "181859  [[CPY], =, [CPY], [CPY], [CPY], [CPY], [CPY], ...  \n",
       "181860              [[CPY], [CPY], (, [CPY], <, [CPY], )]  \n",
       "181861                     [cout, <<, [CPY], <<, endl, ;]  \n",
       "\n",
       "[181862 rows x 3 columns]"
      ]
     },
     "execution_count": 35,
     "metadata": {},
     "output_type": "execute_result"
    }
   ],
   "source": [
    "pred_df = pd.read_pickle('pred.pkl')\n",
    "pred_df"
   ]
  },
  {
   "cell_type": "markdown",
   "metadata": {},
   "source": [
    "## Accuracy scores"
   ]
  },
  {
   "cell_type": "markdown",
   "metadata": {},
   "source": [
    "#### Strict accuracy\n",
    "\n",
    "Exact sentence matches"
   ]
  },
  {
   "cell_type": "code",
   "execution_count": 3,
   "metadata": {},
   "outputs": [
    {
     "data": {
      "text/plain": [
       "0.6979687895217253"
      ]
     },
     "execution_count": 3,
     "metadata": {},
     "output_type": "execute_result"
    }
   ],
   "source": [
    "strict_bools = pred_df.apply(lambda row: np.array_equal(row['code_gen_seq'], row['pred_code_gen_seq']), axis=1)\n",
    "strict_accuracy = strict_bools.sum() / len(pred_df)\n",
    "strict_accuracy"
   ]
  },
  {
   "cell_type": "code",
   "execution_count": 4,
   "metadata": {},
   "outputs": [],
   "source": [
    "def compare_cols(row, col1, col2):\n",
    "    \"\"\"\n",
    "    Count of equal words in two rows \n",
    "    \"\"\"\n",
    "    try:\n",
    "        comps = np.array(row['code_gen_seq']) == np.array(row['pred_code_gen_seq'])\n",
    "    except ValueError as e:\n",
    "        comps = np.array([False])\n",
    "    return np.sum(comps)"
   ]
  },
  {
   "cell_type": "code",
   "execution_count": 54,
   "metadata": {},
   "outputs": [
    {
     "name": "stderr",
     "output_type": "stream",
     "text": [
      "/Users/vibhamasti/anaconda3/lib/python3.7/site-packages/ipykernel_launcher.py:6: FutureWarning: elementwise comparison failed; returning scalar instead, but in the future will perform elementwise comparison\n",
      "  \n"
     ]
    },
    {
     "data": {
      "text/plain": [
       "0.5843358298790285"
      ]
     },
     "execution_count": 54,
     "metadata": {},
     "output_type": "execute_result"
    }
   ],
   "source": [
    "word_matches = np.sum(pred_df.apply(compare_cols, args=('code_gen_seq', 'pred_code_gen_seq'), axis=1))\n",
    "total_words = np.sum(pred_df.apply(lambda row: np.size(row['code_gen_seq']), axis=1))\n",
    "\n",
    "word_accuracy = word_matches / total_words\n",
    "word_accuracy"
   ]
  },
  {
   "cell_type": "markdown",
   "metadata": {},
   "source": [
    "## Combine"
   ]
  },
  {
   "cell_type": "code",
   "execution_count": 30,
   "metadata": {},
   "outputs": [
    {
     "data": {
      "text/html": [
       "<div>\n",
       "<style scoped>\n",
       "    .dataframe tbody tr th:only-of-type {\n",
       "        vertical-align: middle;\n",
       "    }\n",
       "\n",
       "    .dataframe tbody tr th {\n",
       "        vertical-align: top;\n",
       "    }\n",
       "\n",
       "    .dataframe thead th {\n",
       "        text-align: right;\n",
       "    }\n",
       "</style>\n",
       "<table border=\"1\" class=\"dataframe\">\n",
       "  <thead>\n",
       "    <tr style=\"text-align: right;\">\n",
       "      <th></th>\n",
       "      <th>pseudo</th>\n",
       "      <th>code</th>\n",
       "    </tr>\n",
       "  </thead>\n",
       "  <tbody>\n",
       "    <tr>\n",
       "      <th>0</th>\n",
       "      <td>set l to mid</td>\n",
       "      <td>l = mid ;</td>\n",
       "    </tr>\n",
       "    <tr>\n",
       "      <th>1</th>\n",
       "      <td>if i is 0</td>\n",
       "      <td>if ( i == 0 )</td>\n",
       "    </tr>\n",
       "    <tr>\n",
       "      <th>2</th>\n",
       "      <td>read n and k</td>\n",
       "      <td>cin &gt;&gt; n &gt;&gt; k ;</td>\n",
       "    </tr>\n",
       "    <tr>\n",
       "      <th>3</th>\n",
       "      <td>declare long longs sum = 0 and min = LONG_LONG...</td>\n",
       "      <td>long long min = LONG_LONG_MAX , sum = 0 ;</td>\n",
       "    </tr>\n",
       "    <tr>\n",
       "      <th>4</th>\n",
       "      <td>dy = integer array where the the following int...</td>\n",
       "      <td>int dy [ ] = { 0 , 0 , - 1 , 1 } ;</td>\n",
       "    </tr>\n",
       "    <tr>\n",
       "      <th>...</th>\n",
       "      <td>...</td>\n",
       "      <td>...</td>\n",
       "    </tr>\n",
       "    <tr>\n",
       "      <th>181857</th>\n",
       "      <td>declare static constant integer mod = 1000000009</td>\n",
       "      <td>static const int mod = 1000000009 ;</td>\n",
       "    </tr>\n",
       "    <tr>\n",
       "      <th>181858</th>\n",
       "      <td>print NO and a new line</td>\n",
       "      <td>cout &lt;&lt; \" NO \" &lt;&lt; ' \\n ' ;</td>\n",
       "    </tr>\n",
       "    <tr>\n",
       "      <th>181859</th>\n",
       "      <td>change the value of ans to abs ( x - y ) / d</td>\n",
       "      <td>ans = abs ( x - y ) / d ;</td>\n",
       "    </tr>\n",
       "    <tr>\n",
       "      <th>181860</th>\n",
       "      <td>else if s is less than f</td>\n",
       "      <td>else if ( s &lt; f )</td>\n",
       "    </tr>\n",
       "    <tr>\n",
       "      <th>181861</th>\n",
       "      <td>print 1 and newline</td>\n",
       "      <td>cout &lt;&lt; 1 &lt;&lt; endl ;</td>\n",
       "    </tr>\n",
       "  </tbody>\n",
       "</table>\n",
       "<p>181862 rows × 2 columns</p>\n",
       "</div>"
      ],
      "text/plain": [
       "                                                   pseudo  \\\n",
       "0                                            set l to mid   \n",
       "1                                               if i is 0   \n",
       "2                                            read n and k   \n",
       "3       declare long longs sum = 0 and min = LONG_LONG...   \n",
       "4       dy = integer array where the the following int...   \n",
       "...                                                   ...   \n",
       "181857   declare static constant integer mod = 1000000009   \n",
       "181858                            print NO and a new line   \n",
       "181859       change the value of ans to abs ( x - y ) / d   \n",
       "181860                           else if s is less than f   \n",
       "181861                                print 1 and newline   \n",
       "\n",
       "                                             code  \n",
       "0                                       l = mid ;  \n",
       "1                                   if ( i == 0 )  \n",
       "2                                 cin >> n >> k ;  \n",
       "3       long long min = LONG_LONG_MAX , sum = 0 ;  \n",
       "4              int dy [ ] = { 0 , 0 , - 1 , 1 } ;  \n",
       "...                                           ...  \n",
       "181857        static const int mod = 1000000009 ;  \n",
       "181858                 cout << \" NO \" << ' \\n ' ;  \n",
       "181859                  ans = abs ( x - y ) / d ;  \n",
       "181860                          else if ( s < f )  \n",
       "181861                        cout << 1 << endl ;  \n",
       "\n",
       "[181862 rows x 2 columns]"
      ]
     },
     "execution_count": 30,
     "metadata": {},
     "output_type": "execute_result"
    }
   ],
   "source": [
    "train_df = pd.read_csv('../../data/input-tok-train-shuf.tsv', sep='\\t', header=None)\n",
    "train_df.columns = ['pseudo', 'code']\n",
    "train_df"
   ]
  },
  {
   "cell_type": "code",
   "execution_count": 93,
   "metadata": {},
   "outputs": [
    {
     "data": {
      "text/html": [
       "<div>\n",
       "<style scoped>\n",
       "    .dataframe tbody tr th:only-of-type {\n",
       "        vertical-align: middle;\n",
       "    }\n",
       "\n",
       "    .dataframe tbody tr th {\n",
       "        vertical-align: top;\n",
       "    }\n",
       "\n",
       "    .dataframe thead th {\n",
       "        text-align: right;\n",
       "    }\n",
       "</style>\n",
       "<table border=\"1\" class=\"dataframe\">\n",
       "  <thead>\n",
       "    <tr style=\"text-align: right;\">\n",
       "      <th></th>\n",
       "      <th>pseudo_gen_seq</th>\n",
       "    </tr>\n",
       "  </thead>\n",
       "  <tbody>\n",
       "    <tr>\n",
       "      <th>0</th>\n",
       "      <td>[set, [CPY], to, [CPY]]</td>\n",
       "    </tr>\n",
       "    <tr>\n",
       "      <th>1</th>\n",
       "      <td>[[CPY], [CPY], is, [CPY]]</td>\n",
       "    </tr>\n",
       "    <tr>\n",
       "      <th>2</th>\n",
       "      <td>[read, [CPY], and, [CPY]]</td>\n",
       "    </tr>\n",
       "    <tr>\n",
       "      <th>3</th>\n",
       "      <td>[declare, [CPY], longs, [CPY], [CPY], [CPY], a...</td>\n",
       "    </tr>\n",
       "    <tr>\n",
       "      <th>4</th>\n",
       "      <td>[[CPY], [CPY], integer, array, where, the, the...</td>\n",
       "    </tr>\n",
       "    <tr>\n",
       "      <th>...</th>\n",
       "      <td>...</td>\n",
       "    </tr>\n",
       "    <tr>\n",
       "      <th>181857</th>\n",
       "      <td>[declare, [CPY], constant, integer, [CPY], [CP...</td>\n",
       "    </tr>\n",
       "    <tr>\n",
       "      <th>181858</th>\n",
       "      <td>[print, [CPY], and, a, new, line]</td>\n",
       "    </tr>\n",
       "    <tr>\n",
       "      <th>181859</th>\n",
       "      <td>[change, the, value, of, [CPY], to, [CPY], [CP...</td>\n",
       "    </tr>\n",
       "    <tr>\n",
       "      <th>181860</th>\n",
       "      <td>[[CPY], [CPY], [CPY], is, less, than, [CPY]]</td>\n",
       "    </tr>\n",
       "    <tr>\n",
       "      <th>181861</th>\n",
       "      <td>[print, [CPY], and, newline]</td>\n",
       "    </tr>\n",
       "  </tbody>\n",
       "</table>\n",
       "<p>181862 rows × 1 columns</p>\n",
       "</div>"
      ],
      "text/plain": [
       "                                           pseudo_gen_seq\n",
       "0                                 [set, [CPY], to, [CPY]]\n",
       "1                               [[CPY], [CPY], is, [CPY]]\n",
       "2                               [read, [CPY], and, [CPY]]\n",
       "3       [declare, [CPY], longs, [CPY], [CPY], [CPY], a...\n",
       "4       [[CPY], [CPY], integer, array, where, the, the...\n",
       "...                                                   ...\n",
       "181857  [declare, [CPY], constant, integer, [CPY], [CP...\n",
       "181858                  [print, [CPY], and, a, new, line]\n",
       "181859  [change, the, value, of, [CPY], to, [CPY], [CP...\n",
       "181860       [[CPY], [CPY], [CPY], is, less, than, [CPY]]\n",
       "181861                       [print, [CPY], and, newline]\n",
       "\n",
       "[181862 rows x 1 columns]"
      ]
     },
     "execution_count": 93,
     "metadata": {},
     "output_type": "execute_result"
    }
   ],
   "source": [
    "cpy_dataset = pd.read_pickle('../../data/CPY_dataset.pkl')\n",
    "cpy_dataset = cpy_dataset.drop(columns=['code_gen_seq', 'code_gen_seq_aug'])\n",
    "cpy_dataset"
   ]
  },
  {
   "cell_type": "code",
   "execution_count": 33,
   "metadata": {},
   "outputs": [
    {
     "data": {
      "text/plain": [
       "<module 'preprocess' from '/Users/vibhamasti/Personal/College/Sem_6/NLP/Pseudocode_to_code/spoc/copy_generation/combine/preprocess.py'>"
      ]
     },
     "execution_count": 33,
     "metadata": {},
     "output_type": "execute_result"
    }
   ],
   "source": [
    "import importlib\n",
    "import preprocessor\n",
    "importlib.reload(preprocessor)"
   ]
  },
  {
   "cell_type": "code",
   "execution_count": 94,
   "metadata": {},
   "outputs": [
    {
     "data": {
      "text/html": [
       "<div>\n",
       "<style scoped>\n",
       "    .dataframe tbody tr th:only-of-type {\n",
       "        vertical-align: middle;\n",
       "    }\n",
       "\n",
       "    .dataframe tbody tr th {\n",
       "        vertical-align: top;\n",
       "    }\n",
       "\n",
       "    .dataframe thead th {\n",
       "        text-align: right;\n",
       "    }\n",
       "</style>\n",
       "<table border=\"1\" class=\"dataframe\">\n",
       "  <thead>\n",
       "    <tr style=\"text-align: right;\">\n",
       "      <th></th>\n",
       "      <th>code_tokens</th>\n",
       "      <th>pseudo_tokens</th>\n",
       "    </tr>\n",
       "  </thead>\n",
       "  <tbody>\n",
       "    <tr>\n",
       "      <th>0</th>\n",
       "      <td>[l, =, mid, ;]</td>\n",
       "      <td>[set, l, to, mid]</td>\n",
       "    </tr>\n",
       "    <tr>\n",
       "      <th>1</th>\n",
       "      <td>[if, (, i, ==, 0, )]</td>\n",
       "      <td>[if, i, is, 0]</td>\n",
       "    </tr>\n",
       "    <tr>\n",
       "      <th>2</th>\n",
       "      <td>[cin, &gt;&gt;, n, &gt;&gt;, k, ;]</td>\n",
       "      <td>[read, n, and, k]</td>\n",
       "    </tr>\n",
       "    <tr>\n",
       "      <th>3</th>\n",
       "      <td>[long, long, min, =, LONG_LONG_MAX, ,, sum, =,...</td>\n",
       "      <td>[declare, long, longs, sum, =, 0, and, min, =,...</td>\n",
       "    </tr>\n",
       "    <tr>\n",
       "      <th>4</th>\n",
       "      <td>[int, dy, [, ], =, {, 0, ,, 0, ,, -, 1, ,, 1, ...</td>\n",
       "      <td>[dy, =, integer, array, where, the, the, follo...</td>\n",
       "    </tr>\n",
       "    <tr>\n",
       "      <th>...</th>\n",
       "      <td>...</td>\n",
       "      <td>...</td>\n",
       "    </tr>\n",
       "    <tr>\n",
       "      <th>181857</th>\n",
       "      <td>[static, const, int, mod, =, 1000000009, ;]</td>\n",
       "      <td>[declare, static, constant, integer, mod, =, 1...</td>\n",
       "    </tr>\n",
       "    <tr>\n",
       "      <th>181858</th>\n",
       "      <td>[cout, &lt;&lt;, \", NO, \", &lt;&lt;, ', \\n, ', ;]</td>\n",
       "      <td>[print, NO, and, a, new, line]</td>\n",
       "    </tr>\n",
       "    <tr>\n",
       "      <th>181859</th>\n",
       "      <td>[ans, =, abs, (, x, -, y, ), /, d, ;]</td>\n",
       "      <td>[change, the, value, of, ans, to, abs, (, x, -...</td>\n",
       "    </tr>\n",
       "    <tr>\n",
       "      <th>181860</th>\n",
       "      <td>[else, if, (, s, &lt;, f, )]</td>\n",
       "      <td>[else, if, s, is, less, than, f]</td>\n",
       "    </tr>\n",
       "    <tr>\n",
       "      <th>181861</th>\n",
       "      <td>[cout, &lt;&lt;, 1, &lt;&lt;, endl, ;]</td>\n",
       "      <td>[print, 1, and, newline]</td>\n",
       "    </tr>\n",
       "  </tbody>\n",
       "</table>\n",
       "<p>181862 rows × 2 columns</p>\n",
       "</div>"
      ],
      "text/plain": [
       "                                              code_tokens  \\\n",
       "0                                          [l, =, mid, ;]   \n",
       "1                                    [if, (, i, ==, 0, )]   \n",
       "2                                  [cin, >>, n, >>, k, ;]   \n",
       "3       [long, long, min, =, LONG_LONG_MAX, ,, sum, =,...   \n",
       "4       [int, dy, [, ], =, {, 0, ,, 0, ,, -, 1, ,, 1, ...   \n",
       "...                                                   ...   \n",
       "181857        [static, const, int, mod, =, 1000000009, ;]   \n",
       "181858              [cout, <<, \", NO, \", <<, ', \\n, ', ;]   \n",
       "181859              [ans, =, abs, (, x, -, y, ), /, d, ;]   \n",
       "181860                          [else, if, (, s, <, f, )]   \n",
       "181861                         [cout, <<, 1, <<, endl, ;]   \n",
       "\n",
       "                                            pseudo_tokens  \n",
       "0                                       [set, l, to, mid]  \n",
       "1                                          [if, i, is, 0]  \n",
       "2                                       [read, n, and, k]  \n",
       "3       [declare, long, longs, sum, =, 0, and, min, =,...  \n",
       "4       [dy, =, integer, array, where, the, the, follo...  \n",
       "...                                                   ...  \n",
       "181857  [declare, static, constant, integer, mod, =, 1...  \n",
       "181858                     [print, NO, and, a, new, line]  \n",
       "181859  [change, the, value, of, ans, to, abs, (, x, -...  \n",
       "181860                   [else, if, s, is, less, than, f]  \n",
       "181861                           [print, 1, and, newline]  \n",
       "\n",
       "[181862 rows x 2 columns]"
      ]
     },
     "execution_count": 94,
     "metadata": {},
     "output_type": "execute_result"
    }
   ],
   "source": [
    "preprocessor.tokenize_column(train_df, col_to_tokenize='code', tokenized_col_name='code_tokens', inplace=True)\n",
    "preprocessor.tokenize_column(train_df, col_to_tokenize='pseudo', tokenized_col_name='pseudo_tokens', inplace=True)\n",
    "train_df.drop(columns=['code', 'pseudo'], inplace=True)\n",
    "train_df"
   ]
  },
  {
   "cell_type": "code",
   "execution_count": 95,
   "metadata": {},
   "outputs": [],
   "source": [
    "X_train = pd.concat([train_df[['pseudo_tokens']], pred_df[['pred_code_gen_seq']], cpy_dataset[['pseudo_gen_seq']]], axis=1)\n",
    "y_train = train_df[['code_tokens']]"
   ]
  },
  {
   "cell_type": "code",
   "execution_count": 96,
   "metadata": {},
   "outputs": [
    {
     "data": {
      "text/html": [
       "<div>\n",
       "<style scoped>\n",
       "    .dataframe tbody tr th:only-of-type {\n",
       "        vertical-align: middle;\n",
       "    }\n",
       "\n",
       "    .dataframe tbody tr th {\n",
       "        vertical-align: top;\n",
       "    }\n",
       "\n",
       "    .dataframe thead th {\n",
       "        text-align: right;\n",
       "    }\n",
       "</style>\n",
       "<table border=\"1\" class=\"dataframe\">\n",
       "  <thead>\n",
       "    <tr style=\"text-align: right;\">\n",
       "      <th></th>\n",
       "      <th>pseudo_tokens</th>\n",
       "      <th>pred_code_gen_seq</th>\n",
       "      <th>pseudo_gen_seq</th>\n",
       "    </tr>\n",
       "  </thead>\n",
       "  <tbody>\n",
       "    <tr>\n",
       "      <th>0</th>\n",
       "      <td>[set, l, to, mid]</td>\n",
       "      <td>[[CPY], =, [CPY], ;]</td>\n",
       "      <td>[set, [CPY], to, [CPY]]</td>\n",
       "    </tr>\n",
       "    <tr>\n",
       "      <th>1</th>\n",
       "      <td>[if, i, is, 0]</td>\n",
       "      <td>[[CPY], (, [CPY], ==, [CPY], )]</td>\n",
       "      <td>[[CPY], [CPY], is, [CPY]]</td>\n",
       "    </tr>\n",
       "    <tr>\n",
       "      <th>2</th>\n",
       "      <td>[read, n, and, k]</td>\n",
       "      <td>[cin, &gt;&gt;, [CPY], &gt;&gt;, [CPY], ;]</td>\n",
       "      <td>[read, [CPY], and, [CPY]]</td>\n",
       "    </tr>\n",
       "    <tr>\n",
       "      <th>3</th>\n",
       "      <td>[declare, long, longs, sum, =, 0, and, min, =,...</td>\n",
       "      <td>[[CPY], [CPY], [CPY], [CPY], [CPY], ,, [CPY], ...</td>\n",
       "      <td>[declare, [CPY], longs, [CPY], [CPY], [CPY], a...</td>\n",
       "    </tr>\n",
       "    <tr>\n",
       "      <th>4</th>\n",
       "      <td>[dy, =, integer, array, where, the, the, follo...</td>\n",
       "      <td>[int, [CPY], [CPY], [CPY], [CPY], [CPY], [CPY]...</td>\n",
       "      <td>[[CPY], [CPY], integer, array, where, the, the...</td>\n",
       "    </tr>\n",
       "  </tbody>\n",
       "</table>\n",
       "</div>"
      ],
      "text/plain": [
       "                                       pseudo_tokens  \\\n",
       "0                                  [set, l, to, mid]   \n",
       "1                                     [if, i, is, 0]   \n",
       "2                                  [read, n, and, k]   \n",
       "3  [declare, long, longs, sum, =, 0, and, min, =,...   \n",
       "4  [dy, =, integer, array, where, the, the, follo...   \n",
       "\n",
       "                                   pred_code_gen_seq  \\\n",
       "0                               [[CPY], =, [CPY], ;]   \n",
       "1                    [[CPY], (, [CPY], ==, [CPY], )]   \n",
       "2                     [cin, >>, [CPY], >>, [CPY], ;]   \n",
       "3  [[CPY], [CPY], [CPY], [CPY], [CPY], ,, [CPY], ...   \n",
       "4  [int, [CPY], [CPY], [CPY], [CPY], [CPY], [CPY]...   \n",
       "\n",
       "                                      pseudo_gen_seq  \n",
       "0                            [set, [CPY], to, [CPY]]  \n",
       "1                          [[CPY], [CPY], is, [CPY]]  \n",
       "2                          [read, [CPY], and, [CPY]]  \n",
       "3  [declare, [CPY], longs, [CPY], [CPY], [CPY], a...  \n",
       "4  [[CPY], [CPY], integer, array, where, the, the...  "
      ]
     },
     "execution_count": 96,
     "metadata": {},
     "output_type": "execute_result"
    }
   ],
   "source": [
    "X_train.head()"
   ]
  },
  {
   "cell_type": "code",
   "execution_count": 73,
   "metadata": {},
   "outputs": [
    {
     "data": {
      "text/html": [
       "<div>\n",
       "<style scoped>\n",
       "    .dataframe tbody tr th:only-of-type {\n",
       "        vertical-align: middle;\n",
       "    }\n",
       "\n",
       "    .dataframe tbody tr th {\n",
       "        vertical-align: top;\n",
       "    }\n",
       "\n",
       "    .dataframe thead th {\n",
       "        text-align: right;\n",
       "    }\n",
       "</style>\n",
       "<table border=\"1\" class=\"dataframe\">\n",
       "  <thead>\n",
       "    <tr style=\"text-align: right;\">\n",
       "      <th></th>\n",
       "      <th>code_tokens</th>\n",
       "    </tr>\n",
       "  </thead>\n",
       "  <tbody>\n",
       "    <tr>\n",
       "      <th>0</th>\n",
       "      <td>[l, =, mid, ;]</td>\n",
       "    </tr>\n",
       "    <tr>\n",
       "      <th>1</th>\n",
       "      <td>[if, (, i, ==, 0, )]</td>\n",
       "    </tr>\n",
       "    <tr>\n",
       "      <th>2</th>\n",
       "      <td>[cin, &gt;&gt;, n, &gt;&gt;, k, ;]</td>\n",
       "    </tr>\n",
       "    <tr>\n",
       "      <th>3</th>\n",
       "      <td>[long, long, min, =, LONG_LONG_MAX, ,, sum, =,...</td>\n",
       "    </tr>\n",
       "    <tr>\n",
       "      <th>4</th>\n",
       "      <td>[int, dy, [, ], =, {, 0, ,, 0, ,, -, 1, ,, 1, ...</td>\n",
       "    </tr>\n",
       "  </tbody>\n",
       "</table>\n",
       "</div>"
      ],
      "text/plain": [
       "                                         code_tokens\n",
       "0                                     [l, =, mid, ;]\n",
       "1                               [if, (, i, ==, 0, )]\n",
       "2                             [cin, >>, n, >>, k, ;]\n",
       "3  [long, long, min, =, LONG_LONG_MAX, ,, sum, =,...\n",
       "4  [int, dy, [, ], =, {, 0, ,, 0, ,, -, 1, ,, 1, ..."
      ]
     },
     "execution_count": 73,
     "metadata": {},
     "output_type": "execute_result"
    }
   ],
   "source": [
    "y_train.head()"
   ]
  },
  {
   "cell_type": "code",
   "execution_count": 74,
   "metadata": {},
   "outputs": [],
   "source": [
    "input_words = pickle.load(open('input_words.pkl', 'rb'))\n",
    "output_words = pickle.load(open('output_words.pkl', 'rb'))\n",
    "\n",
    "pseudo_token_index = dict([(word, i+1) for i, word in enumerate(input_words)])\n",
    "code_token_index = dict([(word, i+1) for i, word in enumerate(output_words)])\n",
    "\n",
    "reverse_pseudo_index = dict((i, word) for word, i in pseudo_token_index.items())\n",
    "reverse_code_index = dict((i, word) for word, i in code_token_index.items())"
   ]
  },
  {
   "cell_type": "code",
   "execution_count": 128,
   "metadata": {},
   "outputs": [],
   "source": [
    "# Decision tree?\n",
    "# print(pseudo_token_index['[CPY]'])\n",
    "# print(pseudo_token_index['[UNK]'])"
   ]
  },
  {
   "cell_type": "code",
   "execution_count": 109,
   "metadata": {},
   "outputs": [],
   "source": [
    "input_lexicon = defaultdict(lambda: pseudo_token_index[''], pseudo_token_index)\n",
    "output_lexicon = defaultdict(lambda: code_token_index[''], code_token_index)"
   ]
  },
  {
   "cell_type": "code",
   "execution_count": 129,
   "metadata": {},
   "outputs": [],
   "source": [
    "# input_lexicon['==']"
   ]
  },
  {
   "cell_type": "code",
   "execution_count": 135,
   "metadata": {},
   "outputs": [
    {
     "data": {
      "text/html": [
       "<div>\n",
       "<style scoped>\n",
       "    .dataframe tbody tr th:only-of-type {\n",
       "        vertical-align: middle;\n",
       "    }\n",
       "\n",
       "    .dataframe tbody tr th {\n",
       "        vertical-align: top;\n",
       "    }\n",
       "\n",
       "    .dataframe thead th {\n",
       "        text-align: right;\n",
       "    }\n",
       "</style>\n",
       "<table border=\"1\" class=\"dataframe\">\n",
       "  <thead>\n",
       "    <tr style=\"text-align: right;\">\n",
       "      <th></th>\n",
       "      <th>pseudo_tokens</th>\n",
       "      <th>pred_code_gen_seq</th>\n",
       "      <th>pseudo_gen_seq</th>\n",
       "      <th>features</th>\n",
       "    </tr>\n",
       "  </thead>\n",
       "  <tbody>\n",
       "    <tr>\n",
       "      <th>0</th>\n",
       "      <td>[set, l, to, mid]</td>\n",
       "      <td>[[CPY], =, [CPY], ;]</td>\n",
       "      <td>[set, [CPY], to, [CPY]]</td>\n",
       "      <td>[{'word': 358, 'length': 5, 'is_numeric': Fals...</td>\n",
       "    </tr>\n",
       "    <tr>\n",
       "      <th>1</th>\n",
       "      <td>[if, i, is, 0]</td>\n",
       "      <td>[[CPY], (, [CPY], ==, [CPY], )]</td>\n",
       "      <td>[[CPY], [CPY], is, [CPY]]</td>\n",
       "      <td>[{'word': 358, 'length': 5, 'is_numeric': Fals...</td>\n",
       "    </tr>\n",
       "    <tr>\n",
       "      <th>2</th>\n",
       "      <td>[read, n, and, k]</td>\n",
       "      <td>[cin, &gt;&gt;, [CPY], &gt;&gt;, [CPY], ;]</td>\n",
       "      <td>[read, [CPY], and, [CPY]]</td>\n",
       "      <td>[{'word': 1981, 'length': 3, 'is_numeric': Fal...</td>\n",
       "    </tr>\n",
       "    <tr>\n",
       "      <th>3</th>\n",
       "      <td>[declare, long, longs, sum, =, 0, and, min, =,...</td>\n",
       "      <td>[[CPY], [CPY], [CPY], [CPY], [CPY], ,, [CPY], ...</td>\n",
       "      <td>[declare, [CPY], longs, [CPY], [CPY], [CPY], a...</td>\n",
       "      <td>[{'word': 358, 'length': 5, 'is_numeric': Fals...</td>\n",
       "    </tr>\n",
       "    <tr>\n",
       "      <th>4</th>\n",
       "      <td>[dy, =, integer, array, where, the, the, follo...</td>\n",
       "      <td>[int, [CPY], [CPY], [CPY], [CPY], [CPY], [CPY]...</td>\n",
       "      <td>[[CPY], [CPY], integer, array, where, the, the...</td>\n",
       "      <td>[{'word': 1057, 'length': 3, 'is_numeric': Fal...</td>\n",
       "    </tr>\n",
       "  </tbody>\n",
       "</table>\n",
       "</div>"
      ],
      "text/plain": [
       "                                       pseudo_tokens  \\\n",
       "0                                  [set, l, to, mid]   \n",
       "1                                     [if, i, is, 0]   \n",
       "2                                  [read, n, and, k]   \n",
       "3  [declare, long, longs, sum, =, 0, and, min, =,...   \n",
       "4  [dy, =, integer, array, where, the, the, follo...   \n",
       "\n",
       "                                   pred_code_gen_seq  \\\n",
       "0                               [[CPY], =, [CPY], ;]   \n",
       "1                    [[CPY], (, [CPY], ==, [CPY], )]   \n",
       "2                     [cin, >>, [CPY], >>, [CPY], ;]   \n",
       "3  [[CPY], [CPY], [CPY], [CPY], [CPY], ,, [CPY], ...   \n",
       "4  [int, [CPY], [CPY], [CPY], [CPY], [CPY], [CPY]...   \n",
       "\n",
       "                                      pseudo_gen_seq  \\\n",
       "0                            [set, [CPY], to, [CPY]]   \n",
       "1                          [[CPY], [CPY], is, [CPY]]   \n",
       "2                          [read, [CPY], and, [CPY]]   \n",
       "3  [declare, [CPY], longs, [CPY], [CPY], [CPY], a...   \n",
       "4  [[CPY], [CPY], integer, array, where, the, the...   \n",
       "\n",
       "                                            features  \n",
       "0  [{'word': 358, 'length': 5, 'is_numeric': Fals...  \n",
       "1  [{'word': 358, 'length': 5, 'is_numeric': Fals...  \n",
       "2  [{'word': 1981, 'length': 3, 'is_numeric': Fal...  \n",
       "3  [{'word': 358, 'length': 5, 'is_numeric': Fals...  \n",
       "4  [{'word': 1057, 'length': 3, 'is_numeric': Fal...  "
      ]
     },
     "execution_count": 135,
     "metadata": {},
     "output_type": "execute_result"
    }
   ],
   "source": [
    "importlib.reload(preprocessor)\n",
    "X_train['features'] = X_train.apply(lambda row: preprocessor.create_combine_features(row, 'pred_code_gen_seq', 'pseudo_tokens', input_lexicon), axis=1)\n",
    "X_train.head()"
   ]
  },
  {
   "cell_type": "code",
   "execution_count": 138,
   "metadata": {},
   "outputs": [],
   "source": [
    "def copy_tags(row: pd.Series):\n",
    "    \"\"\"\n",
    "    Combine the copy tags for a row\n",
    "    \"\"\"\n",
    "    combination = []\n",
    "    tokens_to_copy = []\n",
    "\n",
    "    for i, token in enumerate(row['pseudo_gen_seq']):\n",
    "        if token == '[CPY]':\n",
    "            tokens_to_copy.append(row['pseudo_tokens'][i])\n",
    "\n",
    "    token_iter =  iter(tokens_to_copy)\n",
    "\n",
    "    for i, token in enumerate(row['pred_code_gen_seq']):\n",
    "        if token == '[CPY]':\n",
    "            try:\n",
    "                combination.append(next(token_iter))\n",
    "            except StopIteration:\n",
    "                combination.append('')\n",
    "        else:\n",
    "            combination.append(token)\n",
    "    \n",
    "    return combination"
   ]
  },
  {
   "cell_type": "code",
   "execution_count": 144,
   "metadata": {},
   "outputs": [],
   "source": [
    "y_train = pd.concat([train_df[['code_tokens']], X_train.apply(copy_tags, axis=1)], axis=1)\n",
    "y_train.columns = ['code_tokens', 'code_gen_seq']"
   ]
  },
  {
   "cell_type": "code",
   "execution_count": 145,
   "metadata": {},
   "outputs": [
    {
     "data": {
      "text/html": [
       "<div>\n",
       "<style scoped>\n",
       "    .dataframe tbody tr th:only-of-type {\n",
       "        vertical-align: middle;\n",
       "    }\n",
       "\n",
       "    .dataframe tbody tr th {\n",
       "        vertical-align: top;\n",
       "    }\n",
       "\n",
       "    .dataframe thead th {\n",
       "        text-align: right;\n",
       "    }\n",
       "</style>\n",
       "<table border=\"1\" class=\"dataframe\">\n",
       "  <thead>\n",
       "    <tr style=\"text-align: right;\">\n",
       "      <th></th>\n",
       "      <th>code_tokens</th>\n",
       "      <th>code_gen_seq</th>\n",
       "    </tr>\n",
       "  </thead>\n",
       "  <tbody>\n",
       "    <tr>\n",
       "      <th>0</th>\n",
       "      <td>[l, =, mid, ;]</td>\n",
       "      <td>[l, =, mid, ;]</td>\n",
       "    </tr>\n",
       "    <tr>\n",
       "      <th>1</th>\n",
       "      <td>[if, (, i, ==, 0, )]</td>\n",
       "      <td>[if, (, i, ==, 0, )]</td>\n",
       "    </tr>\n",
       "    <tr>\n",
       "      <th>2</th>\n",
       "      <td>[cin, &gt;&gt;, n, &gt;&gt;, k, ;]</td>\n",
       "      <td>[cin, &gt;&gt;, n, &gt;&gt;, k, ;]</td>\n",
       "    </tr>\n",
       "    <tr>\n",
       "      <th>3</th>\n",
       "      <td>[long, long, min, =, LONG_LONG_MAX, ,, sum, =,...</td>\n",
       "      <td>[long, sum, =, 0, min, ,, =, LONG_LONG_MAX, , ;]</td>\n",
       "    </tr>\n",
       "    <tr>\n",
       "      <th>4</th>\n",
       "      <td>[int, dy, [, ], =, {, 0, ,, 0, ,, -, 1, ,, 1, ...</td>\n",
       "      <td>[int, dy, =, dy, [, 0, ], 0, ,, 0, ,, -, 1, ,,...</td>\n",
       "    </tr>\n",
       "    <tr>\n",
       "      <th>...</th>\n",
       "      <td>...</td>\n",
       "      <td>...</td>\n",
       "    </tr>\n",
       "    <tr>\n",
       "      <th>181857</th>\n",
       "      <td>[static, const, int, mod, =, 1000000009, ;]</td>\n",
       "      <td>[const, int, static, mod, =, ;]</td>\n",
       "    </tr>\n",
       "    <tr>\n",
       "      <th>181858</th>\n",
       "      <td>[cout, &lt;&lt;, \", NO, \", &lt;&lt;, ', \\n, ', ;]</td>\n",
       "      <td>[cout, &lt;&lt;, NO, &lt;&lt;, endl, ;]</td>\n",
       "    </tr>\n",
       "    <tr>\n",
       "      <th>181859</th>\n",
       "      <td>[ans, =, abs, (, x, -, y, ), /, d, ;]</td>\n",
       "      <td>[ans, =, abs, (, x, -, y, ), /, d, ;]</td>\n",
       "    </tr>\n",
       "    <tr>\n",
       "      <th>181860</th>\n",
       "      <td>[else, if, (, s, &lt;, f, )]</td>\n",
       "      <td>[else, if, (, s, &lt;, f, )]</td>\n",
       "    </tr>\n",
       "    <tr>\n",
       "      <th>181861</th>\n",
       "      <td>[cout, &lt;&lt;, 1, &lt;&lt;, endl, ;]</td>\n",
       "      <td>[cout, &lt;&lt;, 1, &lt;&lt;, endl, ;]</td>\n",
       "    </tr>\n",
       "  </tbody>\n",
       "</table>\n",
       "<p>181862 rows × 2 columns</p>\n",
       "</div>"
      ],
      "text/plain": [
       "                                              code_tokens  \\\n",
       "0                                          [l, =, mid, ;]   \n",
       "1                                    [if, (, i, ==, 0, )]   \n",
       "2                                  [cin, >>, n, >>, k, ;]   \n",
       "3       [long, long, min, =, LONG_LONG_MAX, ,, sum, =,...   \n",
       "4       [int, dy, [, ], =, {, 0, ,, 0, ,, -, 1, ,, 1, ...   \n",
       "...                                                   ...   \n",
       "181857        [static, const, int, mod, =, 1000000009, ;]   \n",
       "181858              [cout, <<, \", NO, \", <<, ', \\n, ', ;]   \n",
       "181859              [ans, =, abs, (, x, -, y, ), /, d, ;]   \n",
       "181860                          [else, if, (, s, <, f, )]   \n",
       "181861                         [cout, <<, 1, <<, endl, ;]   \n",
       "\n",
       "                                             code_gen_seq  \n",
       "0                                          [l, =, mid, ;]  \n",
       "1                                    [if, (, i, ==, 0, )]  \n",
       "2                                  [cin, >>, n, >>, k, ;]  \n",
       "3        [long, sum, =, 0, min, ,, =, LONG_LONG_MAX, , ;]  \n",
       "4       [int, dy, =, dy, [, 0, ], 0, ,, 0, ,, -, 1, ,,...  \n",
       "...                                                   ...  \n",
       "181857                    [const, int, static, mod, =, ;]  \n",
       "181858                        [cout, <<, NO, <<, endl, ;]  \n",
       "181859              [ans, =, abs, (, x, -, y, ), /, d, ;]  \n",
       "181860                          [else, if, (, s, <, f, )]  \n",
       "181861                         [cout, <<, 1, <<, endl, ;]  \n",
       "\n",
       "[181862 rows x 2 columns]"
      ]
     },
     "execution_count": 145,
     "metadata": {},
     "output_type": "execute_result"
    }
   ],
   "source": [
    "y_train"
   ]
  },
  {
   "cell_type": "markdown",
   "metadata": {},
   "source": [
    "## Strict accuracy"
   ]
  },
  {
   "cell_type": "code",
   "execution_count": 149,
   "metadata": {},
   "outputs": [],
   "source": [
    "strict_bools = y_train.apply(lambda row: np.array_equal(row['code_tokens'], row['code_gen_seq']), axis=1)\n",
    "strict_accuracy = strict_bools.sum() / len(y_train)"
   ]
  },
  {
   "cell_type": "code",
   "execution_count": 150,
   "metadata": {},
   "outputs": [
    {
     "data": {
      "text/plain": [
       "0.5531226974299194"
      ]
     },
     "execution_count": 150,
     "metadata": {},
     "output_type": "execute_result"
    }
   ],
   "source": [
    "strict_accuracy"
   ]
  },
  {
   "cell_type": "code",
   "execution_count": null,
   "metadata": {},
   "outputs": [],
   "source": []
  },
  {
   "cell_type": "code",
   "execution_count": null,
   "metadata": {},
   "outputs": [],
   "source": []
  },
  {
   "cell_type": "code",
   "execution_count": 131,
   "metadata": {},
   "outputs": [],
   "source": [
    "# importlib.reload(preprocessor)\n",
    "# y_train['code_indices'] = y_train.apply(lambda row: preprocessor.create_indices(row, 'code_tokens', output_lexicon), axis=1)\n",
    "# y_train.head()"
   ]
  },
  {
   "cell_type": "code",
   "execution_count": 132,
   "metadata": {},
   "outputs": [],
   "source": [
    "\n",
    "# from sklearn.tree import DecisionTreeClassifier\n",
    "# from sklearn.feature_extraction import DictVectorizer\n",
    "# from sklearn.pipeline import Pipeline"
   ]
  },
  {
   "cell_type": "code",
   "execution_count": 133,
   "metadata": {},
   "outputs": [],
   "source": [
    "# X_train_total = [word for l in X_train['features'].tolist() for word in l]\n",
    "# y_train_total = [word for l in y_train['code_indices'].tolist() for word in l]"
   ]
  },
  {
   "cell_type": "code",
   "execution_count": 134,
   "metadata": {},
   "outputs": [],
   "source": [
    "# clf = Pipeline([\n",
    "#     ('vectorizer', DictVectorizer()),\n",
    "#     ('classifier', DecisionTreeClassifier(criterion='entropy'))\n",
    "# ])\n",
    "\n",
    "# clf.fit(X_train_total, y_train_total)   # Use only the first 10K samples if you're running it multiple times. It takes a fair bit :)\n",
    " \n",
    "# print('Training completed')"
   ]
  },
  {
   "cell_type": "markdown",
   "metadata": {},
   "source": [
    "### Seq2Seq"
   ]
  },
  {
   "cell_type": "code",
   "execution_count": null,
   "metadata": {},
   "outputs": [],
   "source": [
    "from keras.models import "
   ]
  },
  {
   "cell_type": "code",
   "execution_count": null,
   "metadata": {},
   "outputs": [],
   "source": [
    "def seq2seq_model_builder():\n",
    "    encoder_inputs = Input(shape=(MAX_LEN, ), dtype='int32',)\n",
    "    encoder_embedding = embed_layer(encoder_inputs)\n",
    "    encoder_LSTM = LSTM(HIDDEN_DIM, return_state=True)\n",
    "    encoder_outputs, state_h, state_c = encoder_LSTM(encoder_embedding)\n",
    "    \n",
    "    decoder_inputs = Input(shape=(MAX_LEN, ), dtype='int32',)\n",
    "    decoder_embedding = embed_layer(decoder_inputs)\n",
    "    decoder_LSTM = LSTM(HIDDEN_DIM, return_state=True, return_sequences=True)\n",
    "    decoder_outputs, _, _ = decoder_LSTM(decoder_embedding, initial_state=[state_h, state_c])\n",
    "    \n",
    "    # dense_layer = Dense(VOCAB_SIZE, activation='softmax')\n",
    "    outputs = TimeDistributed(Dense(VOCAB_SIZE, activation='softmax'))(decoder_outputs)\n",
    "    model = Model([encoder_inputs, decoder_inputs], outputs)\n",
    "    \n",
    "    return model"
   ]
  }
 ],
 "metadata": {
  "interpreter": {
   "hash": "b9e296454faf11441ab5b5f29e3cc7afb43d7ef4507bb66fd890a028be668290"
  },
  "kernelspec": {
   "display_name": "Python 3.7.10 ('base')",
   "language": "python",
   "name": "python3"
  },
  "language_info": {
   "codemirror_mode": {
    "name": "ipython",
    "version": 3
   },
   "file_extension": ".py",
   "mimetype": "text/x-python",
   "name": "python",
   "nbconvert_exporter": "python",
   "pygments_lexer": "ipython3",
   "version": "3.7.10"
  },
  "orig_nbformat": 4
 },
 "nbformat": 4,
 "nbformat_minor": 2
}
